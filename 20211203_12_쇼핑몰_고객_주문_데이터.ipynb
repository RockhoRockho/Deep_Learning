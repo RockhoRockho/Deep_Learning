{
  "nbformat": 4,
  "nbformat_minor": 0,
  "metadata": {
    "colab": {
      "name": "12_쇼핑몰 고객 주문 데이터.ipynb",
      "private_outputs": true,
      "provenance": [],
      "collapsed_sections": [],
      "machine_shape": "hm",
      "mount_file_id": "1zxp2Ww4L53pg63GerQ-PN27c0HMLVecr",
      "authorship_tag": "ABX9TyNGB6HanNZaQUI1xG3UTgAT",
      "include_colab_link": true
    },
    "kernelspec": {
      "name": "python3",
      "display_name": "Python 3"
    },
    "language_info": {
      "name": "python"
    }
  },
  "cells": [
    {
      "cell_type": "markdown",
      "metadata": {
        "id": "view-in-github",
        "colab_type": "text"
      },
      "source": [
        "<a href=\"https://colab.research.google.com/github/RockhoRockho/Deep_Learning_Tensorflow/blob/main/20211203_12_%EC%87%BC%ED%95%91%EB%AA%B0_%EA%B3%A0%EA%B0%9D_%EC%A3%BC%EB%AC%B8_%EB%8D%B0%EC%9D%B4%ED%84%B0.ipynb\" target=\"_parent\"><img src=\"https://colab.research.google.com/assets/colab-badge.svg\" alt=\"Open In Colab\"/></a>"
      ]
    },
    {
      "cell_type": "markdown",
      "metadata": {
        "id": "PPBNBh0ryFXl"
      },
      "source": [
        "# **1. 쇼핑몰 고객 주문 데이터 파악하기**"
      ]
    },
    {
      "cell_type": "markdown",
      "metadata": {
        "id": "g-MkiEULypPX"
      },
      "source": [
        "* 현재 데이터로 부터 상황 파악\n",
        "* 모델 수립 또는 목표 설정 "
      ]
    },
    {
      "cell_type": "markdown",
      "metadata": {
        "id": "rEkw6F-qyxBo"
      },
      "source": [
        "### **1-1. 데이터셋**\n",
        "* 온라인 리테일 사이트의 2010/12 ~ 2011/12까지의 주문 기록 데이터\n",
        "* 약 500,000건 데이터"
      ]
    },
    {
      "cell_type": "code",
      "metadata": {
        "id": "FWdD7sG4DUrb"
      },
      "source": [
        "from google.colab import drive\n",
        "drive.mount('/content/drive')"
      ],
      "execution_count": null,
      "outputs": []
    },
    {
      "cell_type": "code",
      "metadata": {
        "id": "YzJ-0_PBy8K4"
      },
      "source": [
        "import numpy as np\n",
        "import pandas as pd\n",
        "from google.colab import files\n",
        "# pandas를 통해 OnlineRetail.csv 읽어오기\n",
        "retail = pd.read_csv('./drive/MyDrive/OnlineRetail.csv')"
      ],
      "execution_count": null,
      "outputs": []
    },
    {
      "cell_type": "code",
      "metadata": {
        "id": "alCIwzjo1S7P"
      },
      "source": [
        "retail.columns"
      ],
      "execution_count": null,
      "outputs": []
    },
    {
      "cell_type": "markdown",
      "metadata": {
        "id": "-ffr-Xgj1XI2"
      },
      "source": [
        "* InvoiceNo: 주문번호\n",
        "* StockCode: 아이템 아이디\n",
        "* Description: 상품 설명\n",
        "* Quantity: 상품 주문 수량\n",
        "* InvoiceDate: 주문 시각\n",
        "* UnitPrice: 상품 가격(동일한 통화)\n",
        "* CustomerID: 고객 아이디\n",
        "* Country: 고객 거주 지역(국가)"
      ]
    },
    {
      "cell_type": "code",
      "metadata": {
        "id": "CR7WBL4-14yE"
      },
      "source": [
        "retail.head()"
      ],
      "execution_count": null,
      "outputs": []
    },
    {
      "cell_type": "code",
      "metadata": {
        "id": "5k8vJqmv26s3"
      },
      "source": [
        "retail.info()"
      ],
      "execution_count": null,
      "outputs": []
    },
    {
      "cell_type": "code",
      "metadata": {
        "id": "dF-czNwr3D2v"
      },
      "source": [
        "retail.describe()"
      ],
      "execution_count": null,
      "outputs": []
    },
    {
      "cell_type": "code",
      "metadata": {
        "id": "rKNeqpMn3LFG"
      },
      "source": [
        "# 각 필드당 Null이 몇개 있는지 확인\n",
        "retail.isnull().sum()"
      ],
      "execution_count": null,
      "outputs": []
    },
    {
      "cell_type": "code",
      "metadata": {
        "id": "tTraD8eW3WEm"
      },
      "source": [
        "# CustomerID의 Null을 제거\n",
        "retail = retail[pd.notnull(retail['CustomerID'])]\n",
        "len(retail)"
      ],
      "execution_count": null,
      "outputs": []
    },
    {
      "cell_type": "code",
      "metadata": {
        "id": "7vOkLfk33Z4Q"
      },
      "source": [
        "# 수량, 가격이 0 보다 큰 데이터만 저장( > 0)\n",
        "retail = retail[retail['Quantity'] > 0]\n",
        "retail = retail[retail['UnitPrice'] > 0]\n",
        "len(retail)"
      ],
      "execution_count": null,
      "outputs": []
    },
    {
      "cell_type": "code",
      "metadata": {
        "id": "D3Iphx1b56I3"
      },
      "source": [
        "retail.info()"
      ],
      "execution_count": null,
      "outputs": []
    },
    {
      "cell_type": "code",
      "metadata": {
        "id": "SR6Q2ec97pke"
      },
      "source": [
        "retail['CustomerID'] = retail['CustomerID'].astype(np.int32)\n",
        "retail.info()"
      ],
      "execution_count": null,
      "outputs": []
    },
    {
      "cell_type": "markdown",
      "metadata": {
        "id": "ocY3cgPs8g-_"
      },
      "source": [
        "### **새로운 컬럼 추가**\n",
        "* 수량 * 가격은 고객의 총 지출비용(CheckoutPrice)"
      ]
    },
    {
      "cell_type": "code",
      "metadata": {
        "id": "qflP3aKI_ll9"
      },
      "source": [
        "retail['CheckoutPrice'] = retail['UnitPrice'] * retail['Quantity']\n",
        "retail.head()"
      ],
      "execution_count": null,
      "outputs": []
    },
    {
      "cell_type": "markdown",
      "metadata": {
        "id": "I8D-P_Pd_vnt"
      },
      "source": [
        "### **정제 데이터 저장**"
      ]
    },
    {
      "cell_type": "code",
      "metadata": {
        "id": "LhoAUZes_y7F"
      },
      "source": [
        "# OnlineRetailClean.csv 저장\n",
        "retail.to_csv('./OnlineRetailClean.csv')"
      ],
      "execution_count": null,
      "outputs": []
    },
    {
      "cell_type": "markdown",
      "metadata": {
        "id": "wB3Fb5LCBeRq"
      },
      "source": [
        "### **1-2. 매출, 가장 많이 팔린 아이템 확인하기**"
      ]
    },
    {
      "cell_type": "code",
      "metadata": {
        "id": "o6RMm3laBr37"
      },
      "source": [
        "import seaborn as sns\n",
        "COLORS = sns.color_palette()\n",
        "%matplotlib inline"
      ],
      "execution_count": null,
      "outputs": []
    },
    {
      "cell_type": "code",
      "metadata": {
        "id": "onngKfE3CN07"
      },
      "source": [
        "dtypes = {\n",
        "    'UnitPrice': np.float32,\n",
        "    'Customer ID': np.int32,\n",
        "    'Quantity': np.int32\n",
        "}\n",
        "retail = pd.read_csv('./OnlineRetailClean.csv', dtype=dtypes)\n",
        "retail.head()  "
      ],
      "execution_count": null,
      "outputs": []
    },
    {
      "cell_type": "code",
      "metadata": {
        "id": "iAx1EsBBChzY"
      },
      "source": [
        "retail.info()"
      ],
      "execution_count": null,
      "outputs": []
    },
    {
      "cell_type": "markdown",
      "metadata": {
        "id": "ROEEETbnCjyV"
      },
      "source": [
        "### **날짜 타입 데이터 변환**"
      ]
    },
    {
      "cell_type": "markdown",
      "metadata": {
        "id": "TGowVEjRDaHO"
      },
      "source": [
        "* 문자열로 데이터를 로딩하는 것보다 data/datatime 타입으로 로딩하는 것이 분석 및 계산에 용이"
      ]
    },
    {
      "cell_type": "code",
      "metadata": {
        "id": "EcbguCTtDfq1"
      },
      "source": [
        "retail['InvoiceDate'] = pd.to_datetime(retail['InvoiceDate'], infer_datetime_format=True)"
      ],
      "execution_count": null,
      "outputs": []
    },
    {
      "cell_type": "code",
      "metadata": {
        "id": "mZBoeA3ODvP-"
      },
      "source": [
        "retail.info()"
      ],
      "execution_count": null,
      "outputs": []
    },
    {
      "cell_type": "code",
      "metadata": {
        "id": "4M3yrwcpD0ht"
      },
      "source": [
        "retail.head()"
      ],
      "execution_count": null,
      "outputs": []
    },
    {
      "cell_type": "code",
      "metadata": {
        "id": "SYuszd3wD5cl"
      },
      "source": [
        "# 전체 매출\n",
        "total_revenue = retail['CheckoutPrice'].sum()\n",
        "total_revenue"
      ],
      "execution_count": null,
      "outputs": []
    },
    {
      "cell_type": "code",
      "metadata": {
        "id": "p_Of9eYBENVI"
      },
      "source": [
        "# 국가별 매출\n",
        "rev_by_countries = retail.groupby('Country').sum()['CheckoutPrice'].sort_values()\n",
        "rev_by_countries"
      ],
      "execution_count": null,
      "outputs": []
    },
    {
      "cell_type": "code",
      "metadata": {
        "id": "Jl-f41I_ESSv"
      },
      "source": [
        ""
      ],
      "execution_count": null,
      "outputs": []
    },
    {
      "cell_type": "code",
      "metadata": {
        "id": "swBQceb_Fhmz"
      },
      "source": [
        "plot = rev_by_countries.plot(kind='bar', color=COLORS[-1], figsize=(20, 10))\n",
        "plot.set_xlabel('Country', fontsize=11)\n",
        "plot.set_ylabel('Revenue', fontsize=11)\n",
        "plot.set_title('Revenue by Country', fontsize=13)\n",
        "plot.set_xticklabels(labels=rev_by_countries.index, rotation=45)"
      ],
      "execution_count": null,
      "outputs": []
    },
    {
      "cell_type": "code",
      "metadata": {
        "id": "S3jci7gBHyP8"
      },
      "source": [
        "rev_by_countries / total_revenue"
      ],
      "execution_count": null,
      "outputs": []
    },
    {
      "cell_type": "code",
      "metadata": {
        "id": "rpBafxN3IJZz"
      },
      "source": [
        "retail['InvoiceDate'].sort_values(ascending=False)"
      ],
      "execution_count": null,
      "outputs": []
    },
    {
      "cell_type": "code",
      "metadata": {
        "id": "cpvvCnPYIO7r"
      },
      "source": [
        "def extract_month(date): # 201109\n",
        "  month = str(date.month)\n",
        "  if date.month < 10:\n",
        "    month = '0' + month\n",
        "  return str(date.year) + month"
      ],
      "execution_count": null,
      "outputs": []
    },
    {
      "cell_type": "code",
      "metadata": {
        "id": "sr8MiWNjJo8M"
      },
      "source": [
        "rev_by_month = retail.set_index('InvoiceDate').groupby(extract_month).sum()['CheckoutPrice']\n",
        "rev_by_month\n",
        "\n",
        "def plot_bar(df, xlabel, ylabel, title, color=COLORS[0], figsize=(20, 10), rotation=45):\n",
        "  plot = df.plot(kind='bar', color=color, figsize=(20, 10))\n",
        "  plot.set_xlabel(xlabel, fontsize=11)\n",
        "  plot.set_ylabel(ylabel, fontsize=11)\n",
        "  plot.set_title(title, fontsize=13)\n",
        "  plot.set_xticklabels(labels=df.index, rotation=rotation)\n",
        "\n",
        "plot_bar(rev_by_month, 'Month', 'Revenue', 'Revenue by Month')"
      ],
      "execution_count": null,
      "outputs": []
    },
    {
      "cell_type": "markdown",
      "metadata": {
        "id": "t5kDCqarJs2r"
      },
      "source": [
        "**요일별 매출**"
      ]
    },
    {
      "cell_type": "code",
      "metadata": {
        "id": "y-4bHs_sKkws"
      },
      "source": [
        "from datetime import datetime"
      ],
      "execution_count": null,
      "outputs": []
    },
    {
      "cell_type": "code",
      "metadata": {
        "id": "ekABf89CPfAQ"
      },
      "source": [
        "retail['Daytime'] = retail['InvoiceDate'].dt.day_name()\n",
        "retail.groupby('Daytime').sum()['CheckoutPrice'].sort_values()"
      ],
      "execution_count": null,
      "outputs": []
    },
    {
      "cell_type": "code",
      "metadata": {
        "id": "SZgdv11XRTa4"
      },
      "source": [
        "rev_by_dow = retail.set_index('InvoiceDate').groupby(lambda date:date.dayofweek).sum()['CheckoutPrice']\n",
        "rev_by_dow"
      ],
      "execution_count": null,
      "outputs": []
    },
    {
      "cell_type": "code",
      "metadata": {
        "id": "K-XZ3_RqRsmv"
      },
      "source": [
        "DAY_OF_WEEK = np.array(['Mon', 'Tue', 'Wed', 'Thur', 'Fri', 'Sat', 'Sun'])\n",
        "rev_by_dow.index = DAY_OF_WEEK[rev_by_dow.index]\n",
        "plot_bar(rev_by_dow, 'DOW', 'REVENUE', 'REVENUE by DOW')"
      ],
      "execution_count": null,
      "outputs": []
    },
    {
      "cell_type": "markdown",
      "metadata": {
        "id": "qf2vphQOO03h"
      },
      "source": [
        "**시간별 매출**"
      ]
    },
    {
      "cell_type": "code",
      "metadata": {
        "id": "CRybjGKbOxf0"
      },
      "source": [
        "rev_by_hour = retail.set_index('InvoiceDate').groupby(lambda date:date.hour).sum()['CheckoutPrice']\n",
        "rev_by_hour\n",
        "plot_bar(rev_by_hour, 'hour', 'Revenue', 'Revenue by hour')"
      ],
      "execution_count": null,
      "outputs": []
    },
    {
      "cell_type": "markdown",
      "metadata": {
        "id": "ac0gRvO1Sbqa"
      },
      "source": [
        "### **매출 데이터로부터 insight**\n",
        "* 전체 매출의 82%가 UK에서 발생\n",
        "* 11년도의 가장 많은 주문이 발생한 달은 11월(12월의 전체 데이터가 반영되지 않음)\n",
        "* 11월의 판매량이 압도적으로 많음\n",
        "* 일주일 중 목요일까지는 성장세, 이후로 하락(토요일에는 주문을 받지 않음)\n",
        "* 7시에 주문 시작, 12시까지 증가세, 15시까지 하락, 15시 이후부터 급락"
      ]
    },
    {
      "cell_type": "markdown",
      "metadata": {
        "id": "fDOhgY0oTguQ"
      },
      "source": [
        "### **제품별 metrics**"
      ]
    },
    {
      "cell_type": "code",
      "metadata": {
        "id": "-ia0EGEaTwtc"
      },
      "source": [
        "# Top 10 판매 제품\n",
        "top_selling = retail.groupby('StockCode').sum()['Quantity'].sort_values(ascending=False)[:10]\n",
        "top_selling"
      ],
      "execution_count": null,
      "outputs": []
    },
    {
      "cell_type": "code",
      "metadata": {
        "id": "OCMdw4lqT9sU"
      },
      "source": [
        "# Top 10 매출 제품\n",
        "top_revenue = retail.groupby('StockCode').sum()['CheckoutPrice'].sort_values(ascending=False)[:10]"
      ],
      "execution_count": null,
      "outputs": []
    },
    {
      "cell_type": "markdown",
      "metadata": {
        "id": "-cqqaF9SUYSm"
      },
      "source": [
        "### **Top3 아이템의 월별 판매량 추이**"
      ]
    },
    {
      "cell_type": "code",
      "metadata": {
        "id": "qi6QPdOUUlXV"
      },
      "source": [
        "monthly_top3 = retail.set_index('InvoiceDate').groupby(['StockCode', extract_month]).sum()[['Quantity', 'CheckoutPrice']].loc[top_selling.index[:3]]\n",
        "monthly_top3"
      ],
      "execution_count": null,
      "outputs": []
    },
    {
      "cell_type": "code",
      "metadata": {
        "id": "UhtAvg3uVD-O"
      },
      "source": [
        "plot_bar(monthly_top3['CheckoutPrice'], 'Product/Month', 'Revenue', 'Revenue of top3 items')"
      ],
      "execution_count": null,
      "outputs": []
    },
    {
      "cell_type": "code",
      "metadata": {
        "id": "BH8zQiVtVjyU"
      },
      "source": [
        ""
      ],
      "execution_count": null,
      "outputs": []
    },
    {
      "cell_type": "code",
      "metadata": {
        "id": "wtJ4IfwyW60W"
      },
      "source": [
        ""
      ],
      "execution_count": null,
      "outputs": []
    }
  ]
}