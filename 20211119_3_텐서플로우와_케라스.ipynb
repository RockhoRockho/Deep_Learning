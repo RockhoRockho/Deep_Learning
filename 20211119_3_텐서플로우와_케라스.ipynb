{
  "nbformat": 4,
  "nbformat_minor": 0,
  "metadata": {
    "colab": {
      "name": "20211119_3_텐서플로우와 케라스.ipynb",
      "private_outputs": true,
      "provenance": [],
      "include_colab_link": true
    },
    "kernelspec": {
      "name": "python3",
      "display_name": "Python 3"
    },
    "language_info": {
      "name": "python"
    }
  },
  "cells": [
    {
      "cell_type": "markdown",
      "metadata": {
        "id": "view-in-github",
        "colab_type": "text"
      },
      "source": [
        "<a href=\"https://colab.research.google.com/github/RockhoRockho/Deep_Learning_Tensorflow/blob/main/20211119_3_%ED%85%90%EC%84%9C%ED%94%8C%EB%A1%9C%EC%9A%B0%EC%99%80_%EC%BC%80%EB%9D%BC%EC%8A%A4.ipynb\" target=\"_parent\"><img src=\"https://colab.research.google.com/assets/colab-badge.svg\" alt=\"Open In Colab\"/></a>"
      ]
    },
    {
      "cell_type": "markdown",
      "metadata": {
        "id": "B-FHwRdtkOYu"
      },
      "source": [
        "# **TensorFlow / Keras**"
      ]
    },
    {
      "cell_type": "markdown",
      "metadata": {
        "id": "JH33FuDLkk5T"
      },
      "source": [
        "* 텐서플로우와 케라스는 ML 모델 개발하고 학습시키는 데 도움이 되는 핵심 오픈소스 라이브러리\n",
        "* 케라스는 사용자가 텐서플로우를 좀 더 쉽고 편하게 사용할 수 있게 해주는 high level API를 제공\n",
        "* 텐서플로우 2.X 에서는 케라스를 딥러닝의 공식 API로 채택하였고, 텐서플로우 내의 하나의 프레임워크로 개발되고 있음"
      ]
    },
    {
      "cell_type": "code",
      "metadata": {
        "id": "8Gg-p5yZmtRW"
      },
      "source": [
        "import tensorflow as tf\n",
        "from tensorflow import keras"
      ],
      "execution_count": null,
      "outputs": []
    },
    {
      "cell_type": "code",
      "metadata": {
        "id": "RGEzda4Hmxas"
      },
      "source": [
        "print(tf.__version__)\n",
        "print(keras.__version__)"
      ],
      "execution_count": null,
      "outputs": []
    },
    {
      "cell_type": "markdown",
      "metadata": {
        "id": "PyhV23J5m1HU"
      },
      "source": [
        "### **1. Tensor**"
      ]
    },
    {
      "cell_type": "markdown",
      "metadata": {
        "id": "HdT-8sUVm50E"
      },
      "source": [
        "Tensor는 multi-dimensional array를 나타내는 말로, Tensorflow의 기본 data type"
      ]
    },
    {
      "cell_type": "code",
      "metadata": {
        "id": "z0Woj-4_nDEc"
      },
      "source": [
        "hello = tf.constant([3, 3], dtype=tf.float32)\n",
        "print(hello)\n",
        "\n",
        "hello = tf.constant('Hello World!') # b - byte를 의미\n",
        "print(hello)"
      ],
      "execution_count": null,
      "outputs": []
    },
    {
      "cell_type": "code",
      "metadata": {
        "id": "zYnrbl4qnzYs"
      },
      "source": [
        "# 상수형 tensor는 아래와 같이 만들 수 있음\n",
        "# 값을 출력하면 tensor의 값과 함께, shape와 내부의 data type을 함께 볼 수 있음\n",
        "# 버전 2부터 시작된 EagerTensor로 가능\n",
        "x = tf.constant([[1.0, 2.0],\n",
        "                 [3.0, 4.0]])\n",
        "print(x)\n",
        "print(type(x)) # <class 'tensorflow.python.framework.ops.EagerTensor'>"
      ],
      "execution_count": null,
      "outputs": []
    },
    {
      "cell_type": "code",
      "metadata": {
        "id": "A2JKer0PrK9B"
      },
      "source": [
        "import numpy as np\n",
        "import matplotlib.pyplot as plt"
      ],
      "execution_count": null,
      "outputs": []
    },
    {
      "cell_type": "code",
      "metadata": {
        "id": "X03DhfrZodNE"
      },
      "source": [
        "x_np = np.array([[1.0, 2.0],\n",
        "                 [3.0, 4.0]])\n",
        "x_list = [[1.0, 2.0],\n",
        "          [3.0, 4.0]]\n",
        "print(type(x_np))\n",
        "print(type(x_list))"
      ],
      "execution_count": null,
      "outputs": []
    },
    {
      "cell_type": "code",
      "metadata": {
        "id": "J1tZGeRkpoXN"
      },
      "source": [
        "# numpy의 ndarray. python의 list를 tensor로 바꿀 수 있음\n",
        "x_np = tf.convert_to_tensor(x_np)\n",
        "x_list = tf.convert_to_tensor(x_list)\n",
        "\n",
        "print(type(x_np))\n",
        "print(type(x_list))"
      ],
      "execution_count": null,
      "outputs": []
    },
    {
      "cell_type": "code",
      "metadata": {
        "id": "OPAYPf4Fqmp0"
      },
      "source": [
        "# tensor를 numpy ndarray로 바꿈\n",
        "x.numpy()"
      ],
      "execution_count": null,
      "outputs": []
    },
    {
      "cell_type": "code",
      "metadata": {
        "id": "bjN4zE30ryUF"
      },
      "source": [
        "print(type(x.numpy()))"
      ],
      "execution_count": null,
      "outputs": []
    },
    {
      "cell_type": "code",
      "metadata": {
        "id": "akeznoOsr071"
      },
      "source": [
        "# 텐서플로우의 함수(넘파이와 비슷)\n",
        "a = tf.ones((2, 3))\n",
        "print(a)\n",
        "b = tf.zeros((2, 3))\n",
        "print(b)\n",
        "c = tf.fill((2, 2), 2)\n",
        "print(c)"
      ],
      "execution_count": null,
      "outputs": []
    },
    {
      "cell_type": "code",
      "metadata": {
        "id": "k4tHdoxRsuGl"
      },
      "source": [
        "# shape와 dtype이 복사 (모양, type이 같음)\n",
        "d = tf.zeros_like(c)\n",
        "print(d)\n",
        "e = tf.ones_like(c)\n",
        "print(e)"
      ],
      "execution_count": null,
      "outputs": []
    },
    {
      "cell_type": "code",
      "metadata": {
        "id": "NYNwaTLqvsW9"
      },
      "source": [
        "f = tf.eye(5)\n",
        "print(f)"
      ],
      "execution_count": null,
      "outputs": []
    },
    {
      "cell_type": "code",
      "metadata": {
        "id": "JAXiFPsmv7t9"
      },
      "source": [
        "g = tf.range(10)\n",
        "print(g)"
      ],
      "execution_count": null,
      "outputs": []
    },
    {
      "cell_type": "code",
      "metadata": {
        "id": "8mRHOBFnwFx9"
      },
      "source": [
        "h = tf.random.uniform((2, 2)) # np.rand\n",
        "print(h)\n",
        "i = tf.random.normal((2, 2))\n",
        "print(i)"
      ],
      "execution_count": null,
      "outputs": []
    },
    {
      "cell_type": "markdown",
      "metadata": {
        "id": "Ta7S7LouwRWd"
      },
      "source": [
        "### **2. Tensor의 속성**"
      ]
    },
    {
      "cell_type": "code",
      "metadata": {
        "id": "eCMR6ylVwp0t"
      },
      "source": [
        "tensor = tf.random.normal((3, 4))\n",
        "print(f\"Shape: {tensor.shape}\")\n",
        "print(f\"DataType: {tensor.dtype}\")"
      ],
      "execution_count": null,
      "outputs": []
    },
    {
      "cell_type": "code",
      "metadata": {
        "id": "r-3vOhpNw0zW"
      },
      "source": [
        "# 속성변경\n",
        "tensor = tf.reshape(tensor, (4, 3))\n",
        "print(f\"Shape: {tensor.shape}\")\n",
        "tensor = tf.cast(tensor, tf.int32)\n",
        "print(f\"DataType: {tensor.dtype}\")"
      ],
      "execution_count": null,
      "outputs": []
    },
    {
      "cell_type": "markdown",
      "metadata": {
        "id": "zWX1rTeLxGHF"
      },
      "source": [
        "### **3. Variable**"
      ]
    },
    {
      "cell_type": "code",
      "metadata": {
        "id": "XMtSktaWzMCu"
      },
      "source": [
        ""
      ],
      "execution_count": null,
      "outputs": []
    },
    {
      "cell_type": "code",
      "metadata": {
        "id": "_CnFhjijxuC1"
      },
      "source": [
        "# variable 만들기, 값 변경\n",
        "variable = tf.Variable(tensor)\n",
        "print(variable)\n",
        "\n",
        "variable[0, 0].assign(2) # assign으로 값을 바꿀 수 있음\n",
        "print(vairiable)"
      ],
      "execution_count": null,
      "outputs": []
    },
    {
      "cell_type": "code",
      "metadata": {
        "id": "hA1LonWPzBet"
      },
      "source": [
        "initial_value = tf.random.normal(shape=(2, 2))\n",
        "weight = tf.Variable(initial_value)\n",
        "print(weight)"
      ],
      "execution_count": null,
      "outputs": []
    },
    {
      "cell_type": "code",
      "metadata": {
        "id": "lPgMBZItznLv"
      },
      "source": [
        "# Variable은 \".assign(value)\", \".assign_add(increment)\", \"assing_sub(decrement)\"와 같은 메소드를 사용해서 variable의 값을 갱신\n",
        "new_value = tf.random.normal(shape=(2, 2))\n",
        "print(new_value)\n",
        "weight.assign(new_value)\n",
        "print(weight)\n",
        "\n",
        "added_value = tf.ones(shape=(2, 2))\n",
        "weight.assign_sub(added_value)\n",
        "print(weight)"
      ],
      "execution_count": null,
      "outputs": []
    },
    {
      "cell_type": "markdown",
      "metadata": {
        "id": "GWIAfLPm0RGG"
      },
      "source": [
        "### **8. Dataset**"
      ]
    },
    {
      "cell_type": "markdown",
      "metadata": {
        "id": "Q76M5cDMva7b"
      },
      "source": [
        "Data를 처리하여 model에 공급하기 위하여 TensorFlow에서는 tf.data.Dataset을 사용"
      ]
    },
    {
      "cell_type": "code",
      "metadata": {
        "id": "fc_XIXmXvhJN"
      },
      "source": [
        "# 트레이닝셋 6만개. 테스트셋 1만개. 이미지 28*28 그레이스케일, 10개의 클래스\n",
        "mnist = keras.datasets.fashion_mnist\n",
        "class_names = ['T-shirt/top', 'Trouser', 'Pullover', 'Dress', 'Coat', 'Sandal',\n",
        "               'Shirt', 'Sneaker', 'Bag', 'Ankle boot']\n",
        "\n",
        "# train, labels, test, labels\n",
        "(train_images, train_labels), (test_images, test_labels) = mnist.load_data()"
      ],
      "execution_count": null,
      "outputs": []
    },
    {
      "cell_type": "code",
      "metadata": {
        "id": "X_v9f606wiec"
      },
      "source": [
        "# train_image, train_labels의 shape확인\n",
        "print(train_images.shape, train_labels.shape)"
      ],
      "execution_count": null,
      "outputs": []
    },
    {
      "cell_type": "code",
      "metadata": {
        "id": "nTWqSEKrwpVe"
      },
      "source": [
        "# test_image, test_labels의 shape 확인\n",
        "print(test_images.shape, test_labels.shape)"
      ],
      "execution_count": null,
      "outputs": []
    },
    {
      "cell_type": "code",
      "metadata": {
        "id": "DhGqok46xgI8"
      },
      "source": [
        "type(train_images)"
      ],
      "execution_count": null,
      "outputs": []
    },
    {
      "cell_type": "code",
      "metadata": {
        "id": "Qy0vgBeSxj-z"
      },
      "source": [
        "#training set의 각 class별 images 수 확인\n",
        "unique, counts = np.unique(train_labels, axis=-1, return_counts=True)\n",
        "dict(zip(unique, counts))"
      ],
      "execution_count": null,
      "outputs": []
    },
    {
      "cell_type": "code",
      "metadata": {
        "id": "AkRqf4oLx6EF"
      },
      "source": [
        "#training set의 각 class별 images 수 확인\n",
        "unique, counts = np.unique(test_labels, axis=-1, return_counts=True)\n",
        "dict(zip(unique, counts))"
      ],
      "execution_count": null,
      "outputs": []
    },
    {
      "cell_type": "code",
      "metadata": {
        "id": "JIuvTEYBx8Ls"
      },
      "source": [
        "plt.figure(figsize=(8, 8))\n",
        "for i in range(9):\n",
        "  plt.subplot(3, 3, i+1)\n",
        "  plt.xticks([])\n",
        "  plt.yticks([])\n",
        "  plt.grid(False)\n",
        "  plt.imshow(train_images[i], cmap='gray')\n",
        "  plt.title(class_names[train_labels[i]])\n",
        "plt.show()"
      ],
      "execution_count": null,
      "outputs": []
    },
    {
      "cell_type": "markdown",
      "metadata": {
        "id": "HYPJvHqvyjk9"
      },
      "source": [
        "### **Data 전처리**"
      ]
    },
    {
      "cell_type": "code",
      "metadata": {
        "id": "9hUS1gvby2z1"
      },
      "source": [
        "# image를 0~1 사이 값으로 만들기 위해 255로 나눔\n",
        "train_images = train_images.astype(np.float32) / 255.\n",
        "test_images = test_images.astype(np.float32) / 255.\n",
        "\n",
        "# one-hot encoding\n",
        "train_labels = keras.utils.to_categorical(train_labels, 10)\n",
        "test_labels = keras.utils.to_categorical(test_labels, 10)"
      ],
      "execution_count": null,
      "outputs": []
    },
    {
      "cell_type": "markdown",
      "metadata": {
        "id": "QnkZg7QKz3Ik"
      },
      "source": [
        "### **10. Dataset 만들기**"
      ]
    },
    {
      "cell_type": "code",
      "metadata": {
        "id": "2rynl7nd0AJk"
      },
      "source": [
        "# shuffle : 셔플을 하지 않으면 다음에 들어갈 데이터가 중복되서 들어갈 수 있음\n",
        "# epochs 할 때 shuffle 사용\n",
        "# batch : 한번에 여러개의 이미지를 넣어주는데 몇개씩 넣을 것인지\n",
        "\n",
        "train_dataset = tf.data.Dataset.from_tensor_slices((train_images, train_labels)).shuffle(\n",
        "    buffer_size=100000).batch(64)\n",
        "# layer에 64개씩 묶어서 처리함(처리단위) \n",
        "test_dataset = tf.data.Dataset.from_tensor_slices((test_images, test_labels)).batch(64)\n"
      ],
      "execution_count": null,
      "outputs": []
    },
    {
      "cell_type": "code",
      "metadata": {
        "id": "_FHIpFsn2Hw3"
      },
      "source": [
        "# Dataset을 통해 반복(iterate)\n",
        "# 이미지와 정답(label)을 표시, iter() 탐색하는 함수\n",
        "imgs, lbs = next(iter(train_dataset))\n",
        "print(f\"Feature batch shape: {imgs.shape}\")\n",
        "print(f\"Labels batch shape: {lbs.shape}\")\n",
        "\n",
        "img = imgs[0]\n",
        "lb = lbs[0]\n",
        "plt.imshow(img, cmap='gray')\n",
        "plt.show()\n",
        "print(f\"Label: {lb}\")"
      ],
      "execution_count": null,
      "outputs": []
    },
    {
      "cell_type": "markdown",
      "metadata": {
        "id": "MWCwP3uu93CG"
      },
      "source": [
        "### **11.Tensor_Slices()**"
      ]
    },
    {
      "cell_type": "code",
      "metadata": {
        "id": "qd-QRAy0-xHv"
      },
      "source": [
        "a = np.arange(10)\n",
        "print(a)\n",
        "\n",
        "ds_tensors = tf.data.Dataset.from_tensor_slices(a)\n",
        "print(ds_tensors)\n",
        "\n",
        "for x in ds_tensors:\n",
        "  print(x)"
      ],
      "execution_count": null,
      "outputs": []
    },
    {
      "cell_type": "code",
      "metadata": {
        "id": "yIZwQrfi7nJ2"
      },
      "source": [
        "print(ds_tensors)\n",
        "\n",
        "for x in ds_tensors:\n",
        "  print(x)"
      ],
      "execution_count": null,
      "outputs": []
    },
    {
      "cell_type": "code",
      "metadata": {
        "id": "57VPengd9e0Q"
      },
      "source": [
        "# data 전처리(변환)\n",
        "# shuffle(정수) : 큐사이즈 만큼 shuffle, 10개 이상이면 10개 모두 셔플, 10보다 작으면 일부만 셔플\n",
        "# batch(정수) : 숫자만큼 레이어로 데이터를 보냄\n",
        "ds_tensors = ds_tensors.map(tf.square).shuffle(10).batch(2)"
      ],
      "execution_count": null,
      "outputs": []
    },
    {
      "cell_type": "code",
      "metadata": {
        "id": "I7zwoEjl-QqP"
      },
      "source": [
        "for _ in range(3):\n",
        "  for x in ds_tensors:\n",
        "    print(x)\n",
        "  print('😁'*50)"
      ],
      "execution_count": null,
      "outputs": []
    },
    {
      "cell_type": "markdown",
      "metadata": {
        "id": "K5NAFFro_Pf9"
      },
      "source": [
        "### **12. Model**"
      ]
    },
    {
      "cell_type": "markdown",
      "metadata": {
        "id": "g4C0-y5m_YxJ"
      },
      "source": [
        "* 텐서플로우에서는 3가지 모델 작성방법을 제공함\n",
        "* Keras Sequential API를 사용하는 것이 가장 간단하고 쉽게 만들 수 있는 방법"
      ]
    },
    {
      "cell_type": "markdown",
      "metadata": {
        "id": "fJ7zgIYA_m42"
      },
      "source": [
        "### **13. Keras Sequential API 사용**"
      ]
    },
    {
      "cell_type": "code",
      "metadata": {
        "id": "XdxPjOQPAXJI"
      },
      "source": [
        "def create_seq_model():\n",
        "  model = keras.Sequential()\n",
        "  # add() :  순서대로 레이어를 쌓음\n",
        "  # Flatten() : 다차원의 행렬을 1차원의 data로 펴줌\n",
        "  model.add(keras.layers.Flatten(input_shape=(28, 28)))\n",
        "  model.add(keras.layers.Dense(128, activation='relu'))\n",
        "  # overfitting 하기위해 20%를 재처리 함, hidden layer 1개임\n",
        "  model.add(keras.layers.Dropout(0.2))\n",
        "  model.add(keras.layers.Dense(10, activation='softmax'))\n",
        "  return model"
      ],
      "execution_count": null,
      "outputs": []
    },
    {
      "cell_type": "code",
      "metadata": {
        "id": "MD4kaLalCnMZ"
      },
      "source": [
        "seq_model = create_seq_model()"
      ],
      "execution_count": null,
      "outputs": []
    },
    {
      "cell_type": "code",
      "metadata": {
        "id": "u1WCW7aNC4FQ"
      },
      "source": [
        "seq_model.summary()"
      ],
      "execution_count": null,
      "outputs": []
    },
    {
      "cell_type": "markdown",
      "metadata": {
        "id": "4YiJxQ4h_nzu"
      },
      "source": [
        "### **14. Keras Functional API 사용**"
      ]
    },
    {
      "cell_type": "code",
      "metadata": {
        "id": "hUvxqsWKC-he"
      },
      "source": [
        "# Sequential은 쌓이는 구조로만 모델을 생성할 수 있기 때문에 다양한 가지치기와 같은\n",
        "# 모델 레이어 구조를 생성하려면 create_func_model과 같은 형태로 생성하여 가능\n",
        "\n",
        "def create_func_model():\n",
        "  inputs = keras.Input(shape=(28, 28))\n",
        "  flatten = keras.layers.Flatten()(inputs)\n",
        "  dense = keras.layers.Dense(128, activation='relu')(flatten)\n",
        "  drop = keras.layers.Dropout(0.2)(dense)\n",
        "  outputs = keras.layers.Dense(10, activation='softmax')(drop)\n",
        "  model = keras.Model(inputs=inputs, outputs=outputs)\n",
        "  return model"
      ],
      "execution_count": null,
      "outputs": []
    },
    {
      "cell_type": "code",
      "metadata": {
        "id": "YXBVUDGmKeOY"
      },
      "source": [
        "func_model = create_func_model()"
      ],
      "execution_count": null,
      "outputs": []
    },
    {
      "cell_type": "code",
      "metadata": {
        "id": "DbjBrGOhKi1I"
      },
      "source": [
        "func_model.summary()"
      ],
      "execution_count": null,
      "outputs": []
    },
    {
      "cell_type": "markdown",
      "metadata": {
        "id": "zXwd6YMU_n7i"
      },
      "source": [
        "### **15. Model Class Subclassing 사용**"
      ]
    },
    {
      "cell_type": "code",
      "metadata": {
        "id": "ubl4fKMo_n8Q"
      },
      "source": [
        "# 파이토치가 사용하는 방법\n",
        "\n",
        "class SubClassModel(keras.Model):\n",
        "  def __init__(self):\n",
        "    super(SubClassModel, self).__init__()\n",
        "    self.flatten = keras.layers.Flatten(input_shape=(28, 28))\n",
        "    self.dense1 = keras.layers.Dense(128, activation='relu')\n",
        "    self.drop = keras.layers.Dropout(0.2)\n",
        "    self.dense2 = keras.layers.Dense(10, activation='softmax')\n",
        "\n",
        "  def call(self, x, training=False):\n",
        "    x = self.flatten(x)\n",
        "    x = self.dense1(x)\n",
        "    x = self.drop(x)\n",
        "    return self.dense2(x)"
      ],
      "execution_count": null,
      "outputs": []
    },
    {
      "cell_type": "code",
      "metadata": {
        "id": "0zb44mc6_n8-"
      },
      "source": [
        "subclass_model = SubClassModel()"
      ],
      "execution_count": null,
      "outputs": []
    },
    {
      "cell_type": "code",
      "metadata": {
        "id": "lDKOgjQMNl_P"
      },
      "source": [
        "inputs = tf.zeros((1, 28, 28))\n",
        "subclass_model(inputs)\n",
        "subclass_model.summary()"
      ],
      "execution_count": null,
      "outputs": []
    },
    {
      "cell_type": "markdown",
      "metadata": {
        "id": "9NxuRtmZNtRf"
      },
      "source": [
        "### **16. Training / Validation**"
      ]
    },
    {
      "cell_type": "code",
      "metadata": {
        "id": "gow9f40DOOco"
      },
      "source": [
        ""
      ],
      "execution_count": null,
      "outputs": []
    }
  ]
}