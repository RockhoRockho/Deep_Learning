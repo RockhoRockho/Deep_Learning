{
  "nbformat": 4,
  "nbformat_minor": 0,
  "metadata": {
    "colab": {
      "name": "_10.4 파이토치 RNN 분류 모델.ipynb",
      "provenance": [],
      "collapsed_sections": [],
      "include_colab_link": true
    },
    "kernelspec": {
      "name": "python3",
      "display_name": "Python 3"
    }
  },
  "cells": [
    {
      "cell_type": "markdown",
      "metadata": {
        "id": "view-in-github",
        "colab_type": "text"
      },
      "source": [
        "<a href=\"https://colab.research.google.com/github/RockhoRockho/Deep_Learning/blob/main/_10_4_%ED%8C%8C%EC%9D%B4%ED%86%A0%EC%B9%98_RNN_%EB%B6%84%EB%A5%98_%EB%AA%A8%EB%8D%B8.ipynb\" target=\"_parent\"><img src=\"https://colab.research.google.com/assets/colab-badge.svg\" alt=\"Open In Colab\"/></a>"
      ]
    },
    {
      "cell_type": "markdown",
      "metadata": {
        "id": "w7dUbyNVXcEf"
      },
      "source": [
        "# 파이토치 RNN 분류 모델\n",
        "- 코드 출처: https://tutorials.pytorch.kr/intermediate/char_rnn_classification_tutorial.html"
      ]
    },
    {
      "cell_type": "code",
      "metadata": {
        "id": "dB-d43kLYEAi",
        "colab": {
          "base_uri": "https://localhost:8080/"
        },
        "outputId": "17a32bf3-ccd9-47cd-d38a-2cc8bf6a02f0"
      },
      "source": [
        "!wget http://download.pytorch.org/tutorial/data.zip\n",
        "!unzip data.zip"
      ],
      "execution_count": 1,
      "outputs": [
        {
          "output_type": "stream",
          "name": "stdout",
          "text": [
            "--2021-12-17 06:38:45--  http://download.pytorch.org/tutorial/data.zip\n",
            "Resolving download.pytorch.org (download.pytorch.org)... 13.226.52.36, 13.226.52.51, 13.226.52.128, ...\n",
            "Connecting to download.pytorch.org (download.pytorch.org)|13.226.52.36|:80... connected.\n",
            "HTTP request sent, awaiting response... 200 OK\n",
            "Length: 2882130 (2.7M) [application/zip]\n",
            "Saving to: ‘data.zip’\n",
            "\n",
            "data.zip            100%[===================>]   2.75M  10.6MB/s    in 0.3s    \n",
            "\n",
            "2021-12-17 06:38:46 (10.6 MB/s) - ‘data.zip’ saved [2882130/2882130]\n",
            "\n",
            "Archive:  data.zip\n",
            "   creating: data/\n",
            "  inflating: data/eng-fra.txt        \n",
            "   creating: data/names/\n",
            "  inflating: data/names/Arabic.txt   \n",
            "  inflating: data/names/Chinese.txt  \n",
            "  inflating: data/names/Czech.txt    \n",
            "  inflating: data/names/Dutch.txt    \n",
            "  inflating: data/names/English.txt  \n",
            "  inflating: data/names/French.txt   \n",
            "  inflating: data/names/German.txt   \n",
            "  inflating: data/names/Greek.txt    \n",
            "  inflating: data/names/Irish.txt    \n",
            "  inflating: data/names/Italian.txt  \n",
            "  inflating: data/names/Japanese.txt  \n",
            "  inflating: data/names/Korean.txt   \n",
            "  inflating: data/names/Polish.txt   \n",
            "  inflating: data/names/Portuguese.txt  \n",
            "  inflating: data/names/Russian.txt  \n",
            "  inflating: data/names/Scottish.txt  \n",
            "  inflating: data/names/Spanish.txt  \n",
            "  inflating: data/names/Vietnamese.txt  \n"
          ]
        }
      ]
    },
    {
      "cell_type": "markdown",
      "metadata": {
        "id": "Vukqoa09LSZw"
      },
      "source": [
        "이름: Ślusàrski"
      ]
    },
    {
      "cell_type": "code",
      "metadata": {
        "id": "2d1pQ-JeYKzw",
        "colab": {
          "base_uri": "https://localhost:8080/"
        },
        "outputId": "decd6f0d-484f-4c9d-a82f-a44c6af056a9"
      },
      "source": [
        "from io import open\n",
        "import glob\n",
        "import os\n",
        "\n",
        "def findFiles(path):\n",
        "  return glob.glob(path)\n",
        "\n",
        "print(findFiles('data/names/*.txt'))\n",
        "\n",
        "import unicodedata\n",
        "import string\n",
        "\n",
        "all_letters = string.ascii_letters + \" .,;'\"\n",
        "n_letters = len(all_letters)\n",
        "\n",
        "def unicodeToAscii(s):\n",
        "  return ''.join(\n",
        "      c for c in unicodedata.normalize('NFD', s)\n",
        "      if unicodedata.category(c) != 'Mn' and c in all_letters\n",
        "  )\n",
        "\n",
        "print(unicodeToAscii('Ślusàrski'))\n",
        "\n",
        "category_lines = {}\n",
        "all_categories = []\n",
        "\n",
        "def readLines(filename):\n",
        "  lines = open(filename, encoding='utf-8').read().strip().split('\\n')\n",
        "  return [unicodeToAscii(line) for line in lines]\n",
        "\n",
        "for filename in findFiles('data/names/*.txt'):\n",
        "  category = os.path.splitext(os.path.basename(filename))[0]\n",
        "  all_categories.append(category)\n",
        "  lines = readLines(filename)\n",
        "  category_lines[category] = lines\n",
        "\n",
        "n_categories = len(all_categories)"
      ],
      "execution_count": 5,
      "outputs": [
        {
          "output_type": "stream",
          "name": "stdout",
          "text": [
            "['data/names/Portuguese.txt', 'data/names/German.txt', 'data/names/Scottish.txt', 'data/names/Irish.txt', 'data/names/French.txt', 'data/names/Italian.txt', 'data/names/Polish.txt', 'data/names/Vietnamese.txt', 'data/names/Dutch.txt', 'data/names/Czech.txt', 'data/names/Chinese.txt', 'data/names/English.txt', 'data/names/Arabic.txt', 'data/names/Russian.txt', 'data/names/Greek.txt', 'data/names/Japanese.txt', 'data/names/Spanish.txt', 'data/names/Korean.txt']\n",
            "Slusarski\n"
          ]
        }
      ]
    },
    {
      "cell_type": "code",
      "metadata": {
        "id": "o39feEPmYRdv",
        "colab": {
          "base_uri": "https://localhost:8080/"
        },
        "outputId": "975d9a19-4de0-4382-e34d-fab7a4cc14a1"
      },
      "source": [
        "print(category_lines['French'][:5])"
      ],
      "execution_count": 8,
      "outputs": [
        {
          "output_type": "stream",
          "name": "stdout",
          "text": [
            "['Abel', 'Abraham', 'Adam', 'Albert', 'Allard']\n"
          ]
        }
      ]
    },
    {
      "cell_type": "code",
      "metadata": {
        "id": "Mkjk05rwYUyx",
        "colab": {
          "base_uri": "https://localhost:8080/"
        },
        "outputId": "151dba22-c399-4c31-e6c2-37b3ae23fe9f"
      },
      "source": [
        "import torch\n",
        "\n",
        "def letterToIndex(letter):\n",
        "  return all_letters.find(letter)\n",
        "\n",
        "def letterToTensor(letter):\n",
        "  tensor = torch.zeros(1, n_letters)\n",
        "  tensor[0][letterToIndex(letter)] = 1\n",
        "  return tensor\n",
        "\n",
        "def lineToTensor(line):\n",
        "  tensor = torch.zeros(len(line), 1, n_letters)\n",
        "  for li, letter in enumerate(line):\n",
        "    tensor[li][0][letterToIndex(letter)] = 1\n",
        "  return tensor\n",
        "\n",
        "print(letterToTensor('J'))\n",
        "\n",
        "print(lineToTensor('Jones'))"
      ],
      "execution_count": 10,
      "outputs": [
        {
          "output_type": "stream",
          "name": "stdout",
          "text": [
            "tensor([[0., 0., 0., 0., 0., 0., 0., 0., 0., 0., 0., 0., 0., 0., 0., 0., 0., 0.,\n",
            "         0., 0., 0., 0., 0., 0., 0., 0., 0., 0., 0., 0., 0., 0., 0., 0., 0., 1.,\n",
            "         0., 0., 0., 0., 0., 0., 0., 0., 0., 0., 0., 0., 0., 0., 0., 0., 0., 0.,\n",
            "         0., 0., 0.]])\n",
            "tensor([[[0., 0., 0., 0., 0., 0., 0., 0., 0., 0., 0., 0., 0., 0., 0., 0., 0.,\n",
            "          0., 0., 0., 0., 0., 0., 0., 0., 0., 0., 0., 0., 0., 0., 0., 0., 0.,\n",
            "          0., 1., 0., 0., 0., 0., 0., 0., 0., 0., 0., 0., 0., 0., 0., 0., 0.,\n",
            "          0., 0., 0., 0., 0., 0.]],\n",
            "\n",
            "        [[0., 0., 0., 0., 0., 0., 0., 0., 0., 0., 0., 0., 0., 0., 1., 0., 0.,\n",
            "          0., 0., 0., 0., 0., 0., 0., 0., 0., 0., 0., 0., 0., 0., 0., 0., 0.,\n",
            "          0., 0., 0., 0., 0., 0., 0., 0., 0., 0., 0., 0., 0., 0., 0., 0., 0.,\n",
            "          0., 0., 0., 0., 0., 0.]],\n",
            "\n",
            "        [[0., 0., 0., 0., 0., 0., 0., 0., 0., 0., 0., 0., 0., 1., 0., 0., 0.,\n",
            "          0., 0., 0., 0., 0., 0., 0., 0., 0., 0., 0., 0., 0., 0., 0., 0., 0.,\n",
            "          0., 0., 0., 0., 0., 0., 0., 0., 0., 0., 0., 0., 0., 0., 0., 0., 0.,\n",
            "          0., 0., 0., 0., 0., 0.]],\n",
            "\n",
            "        [[0., 0., 0., 0., 1., 0., 0., 0., 0., 0., 0., 0., 0., 0., 0., 0., 0.,\n",
            "          0., 0., 0., 0., 0., 0., 0., 0., 0., 0., 0., 0., 0., 0., 0., 0., 0.,\n",
            "          0., 0., 0., 0., 0., 0., 0., 0., 0., 0., 0., 0., 0., 0., 0., 0., 0.,\n",
            "          0., 0., 0., 0., 0., 0.]],\n",
            "\n",
            "        [[0., 0., 0., 0., 0., 0., 0., 0., 0., 0., 0., 0., 0., 0., 0., 0., 0.,\n",
            "          0., 1., 0., 0., 0., 0., 0., 0., 0., 0., 0., 0., 0., 0., 0., 0., 0.,\n",
            "          0., 0., 0., 0., 0., 0., 0., 0., 0., 0., 0., 0., 0., 0., 0., 0., 0.,\n",
            "          0., 0., 0., 0., 0., 0.]]])\n"
          ]
        }
      ]
    },
    {
      "cell_type": "markdown",
      "metadata": {
        "id": "IPVvWrMHYelv"
      },
      "source": [
        "## 신경망 생성\n",
        "\n",
        "- 모델 생성 방법 참고 : https://pytorch.org/tutorials/beginner/former_torchies/nnft_tutorial.html"
      ]
    },
    {
      "cell_type": "code",
      "metadata": {
        "id": "t6gKYokQYYZW"
      },
      "source": [
        "import torch.nn as nn\n",
        "\n",
        "class RNN(nn.Module):\n",
        "  def __init__(self, input_size, hidden_size, output_size):\n",
        "    super(RNN, self).__init__()\n",
        "\n",
        "    self.hidden_size = hidden_size\n",
        "\n",
        "    self.i2h = nn.Linear(input_size + hidden_size, hidden_size)\n",
        "    self.i2o = nn.Linear(input_size + hidden_size, output_size)\n",
        "    self.softmax = nn.LogSoftmax(dim=1)\n",
        "\n",
        "  def forward(self, input, hidden):\n",
        "    combined = torch.cat((input, hidden), 1)\n",
        "    hidden = self.i2h(combined)\n",
        "    output = self.i2o(combined)\n",
        "    output = self.softmax(output)\n",
        "    return output, hidden\n",
        "\n",
        "  def initHidden(self):\n",
        "    return torch.zeros(1, self.hidden_size)\n",
        "\n",
        "n_hidden = 128\n",
        "rnn = RNN(n_letters, n_hidden, n_categories)"
      ],
      "execution_count": 12,
      "outputs": []
    },
    {
      "cell_type": "code",
      "metadata": {
        "id": "wuFpzGrHYgBY",
        "colab": {
          "base_uri": "https://localhost:8080/"
        },
        "outputId": "27d081b4-f328-4105-d0e8-975f3b8d1116"
      },
      "source": [
        "input = letterToTensor('A')\n",
        "hidden = torch.zeros(1, n_hidden)\n",
        "\n",
        "output, next_hidden = rnn(input, hidden)\n",
        "print(output, next_hidden)"
      ],
      "execution_count": 13,
      "outputs": [
        {
          "output_type": "stream",
          "name": "stdout",
          "text": [
            "tensor([[-2.8164, -2.9995, -2.8425, -2.9307, -3.0173, -3.0019, -2.8168, -2.7856,\n",
            "         -2.8705, -2.8982, -2.8769, -2.8702, -2.8628, -2.7991, -2.9003, -2.9730,\n",
            "         -2.9899, -2.8234]], grad_fn=<LogSoftmaxBackward0>) tensor([[ 0.0132,  0.0551, -0.1080,  0.0480,  0.0643, -0.0896,  0.0172,  0.0076,\n",
            "          0.0244, -0.0471, -0.0656, -0.0297, -0.0382,  0.0043, -0.0651, -0.0387,\n",
            "         -0.0250,  0.1341, -0.0138, -0.0609,  0.0602, -0.0088, -0.0276, -0.0560,\n",
            "         -0.0155,  0.0617,  0.0884, -0.0073, -0.0547,  0.0490,  0.0401, -0.0222,\n",
            "         -0.0341, -0.0585,  0.0633, -0.0298, -0.0376,  0.0032, -0.0044,  0.0949,\n",
            "         -0.1111, -0.0618, -0.0429,  0.0308,  0.1024,  0.0189,  0.1272, -0.0327,\n",
            "         -0.0778, -0.0671, -0.1006, -0.0601, -0.0108, -0.0355,  0.0167,  0.0132,\n",
            "         -0.0924, -0.0163,  0.0502, -0.0631, -0.0325,  0.0085,  0.0826, -0.0059,\n",
            "         -0.0134,  0.0127, -0.0229,  0.0012, -0.0205, -0.0016,  0.0585, -0.0034,\n",
            "          0.0024, -0.0165, -0.1287, -0.0607, -0.0336, -0.0725, -0.0720, -0.0481,\n",
            "          0.0274,  0.0929, -0.0631, -0.0797,  0.0965,  0.0579,  0.0156,  0.0729,\n",
            "          0.0237,  0.0283,  0.0139, -0.1109, -0.0930,  0.0531,  0.0076,  0.0904,\n",
            "          0.0299,  0.0170,  0.0187, -0.0051, -0.0017,  0.0208, -0.0930,  0.1343,\n",
            "         -0.0153, -0.0097,  0.0108, -0.0212, -0.0533, -0.0906,  0.0741, -0.0791,\n",
            "         -0.0018, -0.0926,  0.0893, -0.0517,  0.0421,  0.0270,  0.0834, -0.0509,\n",
            "          0.0980,  0.0038, -0.0535,  0.0249,  0.0555,  0.0286, -0.1007,  0.0171]],\n",
            "       grad_fn=<AddmmBackward0>)\n"
          ]
        }
      ]
    },
    {
      "cell_type": "code",
      "metadata": {
        "id": "wpGGzL2NYku2",
        "colab": {
          "base_uri": "https://localhost:8080/"
        },
        "outputId": "a4e08308-8608-452e-8b16-297c36731e44"
      },
      "source": [
        "input = lineToTensor('Albert')\n",
        "hidden = torch.zeros(1, n_hidden)\n",
        "\n",
        "output, next_hidden = rnn(input[0], hidden)\n",
        "print(output, next_hidden)"
      ],
      "execution_count": 15,
      "outputs": [
        {
          "output_type": "stream",
          "name": "stdout",
          "text": [
            "tensor([[-2.8164, -2.9995, -2.8425, -2.9307, -3.0173, -3.0019, -2.8168, -2.7856,\n",
            "         -2.8705, -2.8982, -2.8769, -2.8702, -2.8628, -2.7991, -2.9003, -2.9730,\n",
            "         -2.9899, -2.8234]], grad_fn=<LogSoftmaxBackward0>) tensor([[ 0.0132,  0.0551, -0.1080,  0.0480,  0.0643, -0.0896,  0.0172,  0.0076,\n",
            "          0.0244, -0.0471, -0.0656, -0.0297, -0.0382,  0.0043, -0.0651, -0.0387,\n",
            "         -0.0250,  0.1341, -0.0138, -0.0609,  0.0602, -0.0088, -0.0276, -0.0560,\n",
            "         -0.0155,  0.0617,  0.0884, -0.0073, -0.0547,  0.0490,  0.0401, -0.0222,\n",
            "         -0.0341, -0.0585,  0.0633, -0.0298, -0.0376,  0.0032, -0.0044,  0.0949,\n",
            "         -0.1111, -0.0618, -0.0429,  0.0308,  0.1024,  0.0189,  0.1272, -0.0327,\n",
            "         -0.0778, -0.0671, -0.1006, -0.0601, -0.0108, -0.0355,  0.0167,  0.0132,\n",
            "         -0.0924, -0.0163,  0.0502, -0.0631, -0.0325,  0.0085,  0.0826, -0.0059,\n",
            "         -0.0134,  0.0127, -0.0229,  0.0012, -0.0205, -0.0016,  0.0585, -0.0034,\n",
            "          0.0024, -0.0165, -0.1287, -0.0607, -0.0336, -0.0725, -0.0720, -0.0481,\n",
            "          0.0274,  0.0929, -0.0631, -0.0797,  0.0965,  0.0579,  0.0156,  0.0729,\n",
            "          0.0237,  0.0283,  0.0139, -0.1109, -0.0930,  0.0531,  0.0076,  0.0904,\n",
            "          0.0299,  0.0170,  0.0187, -0.0051, -0.0017,  0.0208, -0.0930,  0.1343,\n",
            "         -0.0153, -0.0097,  0.0108, -0.0212, -0.0533, -0.0906,  0.0741, -0.0791,\n",
            "         -0.0018, -0.0926,  0.0893, -0.0517,  0.0421,  0.0270,  0.0834, -0.0509,\n",
            "          0.0980,  0.0038, -0.0535,  0.0249,  0.0555,  0.0286, -0.1007,  0.0171]],\n",
            "       grad_fn=<AddmmBackward0>)\n"
          ]
        }
      ]
    },
    {
      "cell_type": "markdown",
      "metadata": {
        "id": "q3qAoF6BYrPW"
      },
      "source": [
        "## 모델 학습\n",
        "- 준비"
      ]
    },
    {
      "cell_type": "code",
      "metadata": {
        "id": "WNTCbv4aYoP2",
        "colab": {
          "base_uri": "https://localhost:8080/"
        },
        "outputId": "ede67c20-c5fc-4912-fa77-5cd4ae074f35"
      },
      "source": [
        "def categoryFromOutput(output):\n",
        "  top_n, top_i = output.topk(1)\n",
        "  category_i = top_i[0].item()\n",
        "  return all_categories[category_i], category_i\n",
        "\n",
        "print(categoryFromOutput(output))"
      ],
      "execution_count": 29,
      "outputs": [
        {
          "output_type": "stream",
          "name": "stdout",
          "text": [
            "('Russian', 13)\n"
          ]
        }
      ]
    },
    {
      "cell_type": "code",
      "metadata": {
        "id": "aanvL45oYs00",
        "colab": {
          "base_uri": "https://localhost:8080/"
        },
        "outputId": "6646c589-9ceb-48fe-e884-21625b37acd0"
      },
      "source": [
        "import random\n",
        "\n",
        "def randomChoice(l):\n",
        "  return l[random.randint(0, len(l) - 1)]\n",
        "\n",
        "def randomTrainingExample():\n",
        "  category = randomChoice(all_categories)\n",
        "  line = randomChoice(category_lines[category])\n",
        "  category_tensor = torch.tensor([all_categories.index(category)], dtype=torch.long)\n",
        "  line_tensor = lineToTensor(line)\n",
        "  return category, line, category_tensor, line_tensor\n",
        "\n",
        "for i in range(10):\n",
        "  category, line, category_tensor, line_tensor = randomTrainingExample()\n",
        "  print('category: {} \\t line: {}'.format(category, line))"
      ],
      "execution_count": 30,
      "outputs": [
        {
          "output_type": "stream",
          "name": "stdout",
          "text": [
            "category: Spanish \t line: Costa\n",
            "category: Greek \t line: Comino\n",
            "category: Portuguese \t line: Albuquerque\n",
            "category: Portuguese \t line: Crespo\n",
            "category: German \t line: Farber\n",
            "category: Russian \t line: Abrahimov\n",
            "category: Spanish \t line: Ruiz\n",
            "category: Spanish \t line: Armando\n",
            "category: Scottish \t line: Mcmillan\n",
            "category: Italian \t line: Siena\n"
          ]
        }
      ]
    },
    {
      "cell_type": "markdown",
      "metadata": {
        "id": "qVA-IZP3Yzz2"
      },
      "source": [
        "## 손실함수"
      ]
    },
    {
      "cell_type": "code",
      "metadata": {
        "id": "Y98Uy0YPYwjY"
      },
      "source": [
        "criterion = nn.NLLLoss()"
      ],
      "execution_count": 31,
      "outputs": []
    },
    {
      "cell_type": "markdown",
      "metadata": {
        "id": "oDyQIe8lY_Vl"
      },
      "source": [
        "## 모델 학습"
      ]
    },
    {
      "cell_type": "code",
      "metadata": {
        "id": "4vIcTqP8Y9lo"
      },
      "source": [
        "learning_rate = 0.005\n",
        "\n",
        "def train(category_tensor, line_tensor):\n",
        "  hidden = rnn.initHidden()\n",
        "\n",
        "  rnn.zero_grad()\n",
        "\n",
        "  for i in range(line_tensor.size()[0]):\n",
        "    output, hidden = rnn(line_tensor[i], hidden)\n",
        "\n",
        "  loss = criterion(output, category_tensor)\n",
        "  loss.backward()\n",
        "\n",
        "  for p in rnn.parameters():\n",
        "    p.data.add_(p.grad.data, alpha=-learning_rate)\n",
        "\n",
        "  return output, loss.item()"
      ],
      "execution_count": 32,
      "outputs": []
    },
    {
      "cell_type": "code",
      "metadata": {
        "id": "DRDcSbrsZAK9",
        "colab": {
          "base_uri": "https://localhost:8080/"
        },
        "outputId": "5c4d713c-1658-427c-b080-9552bd7c1dc6"
      },
      "source": [
        "import time\n",
        "import math\n",
        "\n",
        "n_iters = 100000\n",
        "print_every = 5000\n",
        "plot_every = 1000\n",
        "\n",
        "current_loss = 0\n",
        "all_losses = []\n",
        "\n",
        "def timeSince(since):\n",
        "  now = time.time()\n",
        "  s = now - since\n",
        "  m = math.floor(s / 60)\n",
        "  s -= m * 60\n",
        "  return '%dm %ds' % (m, s)\n",
        "\n",
        "start = time.time()\n",
        "\n",
        "for iter in range(1, n_iters + 1):\n",
        "  category, line, category_tensor, line_tensor = randomTrainingExample()\n",
        "  output, loss = train(category_tensor, line_tensor)\n",
        "  current_loss += loss\n",
        "\n",
        "  if iter % print_every == 0:\n",
        "    guess, guess_i = categoryFromOutput(output)\n",
        "    correct = 'O' if guess == category else 'X (%s)' % category\n",
        "    print('%d %d%% (%s) %.4f %s / %s %s' % (iter, iter/n_iters * 100, timeSince(start), loss, line, guess, correct))\n",
        "\n",
        "  if iter % plot_every == 0:\n",
        "    all_losses.append(current_loss / plot_every)\n",
        "    current_loss = 0"
      ],
      "execution_count": 33,
      "outputs": [
        {
          "output_type": "stream",
          "name": "stdout",
          "text": [
            "5000 5% (0m 5s) 1.8430 Hinrichs / Portuguese X (German)\n",
            "10000 10% (0m 11s) 3.1240 Skwor / Scottish X (Czech)\n",
            "15000 15% (0m 17s) 0.0423 Thao / Vietnamese O\n",
            "20000 20% (0m 22s) 0.8472 Gouveia / Portuguese O\n",
            "25000 25% (0m 28s) 2.0181 Ghannam / Irish X (Arabic)\n",
            "30000 30% (0m 33s) 0.5576 Shan / Chinese O\n",
            "35000 35% (0m 39s) 0.1052 Modyaev / Russian O\n",
            "40000 40% (0m 44s) 0.9906 Welter / German O\n",
            "45000 45% (0m 50s) 2.2203 Soucy / Irish X (French)\n",
            "50000 50% (0m 55s) 1.3986 Klerkse / Czech X (Dutch)\n",
            "55000 55% (1m 1s) 0.7936 Filipek / Polish O\n",
            "60000 60% (1m 7s) 2.7419 Plank / Czech X (German)\n",
            "65000 65% (1m 12s) 0.0214 Shadid / Arabic O\n",
            "70000 70% (1m 18s) 0.3153 Chavez / Spanish O\n",
            "75000 75% (1m 23s) 3.0272 Marqueringh / Irish X (Dutch)\n",
            "80000 80% (1m 29s) 0.0199 Kalakos / Greek O\n",
            "85000 85% (1m 34s) 0.9127 Meadhra / Irish O\n",
            "90000 90% (1m 40s) 0.1823 Slusarski / Polish O\n",
            "95000 95% (1m 46s) 2.9977 Walter / Scottish X (German)\n",
            "100000 100% (1m 51s) 0.6840 Aiza / Spanish O\n"
          ]
        }
      ]
    },
    {
      "cell_type": "code",
      "metadata": {
        "id": "cSwAjR6QZDRf",
        "colab": {
          "base_uri": "https://localhost:8080/",
          "height": 262
        },
        "outputId": "147701ad-8320-4d18-9167-3ae48e17e8cd"
      },
      "source": [
        "import matplotlib.ticker as ticker\n",
        "import matplotlib.pyplot as plt\n",
        "plt.style.use('seaborn-white')\n",
        "\n",
        "plt.figure()\n",
        "plt.plot(all_losses)\n",
        "plt.show()"
      ],
      "execution_count": 34,
      "outputs": [
        {
          "output_type": "display_data",
          "data": {
            "image/png": "[encoded data removed]",
            "text/plain": [
              "<Figure size 432x288 with 1 Axes>"
            ]
          },
          "metadata": {}
        }
      ]
    },
    {
      "cell_type": "markdown",
      "metadata": {
        "id": "J0_2HyE3ZPZk"
      },
      "source": [
        "## 모델 테스트"
      ]
    },
    {
      "cell_type": "code",
      "metadata": {
        "id": "MBVWJNmoZO8a",
        "colab": {
          "base_uri": "https://localhost:8080/",
          "height": 311
        },
        "outputId": "39e0cd77-b700-4cd2-82df-45525a696b89"
      },
      "source": [
        "confusion = torch.zeros(n_categories, n_categories)\n",
        "n_confusion = 10000\n",
        "\n",
        "def evaluate(line_tensor):\n",
        "  hidden = rnn.initHidden()\n",
        "\n",
        "  for i in range(line_tensor.size()[0]):\n",
        "    output, hidden = rnn(line_tensor[i], hidden)\n",
        "\n",
        "  return output\n",
        "\n",
        "for i in range(n_confusion):\n",
        "  category, line, category_tensor, line_tensor = randomTrainingExample()\n",
        "  output = evaluate(line_tensor)\n",
        "  guess, guess_i = categoryFromOutput(output)\n",
        "  category_i = all_categories.index(category)\n",
        "  confusion[category_i][guess_i] += 1\n",
        "\n",
        "for i in range(n_categories):\n",
        "  confusion[i] = confusion[i] / confusion[i].sum()\n",
        "\n",
        "fig = plt.figure()\n",
        "ax = fig.add_subplot(111)\n",
        "cax = ax.matshow(confusion.numpy())\n",
        "fig.colorbar(cax)\n",
        "ax.set_xticklabels([''] + all_categories, rotation=90)\n",
        "ax.set_yticklabels([''] + all_categories)\n",
        "ax.xaxis.set_major_locator(ticker.MultipleLocator(1))\n",
        "ax.yaxis.set_major_locator(ticker.MultipleLocator(1))\n",
        "\n",
        "plt.show()"
      ],
      "execution_count": 35,
      "outputs": [
        {
          "output_type": "display_data",
          "data": {
            "image/png": "[encoded data removed]",
            "text/plain": [
              "<Figure size 432x288 with 2 Axes>"
            ]
          },
          "metadata": {}
        }
      ]
    },
    {
      "cell_type": "markdown",
      "metadata": {
        "id": "AfjRYlioZV3o"
      },
      "source": [
        "## 사용자 입력으로부터의 실행"
      ]
    },
    {
      "cell_type": "code",
      "metadata": {
        "id": "uteG1Je5ZQWg",
        "colab": {
          "base_uri": "https://localhost:8080/"
        },
        "outputId": "b04e29eb-bdf6-408d-b274-6e2d548f6aa0"
      },
      "source": [
        "def predict(input_line, n_predictions=3):\n",
        "  print('\\n> %s' % input_line)\n",
        "  with torch.no_grad():\n",
        "    output = evaluate(lineToTensor(input_line))\n",
        "\n",
        "    topv, topi = output.topk(n_predictions, 1, True)\n",
        "    predictions = []\n",
        "\n",
        "    for i in range(n_predictions):\n",
        "      value = topv[0][i].item()\n",
        "      category_index = topi[0][i].item()\n",
        "      print('(%.2f) %s' % (value, all_categories[category_index]))\n",
        "      predictions.append([value, all_categories[category_index]])\n",
        "\n",
        "predict('Jackson')\n",
        "predict('Bill')\n",
        "predict('Dovesky')\n",
        "predict('Blain')"
      ],
      "execution_count": 40,
      "outputs": [
        {
          "output_type": "stream",
          "name": "stdout",
          "text": [
            "\n",
            "> Jackson\n",
            "(-0.22) Scottish\n",
            "(-2.27) English\n",
            "(-3.01) Russian\n",
            "\n",
            "> Bill\n",
            "(-1.18) Irish\n",
            "(-1.85) English\n",
            "(-1.87) German\n",
            "\n",
            "> Dovesky\n",
            "(-0.19) Russian\n",
            "(-2.21) Czech\n",
            "(-3.50) English\n",
            "\n",
            "> Blain\n",
            "(-0.69) Irish\n",
            "(-2.09) Scottish\n",
            "(-2.32) Arabic\n"
          ]
        }
      ]
    }
  ]
}