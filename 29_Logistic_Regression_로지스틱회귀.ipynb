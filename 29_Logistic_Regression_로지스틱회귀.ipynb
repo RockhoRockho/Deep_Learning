{
 "cells": [
  {
   "cell_type": "markdown",
   "id": "d548ca55",
   "metadata": {},
   "source": [
    "공부 시간, 과외 시간과 성적 사이이의 관계는 좌표로 나타낼 때 형태가 직선으로 해결되는 선형 회귀를 사용하기에 적합했었다.  \n",
    "공부 시간에 따른 점수가 아닌 합격 여부 발표되는 시험이 있을 경우 직선으로 해결하기에는 적합하지 못한 문제가 발생된다.  \n",
    "이럴 때, 사용하는 로지스틱 회귀는 참과 거짓 중에 하나를 내놓는 과정으로 참과 거짓을 구분한 'S'자를 눕혀놓는 형태의 선을 그어주는 작업이다."
   ]
  },
  {
   "cell_type": "code",
   "execution_count": 1,
   "id": "65d661b9",
   "metadata": {},
   "outputs": [
    {
     "name": "stdout",
     "output_type": "stream",
     "text": [
      "WARNING:tensorflow:From c:\\python36\\lib\\site-packages\\tensorflow\\python\\compat\\v2_compat.py:101: disable_resource_variables (from tensorflow.python.ops.variable_scope) is deprecated and will be removed in a future version.\n",
      "Instructions for updating:\n",
      "non-resource variables are not supported in the long term\n"
     ]
    }
   ],
   "source": [
    "import warnings\n",
    "warnings.filterwarnings('ignore')\n",
    "import numpy as np\n",
    "import pandas as pd\n",
    "import tensorflow.compat.v1 as tf\n",
    "tf.disable_v2_behavior()"
   ]
  },
  {
   "cell_type": "code",
   "execution_count": 2,
   "id": "9c38f414",
   "metadata": {},
   "outputs": [],
   "source": [
    "# 공부한 시간(x), 합격 여부(y) => [공부 시간, 합격 여부]\n",
    "data = [[2, 0], [4, 0], [6, 0], [8, 1], [10, 1], [12, 1], [14, 1]]\n",
    "xData = [i[0] for i in data] # 공부한 시간\n",
    "yData = [i[1] for i in data]   # 합격 여부"
   ]
  },
  {
   "cell_type": "code",
   "execution_count": 3,
   "id": "8de9a740",
   "metadata": {},
   "outputs": [
    {
     "name": "stdout",
     "output_type": "stream",
     "text": [
      "a: [-0.60859863], b: [1.25795637]\n"
     ]
    }
   ],
   "source": [
    "# 기울기 (a), y절편(b) 값을 랜덤한 값으로 정한다.\n",
    "# tf.random_uniform(): tensorflow에서 균등 분포를 따르는 난수를 발생시킨다.\n",
    "# tf.random_normal(): tensorflow에서 정규 분포를 따르는 난수를 발생시킨다.\n",
    "a = tf.Variable(tf.random_normal([1], dtype=tf.float64))\n",
    "b = tf.Variable(tf.random_normal([1], dtype=tf.float64))\n",
    "sess = tf.Session()\n",
    "sess.run(tf.global_variables_initializer())\n",
    "print('a: {}, b: {}'.format(sess.run(a), sess.run(b)))"
   ]
  },
  {
   "cell_type": "markdown",
   "id": "c1ec1163",
   "metadata": {},
   "source": [
    "시그모이드 방정식"
   ]
  },
  {
   "cell_type": "code",
   "execution_count": 4,
   "id": "f864d0c9",
   "metadata": {},
   "outputs": [],
   "source": [
    "# np.e: 넘파이에서 지수 값(2.718281828459045)\n",
    "# print(np.e)\n",
    "# http://icim.nims.re.kr/post/easyMath/64 참조\n",
    "y = 1 / (1 + np.e ** -(a * xData + b))"
   ]
  },
  {
   "cell_type": "markdown",
   "id": "9f42c676",
   "metadata": {},
   "source": [
    "시그모이드 방정식의 오차를 계산하는 함수를 만든다.  \n",
    "시그모이드 함수의 특성은 예측값(y)이 항상 0 아니면 1이다."
   ]
  },
  {
   "cell_type": "code",
   "execution_count": 5,
   "id": "119e99aa",
   "metadata": {},
   "outputs": [],
   "source": [
    "loss = -tf.reduce_mean(np.array(yData) * tf.log(y) + (1 - np.array(yData)) * tf.log(1 - y))"
   ]
  },
  {
   "cell_type": "markdown",
   "id": "8c915685",
   "metadata": {},
   "source": [
    "오차를 최소로 하는 값을 찾는다."
   ]
  },
  {
   "cell_type": "code",
   "execution_count": 6,
   "id": "8a477fb6",
   "metadata": {},
   "outputs": [],
   "source": [
    "gradient_descent = tf.train.GradientDescentOptimizer(0.1).minimize(loss)"
   ]
  },
  {
   "cell_type": "markdown",
   "id": "f4802707",
   "metadata": {},
   "source": [
    "학습을 시킨다."
   ]
  },
  {
   "cell_type": "code",
   "execution_count": 9,
   "id": "699b3e52",
   "metadata": {},
   "outputs": [
    {
     "name": "stdout",
     "output_type": "stream",
     "text": [
      "Epoch:      0, loss:    0.4719, 기울기:    0.2604, y절편:   -0.6216\n",
      "Epoch:  50000, loss:    0.0096, 기울기:    3.3844, y절편:  -23.5445\n",
      "Epoch: 100000, loss:    0.0050, 기울기:    4.0555, y절편:  -28.2451\n",
      "Epoch: 150000, loss:    0.0033, 기울기:    4.4564, y절편:  -31.0521\n",
      "Epoch: 200000, loss:    0.0025, 기울기:    4.7427, y절편:  -33.0568\n",
      "Epoch: 250000, loss:    0.0020, 기울기:    4.9655, y절편:  -34.6164\n",
      "Epoch: 300000, loss:    0.0017, 기울기:    5.1478, y절편:  -35.8926\n"
     ]
    }
   ],
   "source": [
    "sess = tf.Session()\n",
    "sess.run(tf.global_variables_initializer())\n",
    "\n",
    "for i in range(300001):\n",
    "    sess.run(gradient_descent)\n",
    "    if i % 50000 == 0:\n",
    "        print('Epoch: {0:6d}, loss: {1:9.4f}, 기울기: {2:9.4f}, y절편: {3:9.4f}'. format(i, sess.run(loss), sess.run(a)[0], sess.run(b)[0]))"
   ]
  },
  {
   "cell_type": "code",
   "execution_count": null,
   "id": "6bb7e4a7",
   "metadata": {},
   "outputs": [],
   "source": []
  },
  {
   "cell_type": "code",
   "execution_count": null,
   "id": "7eca4ce1",
   "metadata": {},
   "outputs": [],
   "source": []
  },
  {
   "cell_type": "code",
   "execution_count": null,
   "id": "6ba3dec3",
   "metadata": {},
   "outputs": [],
   "source": []
  },
  {
   "cell_type": "code",
   "execution_count": null,
   "id": "190e8ca0",
   "metadata": {},
   "outputs": [],
   "source": []
  }
 ],
 "metadata": {
  "kernelspec": {
   "display_name": "Python 3",
   "language": "python",
   "name": "python3"
  },
  "language_info": {
   "codemirror_mode": {
    "name": "ipython",
    "version": 3
   },
   "file_extension": ".py",
   "mimetype": "text/x-python",
   "name": "python",
   "nbconvert_exporter": "python",
   "pygments_lexer": "ipython3",
   "version": "3.6.8"
  }
 },
 "nbformat": 4,
 "nbformat_minor": 5
}
