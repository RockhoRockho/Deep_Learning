{
 "cells": [
  {
   "cell_type": "code",
   "execution_count": 1,
   "id": "9a3b6bc4",
   "metadata": {},
   "outputs": [
    {
     "name": "stdout",
     "output_type": "stream",
     "text": [
      "WARNING:tensorflow:From c:\\python36\\lib\\site-packages\\tensorflow\\python\\compat\\v2_compat.py:101: disable_resource_variables (from tensorflow.python.ops.variable_scope) is deprecated and will be removed in a future version.\n",
      "Instructions for updating:\n",
      "non-resource variables are not supported in the long term\n"
     ]
    }
   ],
   "source": [
    "import warnings\n",
    "warnings.filterwarnings('ignore')\n",
    "import numpy as np\n",
    "import pandas as pd\n",
    "import tensorflow.compat.v1 as tf\n",
    "tf.disable_v2_behavior()"
   ]
  },
  {
   "cell_type": "code",
   "execution_count": 16,
   "id": "ea6297b3",
   "metadata": {},
   "outputs": [],
   "source": [
    "# 학습 데이터를 만든다.\n",
    "data = [[2, 0, 81], [4, 4, 93], [6, 2, 91], [8, 3, 97]] # [공부한 시간(x), 과외 수업 시간(x2), 실제 성적(y)]\n",
    "xData1 = [i[0] for i in data] # 공부한 시간\n",
    "xData2 = [i[1] for i in data] # 과외 수업 시간 성적\n",
    "yData = [i[2] for i in data] # 시험성적 => 실제값"
   ]
  },
  {
   "cell_type": "code",
   "execution_count": 17,
   "id": "e07e4fe3",
   "metadata": {},
   "outputs": [
    {
     "name": "stdout",
     "output_type": "stream",
     "text": [
      "a1: [0.8802271], a2:[5.9778357], b: [3.7284708]\n"
     ]
    }
   ],
   "source": [
    "# 기울기 a1, a2와 y절편 b를 임의로 정한다.\n",
    "# 기울기의 범위는 0 ~ 10 사이이며, y절편의 범위는 0 ~ 100 사이에서 임의로 변하게 한다.\n",
    "a1 = tf.Variable(tf.random_uniform([1], 0, 10, dtype=tf.float32))\n",
    "a2 = tf.Variable(tf.random_uniform([1], 0, 10, dtype=tf.float32))\n",
    "b = tf.Variable(tf.random_uniform([1], 0, 10, dtype=tf.float32))\n",
    "sess = tf.Session()\n",
    "sess.run(tf.global_variables_initializer())\n",
    "print('a1: {}, a2:{}, b: {}'.format(sess.run(a1), sess.run(a2), sess.run(b)))"
   ]
  },
  {
   "cell_type": "code",
   "execution_count": 21,
   "id": "59d50ac6",
   "metadata": {},
   "outputs": [],
   "source": [
    "# 예측 성적(y)을 얻기위한 가설(수식)을 만든다.\n",
    "y = a1 * xData1 + a2 * xData2 + b\n",
    "# tensorflow에서 실행할 RMSE(평균 제곱근 오차) 수식(오차(비용) 함수)을 만든다.\n",
    "rmse = tf.sqrt(tf.reduce_mean(tf.square(y - yData)))\n",
    "# 경사 하강법 알고리즘을 이용해서 RMSE를 최소로 하는 값을 찾는 수식을 만든다.\n",
    "gradient_descent = tf.train.GradientDescentOptimizer(0.1).minimize(rmse)"
   ]
  },
  {
   "cell_type": "code",
   "execution_count": 22,
   "id": "135354e6",
   "metadata": {},
   "outputs": [
    {
     "name": "stdout",
     "output_type": "stream",
     "text": [
      "Epoch:    0, RMSE: 39.9704, 기울기1:  9.4960, 기울기2:  1.5465,  y절편:  3.5213\n",
      "Epoch:  200, RMSE: 26.6006, 기울기1: 11.5644, 기울기2:  4.5758,  y절편: 11.9461\n",
      "Epoch:  400, RMSE: 23.4022, 기울기1: 10.1123, 기울기2:  4.8590,  y절편: 19.8035\n",
      "Epoch:  600, RMSE: 20.2266, 기울기1:  8.8546, 기울기2:  4.7098,  y절편: 27.6712\n",
      "Epoch:  800, RMSE: 17.0544, 기울기1:  7.6735, 기울기2:  4.3905,  y절편: 35.5419\n",
      "Epoch: 1000, RMSE: 13.8828, 기울기1:  6.5184, 기울기2:  4.0138,  y절편: 43.4131\n",
      "Epoch: 1200, RMSE: 10.7118, 기울기1:  5.3705, 기울기2:  3.6216,  y절편: 51.2839\n",
      "Epoch: 1400, RMSE:  7.5421, 기울기1:  4.2242, 기울기2:  3.2263,  y절편: 59.1530\n",
      "Epoch: 1600, RMSE:  4.3764, 기울기1:  3.0788, 기울기2:  2.8308,  y절편: 67.0172\n",
      "Epoch: 1800, RMSE:  1.5819, 기울기1:  1.7961, 기울기2:  2.3723,  y절편: 74.8082\n",
      "Epoch: 2000, RMSE:  1.8369, 기울기1:  1.3095, 기울기2:  2.1909,  y절편: 77.2797\n",
      "Epoch: 2200, RMSE:  1.8370, 기울기1:  1.2438, 기울기2:  2.1680,  y절편: 77.7178\n",
      "Epoch: 2400, RMSE:  1.8370, 기울기1:  1.2325, 기울기2:  2.1641,  y절편: 77.7951\n",
      "Epoch: 2600, RMSE:  1.8370, 기울기1:  1.2305, 기울기2:  2.1634,  y절편: 77.8087\n",
      "Epoch: 2800, RMSE:  1.8370, 기울기1:  1.2302, 기울기2:  2.1633,  y절편: 77.8112\n",
      "Epoch: 3000, RMSE:  1.8371, 기울기1:  1.2301, 기울기2:  2.1633,  y절편: 77.8113\n"
     ]
    }
   ],
   "source": [
    "import time\n",
    "sess = tf.Session()\n",
    "sess.run(tf.global_variables_initializer())\n",
    "\n",
    "for i in range(3001):\n",
    "    sess.run(gradient_descent)\n",
    "    if i % 200 == 0:\n",
    "        print('Epoch: {0:4d}, RMSE: {1:7.4f}, 기울기1: {2:7.4f}, 기울기2: {3:7.4f},  y절편: {4:7.4f}'.format(i, sess.run(rmse), \n",
    "                                                                                                     sess.run(a1)[0], sess.run(a2)[0], sess.run(b)[0]))\n",
    "        time.sleep(0.25)"
   ]
  },
  {
   "cell_type": "code",
   "execution_count": null,
   "id": "10fa35b3",
   "metadata": {},
   "outputs": [],
   "source": []
  }
 ],
 "metadata": {
  "kernelspec": {
   "display_name": "Python 3",
   "language": "python",
   "name": "python3"
  },
  "language_info": {
   "codemirror_mode": {
    "name": "ipython",
    "version": 3
   },
   "file_extension": ".py",
   "mimetype": "text/x-python",
   "name": "python",
   "nbconvert_exporter": "python",
   "pygments_lexer": "ipython3",
   "version": "3.6.8"
  }
 },
 "nbformat": 4,
 "nbformat_minor": 5
}
