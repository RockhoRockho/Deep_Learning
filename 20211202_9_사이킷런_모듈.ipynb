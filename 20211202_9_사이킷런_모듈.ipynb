{
  "nbformat": 4,
  "nbformat_minor": 0,
  "metadata": {
    "colab": {
      "name": "9_사이킷런 모듈.ipynb",
      "provenance": [],
      "collapsed_sections": [],
      "include_colab_link": true
    },
    "kernelspec": {
      "name": "python3",
      "display_name": "Python 3"
    },
    "language_info": {
      "name": "python"
    }
  },
  "cells": [
    {
      "cell_type": "markdown",
      "metadata": {
        "id": "view-in-github",
        "colab_type": "text"
      },
      "source": [
        "<a href=\"https://colab.research.google.com/github/RockhoRockho/Deep_Learning_Tensorflow/blob/main/20211202_9_%EC%82%AC%EC%9D%B4%ED%82%B7%EB%9F%B0_%EB%AA%A8%EB%93%88.ipynb\" target=\"_parent\"><img src=\"https://colab.research.google.com/assets/colab-badge.svg\" alt=\"Open In Colab\"/></a>"
      ]
    },
    {
      "cell_type": "markdown",
      "metadata": {
        "id": "KqQJp31IpNse"
      },
      "source": [
        "# **Scikit-learn 모듈**\n"
      ]
    },
    {
      "cell_type": "markdown",
      "metadata": {
        "id": "BDB92IKapvUQ"
      },
      "source": [
        "* https://scikit-learn.org\n",
        "* 대표적인 파이썬 머신러닝, 딥러닝 프레임워크\n",
        "* 다양한 샘플 데이터를 제공\n",
        "* 결과를 검증하는 기능을 제공\n",
        "* BSD 라이선스이기 때문에 무료로 사용 및 배포가 가능\n",
        "* 알고리즘 치트 시트(https://scikit-learn.org/stable/tutorial/machine_learning_map/)"
      ]
    },
    {
      "cell_type": "markdown",
      "metadata": {
        "id": "BHOz3iUEqudB"
      },
      "source": [
        "### **LinearSVC**"
      ]
    },
    {
      "cell_type": "markdown",
      "metadata": {
        "id": "ZOC1B4c_qzzL"
      },
      "source": [
        "* 클래스를 구분으로 하는 분류 문제에서, 각 클래스를 잘 구분하는 선을 그려주는 방식을 사용하는 알고리즘\n",
        "* 지도학습 알고리즘을 사용하는 학습 전용 데이터와 결과 전용 데이터를 함께 가지고 있어야 사용할 수 있음\n"
      ]
    },
    {
      "cell_type": "code",
      "metadata": {
        "id": "N7bnIVa9rQ18"
      },
      "source": [
        "from sklearn.svm import LinearSVC\n",
        "from sklearn.metrics import accuracy_score\n",
        "\n",
        "learn_data = [[0,0], [1,0], [0,1], [1,1]]\n",
        "learn_label = [0, 0, 0, 1]"
      ],
      "execution_count": null,
      "outputs": []
    },
    {
      "cell_type": "code",
      "metadata": {
        "colab": {
          "base_uri": "https://localhost:8080/"
        },
        "id": "h3NrC0Y9r86i",
        "outputId": "5a44a39f-e556-4ce4-ab66-78717a387a96"
      },
      "source": [
        "# 사이킷런 알고리즘을 선택\n",
        "clf = LinearSVC()\n",
        "\n",
        "# 학습 전용 데이터와 결과를 학습\n",
        "# fit() : 학습 데이터와 배열과 결과 데이터 배열을 매개변수로 지정\n",
        "clf.fit(learn_data, learn_label)\n",
        "\n",
        "# 테스트 데이터로 예측\n",
        "# predict() : 테스트 데이터를 매개변수로 전달하여 예측 결과를 반환\n",
        "test_data = [[0, 0], [1, 0], [0, 1], [1, 1]]\n",
        "test_label = clf.predict(test_data)\n",
        "\n",
        "# 예측 결과를 평가\n",
        "print(test_data, \"의 예측 결과 : \", test_label)\n",
        "print(\"정답률 : \", accuracy_score([0, 0, 0, 1], test_label))"
      ],
      "execution_count": null,
      "outputs": [
        {
          "output_type": "stream",
          "name": "stdout",
          "text": [
            "[[0, 0], [1, 0], [0, 1], [1, 1]] 의 예측 결과 :  [0 0 0 1]\n",
            "정답률 :  1.0\n"
          ]
        }
      ]
    },
    {
      "cell_type": "code",
      "metadata": {
        "id": "2DDX7eRZtYRN"
      },
      "source": [
        ""
      ],
      "execution_count": null,
      "outputs": []
    }
  ]
}