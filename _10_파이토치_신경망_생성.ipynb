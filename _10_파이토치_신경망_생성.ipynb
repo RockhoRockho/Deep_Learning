{
  "nbformat": 4,
  "nbformat_minor": 0,
  "metadata": {
    "colab": {
      "name": "_10 파이토치 신경망 생성.ipynb",
      "provenance": [],
      "collapsed_sections": [],
      "include_colab_link": true
    },
    "kernelspec": {
      "name": "python3",
      "display_name": "Python 3"
    }
  },
  "cells": [
    {
      "cell_type": "markdown",
      "metadata": {
        "id": "view-in-github",
        "colab_type": "text"
      },
      "source": [
        "<a href=\"https://colab.research.google.com/github/RockhoRockho/Deep_Learning/blob/main/_10_%ED%8C%8C%EC%9D%B4%ED%86%A0%EC%B9%98_%EC%8B%A0%EA%B2%BD%EB%A7%9D_%EC%83%9D%EC%84%B1.ipynb\" target=\"_parent\"><img src=\"https://colab.research.google.com/assets/colab-badge.svg\" alt=\"Open In Colab\"/></a>"
      ]
    },
    {
      "cell_type": "markdown",
      "metadata": {
        "id": "cNIhNfg44knT"
      },
      "source": [
        "# 신경망 생성\n",
        "- `torch.nn` 패키지 사용\n",
        "\n",
        "- `nn.Module`을 상속받고, 해당 모듈은 계층과 `output`을 반환하는 `forward`메소드를 포함\n",
        "\n",
        "- 파이토치에서 신경망 생성을 위한 기본 틀\n",
        "\n",
        "      1. class Net(nn.Module):\n",
        "\n",
        "           def __init__(self):\n",
        "               super(Net, self).__init__()\n",
        "\n",
        "      2. class MyModel(nn.Module):\n",
        "\n",
        "            def __init__(self):\n",
        "                super(MyModel, self).__init__()\n",
        "\n",
        "- `conv2d` 레이어를 쌓을 때, 필터의 갯수를 계산하고 `in_channels`에 넣어줘야함\n",
        "\n",
        "        "
      ]
    },
    {
      "cell_type": "markdown",
      "metadata": {
        "id": "vVP0IKPG5XCl"
      },
      "source": [
        "## 신경망 정의"
      ]
    },
    {
      "cell_type": "code",
      "metadata": {
        "id": "EtObfSjK4gzu"
      },
      "source": [
        "import torch\n",
        "import torch.nn as nn\n",
        "import torch.nn.functional as F"
      ],
      "execution_count": 1,
      "outputs": []
    },
    {
      "cell_type": "code",
      "metadata": {
        "id": "TrkSO0qj5aWu",
        "colab": {
          "base_uri": "https://localhost:8080/"
        },
        "outputId": "dedc953f-3447-42df-92f0-73cd603b8e6a"
      },
      "source": [
        "class Net(nn.Module):\n",
        "\n",
        "  def __init__(self):\n",
        "    super(Net, self).__init__()\n",
        "\n",
        "    self.conv1 = nn.Conv2d(1, 6, 3)\n",
        "    self.conv2 = nn.Conv2d(6, 16, 3)\n",
        "    self.fc1 = nn.Linear(16 * 6 * 6, 120)\n",
        "    self.fc2 = nn.Linear(120, 84)\n",
        "    self.fc3 = nn.Linear(84, 10)\n",
        "\n",
        "  def forward(self, x):\n",
        "    x = F.max_pool2d(F.relu(self.conv1(x)), (2, 2))\n",
        "    x = F.max_pool2d(F.relu(self.conv2(x)), 2)\n",
        "    x = x.view(-1, self.num_flat_features(x))\n",
        "    x = F.relu(self.fc1(x))\n",
        "    x = F.relu(self.fc2(x))\n",
        "    x = self.fc3(x)\n",
        "    return x\n",
        "\n",
        "  def num_flat_features(self, x):\n",
        "    size = x.size()[1:]\n",
        "    num_features = 1\n",
        "    for s in size:\n",
        "      num_features *= s\n",
        "\n",
        "    return num_features\n",
        "\n",
        "net = Net()\n",
        "print(net)"
      ],
      "execution_count": 3,
      "outputs": [
        {
          "output_type": "stream",
          "name": "stdout",
          "text": [
            "Net(\n",
            "  (conv1): Conv2d(1, 6, kernel_size=(3, 3), stride=(1, 1))\n",
            "  (conv2): Conv2d(6, 16, kernel_size=(3, 3), stride=(1, 1))\n",
            "  (fc1): Linear(in_features=576, out_features=120, bias=True)\n",
            "  (fc2): Linear(in_features=120, out_features=84, bias=True)\n",
            "  (fc3): Linear(in_features=84, out_features=10, bias=True)\n",
            ")\n"
          ]
        }
      ]
    },
    {
      "cell_type": "markdown",
      "metadata": {
        "id": "D_pSqGTjN4Ey"
      },
      "source": [
        "# 선형회귀(Linear Regression) 모델 생성\n",
        "- 코드 출처 : https://yceffort.kr/2019/02/19/pytorch-02-linear-regression/"
      ]
    },
    {
      "cell_type": "markdown",
      "metadata": {
        "id": "yFV6Qz3wSqOY"
      },
      "source": [
        "## modules import"
      ]
    },
    {
      "cell_type": "code",
      "metadata": {
        "id": "9Pp_ZXMgN48N"
      },
      "source": [
        "import torch\n",
        "import torch.nn as nn\n",
        "import torch.optim as optim\n",
        "\n",
        "import numpy as np\n",
        "import matplotlib.pyplot as plt\n",
        "plt.style.use('seaborn-white')"
      ],
      "execution_count": 4,
      "outputs": []
    },
    {
      "cell_type": "markdown",
      "metadata": {
        "id": "JApiW41-TQbA"
      },
      "source": [
        "## 데이터 생성 및 회귀식 설정"
      ]
    },
    {
      "cell_type": "code",
      "metadata": {
        "id": "DReJzgyCXGxq",
        "colab": {
          "base_uri": "https://localhost:8080/",
          "height": 276
        },
        "outputId": "f1cb9bdf-8165-41b4-8fa2-91f6ab195bbd"
      },
      "source": [
        "X = torch.randn(100, 1)*10\n",
        "y = X + 3 * torch.randn(100, 1)\n",
        "plt.plot(X.numpy(), y.numpy(), 'o')\n",
        "plt.xlabel('x')\n",
        "plt.ylabel('y')\n",
        "plt.grid()\n",
        "plt.show()"
      ],
      "execution_count": 6,
      "outputs": [
        {
          "output_type": "display_data",
          "data": {
            "image/png": "[encoded data removed]",
            "text/plain": [
              "<Figure size 432x288 with 1 Axes>"
            ]
          },
          "metadata": {}
        }
      ]
    },
    {
      "cell_type": "markdown",
      "metadata": {
        "id": "GaEsvoUHSM9p"
      },
      "source": [
        "## 신경망 구성"
      ]
    },
    {
      "cell_type": "code",
      "metadata": {
        "id": "v8K_nLImN43l"
      },
      "source": [
        "class LinearRegressionModel(nn.Module):\n",
        "  def __init__(self):\n",
        "    super(LinearRegressionModel, self).__init__()\n",
        "    self.linear = nn.Linear(1, 1)\n",
        "\n",
        "  def forward(self, x):\n",
        "    pred = self.linear(x)\n",
        "    return pred"
      ],
      "execution_count": 14,
      "outputs": []
    },
    {
      "cell_type": "markdown",
      "metadata": {
        "id": "gWHJoDoOSPKD"
      },
      "source": [
        "## 모델 생성 및 파라미터 확인"
      ]
    },
    {
      "cell_type": "code",
      "metadata": {
        "id": "lFWWRmfkN405",
        "colab": {
          "base_uri": "https://localhost:8080/"
        },
        "outputId": "e72bbe0e-023d-4d9f-96fb-b180b5a01998"
      },
      "source": [
        "from torch.nn.modules.linear import Linear\n",
        "torch.manual_seed(111)\n",
        "\n",
        "model = LinearRegressionModel()\n",
        "print(model)"
      ],
      "execution_count": 15,
      "outputs": [
        {
          "output_type": "stream",
          "name": "stdout",
          "text": [
            "LinearRegressionModel(\n",
            "  (linear): Linear(in_features=1, out_features=1, bias=True)\n",
            ")\n"
          ]
        }
      ]
    },
    {
      "cell_type": "code",
      "metadata": {
        "id": "-7vBaKDhQWGO",
        "colab": {
          "base_uri": "https://localhost:8080/"
        },
        "outputId": "cdf5344d-ab4d-44ce-f405-d355cc64a2de"
      },
      "source": [
        "print(list(model.parameters()))"
      ],
      "execution_count": 16,
      "outputs": [
        {
          "output_type": "stream",
          "name": "stdout",
          "text": [
            "[Parameter containing:\n",
            "tensor([[0.4311]], requires_grad=True), Parameter containing:\n",
            "tensor([0.8280], requires_grad=True)]\n"
          ]
        }
      ]
    },
    {
      "cell_type": "code",
      "metadata": {
        "id": "wpvOJTwXPaqg",
        "colab": {
          "base_uri": "https://localhost:8080/",
          "height": 262
        },
        "outputId": "1b7ee8a7-4506-4fd4-8188-ccaf7de1464c"
      },
      "source": [
        "w, b = model.parameters()\n",
        "def get_params():\n",
        "  return w[0][0].item(), b[0].item()\n",
        "\n",
        "def plot_fit(title):\n",
        "  plt.title = title\n",
        "  w1, b1 = get_params()\n",
        "  x1 = np.array([-30, 30])\n",
        "  y1 = w1 * x1 + b1\n",
        "  plt.plot(x1, y1, 'r')\n",
        "  plt.scatter(X, y)\n",
        "  plt.show()\n",
        "\n",
        "plot_fit('Initial Model')"
      ],
      "execution_count": 17,
      "outputs": [
        {
          "output_type": "display_data",
          "data": {
            "image/png": "[encoded data removed]",
            "text/plain": [
              "<Figure size 432x288 with 1 Axes>"
            ]
          },
          "metadata": {}
        }
      ]
    },
    {
      "cell_type": "markdown",
      "metadata": {
        "id": "Z9H7zLFWSGhX"
      },
      "source": [
        "## 손실함수와 옵티마이저"
      ]
    },
    {
      "cell_type": "code",
      "metadata": {
        "id": "iW4WHvMOPgtX"
      },
      "source": [
        "criterion = nn.MSELoss()\n",
        "optimizer = optim.SGD(model.parameters(), lr=0.001)"
      ],
      "execution_count": 18,
      "outputs": []
    },
    {
      "cell_type": "markdown",
      "metadata": {
        "id": "ogojTAwDSRrW"
      },
      "source": [
        "## 모델 학습"
      ]
    },
    {
      "cell_type": "code",
      "metadata": {
        "id": "UkDTmErfQdiU",
        "colab": {
          "base_uri": "https://localhost:8080/"
        },
        "outputId": "d68aa793-ecb3-451f-e6e5-2e5f08e0b27d"
      },
      "source": [
        "epochs = 100\n",
        "losses = []\n",
        "for epoch in range(epochs):\n",
        "  optimizer.zero_grad()\n",
        "\n",
        "  y_pred = model(X)\n",
        "  loss = criterion(y_pred, y)\n",
        "  losses.append(loss)\n",
        "  loss.backward()\n",
        "\n",
        "  optimizer.step()\n",
        "\n",
        "  if epoch % 10 == 0:\n",
        "    print('Epoch: {:3d}\\tloss: {:.4f}'.format(epoch+1, loss))"
      ],
      "execution_count": 19,
      "outputs": [
        {
          "output_type": "stream",
          "name": "stdout",
          "text": [
            "Epoch:   1\tloss: 43.3668\n",
            "Epoch:  11\tloss: 9.7959\n",
            "Epoch:  21\tloss: 9.4973\n",
            "Epoch:  31\tloss: 9.4523\n",
            "Epoch:  41\tloss: 9.4109\n",
            "Epoch:  51\tloss: 9.3712\n",
            "Epoch:  61\tloss: 9.3330\n",
            "Epoch:  71\tloss: 9.2963\n",
            "Epoch:  81\tloss: 9.2610\n",
            "Epoch:  91\tloss: 9.2272\n"
          ]
        }
      ]
    },
    {
      "cell_type": "markdown",
      "metadata": {
        "id": "1aYA45MxSeux"
      },
      "source": [
        "## 시각화"
      ]
    },
    {
      "cell_type": "code",
      "metadata": {
        "id": "2tihOUtGQdl0",
        "colab": {
          "base_uri": "https://localhost:8080/",
          "height": 279
        },
        "outputId": "aedc530d-0869-4044-dc05-539af037dc0e"
      },
      "source": [
        "plt.plot(range(epochs), losses)\n",
        "plt.ylabel('Loss')\n",
        "plt.xlabel('Epoch')\n",
        "plt.show()"
      ],
      "execution_count": 20,
      "outputs": [
        {
          "output_type": "display_data",
          "data": {
            "image/png": "[encoded data removed]",
            "text/plain": [
              "<Figure size 432x288 with 1 Axes>"
            ]
          },
          "metadata": {}
        }
      ]
    },
    {
      "cell_type": "code",
      "metadata": {
        "id": "8TofKjJDQdx7",
        "colab": {
          "base_uri": "https://localhost:8080/",
          "height": 262
        },
        "outputId": "d2a7d108-3b7e-4479-b9bf-a13579dddc1c"
      },
      "source": [
        "plot_fit(\"Trained Model\")"
      ],
      "execution_count": 22,
      "outputs": [
        {
          "output_type": "display_data",
          "data": {
            "image/png": "[encoded data removed]",
            "text/plain": [
              "<Figure size 432x288 with 1 Axes>"
            ]
          },
          "metadata": {}
        }
      ]
    }
  ]
}