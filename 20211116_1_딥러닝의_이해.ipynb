{
  "nbformat": 4,
  "nbformat_minor": 0,
  "metadata": {
    "colab": {
      "name": "20211116_1_딥러닝의 이해.ipynb",
      "private_outputs": true,
      "provenance": [],
      "authorship_tag": "ABX9TyOgQvWVWV8KTEpVb82yD5v0",
      "include_colab_link": true
    },
    "kernelspec": {
      "name": "python3",
      "display_name": "Python 3"
    },
    "language_info": {
      "name": "python"
    }
  },
  "cells": [
    {
      "cell_type": "markdown",
      "metadata": {
        "id": "view-in-github",
        "colab_type": "text"
      },
      "source": [
        "<a href=\"https://colab.research.google.com/github/RockhoRockho/Deep_Learning_Tensorflow/blob/main/20211116_1_%EB%94%A5%EB%9F%AC%EB%8B%9D%EC%9D%98_%EC%9D%B4%ED%95%B4.ipynb\" target=\"_parent\"><img src=\"https://colab.research.google.com/assets/colab-badge.svg\" alt=\"Open In Colab\"/></a>"
      ]
    },
    {
      "cell_type": "markdown",
      "metadata": {
        "id": "llqKDlOOSkck"
      },
      "source": [
        "# **1. Perceptron(Artificail Neural Network)**"
      ]
    },
    {
      "cell_type": "markdown",
      "metadata": {
        "id": "jzBwNl76Sxdr"
      },
      "source": [
        "### **1-1. Neuron**"
      ]
    },
    {
      "cell_type": "markdown",
      "metadata": {
        "id": "PJkoJxz1S7Zi"
      },
      "source": [
        "![이미지](https://encrypted-tbn0.gstatic.com/images?q=tbn:ANd9GcT2Qpc8keqOVqp1bC2xfCy-AAOUl14wF4zsw8t3lmvqDdjFEhZ6DYCcwrh9RdnqcSlS4m0&usqp=CAU)\n",
        "\n",
        "- 수상돌기 : 다른 뉴런들로부터 신호를 받아 특정 조건을 만족하면 축삭돌기로 보냄\n",
        "- 축삭돌기 : 전달받은 신호를 다른 뉴런으로 전달"
      ]
    },
    {
      "cell_type": "markdown",
      "metadata": {
        "id": "bFmYcqSTToEr"
      },
      "source": [
        "![이미지](https://mblogthumb-phinf.pstatic.net/MjAxOTExMDNfMjg0/MDAxNTcyNzc4OTUzODQ5.IfBEukzXSGpKSoO8kT2AdSQxKHeqhHfv-xTGQjndyiog.wuEb6AngEQELF5yd-wxMWKCZgzdaON3sX4VRjJTp6Ugg.PNG.dkdkong/%EA%B0%9C_%EC%8B%A4%ED%97%98.png?type=w2)\n",
        "\n",
        "* 파블로브의 개 실험\n",
        "> 먹이를 봤을 때 반응하는 뉴런 -> 시냅스(강함) -> 침샘분비 뉴런  \n",
        "> 종을 쳤을 때 반응하는 뉴런 -> 시냅스(약함) -> 침샘분비 뉴런  \n",
        "\n",
        "### **이것을 모방해서 만든 인공신경망 -> Perceptron**"
      ]
    },
    {
      "cell_type": "markdown",
      "metadata": {
        "id": "K3JrQFEDUr9y"
      },
      "source": [
        "# **목표 : 적절한 weight를 찾는게 Nerual Network에서 핵심** "
      ]
    },
    {
      "cell_type": "markdown",
      "metadata": {
        "id": "91kEhxh5Xh67"
      },
      "source": [
        "## **Deep Neural Network : layer 수가 최소 2개 이상인 network**"
      ]
    },
    {
      "cell_type": "markdown",
      "metadata": {
        "id": "4YJ9ov3dZt6T"
      },
      "source": [
        "### **1-2. Training Neural Networks**"
      ]
    },
    {
      "cell_type": "markdown",
      "metadata": {
        "id": "nqlKk_SIeQ_t"
      },
      "source": [
        "Neural Network이 얼마나 잘하는지 or 얼마나 못하는지에 대한 척도가 필요함\n",
        "- Loss Function / Cost Function"
      ]
    },
    {
      "cell_type": "markdown",
      "metadata": {
        "id": "Wf9Ja7Vdedgc"
      },
      "source": [
        "# loss 값을 줄이는 방법 : 미분(접선의 기울기) 이용"
      ]
    },
    {
      "cell_type": "markdown",
      "metadata": {
        "id": "tufWE6s_gLuk"
      },
      "source": [
        "### **1-3. 딥러닝의 키포인트**"
      ]
    },
    {
      "cell_type": "markdown",
      "metadata": {
        "id": "omTLc9D2gUYU"
      },
      "source": [
        "* 데이터\n",
        "* 모델(CNN, RNN, 트렌스포머, 멀티레이어 퍼셉트론..)\n",
        "* loss function\n",
        "* 알고리즘(Gradient Descent를 기초로 많은 알고리즘이 만들어짐)"
      ]
    },
    {
      "cell_type": "code",
      "metadata": {
        "id": "Dfh3UDMNg1qE"
      },
      "source": [
        ""
      ],
      "execution_count": null,
      "outputs": []
    }
  ]
}