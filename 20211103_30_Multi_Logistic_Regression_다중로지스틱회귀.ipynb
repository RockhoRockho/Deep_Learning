{
 "cells": [
  {
   "cell_type": "code",
   "execution_count": 1,
   "id": "7229bb9d",
   "metadata": {},
   "outputs": [
    {
     "name": "stdout",
     "output_type": "stream",
     "text": [
      "WARNING:tensorflow:From c:\\python36\\lib\\site-packages\\tensorflow\\python\\compat\\v2_compat.py:101: disable_resource_variables (from tensorflow.python.ops.variable_scope) is deprecated and will be removed in a future version.\n",
      "Instructions for updating:\n",
      "non-resource variables are not supported in the long term\n"
     ]
    }
   ],
   "source": [
    "import warnings\n",
    "warnings.filterwarnings('ignore')\n",
    "import numpy as np\n",
    "import pandas as pd\n",
    "import tensorflow.compat.v1 as tf\n",
    "tf.disable_v2_behavior()"
   ]
  },
  {
   "cell_type": "code",
   "execution_count": 2,
   "id": "d28cda56",
   "metadata": {},
   "outputs": [
    {
     "name": "stdout",
     "output_type": "stream",
     "text": [
      "[[2, 3], [4, 3], [6, 4], [8, 6], [10, 7], [12, 8], [14, 9]]\n",
      "<class 'list'>\n",
      "[[ 2  3]\n",
      " [ 4  3]\n",
      " [ 6  4]\n",
      " [ 8  6]\n",
      " [10  7]\n",
      " [12  8]\n",
      " [14  9]]\n",
      "<class 'numpy.ndarray'>\n"
     ]
    }
   ],
   "source": [
    "temp = [[2, 3], [4, 3], [6, 4], [8, 6], [10, 7], [12, 8], [14, 9]]\n",
    "print(temp)\n",
    "print(type(temp))\n",
    "\n",
    "xData = np.array(temp)\n",
    "print(xData)\n",
    "print(type(xData))"
   ]
  },
  {
   "cell_type": "code",
   "execution_count": 3,
   "id": "101d2345",
   "metadata": {},
   "outputs": [
    {
     "name": "stdout",
     "output_type": "stream",
     "text": [
      "[0, 0, 0, 1, 1, 1, 1]\n",
      "<class 'list'>\n",
      "[0 0 0 1 1 1 1]\n",
      "<class 'numpy.ndarray'>\n",
      "[[0]\n",
      " [0]\n",
      " [0]\n",
      " [1]\n",
      " [1]\n",
      " [1]\n",
      " [1]]\n",
      "<class 'numpy.ndarray'>\n"
     ]
    }
   ],
   "source": [
    "# yData => [합격 여부] => 실제값, 0: 불합격, 1:합격\n",
    "temp = [0, 0, 0, 1, 1, 1, 1]\n",
    "print(temp)\n",
    "print(type(temp))\n",
    "\n",
    "yData = np.array(temp)\n",
    "print(yData)\n",
    "print(type(yData))\n",
    "# reshape() 함수는 데이터는 그대로 유지한 채 배열의 형태(차원, 구조)를 변경한다. 1행 7열 넘파이 배열 => 7행 1열 배열\n",
    "yData = np.array(temp).reshape(7, 1)\n",
    "print(yData)\n",
    "print(type(yData))"
   ]
  },
  {
   "cell_type": "markdown",
   "id": "27df13b8",
   "metadata": {},
   "source": [
    "xData와 yData를 저장할 placeholder를 만든다."
   ]
  },
  {
   "cell_type": "code",
   "execution_count": 4,
   "id": "671c1457",
   "metadata": {},
   "outputs": [],
   "source": [
    "# placeholder에 넘파이 배열을 대입하는 경우 shape 속성을 이용해 딥되는 넘파이 배열의 차원을 지정해줘야 한다.\n",
    "# [None, 2] => placeholder에 대입되는 넘파이 배열의 행의 개수는 몇개라도 상관이 없고 열의 개수는 무조건 2개이다.\n",
    "X = tf.placeholder(dtype=tf.float32, shape=[None, 2]) # xData가 대입될 placeholder\n",
    "Y = tf.placeholder(dtype=tf.float32, shape=[None, 1]) # yData가 대입될 placeholder"
   ]
  },
  {
   "cell_type": "markdown",
   "id": "18b10015",
   "metadata": {},
   "source": [
    "기울기(가중치) a와 y절편(바이어스) b를 임의로 정한다."
   ]
  },
  {
   "cell_type": "code",
   "execution_count": 5,
   "id": "eb1532ae",
   "metadata": {},
   "outputs": [
    {
     "name": "stdout",
     "output_type": "stream",
     "text": [
      "a: [[0.5354413]\n",
      " [0.7351754]]\n",
      "b: [0.29153824]\n",
      "a1: [0.5354413], a2: [0.7351754], b: [0.29153824]\n"
     ]
    }
   ],
   "source": [
    "a = tf.Variable(tf.random_uniform([2, 1]), dtype=tf.float32) # 난수를 2행 1열로 만듦\n",
    "b = tf.Variable(tf.random_uniform([1]), dtype=tf.float32)\n",
    "\n",
    "sess = tf.Session()\n",
    "sess.run(tf.global_variables_initializer())\n",
    "print('a: {}'.format(sess.run(a)))\n",
    "print('b: {}'.format(sess.run(b)))\n",
    "print('a1: {}, a2: {}, b: {}'.format(sess.run(a)[0], sess.run(a)[1], sess.run(b)))"
   ]
  },
  {
   "cell_type": "markdown",
   "id": "0c0e522c",
   "metadata": {},
   "source": [
    "시그모이드 방정식, 오차 함수, 경사 하강"
   ]
  },
  {
   "cell_type": "code",
   "execution_count": 6,
   "id": "6bc19e18",
   "metadata": {},
   "outputs": [],
   "source": [
    "# y = 1 / (1 + np.e ** -(a * xData + b))\n",
    "# sigmoid(): tensorflow에서 시그모이드 방정식을 계산하는 함수\n",
    "# matmul(): tensorflow에서 행렬의 곱셈을 계산하는 함수\n",
    "y = tf.sigmoid(tf.matmul(X, a) + b) # 시그모이드 방정식]\n",
    "loss = -tf.reduce_mean(Y * tf.log(y) + (1 - Y) * tf.log(1 - y)) # 오차 함수\n",
    "gradient_descent = tf.train.GradientDescentOptimizer(0.1).minimize(loss) # 경사 하강"
   ]
  },
  {
   "cell_type": "markdown",
   "id": "cd5f7de9",
   "metadata": {},
   "source": [
    "sigmoid() 함수의 실행 결과(y)가 0.5 이상이면 1을 0.5 미만이면 0을 리턴시킨다."
   ]
  },
  {
   "cell_type": "code",
   "execution_count": 7,
   "id": "40139c97",
   "metadata": {},
   "outputs": [
    {
     "name": "stdout",
     "output_type": "stream",
     "text": [
      "0\n",
      "1\n"
     ]
    }
   ],
   "source": [
    "sess = tf.Session()\n",
    "# cast(캐스팅할 데이터, dtype=캐스팅될 데이터 타입): tensorflow에서 형변환을 하는 함수\n",
    "# predicted= tf.cast(tf.constant([1.9, 2.1]), dtype=tf.int32)\n",
    "# print(sess.run(predicted)) # [1 2]\n",
    "\n",
    "# cast() 함수의 캐스팅할 데이터가 boolean 타입이면 True는 1로 False는 0으로 캐스팅 된다.\n",
    "predicted = tf.cast(0.4 >= 0.5, dtype=tf.int32)\n",
    "print(sess.run(predicted))\n",
    "predicted = tf.cast(0.5 >= 0.5, dtype=tf.int32)\n",
    "print(sess.run(predicted))"
   ]
  },
  {
   "cell_type": "markdown",
   "id": "1cc338f4",
   "metadata": {},
   "source": [
    "sigmoid() 함수를 실행한 예상값을 계산한다."
   ]
  },
  {
   "cell_type": "code",
   "execution_count": 8,
   "id": "0d9bb77b",
   "metadata": {},
   "outputs": [],
   "source": [
    "predicted = tf.cast(y >= 0.5, dtype=tf.float32) # 예측값, sigmoid() 함수를 실행한 결과(y)를 0 또는 1로 변환한다.\n",
    "# 예측값이 실제값과 일치하는 정도(정확도)를 계산한다.\n",
    "# equal(): tensorflow에서 인수로 지정된 값이 같으면 True, 다르면 False를 리턴하는 함수\n",
    "# equal() 함수로 예측값(predicted)과 실제값(Y)이 같은가 비교한 후 True 또는 False 결과를 1 또는 0으로 캐스팅하고 시행된 전체\n",
    "# 결과의 평균을 계산한다.\n",
    "accuracy = tf.reduce_mean(tf.cast(tf.equal(predicted, Y), dtype=tf.float32))"
   ]
  },
  {
   "cell_type": "markdown",
   "id": "70c49776",
   "metadata": {},
   "source": [
    "학습을 시킨다."
   ]
  },
  {
   "cell_type": "code",
   "execution_count": 49,
   "id": "d54385d9",
   "metadata": {},
   "outputs": [
    {
     "name": "stdout",
     "output_type": "stream",
     "text": [
      "Epoch:    0, a1:   0.49987, a2:   0.15842, b:   0.26664, loss:   1.71525\n",
      "Epoch:  300, a1:   0.83791, a2:  -0.57984, b:  -2.46319, loss:   0.26494\n",
      "Epoch:  600, a1:   0.82679, a2:  -0.29565, b:  -3.91444, loss:   0.19091\n",
      "Epoch:  900, a1:   0.73458, a2:   0.03382, b:  -4.97138, loss:   0.14951\n",
      "Epoch: 1200, a1:   0.63044, a2:   0.34034, b:  -5.80963, loss:   0.12248\n",
      "Epoch: 1500, a1:   0.53150, a2:   0.61323, b:  -6.50571, loss:   0.10346\n",
      "Epoch: 1800, a1:   0.44213, a2:   0.85384, b:  -7.10134, loss:   0.08941\n",
      "Epoch: 2100, a1:   0.36276, a2:   1.06624, b:  -7.62208, loss:   0.07863\n",
      "Epoch: 2400, a1:   0.29258, a2:   1.25473, b:  -8.08477, loss:   0.07014\n",
      "Epoch: 2700, a1:   0.23041, a2:   1.42311, b:  -8.50115, loss:   0.06327\n",
      "Epoch: 3000, a1:   0.17512, a2:   1.57461, b:  -8.87969, loss:   0.05762\n",
      "================================================================================\n",
      "공부 시간: 6, 과외 시간: 5\n",
      "합격여부 : 합격, 합격 확률:  51.10%\n",
      "================================================================================\n",
      "공부 시간:  0, 과외 시간:  0 합격여부 :  불합격, 합격 확률:   0.01%\n",
      "공부 시간:  0, 과외 시간:  1 합격여부 :  불합격, 합격 확률:   0.07%\n",
      "공부 시간:  0, 과외 시간:  2 합격여부 :  불합격, 합격 확률:   0.32%\n",
      "공부 시간:  0, 과외 시간:  3 합격여부 :  불합격, 합격 확률:   1.54%\n",
      "공부 시간:  0, 과외 시간:  4 합격여부 :  불합격, 합격 확률:   7.04%\n",
      "공부 시간:  0, 과외 시간:  5 합격여부 :  불합격, 합격 확률:  26.76%\n",
      "공부 시간:  0, 과외 시간:  6 합격여부 :     합격, 합격 확률:  63.83%\n",
      "공부 시간:  0, 과외 시간:  7 합격여부 :     합격, 합격 확률:  89.50%\n",
      "공부 시간:  0, 과외 시간:  8 합격여부 :     합격, 합격 확률:  97.63%\n",
      "공부 시간:  0, 과외 시간:  9 합격여부 :     합격, 합격 확률:  99.50%\n",
      "공부 시간:  0, 과외 시간: 10 합격여부 :     합격, 합격 확률:  99.90%\n"
     ]
    }
   ],
   "source": [
    "sess = tf.Session()\n",
    "sess.run(tf.global_variables_initializer())\n",
    "\n",
    "for i in range(3001):\n",
    "    # sess.run([기울기, y절편, 오차함수, 경사하강], feed_dict={X: 입력데이터, Y: 입력 데이터에 따른 실제값})\n",
    "    # 연산은 하긴 하는데 사용하지 않을 실행 결과를 기억하는 변수는 '_'로 사용한다.\n",
    "    a_, b_, loss_, gradient_ = sess.run([a, b, loss, gradient_descent], feed_dict={X: xData, Y: yData})\n",
    "    if i % 300 == 0 :\n",
    "        print('Epoch: {0:4d}, a1: {1:9.5f}, a2: {2:9.5f}, b: {3:9.5f}, loss: {4:9.5f}'.format(i , a_[0][0], a_[1][0], b_[0], loss_))\n",
    "        #print('Epoch: %4d, a1: %9.5f, a2: %9.5f, b: %9.5f, loss: %9.5f' % (i, a_[0], a_[1], b_, loss_))\n",
    "        \n",
    "print(\"=\"* 80)\n",
    "\n",
    "# 테스트 데이터를 만든다.\n",
    "# new_x = np.array([6, 5]) # 테스트 데이터가 1차원 넘파이 배열이기 때문에 행렬의 곱셈 연산이 실행되지 않는다.\n",
    "# print(new_x)          # [6 5] => 1차원\n",
    "# print(new_x.shape) # (2, )  => 1차원\n",
    "# print(new_x.ndim)  # 1      => 1차원\n",
    "# reshape() 함수로 테스트 데이터를 1행 2열인 2차원 넘파이 배열로 변환해야 행렬의 곱셈 연산이 제대로 실행된다.\n",
    "new_x = np.array([6, 5]).reshape(1, 2) \n",
    "# print(new_x)          # [6 5] => 2차원\n",
    "# print(new_x.shape) # (2, )  => 2차원\n",
    "# print(new_x.ndim)  # 1      => 2차원\n",
    "\n",
    "# sigmoid() 함수의 연산 결과에 테스트 데이터를 대입해서 연산한다.\n",
    "result, new_y = sess.run([predicted, y], feed_dict={X: new_x})\n",
    "# print('공부 시간: {}, 과외 시간: {}'.format(new_x[: 0][0], new_x[: ,1][0]))\n",
    "# print('공부 시간: {}, 과외 시간: {}'.format(new_x[0, 0], new_x[0, 1]))\n",
    "print('공부 시간: %d, 과외 시간: %d' % (new_x[:, 0], new_x[:, 1]))\n",
    "# print('합격여부 : {0:s}, 합격 확률: {1:6.2f}%'. format('합격' if result[0][0] == 1 else '불합격', new_y[0][0] * 100))\n",
    "print('합격여부 : %s, 합격 확률: %6.2f%%' % ('합격' if result[0][0] == 1 else '불합격', new_y[0][0] * 100))\n",
    "print(\"=\" * 80)\n",
    "\n",
    "# 공부는 1시간도 안하고 과외 수업 0~10 시간을 받았을 때 합격 여부\n",
    "for i in range(11):\n",
    "    new_x = np.array([0, i]).reshape(1, 2)\n",
    "    result, new_y = sess.run([predicted, y], feed_dict={X: new_x})\n",
    "    print('공부 시간: %2d, 과외 시간: %2d' % (new_x[:, 0], new_x[:, 1]), end=' ')\n",
    "    print('합격여부 : %4s, 합격 확률: %6.2f%%' % ('    합격' if result[0][0] == 1 else '불합격', new_y[0][0] * 100))"
   ]
  },
  {
   "cell_type": "code",
   "execution_count": null,
   "id": "df7476df",
   "metadata": {},
   "outputs": [],
   "source": []
  },
  {
   "cell_type": "code",
   "execution_count": null,
   "id": "a763f666",
   "metadata": {},
   "outputs": [],
   "source": []
  },
  {
   "cell_type": "code",
   "execution_count": null,
   "id": "f8f8070b",
   "metadata": {},
   "outputs": [],
   "source": []
  },
  {
   "cell_type": "code",
   "execution_count": null,
   "id": "ef734d3d",
   "metadata": {},
   "outputs": [],
   "source": []
  },
  {
   "cell_type": "code",
   "execution_count": null,
   "id": "c45ab995",
   "metadata": {},
   "outputs": [],
   "source": []
  }
 ],
 "metadata": {
  "kernelspec": {
   "display_name": "Python 3",
   "language": "python",
   "name": "python3"
  },
  "language_info": {
   "codemirror_mode": {
    "name": "ipython",
    "version": 3
   },
   "file_extension": ".py",
   "mimetype": "text/x-python",
   "name": "python",
   "nbconvert_exporter": "python",
   "pygments_lexer": "ipython3",
   "version": "3.6.8"
  }
 },
 "nbformat": 4,
 "nbformat_minor": 5
}
