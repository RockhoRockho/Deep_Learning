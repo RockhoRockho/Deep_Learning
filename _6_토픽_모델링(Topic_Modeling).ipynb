{
  "nbformat": 4,
  "nbformat_minor": 0,
  "metadata": {
    "colab": {
      "name": "_6 토픽 모델링(Topic Modeling).ipynb",
      "provenance": [],
      "collapsed_sections": [],
      "include_colab_link": true
    },
    "kernelspec": {
      "name": "python3",
      "display_name": "Python 3"
    }
  },
  "cells": [
    {
      "cell_type": "markdown",
      "metadata": {
        "id": "view-in-github",
        "colab_type": "text"
      },
      "source": [
        "<a href=\"https://colab.research.google.com/github/RockhoRockho/Deep_Learning/blob/main/_6_%ED%86%A0%ED%94%BD_%EB%AA%A8%EB%8D%B8%EB%A7%81(Topic_Modeling).ipynb\" target=\"_parent\"><img src=\"https://colab.research.google.com/assets/colab-badge.svg\" alt=\"Open In Colab\"/></a>"
      ]
    },
    {
      "cell_type": "markdown",
      "metadata": {
        "id": "sqJ4qz2uwHHH"
      },
      "source": [
        "# 토픽 모델링(Topic Modeling)"
      ]
    },
    {
      "cell_type": "markdown",
      "metadata": {
        "id": "YwtnnVf3DcnI"
      },
      "source": [
        "* 토픽 모델링은 문서 집합에서 주제를 찾아내기 위한 기술\n",
        "* 토픽 모델링은 '특정 주제에 관한 문서에서는 특정 단어가 자주 등장할 것이다'라는 직관을 기반\n",
        "* 예를 들어, 주제가 '개'인 문서에서는 개의 품종, 개의 특성을 나타내는 단어가 다른 문서에 비해 많이 등장\n",
        "* 주로 사용되는 토픽 모델링 방법은 잠재 의미 분석과 잠재 디리클레 할당 기법이 있음"
      ]
    },
    {
      "cell_type": "markdown",
      "metadata": {
        "id": "i_DR7Dg5XLn-"
      },
      "source": [
        "## 잠재 의미 분석(Latent Semantic Analysis)\n",
        "\n",
        "* 잠재 의미 분석(LSA)은 주로 문서 색인의 의미 검색에 사용\n",
        "* 잠재 의미 인덱싱(Latent Semantic Indexing, LSI)로도 알려져 있음\n",
        "* LSA의 목표는 문서와 단어의 기반이 되는 잠재적인 토픽을 발견하는 것\n",
        "* 잠재적인 토픽은 문서에 있는 단어들의 분포를 주도한다고 가정\n",
        "\n",
        "* LSA 방법\n",
        "  + 문서 모음에서 생성한 문서-단어 행렬(Document Term Matrix)에서 단어-토픽 행렬(Term-Topic Matrix)과 토픽-중요도 행렬(Topic-Importance Matrix), 그리고 토픽-문서 행렬(Topic-Document Matrix)로 분해"
      ]
    },
    {
      "cell_type": "markdown",
      "metadata": {
        "id": "vVQH1rH0bJLI"
      },
      "source": [
        "## 잠재 디리클레 할당(Latent Dirichlet Allocation)"
      ]
    },
    {
      "cell_type": "markdown",
      "metadata": {
        "id": "Ex3DjGiFKmk1"
      },
      "source": [
        "* 잠재 디레클레 할당(LDA)은 대표적인 토픽 모델링  알고리즘 중 하나\n",
        "\n",
        "* 잠재 디레클레 할당 방법\n",
        "  1. 사용자가 토픽이 개수를 지정해 알고리즘에 전달\n",
        "  2. 모든 단어들을 토픽 중 하나에 할당\n",
        "  3. 모든 문서의 모든 단어에 대해 단어 w가 가정에 의거, $p(t|d)$, $p(w|t)$에 따라 토픽을 재할당, 이를 반복, 이 때 가정은 자신만이 잘못된 토픽에 할당되어 있고 다른 모든 단어는 올바른 토픽에 할당된다는 것을 의미    \n",
        "\n",
        "* $p(t|d)$ - 문서 d의 단어들 중 토픽 t에 해당하는 비율\n",
        "* 해당 문서의 자주 등장하는 다른 단어의 토픽이 해당 단어의 토픽이 될 가능성이 높음을 의미    \n",
        "\n",
        "* $p(w|t)$- 단어 w를 가지고 있는 모든 문서들 중  토픽 t가 할당된 비율\n",
        "* 다른 문서에서 단어 w에 많이 할당된 토픽이 해당 단어의 토픽이 될 가능성이 높음을 의미"
      ]
    },
    {
      "cell_type": "markdown",
      "metadata": {
        "id": "1RxDTpTts3ma"
      },
      "source": [
        "## 데이터 준비"
      ]
    },
    {
      "cell_type": "code",
      "metadata": {
        "id": "z1yVomvgs6l3",
        "colab": {
          "base_uri": "https://localhost:8080/",
          "height": 218
        },
        "outputId": "12ee9ea2-bdae-47a8-e5d5-afdc92a86ba6"
      },
      "source": [
        "from sklearn.datasets import fetch_20newsgroups\n",
        "\n",
        "dataset = fetch_20newsgroups(shuffle=True, random_state=1,\n",
        "                             remove=('headers', 'footers', 'quotes'))\n",
        "documents = dataset.data\n",
        "\n",
        "print(len(documents))\n",
        "documents[3]"
      ],
      "execution_count": 3,
      "outputs": [
        {
          "output_type": "stream",
          "name": "stdout",
          "text": [
            "11314\n"
          ]
        },
        {
          "output_type": "execute_result",
          "data": {
            "application/vnd.google.colaboratory.intrinsic+json": {
              "type": "string"
            },
            "text/plain": [
              "'Notwithstanding all the legitimate fuss about this proposal, how much\\nof a change is it?  ATT\\'s last product in this area (a) was priced over\\n$1000, as I suspect \\'clipper\\' phones will be; (b) came to the customer \\nwith the key automatically preregistered with government authorities. Thus,\\naside from attempting to further legitimize and solidify the fed\\'s posture,\\nClipper seems to be \"more of the same\", rather than a new direction.\\n   Yes, technology will eventually drive the cost down and thereby promote\\nmore widespread use- but at present, the man on the street is not going\\nto purchase a $1000 crypto telephone, especially when the guy on the other\\nend probably doesn\\'t have one anyway.  Am I missing something?\\n   The real question is what the gov will do in a year or two when air-\\ntight voice privacy on a phone line is as close as your nearest pc.  That\\nhas got to a problematic scenario for them, even if the extent of usage\\nnever surpasses the \\'underground\\' stature of PGP.'"
            ]
          },
          "metadata": {},
          "execution_count": 3
        }
      ]
    },
    {
      "cell_type": "code",
      "metadata": {
        "id": "E56d3KXroenQ",
        "colab": {
          "base_uri": "https://localhost:8080/"
        },
        "outputId": "0131f323-7b96-4981-e324-6c47f7a5dc4c"
      },
      "source": [
        "import re\n",
        "import nltk\n",
        "from nltk.corpus import stopwords\n",
        "from gensim.parsing.preprocessing import preprocess_string\n",
        "\n",
        "nltk.download('stopwords')\n",
        "\n",
        "def clean_text(d):\n",
        "  pattern = r'[^a-zA-Z\\s]'\n",
        "  text = re.sub(pattern, '', d)\n",
        "  return d\n",
        "\n",
        "def clean_stopword(d):\n",
        "  stop_words = stopwords.words('english')\n",
        "  return ' '.join([w.lower() for w in d.split() if w not in stop_words and len(w) > 3])\n",
        "\n",
        "def preprocessing(d):\n",
        "  return preprocess_string(d)"
      ],
      "execution_count": 15,
      "outputs": [
        {
          "output_type": "stream",
          "name": "stdout",
          "text": [
            "[nltk_data] Downloading package stopwords to /root/nltk_data...\n",
            "[nltk_data]   Package stopwords is already up-to-date!\n"
          ]
        }
      ]
    },
    {
      "cell_type": "code",
      "metadata": {
        "id": "QCo9S9RlrfQg",
        "colab": {
          "base_uri": "https://localhost:8080/"
        },
        "outputId": "19029b4f-1238-44ff-ae77-3a42e998fdbf"
      },
      "source": [
        "import pandas as pd\n",
        "\n",
        "news_df = pd.DataFrame({'article':documents})\n",
        "len(news_df)"
      ],
      "execution_count": 16,
      "outputs": [
        {
          "output_type": "execute_result",
          "data": {
            "text/plain": [
              "11314"
            ]
          },
          "metadata": {},
          "execution_count": 16
        }
      ]
    },
    {
      "cell_type": "code",
      "metadata": {
        "id": "9xzZu6Iprj5B",
        "colab": {
          "base_uri": "https://localhost:8080/"
        },
        "outputId": "fdeb7f0a-c85b-4036-8e09-530a890c35f4"
      },
      "source": [
        "news_df.replace(\"\", float(\"NaN\"), inplace=True)\n",
        "news_df.dropna(inplace=True)\n",
        "print(len(news_df))"
      ],
      "execution_count": 17,
      "outputs": [
        {
          "output_type": "stream",
          "name": "stdout",
          "text": [
            "11096\n"
          ]
        }
      ]
    },
    {
      "cell_type": "code",
      "metadata": {
        "id": "Oi3PJ7dMsF8K",
        "colab": {
          "base_uri": "https://localhost:8080/"
        },
        "outputId": "da06c390-da9a-483a-8f3c-09a4a4642e86"
      },
      "source": [
        "news_df['article'] = news_df['article'].apply(clean_text)\n",
        "news_df['article']"
      ],
      "execution_count": 18,
      "outputs": [
        {
          "output_type": "execute_result",
          "data": {
            "text/plain": [
              "0        Well i'm not sure about the story nad it did s...\n",
              "1        \\n\\n\\n\\n\\n\\n\\nYeah, do you expect people to re...\n",
              "2        Although I realize that principle is not one o...\n",
              "3        Notwithstanding all the legitimate fuss about ...\n",
              "4        Well, I will have to change the scoring on my ...\n",
              "                               ...                        \n",
              "11309    Danny Rubenstein, an Israeli journalist, will ...\n",
              "11310                                                   \\n\n",
              "11311    \\nI agree.  Home runs off Clemens are always m...\n",
              "11312    I used HP DeskJet with Orange Micros Grappler ...\n",
              "11313                                          ^^^^^^\\n...\n",
              "Name: article, Length: 11096, dtype: object"
            ]
          },
          "metadata": {},
          "execution_count": 18
        }
      ]
    },
    {
      "cell_type": "code",
      "metadata": {
        "id": "ViSra6MYuM9x",
        "colab": {
          "base_uri": "https://localhost:8080/"
        },
        "outputId": "d80dd1c1-24e4-4031-a085-a182dc8a38f6"
      },
      "source": [
        "news_df['article'] = news_df['article'].apply(clean_stopword)\n",
        "news_df['article']"
      ],
      "execution_count": 19,
      "outputs": [
        {
          "output_type": "execute_result",
          "data": {
            "text/plain": [
              "0        well sure story seem biased. what disagree sta...\n",
              "1        yeah, expect people read faq, etc. actually ac...\n",
              "2        although realize principle strongest points, w...\n",
              "3        notwithstanding legitimate fuss proposal, much...\n",
              "4        well, change scoring playoff pool. unfortunate...\n",
              "                               ...                        \n",
              "11309    danny rubenstein, israeli journalist, speaking...\n",
              "11310                                                     \n",
              "11311    agree. home runs clemens always memorable. kin...\n",
              "11312    used deskjet orange micros grappler system6.0....\n",
              "11313    ^^^^^^ argument murphy. scared hell came last ...\n",
              "Name: article, Length: 11096, dtype: object"
            ]
          },
          "metadata": {},
          "execution_count": 19
        }
      ]
    },
    {
      "cell_type": "code",
      "metadata": {
        "id": "W6BleIc4Jwcs"
      },
      "source": [
        "tokenized_news = news_df['article'].apply(preprocessing)\n",
        "tokenized_news = tokenized_news.to_list()"
      ],
      "execution_count": 20,
      "outputs": []
    },
    {
      "cell_type": "code",
      "metadata": {
        "id": "rKywEnyAJxhc",
        "colab": {
          "base_uri": "https://localhost:8080/"
        },
        "outputId": "8fa7d5af-d682-4747-e7c3-9bb377b1c34e"
      },
      "source": [
        "import numpy as np\n",
        "\n",
        "drop_news = [index for index, sentence in enumerate(tokenized_news) if len(sentence) <= 1]\n",
        "news_texts = np.delete(tokenized_news, drop_news, axis=0)\n",
        "print(len(news_texts))"
      ],
      "execution_count": 24,
      "outputs": [
        {
          "output_type": "stream",
          "name": "stdout",
          "text": [
            "10936\n"
          ]
        },
        {
          "output_type": "stream",
          "name": "stderr",
          "text": [
            "/usr/local/lib/python3.7/dist-packages/numpy/core/_asarray.py:83: VisibleDeprecationWarning: Creating an ndarray from ragged nested sequences (which is a list-or-tuple of lists-or-tuples-or ndarrays with different lengths or shapes) is deprecated. If you meant to do this, you must specify 'dtype=object' when creating the ndarray\n",
            "  return array(a, dtype, copy=False, order=order)\n"
          ]
        }
      ]
    },
    {
      "cell_type": "markdown",
      "metadata": {
        "id": "IJ8Zkrar1umI"
      },
      "source": [
        "## Gensim을 이용한 토픽 모델링"
      ]
    },
    {
      "cell_type": "code",
      "metadata": {
        "id": "Q7g3xjKA0WI-",
        "colab": {
          "base_uri": "https://localhost:8080/"
        },
        "outputId": "a55d97d1-92c9-4bf0-a4e7-ed798d8c45a2"
      },
      "source": [
        "from gensim import corpora\n",
        "\n",
        "dictionary = corpora.Dictionary(news_texts)\n",
        "corpus = [dictionary.doc2bow(text) for text in news_texts]\n",
        "print(corpus[1])"
      ],
      "execution_count": 25,
      "outputs": [
        {
          "output_type": "stream",
          "name": "stdout",
          "text": [
            "[(51, 1), (52, 1), (53, 1), (54, 1), (55, 1), (56, 1), (57, 1), (58, 2), (59, 1), (60, 1), (61, 1), (62, 2), (63, 1), (64, 1), (65, 1), (66, 1), (67, 1), (68, 2), (69, 3), (70, 1), (71, 1), (72, 1), (73, 1), (74, 1), (75, 2), (76, 1), (77, 1), (78, 1), (79, 1), (80, 1), (81, 1), (82, 2), (83, 1), (84, 1), (85, 1), (86, 1)]\n"
          ]
        }
      ]
    },
    {
      "cell_type": "markdown",
      "metadata": {
        "id": "zhM28edm261U"
      },
      "source": [
        "### 잠재 의미 분석을 위한 `LsiModel`"
      ]
    },
    {
      "cell_type": "code",
      "metadata": {
        "id": "Pqz7Xmp63LPa",
        "colab": {
          "base_uri": "https://localhost:8080/"
        },
        "outputId": "f3c2f895-abb6-45b9-ef96-995c9f7bf32e"
      },
      "source": [
        "from gensim.models import LsiModel\n",
        "\n",
        "lsi_model = LsiModel(corpus, num_topics=20, id2word=dictionary)\n",
        "topics = lsi_model.print_topics()\n",
        "topics"
      ],
      "execution_count": 26,
      "outputs": [
        {
          "output_type": "execute_result",
          "data": {
            "text/plain": [
              "[(0,\n",
              "  '0.994*\"max\" + 0.069*\"giz\" + 0.068*\"bhj\" + 0.025*\"qax\" + 0.015*\"biz\" + 0.014*\"nrhj\" + 0.014*\"bxn\" + 0.012*\"nui\" + 0.011*\"ghj\" + 0.011*\"zei\"'),\n",
              " (1,\n",
              "  '-0.381*\"file\" + -0.193*\"program\" + -0.169*\"edu\" + -0.162*\"imag\" + -0.130*\"avail\" + -0.126*\"output\" + -0.119*\"includ\" + -0.115*\"inform\" + -0.101*\"pub\" + -0.100*\"time\"'),\n",
              " (2,\n",
              "  '-0.408*\"file\" + -0.335*\"output\" + -0.216*\"entri\" + 0.171*\"peopl\" + 0.153*\"know\" + -0.137*\"onam\" + -0.134*\"program\" + 0.131*\"said\" + -0.129*\"printf\" + -0.115*\"char\"'),\n",
              " (3,\n",
              "  '0.249*\"imag\" + 0.226*\"edu\" + -0.214*\"output\" + -0.165*\"peopl\" + -0.157*\"know\" + -0.155*\"entri\" + -0.153*\"said\" + 0.153*\"avail\" + 0.142*\"jpeg\" + 0.124*\"pub\"'),\n",
              " (4,\n",
              "  '0.549*\"wire\" + 0.223*\"ground\" + -0.214*\"jpeg\" + -0.213*\"file\" + -0.169*\"imag\" + 0.164*\"circuit\" + 0.157*\"outlet\" + 0.139*\"connect\" + 0.129*\"subject\" + 0.126*\"neutral\"'),\n",
              " (5,\n",
              "  '0.400*\"jpeg\" + 0.345*\"imag\" + -0.276*\"anonym\" + 0.246*\"wire\" + -0.160*\"privaci\" + -0.156*\"internet\" + 0.151*\"color\" + -0.144*\"post\" + -0.125*\"inform\" + -0.123*\"mail\"'),\n",
              " (6,\n",
              "  '-0.460*\"file\" + -0.215*\"wire\" + 0.169*\"output\" + 0.158*\"program\" + 0.154*\"edu\" + -0.144*\"anonym\" + -0.141*\"firearm\" + 0.137*\"widget\" + -0.123*\"jpeg\" + 0.120*\"entri\"'),\n",
              " (7,\n",
              "  '0.298*\"anonym\" + -0.286*\"file\" + 0.247*\"imag\" + 0.247*\"jpeg\" + -0.178*\"widget\" + 0.170*\"post\" + 0.166*\"internet\" + 0.155*\"privaci\" + -0.138*\"control\" + -0.127*\"drive\"'),\n",
              " (8,\n",
              "  '-0.295*\"hockei\" + -0.279*\"team\" + -0.235*\"game\" + -0.233*\"leagu\" + -0.188*\"season\" + -0.163*\"year\" + 0.136*\"widget\" + -0.129*\"plai\" + -0.128*\"space\" + 0.122*\"anonym\"'),\n",
              " (9,\n",
              "  '0.500*\"drive\" + 0.275*\"disk\" + 0.202*\"control\" + 0.185*\"hard\" + 0.168*\"bio\" + -0.158*\"edu\" + 0.155*\"support\" + 0.138*\"card\" + 0.134*\"featur\" + 0.119*\"scsi\"'),\n",
              " (10,\n",
              "  '-0.480*\"stephanopoulo\" + -0.329*\"presid\" + 0.238*\"drive\" + 0.187*\"armenian\" + 0.183*\"peopl\" + 0.125*\"disk\" + -0.123*\"packag\" + -0.120*\"go\" + -0.120*\"think\" + 0.102*\"control\"'),\n",
              " (11,\n",
              "  '-0.286*\"space\" + 0.266*\"stephanopoulo\" + -0.254*\"launch\" + 0.213*\"drive\" + 0.209*\"edu\" + -0.172*\"satellit\" + 0.123*\"presid\" + -0.114*\"widget\" + 0.113*\"disk\" + 0.109*\"com\"'),\n",
              " (12,\n",
              "  '-0.248*\"edu\" + 0.232*\"widget\" + 0.200*\"jpeg\" + 0.172*\"window\" + -0.170*\"graphic\" + 0.161*\"convert\" + -0.148*\"space\" + -0.147*\"pub\" + 0.136*\"applic\" + 0.133*\"hockei\"'),\n",
              " (13,\n",
              "  '0.265*\"jesu\" + 0.196*\"atheist\" + 0.189*\"edu\" + 0.184*\"christian\" + 0.165*\"believ\" + 0.154*\"god\" + 0.146*\"exist\" + -0.139*\"launch\" + -0.133*\"armenian\" + -0.126*\"space\"'),\n",
              " (14,\n",
              "  '0.290*\"space\" + 0.218*\"launch\" + 0.175*\"stephanopoulo\" + -0.165*\"program\" + -0.162*\"russian\" + -0.159*\"govern\" + 0.153*\"satellit\" + -0.147*\"administr\" + 0.128*\"jesu\" + 0.123*\"post\"'),\n",
              " (15,\n",
              "  '-0.248*\"imag\" + 0.236*\"com\" + 0.235*\"jpeg\" + 0.233*\"edu\" + -0.225*\"data\" + 0.218*\"launch\" + 0.168*\"space\" + 0.164*\"post\" + -0.162*\"graphic\" + 0.146*\"anonym\"'),\n",
              " (16,\n",
              "  '-0.238*\"south\" + -0.219*\"rockefel\" + -0.204*\"secret\" + -0.198*\"island\" + -0.182*\"nuclear\" + -0.166*\"bolshevik\" + 0.157*\"health\" + -0.153*\"militari\" + -0.144*\"ship\" + -0.134*\"georgia\"'),\n",
              " (17,\n",
              "  '-0.255*\"anonym\" + -0.222*\"edu\" + -0.197*\"post\" + 0.181*\"jesu\" + 0.170*\"pub\" + 0.153*\"privaci\" + -0.149*\"imag\" + -0.135*\"health\" + 0.127*\"window\" + 0.126*\"inform\"'),\n",
              " (18,\n",
              "  '-0.290*\"stephanopoulo\" + -0.180*\"health\" + 0.179*\"administr\" + 0.161*\"govern\" + 0.155*\"senior\" + 0.147*\"offici\" + 0.147*\"russia\" + 0.143*\"fund\" + 0.143*\"russian\" + 0.123*\"think\"'),\n",
              " (19,\n",
              "  '0.386*\"turkish\" + 0.315*\"jew\" + 0.224*\"armenian\" + 0.202*\"jpeg\" + 0.197*\"turkei\" + 0.154*\"nazi\" + -0.132*\"entri\" + -0.129*\"imag\" + 0.129*\"drive\" + 0.121*\"edu\"')]"
            ]
          },
          "metadata": {},
          "execution_count": 26
        }
      ]
    },
    {
      "cell_type": "code",
      "metadata": {
        "id": "SWoLB_a164Gq",
        "colab": {
          "base_uri": "https://localhost:8080/"
        },
        "outputId": "9a7a2df3-5190-473b-c953-ad9be4e7d5f8"
      },
      "source": [
        "from gensim.models.coherencemodel import CoherenceModel\n",
        "\n",
        "min_topics, max_topics = 20, 25\n",
        "coherence_scores = []\n",
        "\n",
        "for num_topics in range(min_topics, max_topics):\n",
        "  model = LsiModel(corpus, num_topics=num_topics, id2word=dictionary)\n",
        "  coherence = CoherenceModel(model=model,\n",
        "                             texts=news_texts,\n",
        "                             dictionary=dictionary)\n",
        "  coherence_scores.append(coherence.get_coherence())\n",
        "\n",
        "print(coherence_scores)"
      ],
      "execution_count": 29,
      "outputs": [
        {
          "output_type": "stream",
          "name": "stdout",
          "text": [
            "[0.4983521376008273, 0.42030976096957523, 0.4460163003124586, 0.4782524822913962, 0.43952381284532827]\n"
          ]
        }
      ]
    },
    {
      "cell_type": "code",
      "metadata": {
        "id": "JVPXSgtK97Ez",
        "colab": {
          "base_uri": "https://localhost:8080/",
          "height": 385
        },
        "outputId": "70792502-29c6-41e5-fe16-364644fb2c08"
      },
      "source": [
        "import matplotlib.pyplot as plt\n",
        "plt.style.use('seaborn-white')\n",
        "\n",
        "x = [int(i) for i in range(min_topics, max_topics)]\n",
        "\n",
        "plt.figure(figsize=(10, 6))\n",
        "plt.plot(x, coherence_scores)\n",
        "plt.xlabel('Number of Topics')\n",
        "plt.ylabel('Number of Scores')\n",
        "plt.show()"
      ],
      "execution_count": 30,
      "outputs": [
        {
          "output_type": "display_data",
          "data": {
            "image/png": "[encoded data removed]",
            "text/plain": [
              "<Figure size 720x432 with 1 Axes>"
            ]
          },
          "metadata": {}
        }
      ]
    },
    {
      "cell_type": "code",
      "metadata": {
        "id": "zbI05R9O3Kc4",
        "colab": {
          "base_uri": "https://localhost:8080/"
        },
        "outputId": "aab8049f-10a8-4a08-a6f4-91476970d866"
      },
      "source": [
        "lsi_model = LsiModel(corpus, num_topics=24, id2word=dictionary)\n",
        "topics = lsi_model.print_topics(num_topics=24)\n",
        "topics"
      ],
      "execution_count": 31,
      "outputs": [
        {
          "output_type": "execute_result",
          "data": {
            "text/plain": [
              "[(0,\n",
              "  '0.994*\"max\" + 0.069*\"giz\" + 0.068*\"bhj\" + 0.025*\"qax\" + 0.015*\"biz\" + 0.014*\"nrhj\" + 0.014*\"bxn\" + 0.012*\"nui\" + 0.011*\"ghj\" + 0.011*\"zei\"'),\n",
              " (1,\n",
              "  '0.381*\"file\" + 0.193*\"program\" + 0.169*\"edu\" + 0.162*\"imag\" + 0.130*\"avail\" + 0.126*\"output\" + 0.119*\"includ\" + 0.115*\"inform\" + 0.101*\"pub\" + 0.100*\"time\"'),\n",
              " (2,\n",
              "  '0.408*\"file\" + 0.335*\"output\" + 0.216*\"entri\" + -0.171*\"peopl\" + -0.153*\"know\" + 0.137*\"onam\" + 0.134*\"program\" + -0.131*\"said\" + 0.129*\"printf\" + 0.115*\"char\"'),\n",
              " (3,\n",
              "  '0.249*\"imag\" + 0.226*\"edu\" + -0.214*\"output\" + -0.165*\"peopl\" + -0.157*\"know\" + -0.155*\"entri\" + -0.153*\"said\" + 0.153*\"avail\" + 0.142*\"jpeg\" + 0.124*\"pub\"'),\n",
              " (4,\n",
              "  '0.549*\"wire\" + 0.223*\"ground\" + -0.214*\"jpeg\" + -0.213*\"file\" + -0.169*\"imag\" + 0.164*\"circuit\" + 0.157*\"outlet\" + 0.139*\"connect\" + 0.129*\"subject\" + 0.126*\"neutral\"'),\n",
              " (5,\n",
              "  '-0.400*\"jpeg\" + -0.345*\"imag\" + 0.276*\"anonym\" + -0.246*\"wire\" + 0.160*\"privaci\" + 0.156*\"internet\" + -0.151*\"color\" + 0.144*\"post\" + 0.125*\"inform\" + 0.123*\"mail\"'),\n",
              " (6,\n",
              "  '-0.460*\"file\" + -0.215*\"wire\" + 0.169*\"output\" + 0.158*\"program\" + 0.154*\"edu\" + -0.144*\"anonym\" + -0.141*\"firearm\" + 0.137*\"widget\" + -0.123*\"jpeg\" + 0.120*\"entri\"'),\n",
              " (7,\n",
              "  '0.298*\"anonym\" + -0.286*\"file\" + 0.247*\"imag\" + 0.247*\"jpeg\" + -0.178*\"widget\" + 0.170*\"post\" + 0.166*\"internet\" + 0.155*\"privaci\" + -0.138*\"control\" + -0.127*\"drive\"'),\n",
              " (8,\n",
              "  '-0.295*\"hockei\" + -0.279*\"team\" + -0.235*\"game\" + -0.233*\"leagu\" + -0.188*\"season\" + -0.163*\"year\" + 0.136*\"widget\" + -0.129*\"plai\" + -0.128*\"space\" + 0.122*\"anonym\"'),\n",
              " (9,\n",
              "  '0.500*\"drive\" + 0.275*\"disk\" + 0.202*\"control\" + 0.185*\"hard\" + 0.168*\"bio\" + -0.158*\"edu\" + 0.155*\"support\" + 0.138*\"card\" + 0.134*\"featur\" + 0.119*\"scsi\"'),\n",
              " (10,\n",
              "  '0.480*\"stephanopoulo\" + 0.329*\"presid\" + -0.238*\"drive\" + -0.187*\"armenian\" + -0.183*\"peopl\" + -0.125*\"disk\" + 0.123*\"packag\" + 0.120*\"go\" + 0.120*\"think\" + -0.102*\"control\"'),\n",
              " (11,\n",
              "  '-0.286*\"space\" + 0.266*\"stephanopoulo\" + -0.254*\"launch\" + 0.213*\"drive\" + 0.209*\"edu\" + -0.172*\"satellit\" + 0.123*\"presid\" + -0.114*\"widget\" + 0.113*\"disk\" + 0.109*\"com\"'),\n",
              " (12,\n",
              "  '0.248*\"edu\" + -0.232*\"widget\" + -0.200*\"jpeg\" + -0.172*\"window\" + 0.170*\"graphic\" + -0.161*\"convert\" + 0.148*\"space\" + 0.147*\"pub\" + -0.136*\"applic\" + -0.133*\"hockei\"'),\n",
              " (13,\n",
              "  '-0.265*\"jesu\" + -0.196*\"atheist\" + -0.189*\"edu\" + -0.184*\"christian\" + -0.165*\"believ\" + -0.154*\"god\" + -0.145*\"exist\" + 0.139*\"launch\" + 0.133*\"armenian\" + 0.126*\"space\"'),\n",
              " (14,\n",
              "  '-0.290*\"space\" + -0.218*\"launch\" + -0.175*\"stephanopoulo\" + 0.166*\"program\" + 0.162*\"russian\" + 0.159*\"govern\" + -0.152*\"satellit\" + 0.146*\"administr\" + -0.128*\"jesu\" + -0.123*\"post\"'),\n",
              " (15,\n",
              "  '0.248*\"imag\" + -0.237*\"com\" + -0.235*\"jpeg\" + -0.233*\"edu\" + 0.224*\"data\" + -0.218*\"launch\" + -0.168*\"space\" + -0.164*\"post\" + 0.162*\"graphic\" + -0.146*\"anonym\"'),\n",
              " (16,\n",
              "  '-0.238*\"south\" + -0.219*\"rockefel\" + -0.204*\"secret\" + -0.198*\"island\" + -0.182*\"nuclear\" + -0.166*\"bolshevik\" + 0.157*\"health\" + -0.153*\"militari\" + -0.144*\"ship\" + -0.134*\"georgia\"'),\n",
              " (17,\n",
              "  '-0.254*\"anonym\" + -0.222*\"edu\" + -0.197*\"post\" + 0.181*\"jesu\" + 0.170*\"pub\" + 0.153*\"privaci\" + -0.150*\"imag\" + -0.135*\"health\" + 0.128*\"window\" + 0.125*\"inform\"'),\n",
              " (18,\n",
              "  '-0.290*\"stephanopoulo\" + -0.180*\"health\" + 0.179*\"administr\" + 0.161*\"govern\" + 0.155*\"senior\" + 0.147*\"offici\" + 0.147*\"russia\" + 0.143*\"fund\" + 0.143*\"russian\" + 0.123*\"think\"'),\n",
              " (19,\n",
              "  '-0.386*\"turkish\" + -0.314*\"jew\" + -0.224*\"armenian\" + -0.202*\"jpeg\" + -0.197*\"turkei\" + -0.154*\"nazi\" + 0.132*\"entri\" + 0.129*\"imag\" + -0.129*\"drive\" + -0.121*\"edu\"'),\n",
              " (20,\n",
              "  '-0.265*\"turkish\" + -0.230*\"entri\" + 0.228*\"edu\" + -0.218*\"jew\" + -0.159*\"anonym\" + 0.158*\"jpeg\" + -0.155*\"imag\" + -0.140*\"armenian\" + 0.139*\"com\" + -0.136*\"turkei\"'),\n",
              " (21,\n",
              "  '0.474*\"entri\" + -0.236*\"output\" + 0.169*\"rule\" + -0.144*\"jesu\" + -0.132*\"anonym\" + -0.125*\"imag\" + 0.119*\"follow\" + -0.118*\"avail\" + -0.110*\"scx\" + 0.108*\"com\"'),\n",
              " (22,\n",
              "  '0.816*\"scx\" + 0.277*\"gcx\" + 0.183*\"syx\" + 0.179*\"mcx\" + 0.099*\"gyx\" + 0.098*\"xxi\" + 0.096*\"uc\" + 0.091*\"bhj\" + 0.091*\"chz\" + 0.086*\"cub\"'),\n",
              " (23,\n",
              "  '-0.251*\"bit\" + -0.243*\"scsi\" + -0.207*\"edu\" + -0.186*\"chip\" + -0.180*\"encrypt\" + -0.175*\"com\" + -0.147*\"turkish\" + 0.144*\"drive\" + 0.143*\"entri\" + -0.140*\"kei\"')]"
            ]
          },
          "metadata": {},
          "execution_count": 31
        }
      ]
    },
    {
      "cell_type": "markdown",
      "metadata": {
        "id": "RxSqZmtV2QzN"
      },
      "source": [
        "### 잠재 디리클레 할당을 위한 `LdaModel`"
      ]
    },
    {
      "cell_type": "code",
      "metadata": {
        "id": "G2X_cCIRJbe1",
        "colab": {
          "base_uri": "https://localhost:8080/"
        },
        "outputId": "04d7eaa4-2645-4f65-db7d-c623e95a4b0c"
      },
      "source": [
        "from gensim.models import LdaModel\n",
        "\n",
        "lda_model = LdaModel(corpus, num_topics=20, id2word=dictionary)\n",
        "topics = lda_model.print_topics()\n",
        "topics"
      ],
      "execution_count": 32,
      "outputs": [
        {
          "output_type": "execute_result",
          "data": {
            "text/plain": [
              "[(0,\n",
              "  '0.013*\"tobacco\" + 0.008*\"simm\" + 0.006*\"borland\" + 0.006*\"input\" + 0.005*\"like\" + 0.005*\"power\" + 0.004*\"window\" + 0.004*\"glutam\" + 0.004*\"problem\" + 0.004*\"control\"'),\n",
              " (1,\n",
              "  '0.009*\"jpeg\" + 0.007*\"thank\" + 0.007*\"doctor\" + 0.006*\"norton\" + 0.005*\"problem\" + 0.005*\"music\" + 0.005*\"sy\" + 0.004*\"help\" + 0.004*\"yanke\" + 0.004*\"deaf\"'),\n",
              " (2,\n",
              "  '0.014*\"greek\" + 0.005*\"greec\" + 0.004*\"like\" + 0.004*\"turkish\" + 0.004*\"hamburg\" + 0.004*\"peopl\" + 0.004*\"time\" + 0.003*\"train\" + 0.003*\"moral\" + 0.003*\"pitcher\"'),\n",
              " (3,\n",
              "  '0.014*\"kei\" + 0.010*\"encrypt\" + 0.010*\"secur\" + 0.009*\"chip\" + 0.009*\"govern\" + 0.008*\"public\" + 0.006*\"clipper\" + 0.005*\"inform\" + 0.005*\"bit\" + 0.005*\"technolog\"'),\n",
              " (4,\n",
              "  '0.012*\"peopl\" + 0.011*\"christian\" + 0.009*\"believ\" + 0.008*\"jesu\" + 0.007*\"think\" + 0.006*\"god\" + 0.006*\"know\" + 0.006*\"word\" + 0.005*\"mean\" + 0.005*\"exist\"'),\n",
              " (5,\n",
              "  '0.009*\"price\" + 0.008*\"ship\" + 0.007*\"drive\" + 0.007*\"work\" + 0.007*\"car\" + 0.007*\"best\" + 0.007*\"offer\" + 0.007*\"sale\" + 0.006*\"model\" + 0.006*\"sell\"'),\n",
              " (6,\n",
              "  '0.013*\"space\" + 0.011*\"program\" + 0.006*\"includ\" + 0.005*\"avail\" + 0.005*\"nasa\" + 0.004*\"mail\" + 0.004*\"packag\" + 0.004*\"softwar\" + 0.004*\"inform\" + 0.004*\"list\"'),\n",
              " (7,\n",
              "  '0.024*\"file\" + 0.015*\"program\" + 0.015*\"window\" + 0.009*\"entri\" + 0.008*\"imag\" + 0.007*\"output\" + 0.007*\"line\" + 0.007*\"displai\" + 0.006*\"avail\" + 0.005*\"info\"'),\n",
              " (8,\n",
              "  '0.020*\"edu\" + 0.017*\"israel\" + 0.014*\"com\" + 0.013*\"isra\" + 0.010*\"jew\" + 0.008*\"arab\" + 0.007*\"mail\" + 0.006*\"palestinian\" + 0.006*\"post\" + 0.005*\"address\"'),\n",
              " (9,\n",
              "  '0.009*\"peopl\" + 0.009*\"think\" + 0.008*\"time\" + 0.008*\"like\" + 0.007*\"know\" + 0.006*\"said\" + 0.005*\"thing\" + 0.005*\"year\" + 0.004*\"good\" + 0.004*\"want\"'),\n",
              " (10,\n",
              "  '0.016*\"char\" + 0.015*\"output\" + 0.012*\"onam\" + 0.010*\"col\" + 0.010*\"contest\" + 0.009*\"null\" + 0.008*\"file\" + 0.008*\"buf\" + 0.008*\"entri\" + 0.008*\"fprintf\"'),\n",
              " (11,\n",
              "  '0.006*\"peopl\" + 0.005*\"like\" + 0.005*\"year\" + 0.005*\"time\" + 0.005*\"pain\" + 0.005*\"know\" + 0.004*\"problem\" + 0.004*\"think\" + 0.004*\"diseas\" + 0.004*\"wire\"'),\n",
              " (12,\n",
              "  '0.026*\"game\" + 0.019*\"team\" + 0.014*\"plai\" + 0.013*\"year\" + 0.010*\"player\" + 0.009*\"season\" + 0.007*\"score\" + 0.006*\"hockei\" + 0.006*\"leagu\" + 0.006*\"period\"'),\n",
              " (13,\n",
              "  '0.006*\"good\" + 0.005*\"power\" + 0.004*\"balloon\" + 0.004*\"modem\" + 0.004*\"suppli\" + 0.003*\"condit\" + 0.003*\"ingr\" + 0.003*\"offer\" + 0.003*\"baud\" + 0.003*\"sale\"'),\n",
              " (14,\n",
              "  '0.010*\"like\" + 0.007*\"bike\" + 0.006*\"year\" + 0.005*\"time\" + 0.005*\"look\" + 0.005*\"know\" + 0.004*\"good\" + 0.004*\"need\" + 0.004*\"ride\" + 0.004*\"work\"'),\n",
              " (15,\n",
              "  '0.011*\"edu\" + 0.008*\"win\" + 0.007*\"space\" + 0.007*\"driver\" + 0.006*\"font\" + 0.006*\"orbit\" + 0.006*\"window\" + 0.004*\"know\" + 0.004*\"need\" + 0.004*\"detector\"'),\n",
              " (16,\n",
              "  '0.014*\"drive\" + 0.010*\"problem\" + 0.010*\"card\" + 0.010*\"disk\" + 0.009*\"work\" + 0.008*\"scsi\" + 0.008*\"like\" + 0.007*\"softwar\" + 0.006*\"run\" + 0.006*\"need\"'),\n",
              " (17,\n",
              "  '0.029*\"armenian\" + 0.009*\"turkish\" + 0.006*\"turkei\" + 0.006*\"said\" + 0.006*\"russian\" + 0.005*\"armenia\" + 0.005*\"azerbaijan\" + 0.005*\"peopl\" + 0.005*\"year\" + 0.005*\"sleev\"'),\n",
              " (18,\n",
              "  '0.200*\"max\" + 0.022*\"giz\" + 0.018*\"bhj\" + 0.015*\"bxn\" + 0.007*\"qax\" + 0.005*\"nrhj\" + 0.005*\"nui\" + 0.004*\"biz\" + 0.004*\"fij\" + 0.004*\"chz\"'),\n",
              " (19,\n",
              "  '0.012*\"state\" + 0.007*\"weapon\" + 0.006*\"gun\" + 0.006*\"right\" + 0.006*\"year\" + 0.005*\"report\" + 0.004*\"control\" + 0.004*\"unit\" + 0.004*\"firearm\" + 0.004*\"amend\"')]"
            ]
          },
          "metadata": {},
          "execution_count": 32
        }
      ]
    },
    {
      "cell_type": "code",
      "metadata": {
        "id": "pD8aNQIK2q-p",
        "colab": {
          "base_uri": "https://localhost:8080/"
        },
        "outputId": "821b1695-9f69-4c8d-afe3-6f5a2bd653eb"
      },
      "source": [
        "from gensim.models.coherencemodel import CoherenceModel\n",
        "\n",
        "min_topics, max_topics = 20, 25\n",
        "coherence_scores = []\n",
        "\n",
        "for num_topics in range(min_topics, max_topics):\n",
        "  model = LdaModel(corpus, num_topics=num_topics, id2word=dictionary)\n",
        "  coherence = CoherenceModel(model=model,\n",
        "                             texts=news_texts,\n",
        "                             dictionary=dictionary)\n",
        "  coherence_scores.append(coherence.get_coherence())\n",
        "\n",
        "print(coherence_scores)"
      ],
      "execution_count": 33,
      "outputs": [
        {
          "output_type": "stream",
          "name": "stdout",
          "text": [
            "[0.5126395711060432, 0.47605005770058106, 0.5477584443399253, 0.5131866051865056, 0.4890778884002979]\n"
          ]
        }
      ]
    },
    {
      "cell_type": "code",
      "metadata": {
        "id": "eziNq5h54tzF",
        "colab": {
          "base_uri": "https://localhost:8080/",
          "height": 385
        },
        "outputId": "4f8e3a54-8393-4412-fb73-009ce407dc3c"
      },
      "source": [
        "x = [int(i) for i in range(min_topics, max_topics)]\n",
        "\n",
        "plt.figure(figsize=(10, 6))\n",
        "plt.plot(x, coherence_scores)\n",
        "plt.xlabel('Number of Topics')\n",
        "plt.ylabel('Number of Scores')\n",
        "plt.show()"
      ],
      "execution_count": 36,
      "outputs": [
        {
          "output_type": "display_data",
          "data": {
            "image/png": "[encoded data removed]",
            "text/plain": [
              "<Figure size 720x432 with 1 Axes>"
            ]
          },
          "metadata": {}
        }
      ]
    },
    {
      "cell_type": "code",
      "source": [
        "lda_model = LdaModel(corpus, num_topics=23, id2word=dictionary)\n",
        "topics = lda_model.print_topics(num_topics=23)\n",
        "topics"
      ],
      "metadata": {
        "colab": {
          "base_uri": "https://localhost:8080/"
        },
        "id": "TlXCOB3U-LQC",
        "outputId": "ec1fc118-57a8-40d4-ea19-24c9445250dc"
      },
      "execution_count": 37,
      "outputs": [
        {
          "output_type": "execute_result",
          "data": {
            "text/plain": [
              "[(0,\n",
              "  '0.009*\"coli\" + 0.007*\"cover\" + 0.006*\"candida\" + 0.006*\"copi\" + 0.005*\"edu\" + 0.004*\"comic\" + 0.004*\"kong\" + 0.004*\"weaver\" + 0.004*\"ask\" + 0.004*\"price\"'),\n",
              " (1,\n",
              "  '0.016*\"drive\" + 0.011*\"like\" + 0.007*\"work\" + 0.006*\"problem\" + 0.006*\"know\" + 0.005*\"want\" + 0.005*\"car\" + 0.005*\"power\" + 0.005*\"look\" + 0.005*\"right\"'),\n",
              " (2,\n",
              "  '0.020*\"space\" + 0.007*\"satellit\" + 0.007*\"imag\" + 0.007*\"launch\" + 0.006*\"nasa\" + 0.005*\"mission\" + 0.005*\"orbit\" + 0.005*\"inform\" + 0.004*\"book\" + 0.004*\"flight\"'),\n",
              " (3,\n",
              "  '0.009*\"time\" + 0.006*\"diseas\" + 0.006*\"gun\" + 0.006*\"case\" + 0.006*\"drug\" + 0.006*\"pain\" + 0.005*\"ground\" + 0.005*\"caus\" + 0.005*\"medic\" + 0.005*\"patient\"'),\n",
              " (4,\n",
              "  '0.009*\"think\" + 0.006*\"peopl\" + 0.004*\"like\" + 0.004*\"rider\" + 0.003*\"georgia\" + 0.003*\"year\" + 0.003*\"good\" + 0.003*\"univers\" + 0.003*\"base\" + 0.003*\"hamburg\"'),\n",
              " (5,\n",
              "  '0.011*\"christian\" + 0.010*\"believ\" + 0.008*\"peopl\" + 0.008*\"know\" + 0.008*\"think\" + 0.006*\"god\" + 0.006*\"mean\" + 0.006*\"exist\" + 0.006*\"point\" + 0.006*\"church\"'),\n",
              " (6,\n",
              "  '0.013*\"drive\" + 0.013*\"scsi\" + 0.010*\"control\" + 0.009*\"wire\" + 0.009*\"myer\" + 0.008*\"instal\" + 0.007*\"driver\" + 0.007*\"file\" + 0.006*\"sy\" + 0.006*\"disk\"'),\n",
              " (7,\n",
              "  '0.013*\"window\" + 0.009*\"smokeless\" + 0.009*\"edu\" + 0.007*\"pitt\" + 0.006*\"soon\" + 0.006*\"gordon\" + 0.006*\"bank\" + 0.005*\"space\" + 0.005*\"cluster\" + 0.005*\"surrend\"'),\n",
              " (8,\n",
              "  '0.009*\"xterm\" + 0.008*\"avail\" + 0.007*\"sourc\" + 0.006*\"imag\" + 0.006*\"edu\" + 0.006*\"packag\" + 0.006*\"server\" + 0.006*\"client\" + 0.006*\"tar\" + 0.005*\"file\"'),\n",
              " (9,\n",
              "  '0.006*\"year\" + 0.006*\"public\" + 0.005*\"work\" + 0.005*\"state\" + 0.005*\"peopl\" + 0.004*\"program\" + 0.004*\"nation\" + 0.004*\"inform\" + 0.004*\"includ\" + 0.004*\"health\"'),\n",
              " (10,\n",
              "  '0.012*\"post\" + 0.008*\"file\" + 0.008*\"mail\" + 0.008*\"like\" + 0.007*\"list\" + 0.007*\"request\" + 0.006*\"messag\" + 0.006*\"problem\" + 0.006*\"anonym\" + 0.005*\"program\"'),\n",
              " (11,\n",
              "  '0.020*\"output\" + 0.013*\"bit\" + 0.012*\"card\" + 0.009*\"file\" + 0.009*\"color\" + 0.008*\"line\" + 0.008*\"program\" + 0.008*\"work\" + 0.008*\"screen\" + 0.008*\"printf\"'),\n",
              " (12,\n",
              "  '0.018*\"peopl\" + 0.007*\"right\" + 0.007*\"israel\" + 0.007*\"state\" + 0.007*\"govern\" + 0.007*\"isra\" + 0.005*\"greek\" + 0.005*\"forc\" + 0.004*\"countri\" + 0.004*\"kill\"'),\n",
              " (13,\n",
              "  '0.011*\"jew\" + 0.010*\"peopl\" + 0.008*\"think\" + 0.008*\"know\" + 0.007*\"world\" + 0.007*\"time\" + 0.007*\"like\" + 0.006*\"arab\" + 0.006*\"islam\" + 0.005*\"talk\"'),\n",
              " (14,\n",
              "  '0.014*\"kei\" + 0.011*\"encrypt\" + 0.009*\"govern\" + 0.009*\"chip\" + 0.009*\"secur\" + 0.007*\"keyboard\" + 0.007*\"clipper\" + 0.006*\"phone\" + 0.006*\"like\" + 0.006*\"right\"'),\n",
              " (15,\n",
              "  '0.009*\"presid\" + 0.005*\"think\" + 0.005*\"want\" + 0.005*\"bike\" + 0.005*\"job\" + 0.005*\"time\" + 0.005*\"good\" + 0.005*\"work\" + 0.004*\"win\" + 0.004*\"like\"'),\n",
              " (16,\n",
              "  '0.161*\"max\" + 0.024*\"armenian\" + 0.018*\"giz\" + 0.015*\"bhj\" + 0.012*\"bxn\" + 0.011*\"turkish\" + 0.006*\"qax\" + 0.006*\"armenia\" + 0.006*\"turkei\" + 0.006*\"turk\"'),\n",
              " (17,\n",
              "  '0.020*\"edu\" + 0.012*\"com\" + 0.008*\"disk\" + 0.007*\"mail\" + 0.005*\"avail\" + 0.005*\"drive\" + 0.005*\"data\" + 0.005*\"softwar\" + 0.005*\"address\" + 0.004*\"file\"'),\n",
              " (18,\n",
              "  '0.012*\"food\" + 0.006*\"like\" + 0.005*\"helmet\" + 0.005*\"good\" + 0.005*\"restaur\" + 0.004*\"model\" + 0.004*\"time\" + 0.004*\"msg\" + 0.003*\"look\" + 0.003*\"reaction\"'),\n",
              " (19,\n",
              "  '0.008*\"jesu\" + 0.007*\"peopl\" + 0.006*\"law\" + 0.005*\"book\" + 0.005*\"word\" + 0.005*\"like\" + 0.005*\"christian\" + 0.005*\"think\" + 0.004*\"mean\" + 0.004*\"thing\"'),\n",
              " (20,\n",
              "  '0.011*\"obfusc\" + 0.009*\"ripem\" + 0.007*\"mail\" + 0.006*\"send\" + 0.005*\"kei\" + 0.005*\"offer\" + 0.005*\"jpeg\" + 0.005*\"know\" + 0.004*\"attack\" + 0.004*\"messag\"'),\n",
              " (21,\n",
              "  '0.020*\"file\" + 0.017*\"program\" + 0.016*\"entri\" + 0.015*\"window\" + 0.007*\"version\" + 0.007*\"includ\" + 0.007*\"server\" + 0.006*\"applic\" + 0.006*\"avail\" + 0.006*\"widget\"'),\n",
              " (22,\n",
              "  '0.016*\"game\" + 0.013*\"year\" + 0.012*\"team\" + 0.009*\"plai\" + 0.007*\"player\" + 0.007*\"like\" + 0.007*\"think\" + 0.007*\"good\" + 0.006*\"time\" + 0.006*\"season\"')]"
            ]
          },
          "metadata": {},
          "execution_count": 37
        }
      ]
    },
    {
      "cell_type": "markdown",
      "metadata": {
        "id": "vLljp8WR3qHB"
      },
      "source": [
        "## 토픽 모델링 시각화"
      ]
    },
    {
      "cell_type": "code",
      "metadata": {
        "id": "Z6lhKMEwJqAd",
        "colab": {
          "base_uri": "https://localhost:8080/",
          "height": 1000
        },
        "outputId": "2efb7937-8bb3-4811-a404-8ddf430fa24b"
      },
      "source": [
        "!pip install pyLDAvis"
      ],
      "execution_count": 38,
      "outputs": [
        {
          "output_type": "stream",
          "name": "stdout",
          "text": [
            "Collecting pyLDAvis\n",
            "  Downloading pyLDAvis-3.3.1.tar.gz (1.7 MB)\n",
            "\u001b[K     |████████████████████████████████| 1.7 MB 4.7 MB/s \n",
            "\u001b[?25h  Installing build dependencies ... \u001b[?25l\u001b[?25hdone\n",
            "  Getting requirements to build wheel ... \u001b[?25l\u001b[?25hdone\n",
            "  Installing backend dependencies ... \u001b[?25l\u001b[?25hdone\n",
            "    Preparing wheel metadata ... \u001b[?25l\u001b[?25hdone\n",
            "Requirement already satisfied: scikit-learn in /usr/local/lib/python3.7/dist-packages (from pyLDAvis) (1.0.1)\n",
            "Requirement already satisfied: future in /usr/local/lib/python3.7/dist-packages (from pyLDAvis) (0.16.0)\n",
            "Collecting numpy>=1.20.0\n",
            "  Downloading numpy-1.21.5-cp37-cp37m-manylinux_2_12_x86_64.manylinux2010_x86_64.whl (15.7 MB)\n",
            "\u001b[K     |████████████████████████████████| 15.7 MB 213 kB/s \n",
            "\u001b[?25hCollecting pandas>=1.2.0\n",
            "  Downloading pandas-1.3.5-cp37-cp37m-manylinux_2_17_x86_64.manylinux2014_x86_64.whl (11.3 MB)\n",
            "\u001b[K     |████████████████████████████████| 11.3 MB 41.3 MB/s \n",
            "\u001b[?25hRequirement already satisfied: numexpr in /usr/local/lib/python3.7/dist-packages (from pyLDAvis) (2.7.3)\n",
            "Requirement already satisfied: setuptools in /usr/local/lib/python3.7/dist-packages (from pyLDAvis) (57.4.0)\n",
            "Requirement already satisfied: sklearn in /usr/local/lib/python3.7/dist-packages (from pyLDAvis) (0.0)\n",
            "Requirement already satisfied: scipy in /usr/local/lib/python3.7/dist-packages (from pyLDAvis) (1.4.1)\n",
            "Requirement already satisfied: joblib in /usr/local/lib/python3.7/dist-packages (from pyLDAvis) (1.1.0)\n",
            "Requirement already satisfied: gensim in /usr/local/lib/python3.7/dist-packages (from pyLDAvis) (3.6.0)\n",
            "Requirement already satisfied: jinja2 in /usr/local/lib/python3.7/dist-packages (from pyLDAvis) (2.11.3)\n",
            "Collecting funcy\n",
            "  Downloading funcy-1.17-py2.py3-none-any.whl (33 kB)\n",
            "Requirement already satisfied: pytz>=2017.3 in /usr/local/lib/python3.7/dist-packages (from pandas>=1.2.0->pyLDAvis) (2018.9)\n",
            "Requirement already satisfied: python-dateutil>=2.7.3 in /usr/local/lib/python3.7/dist-packages (from pandas>=1.2.0->pyLDAvis) (2.8.2)\n",
            "Requirement already satisfied: six>=1.5 in /usr/local/lib/python3.7/dist-packages (from python-dateutil>=2.7.3->pandas>=1.2.0->pyLDAvis) (1.15.0)\n",
            "Requirement already satisfied: smart-open>=1.2.1 in /usr/local/lib/python3.7/dist-packages (from gensim->pyLDAvis) (5.2.1)\n",
            "Requirement already satisfied: MarkupSafe>=0.23 in /usr/local/lib/python3.7/dist-packages (from jinja2->pyLDAvis) (2.0.1)\n",
            "Requirement already satisfied: threadpoolctl>=2.0.0 in /usr/local/lib/python3.7/dist-packages (from scikit-learn->pyLDAvis) (3.0.0)\n",
            "Building wheels for collected packages: pyLDAvis\n",
            "  Building wheel for pyLDAvis (PEP 517) ... \u001b[?25l\u001b[?25hdone\n",
            "  Created wheel for pyLDAvis: filename=pyLDAvis-3.3.1-py2.py3-none-any.whl size=136897 sha256=e27453cb0c21b9b1a67c36f37817647bc7b2b0a63af1d7b684317786a46ba893\n",
            "  Stored in directory: /root/.cache/pip/wheels/c9/21/f6/17bcf2667e8a68532ba2fbf6d5c72fdf4c7f7d9abfa4852d2f\n",
            "Successfully built pyLDAvis\n",
            "Installing collected packages: numpy, pandas, funcy, pyLDAvis\n",
            "  Attempting uninstall: numpy\n",
            "    Found existing installation: numpy 1.19.5\n",
            "    Uninstalling numpy-1.19.5:\n",
            "      Successfully uninstalled numpy-1.19.5\n",
            "  Attempting uninstall: pandas\n",
            "    Found existing installation: pandas 1.1.5\n",
            "    Uninstalling pandas-1.1.5:\n",
            "      Successfully uninstalled pandas-1.1.5\n",
            "\u001b[31mERROR: pip's dependency resolver does not currently take into account all the packages that are installed. This behaviour is the source of the following dependency conflicts.\n",
            "yellowbrick 1.3.post1 requires numpy<1.20,>=1.16.0, but you have numpy 1.21.5 which is incompatible.\n",
            "google-colab 1.0.0 requires pandas~=1.1.0; python_version >= \"3.0\", but you have pandas 1.3.5 which is incompatible.\n",
            "datascience 0.10.6 requires folium==0.2.1, but you have folium 0.8.3 which is incompatible.\n",
            "albumentations 0.1.12 requires imgaug<0.2.7,>=0.2.5, but you have imgaug 0.2.9 which is incompatible.\u001b[0m\n",
            "Successfully installed funcy-1.17 numpy-1.21.5 pandas-1.3.5 pyLDAvis-3.3.1\n"
          ]
        },
        {
          "output_type": "display_data",
          "data": {
            "application/vnd.colab-display-data+json": {
              "pip_warning": {
                "packages": [
                  "numpy",
                  "pandas"
                ]
              }
            }
          },
          "metadata": {}
        }
      ]
    },
    {
      "cell_type": "code",
      "metadata": {
        "id": "FRYHzP_9JuC3",
        "colab": {
          "base_uri": "https://localhost:8080/",
          "height": 391
        },
        "outputId": "07c06104-1dc1-4071-d2c0-9530d6b69897"
      },
      "source": [
        "import pyLDAvis.gensim\n",
        "\n",
        "pyLDAvis.enable_notebook()\n",
        "vis = pyLDAvis.gensim.prepare(lda_model, corpus, dictionary)\n",
        "pyLDAvis.display(vis)"
      ],
      "execution_count": 40,
      "outputs": [
        {
          "output_type": "error",
          "ename": "ModuleNotFoundError",
          "evalue": "ignored",
          "traceback": [
            "\u001b[0;31m---------------------------------------------------------------------------\u001b[0m",
            "\u001b[0;31mModuleNotFoundError\u001b[0m                       Traceback (most recent call last)",
            "\u001b[0;32m<ipython-input-40-49621c35eb62>\u001b[0m in \u001b[0;36m<module>\u001b[0;34m()\u001b[0m\n\u001b[0;32m----> 1\u001b[0;31m \u001b[0;32mimport\u001b[0m \u001b[0mpyLDAvis\u001b[0m\u001b[0;34m.\u001b[0m\u001b[0mgensim\u001b[0m\u001b[0;34m\u001b[0m\u001b[0;34m\u001b[0m\u001b[0m\n\u001b[0m\u001b[1;32m      2\u001b[0m \u001b[0;34m\u001b[0m\u001b[0m\n\u001b[1;32m      3\u001b[0m \u001b[0mpyLDAvis\u001b[0m\u001b[0;34m.\u001b[0m\u001b[0menable_notebook\u001b[0m\u001b[0;34m(\u001b[0m\u001b[0;34m)\u001b[0m\u001b[0;34m\u001b[0m\u001b[0;34m\u001b[0m\u001b[0m\n\u001b[1;32m      4\u001b[0m \u001b[0mvis\u001b[0m \u001b[0;34m=\u001b[0m \u001b[0mpyLDAvis\u001b[0m\u001b[0;34m.\u001b[0m\u001b[0mgensim\u001b[0m\u001b[0;34m.\u001b[0m\u001b[0mprepare\u001b[0m\u001b[0;34m(\u001b[0m\u001b[0mlda_model\u001b[0m\u001b[0;34m,\u001b[0m \u001b[0mcorpus\u001b[0m\u001b[0;34m,\u001b[0m \u001b[0mdictionary\u001b[0m\u001b[0;34m)\u001b[0m\u001b[0;34m\u001b[0m\u001b[0;34m\u001b[0m\u001b[0m\n\u001b[1;32m      5\u001b[0m \u001b[0mpyLDAvis\u001b[0m\u001b[0;34m.\u001b[0m\u001b[0mdisplay\u001b[0m\u001b[0;34m(\u001b[0m\u001b[0mvis\u001b[0m\u001b[0;34m)\u001b[0m\u001b[0;34m\u001b[0m\u001b[0;34m\u001b[0m\u001b[0m\n",
            "\u001b[0;31mModuleNotFoundError\u001b[0m: No module named 'pyLDAvis.gensim'",
            "",
            "\u001b[0;31m---------------------------------------------------------------------------\u001b[0;32m\nNOTE: If your import is failing due to a missing package, you can\nmanually install dependencies using either !pip or !apt.\n\nTo view examples of installing some common dependencies, click the\n\"Open Examples\" button below.\n\u001b[0;31m---------------------------------------------------------------------------\u001b[0m\n"
          ],
          "errorDetails": {
            "actions": [
              {
                "action": "open_url",
                "actionText": "Open Examples",
                "url": "/notebooks/snippets/importing_libraries.ipynb"
              }
            ]
          }
        }
      ]
    }
  ]
}