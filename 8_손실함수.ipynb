{
  "nbformat": 4,
  "nbformat_minor": 0,
  "metadata": {
    "colab": {
      "name": "8_손실함수.ipynb",
      "private_outputs": true,
      "provenance": [],
      "machine_shape": "hm",
      "authorship_tag": "ABX9TyM9U9QD8gZlI8qEJfyRIcIs",
      "include_colab_link": true
    },
    "kernelspec": {
      "name": "python3",
      "display_name": "Python 3"
    },
    "language_info": {
      "name": "python"
    },
    "accelerator": "GPU"
  },
  "cells": [
    {
      "cell_type": "markdown",
      "metadata": {
        "id": "view-in-github",
        "colab_type": "text"
      },
      "source": [
        "<a href=\"https://colab.research.google.com/github/RockhoRockho/Deep_Learning_Tensorflow/blob/main/8_%EC%86%90%EC%8B%A4%ED%95%A8%EC%88%98.ipynb\" target=\"_parent\"><img src=\"https://colab.research.google.com/assets/colab-badge.svg\" alt=\"Open In Colab\"/></a>"
      ]
    },
    {
      "cell_type": "markdown",
      "metadata": {
        "id": "DJKV14hp0Om7"
      },
      "source": [
        "## **1. 손실 함수를 사용하는 목표**"
      ]
    },
    {
      "cell_type": "markdown",
      "metadata": {
        "id": "t28VWo1g1CNg"
      },
      "source": [
        "* Linear Layer 함수가 얼마나 원하는 만큼 동작하는지 측정하고 싶음\n",
        "* 잘 동작하는지 점수로 나타내고 싶음"
      ]
    },
    {
      "cell_type": "markdown",
      "metadata": {
        "id": "x7lDlwsi1PSS"
      },
      "source": [
        "### **Loss**"
      ]
    },
    {
      "cell_type": "markdown",
      "metadata": {
        "id": "qCMGd98R1aXo"
      },
      "source": [
        "* 손실값 : 원하는 출력값(target, y)과 실제 출력값(output, ^y)의 차이의 합\n",
        "* Loss가 작을 수록 가상의 함수를 잘 모사하고 있다고 할 수 있음\n",
        "* Loss가 작은 Linear Layer를 선택하면 됨"
      ]
    },
    {
      "cell_type": "markdown",
      "metadata": {
        "id": "CYCFO6Vo1oWS"
      },
      "source": [
        "### **Loss Function**"
      ]
    },
    {
      "cell_type": "markdown",
      "metadata": {
        "id": "ZyEVy1Qo1xJy"
      },
      "source": [
        "* Linear Layer의 파라미터를 바꿀때마다 Loss를 계산\n"
      ]
    },
    {
      "cell_type": "markdown",
      "metadata": {
        "id": "QTHBJzVS12hB"
      },
      "source": [
        "Conclusion\n",
        "> 목표롤 하는 함수를 모사하기 위해 학습용 입력 데이터들을 Linear Layer에 넣어 출력 값들을 구하고, 출력 값(^y)들과 목표값(y)들의 차이의 합(Loss)을 최소화 해야 함."
      ]
    },
    {
      "cell_type": "markdown",
      "metadata": {
        "id": "_Kw_4nlT2jYK"
      },
      "source": [
        "**Mean Square Error(MSE) Loss**"
      ]
    },
    {
      "cell_type": "markdown",
      "metadata": {
        "id": "2oRiPFEu2s5q"
      },
      "source": [
        "$$\\text{MSE}(\\hat{x}_{1:N},x_{1:N})=\\frac{1}{N\\times{n}}\\sum_{i=1}^{N}{||x_i-\\hat{x}_i||_2^2}$$"
      ]
    },
    {
      "cell_type": "code",
      "metadata": {
        "id": "D99rBxQn3HqR"
      },
      "source": [
        "def mse(x_hat, x):\n",
        "  y = ((x - x_hat) ** 2).mean()\n",
        "  return y"
      ],
      "execution_count": null,
      "outputs": []
    },
    {
      "cell_type": "code",
      "metadata": {
        "id": "Mz-UZu8e4AWW"
      },
      "source": [
        "import torch"
      ],
      "execution_count": null,
      "outputs": []
    },
    {
      "cell_type": "code",
      "metadata": {
        "id": "HvyymLBf3ZpZ"
      },
      "source": [
        "x = torch.FloatTensor([[1, 1],\n",
        "                       [2, 2]])\n",
        "x_hat = torch.FloatTensor([[0, 0],\n",
        "                           [0, 0]])\n",
        "print(x.size(), x_hat.size())"
      ],
      "execution_count": null,
      "outputs": []
    },
    {
      "cell_type": "code",
      "metadata": {
        "id": "KgKANqQm35eJ"
      },
      "source": [
        "mse(x_hat, x)"
      ],
      "execution_count": null,
      "outputs": []
    },
    {
      "cell_type": "code",
      "metadata": {
        "id": "JSEzMjGS4MuJ"
      },
      "source": [
        ""
      ],
      "execution_count": null,
      "outputs": []
    }
  ]
}