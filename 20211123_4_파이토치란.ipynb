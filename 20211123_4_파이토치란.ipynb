{
  "nbformat": 4,
  "nbformat_minor": 0,
  "metadata": {
    "colab": {
      "name": "20211123_4_파이토치란.ipynb",
      "private_outputs": true,
      "provenance": [],
      "collapsed_sections": [],
      "toc_visible": true,
      "authorship_tag": "ABX9TyOZeUeH4L7LwLgLMS2ZDEa7",
      "include_colab_link": true
    },
    "kernelspec": {
      "name": "python3",
      "display_name": "Python 3"
    },
    "language_info": {
      "name": "python"
    },
    "accelerator": "GPU"
  },
  "cells": [
    {
      "cell_type": "markdown",
      "metadata": {
        "id": "view-in-github",
        "colab_type": "text"
      },
      "source": [
        "<a href=\"https://colab.research.google.com/github/RockhoRockho/Deep_Learning_Tensorflow/blob/main/20211123_4_%ED%8C%8C%EC%9D%B4%ED%86%A0%EC%B9%98%EB%9E%80.ipynb\" target=\"_parent\"><img src=\"https://colab.research.google.com/assets/colab-badge.svg\" alt=\"Open In Colab\"/></a>"
      ]
    },
    {
      "cell_type": "markdown",
      "metadata": {
        "id": "dnDak2REhm14"
      },
      "source": [
        "# **1. Pytorch**"
      ]
    },
    {
      "cell_type": "markdown",
      "metadata": {
        "id": "yoIgxXBriU7k"
      },
      "source": [
        "* Pytorch는 tensorflow와 함께 딥러닝에서 가장 널리 사용되는 framework\n",
        "* 초기에는 Torch라는 이름으로 Lua언어 기반으로 만들어졌으나, 이후 python기반으로 변경한 것이 Pytorch임\n",
        "* New York 대학교와 Facebook이 공동으로 만들었고, 가장 대중적으로 널리 사용되는 framework임"
      ]
    },
    {
      "cell_type": "markdown",
      "metadata": {
        "id": "UXlOGyznikZ1"
      },
      "source": [
        "# **2. Pytorch import**"
      ]
    },
    {
      "cell_type": "code",
      "metadata": {
        "id": "qyyS8E4ejDhT"
      },
      "source": [
        "import torch\n",
        "print(torch.__version__)"
      ],
      "execution_count": null,
      "outputs": []
    },
    {
      "cell_type": "markdown",
      "metadata": {
        "id": "oRd9lo-DjGMy"
      },
      "source": [
        "### 2-1. Tensor"
      ]
    },
    {
      "cell_type": "markdown",
      "metadata": {
        "id": "co9Rinohjgks"
      },
      "source": [
        "* 텐서(tensor)는 배열(array)이나 행렬(matrix)과 매우 유사한 특수한 자료구조\n",
        "* Pytorch에서는 텐서를 사용하여 모델의 입력(input)과 출력(output), 그리고 모델의 매개변수들을 부호화(encode)함"
      ]
    },
    {
      "cell_type": "code",
      "metadata": {
        "id": "3ubJsPy9jwvt"
      },
      "source": [
        "# list로부터 직접 tensor 생성\n",
        "data = [[1, 2], [3, 4]]\n",
        "x_data = torch.tensor(data)\n",
        "print(x_data)"
      ],
      "execution_count": null,
      "outputs": []
    },
    {
      "cell_type": "code",
      "metadata": {
        "id": "wL3zOqCGkIZG"
      },
      "source": [
        "import numpy as np"
      ],
      "execution_count": null,
      "outputs": []
    },
    {
      "cell_type": "code",
      "metadata": {
        "id": "ndq8Aj-fj3T0"
      },
      "source": [
        "# numpy array로부터 tensor 생성\n",
        "np_array = np.array(data)\n",
        "x_np_1 = torch.tensor(data) # 카피를 만듬(새로운 텐서, 메모리낭비)\n",
        "print(x_np_1)"
      ],
      "execution_count": null,
      "outputs": []
    },
    {
      "cell_type": "code",
      "metadata": {
        "id": "kg86jY4kkJ1U"
      },
      "source": [
        "x_np_2 = torch.as_tensor(np_array) # 뷰를만듦\n",
        "print(x_np_2)"
      ],
      "execution_count": null,
      "outputs": []
    },
    {
      "cell_type": "code",
      "metadata": {
        "id": "mLEARon_kabL"
      },
      "source": [
        "x_np_3 = torch.from_numpy(np_array) # 뷰를만듦\n",
        "print(x_np_3)"
      ],
      "execution_count": null,
      "outputs": []
    },
    {
      "cell_type": "code",
      "metadata": {
        "id": "kNT2oLjwkeNj"
      },
      "source": [
        "x_np_1[0, 0] = 5\n",
        "print(x_np_1)\n",
        "print(np_array)"
      ],
      "execution_count": null,
      "outputs": []
    },
    {
      "cell_type": "code",
      "metadata": {
        "id": "g6OcPU7FkqvL"
      },
      "source": [
        "x_np_2[0, 0] = 6\n",
        "print(x_np_2)\n",
        "print(np_array)"
      ],
      "execution_count": null,
      "outputs": []
    },
    {
      "cell_type": "code",
      "metadata": {
        "id": "SPbYwD-sk17b"
      },
      "source": [
        "x_np_3[0, 0] = 7\n",
        "print(x_np_3)\n",
        "print(np_array)"
      ],
      "execution_count": null,
      "outputs": []
    },
    {
      "cell_type": "code",
      "metadata": {
        "id": "BOE8hLHwlDxs"
      },
      "source": [
        "np_again = x_np_1.numpy()\n",
        "print(np_again, type(np_again))"
      ],
      "execution_count": null,
      "outputs": []
    },
    {
      "cell_type": "code",
      "metadata": {
        "id": "63bCOxwrlkOs"
      },
      "source": [
        "a = torch.ones(2, 3)\n",
        "print(a)\n",
        "b = torch.zeros(2, 3)\n",
        "print(b)\n",
        "c = torch.full((2, 3), 2)\n",
        "print(c)\n",
        "d = torch.empty(2, 3)\n",
        "print(d)"
      ],
      "execution_count": null,
      "outputs": []
    },
    {
      "cell_type": "code",
      "metadata": {
        "id": "2uLS0jW6l4RT"
      },
      "source": [
        "e = torch.zeros_like(c)\n",
        "print(e)\n",
        "f = torch.ones_like(c)\n",
        "print(f)\n",
        "g = torch.full_like(c, 3)\n",
        "print(g)\n",
        "h = torch.empty_like(c)\n",
        "print(h)"
      ],
      "execution_count": null,
      "outputs": []
    },
    {
      "cell_type": "code",
      "metadata": {
        "id": "6xssgf2il-rr"
      },
      "source": [
        "i = torch.eye(3)\n",
        "print(i)"
      ],
      "execution_count": null,
      "outputs": []
    },
    {
      "cell_type": "code",
      "metadata": {
        "id": "dMMUzscJmaVs"
      },
      "source": [
        "j = torch.arange(10)\n",
        "print(j)"
      ],
      "execution_count": null,
      "outputs": []
    },
    {
      "cell_type": "code",
      "metadata": {
        "id": "1r7CIEv9mcIr"
      },
      "source": [
        "k = torch.rand(2, 2)\n",
        "l = torch.randn(2, 2)\n",
        "print(k)\n",
        "print(l)"
      ],
      "execution_count": null,
      "outputs": []
    },
    {
      "cell_type": "markdown",
      "metadata": {
        "id": "iflnXvnynKc5"
      },
      "source": [
        "### **2-2 Tensor 속성**"
      ]
    },
    {
      "cell_type": "code",
      "metadata": {
        "id": "B7RWXGrCmgXs"
      },
      "source": [
        "tensor = torch.rand(3, 4)\n",
        "\n",
        "print(f'Shape of tensor: {tensor.shape}')\n",
        "print(f'DataType of tensor: {tensor.dtype}')\n",
        "print(f'Device tensor: {tensor.device}')"
      ],
      "execution_count": null,
      "outputs": []
    },
    {
      "cell_type": "code",
      "metadata": {
        "id": "xtSIj1Gfns0u"
      },
      "source": [
        "# 속성 변경\n",
        "tensor = tensor.reshape(4, 3)\n",
        "tensor = tensor.int()\n",
        "if torch.cuda.is_available():\n",
        "  tensor = tensor.to('gpu') # 확인 !\n",
        "\n",
        "print(f'Shape of tensor: {tensor.shape}')\n",
        "print(f'DataType of tensor: {tensor.dtype}')\n",
        "print(f'Device tensor: {tensor.device}') # 확인!"
      ],
      "execution_count": null,
      "outputs": []
    },
    {
      "cell_type": "markdown",
      "metadata": {
        "id": "jjqKix_5oFSN"
      },
      "source": [
        "### **2-3 Indexing과 Slicing**"
      ]
    },
    {
      "cell_type": "code",
      "metadata": {
        "id": "zkQMsMDjo3Pk"
      },
      "source": [
        "a = torch.arange(1, 13).reshape(3, 4)\n",
        "print(a)"
      ],
      "execution_count": null,
      "outputs": []
    },
    {
      "cell_type": "code",
      "metadata": {
        "id": "GhXnnEadpF_M"
      },
      "source": [
        "# Indexing\n",
        "print(a[1])\n",
        "print(a[0, -1])"
      ],
      "execution_count": null,
      "outputs": []
    },
    {
      "cell_type": "code",
      "metadata": {
        "id": "bQmdhRCTpOnM"
      },
      "source": [
        "# Slicing\n",
        "print(a[1:-1])\n",
        "print(a[:2, 2:])"
      ],
      "execution_count": null,
      "outputs": []
    },
    {
      "cell_type": "markdown",
      "metadata": {
        "id": "MKKpKHGrpX5M"
      },
      "source": [
        "### **2-4 Transpose**"
      ]
    },
    {
      "cell_type": "code",
      "metadata": {
        "id": "vdrOKOXPpkY1"
      },
      "source": [
        "a = torch.arange(16).reshape(2, 2, 4) # (0, 1, 2) 의미\n",
        "print(a)"
      ],
      "execution_count": null,
      "outputs": []
    },
    {
      "cell_type": "code",
      "metadata": {
        "id": "dUog4xeTpn_s"
      },
      "source": [
        "b = a.transpose(1, 2) # (0, 2, 1)로 변환\n",
        "print(b, b.shape)"
      ],
      "execution_count": null,
      "outputs": []
    },
    {
      "cell_type": "code",
      "metadata": {
        "id": "Z1zIKvOvp_Gc"
      },
      "source": [
        "c = a.permute((2, 0, 1)) # (2, 0, 1)로 변환\n",
        "print(c, c.shape)"
      ],
      "execution_count": null,
      "outputs": []
    },
    {
      "cell_type": "markdown",
      "metadata": {
        "id": "d1YuDCpLqFPM"
      },
      "source": [
        "### 2-5 Tensor 연산"
      ]
    },
    {
      "cell_type": "code",
      "metadata": {
        "id": "NiDaLWUAtNVV"
      },
      "source": [
        "x = torch.tensor([[1, 2], [3, 4]], dtype=torch.float32)\n",
        "y = torch.tensor([[5, 6], [7, 8]], dtype=torch.float32)\n",
        "print(x)\n",
        "print(y)"
      ],
      "execution_count": null,
      "outputs": []
    },
    {
      "cell_type": "code",
      "metadata": {
        "id": "NMH8CaRrtXXM"
      },
      "source": [
        "print(x + y)\n",
        "print(x - y)\n",
        "print(x * y)\n",
        "print(x / y)\n",
        "print(x @ y)\n",
        "print('😎'*30)\n",
        "print(torch.add(x, y))\n",
        "print(torch.subtract(x, y))\n",
        "print(torch.multiply(x, y))\n",
        "print(torch.divide(x, y))\n",
        "print(torch.matmul(x, y))"
      ],
      "execution_count": null,
      "outputs": []
    },
    {
      "cell_type": "code",
      "metadata": {
        "id": "gzeD66KxtdnS"
      },
      "source": [
        "# in-place 연산\n",
        "print(x.add(y))\n",
        "print(x)\n",
        "\n",
        "print(x.add_(y)) # x에 결과가 다시 저장\n",
        "print(x)"
      ],
      "execution_count": null,
      "outputs": []
    },
    {
      "cell_type": "code",
      "metadata": {
        "id": "K_cyyfe_vBPM"
      },
      "source": [
        "z = torch.arange(1, 11).reshape(2, 5)\n",
        "print(z)"
      ],
      "execution_count": null,
      "outputs": []
    },
    {
      "cell_type": "code",
      "metadata": {
        "id": "FlO0SW6Lvn4l"
      },
      "source": [
        "sum1 = torch.sum(z, axis=0)\n",
        "sum2 = torch.sum(z, axis=1)\n",
        "sum3 = torch.sum(z, axis=-1)\n",
        "print(sum1, sum1.shape)\n",
        "print(sum2, sum2.shape)\n",
        "print(sum3, sum3.shape)"
      ],
      "execution_count": null,
      "outputs": []
    },
    {
      "cell_type": "code",
      "metadata": {
        "id": "2G9rJX56vzn_"
      },
      "source": [
        "a = torch.arange(24).reshape(4, 6)\n",
        "b = a.clone().detach()\n",
        "print(a, a.shape)\n",
        "print(b, b.shape)"
      ],
      "execution_count": null,
      "outputs": []
    },
    {
      "cell_type": "code",
      "metadata": {
        "id": "QpEX2hRVwAlN"
      },
      "source": [
        "c = torch.cat([a, b], axis=0)\n",
        "print(c, c.shape)"
      ],
      "execution_count": null,
      "outputs": []
    },
    {
      "cell_type": "code",
      "metadata": {
        "id": "dsl2iOLJwNxs"
      },
      "source": [
        "c = torch.cat([a, b], axis=1)\n",
        "print(c, c.shape)"
      ],
      "execution_count": null,
      "outputs": []
    },
    {
      "cell_type": "markdown",
      "metadata": {
        "id": "Ew4pfEHnwXH2"
      },
      "source": [
        "# **3. Pytorch로 구현한 손글씨**"
      ]
    },
    {
      "cell_type": "code",
      "metadata": {
        "id": "CbW9CHg6wd5G"
      },
      "source": [
        "from torch import nn\n",
        "from torch.utils.data import DataLoader\n",
        "from torchvision import datasets\n",
        "from torchvision.transforms import ToTensor, Lambda, Compose\n",
        "import matplotlib.pyplot as plt\n",
        "import numpy as np"
      ],
      "execution_count": null,
      "outputs": []
    },
    {
      "cell_type": "code",
      "metadata": {
        "id": "MOFfA404w2tE"
      },
      "source": [
        "## MNIST Data down\n",
        "\n",
        "# 공개 데이터셋에서 학습 데이터를 내려받음\n",
        "training_data = datasets.MNIST(\n",
        "    root='data',\n",
        "    train=True,\n",
        "    download=True,\n",
        "    transform=ToTensor()\n",
        ")\n",
        "\n",
        "# 공개 데이터셋에서 학습 데이터를 내려받음\n",
        "test_data = datasets.MNIST(\n",
        "    root='data',\n",
        "    train=False,\n",
        "    download=True,\n",
        "    transform=ToTensor()\n",
        ")"
      ],
      "execution_count": null,
      "outputs": []
    },
    {
      "cell_type": "code",
      "metadata": {
        "id": "7q0xnuLqxWVn"
      },
      "source": [
        "batch_size = 64\n",
        "\n",
        "# 데이터로더를 생성, 텐서에서는 데이터셋\n",
        "train_dataloader = DataLoader(training_data, batch_size=batch_size)\n",
        "test_dataloader = DataLoader(test_data, batch_size=batch_size)\n",
        "\n",
        "for X, y in test_dataloader:\n",
        "  print('Shape of X [N, C, H, W]: ', X.shape)\n",
        "  print('Shape of y: ', y.shape, y.dtype)\n",
        "  break"
      ],
      "execution_count": null,
      "outputs": []
    },
    {
      "cell_type": "code",
      "metadata": {
        "id": "WfkznT_PyUql"
      },
      "source": [
        "# 학습에 사용할 CPU나 GPU장치를 얻음\n",
        "device = 'cuda' if torch.cuda.is_available() else 'cpu'\n",
        "print('Using {} device'.format(device))\n",
        "\n",
        "# 모델을 정의\n",
        "class NeuralNetwork(nn.Module):\n",
        "  def __init__(self):\n",
        "    super(NeuralNetwork, self).__init__()\n",
        "    self.flatten = nn.Flatten()\n",
        "    self.linear_relu_stack = nn.Sequential(\n",
        "        nn.Linear(28*28, 128),\n",
        "        nn.ReLU(),\n",
        "        nn.Dropout(0.2),\n",
        "        nn.Linear(128, 10)\n",
        "    )\n",
        "\n",
        "  def forward(self, x):\n",
        "    x = self.flatten(x)\n",
        "    logits = self.linear_relu_stack\n",
        "    return logits\n",
        "\n",
        "model = NeuralNetwork().to(device)\n",
        "print(model)"
      ],
      "execution_count": null,
      "outputs": []
    },
    {
      "cell_type": "code",
      "metadata": {
        "id": "IsfJn2P6yuC9"
      },
      "source": [
        "# Loss 함수와 Optimizer 설정\n",
        "loss_fn = nn.CrossEntropyLoss()\n",
        "optimizer = torch.optim.Adam(model.parameters(), lr=1e-3)"
      ],
      "execution_count": null,
      "outputs": []
    },
    {
      "cell_type": "code",
      "metadata": {
        "id": "zehiXsxp1Ahc"
      },
      "source": [
        "# Training을 위한 함수\n",
        "def train(dataloader, model, loss_fn, optimizer):\n",
        "  size = len(dataloader, dataset)\n",
        "  for batch, (X, y) in enumerate(dataloader):\n",
        "    X, y = X.to(device), y.to(device)\n",
        "\n",
        "    # 예측 오류 계산\n",
        "    pred = model(x)\n",
        "    loss = loss_fn(pred, y)\n",
        "\n",
        "    # 역전파\n",
        "    optimizer.zero_grad()\n",
        "    loss.backward()\n",
        "    optimizer.step()\n",
        "\n",
        "    if batch % 100 == 0:\n",
        "      loss, current = loss.time(), batch * len(X)\n",
        "      print(f'loss: {loss:>7f} [{current:>5d}/{size:>5d}]')"
      ],
      "execution_count": null,
      "outputs": []
    },
    {
      "cell_type": "code",
      "metadata": {
        "id": "27FaHYsP1_ol"
      },
      "source": [
        ""
      ],
      "execution_count": null,
      "outputs": []
    }
  ]
}