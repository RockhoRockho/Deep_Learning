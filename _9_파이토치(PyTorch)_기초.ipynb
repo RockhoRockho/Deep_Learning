{
  "nbformat": 4,
  "nbformat_minor": 0,
  "metadata": {
    "colab": {
      "name": "_9 파이토치(PyTorch) 기초.ipynb",
      "provenance": [],
      "collapsed_sections": [],
      "machine_shape": "hm",
      "include_colab_link": true
    },
    "kernelspec": {
      "name": "python3",
      "display_name": "Python 3"
    },
    "accelerator": "GPU",
    "widgets": {
      "application/vnd.jupyter.widget-state+json": {
        "a63514eb82f647ddb6f9af5d633764a8": {
          "model_module": "@jupyter-widgets/controls",
          "model_name": "HBoxModel",
          "model_module_version": "1.5.0",
          "state": {
            "_view_name": "HBoxView",
            "_dom_classes": [],
            "_model_name": "HBoxModel",
            "_view_module": "@jupyter-widgets/controls",
            "_model_module_version": "1.5.0",
            "_view_count": null,
            "_view_module_version": "1.5.0",
            "box_style": "",
            "layout": "IPY_MODEL_717898f728cf49b29c867ad0496ff557",
            "_model_module": "@jupyter-widgets/controls",
            "children": [
              "IPY_MODEL_beefc1a6554a4d38a991303622ee13f8",
              "IPY_MODEL_d632953bba644ee1b9079e5818aacf3a",
              "IPY_MODEL_8fa2f71f80e24abeb7e18500c4b4d36d"
            ]
          }
        },
        "717898f728cf49b29c867ad0496ff557": {
          "model_module": "@jupyter-widgets/base",
          "model_name": "LayoutModel",
          "model_module_version": "1.2.0",
          "state": {
            "_view_name": "LayoutView",
            "grid_template_rows": null,
            "right": null,
            "justify_content": null,
            "_view_module": "@jupyter-widgets/base",
            "overflow": null,
            "_model_module_version": "1.2.0",
            "_view_count": null,
            "flex_flow": null,
            "width": null,
            "min_width": null,
            "border": null,
            "align_items": null,
            "bottom": null,
            "_model_module": "@jupyter-widgets/base",
            "top": null,
            "grid_column": null,
            "overflow_y": null,
            "overflow_x": null,
            "grid_auto_flow": null,
            "grid_area": null,
            "grid_template_columns": null,
            "flex": null,
            "_model_name": "LayoutModel",
            "justify_items": null,
            "grid_row": null,
            "max_height": null,
            "align_content": null,
            "visibility": null,
            "align_self": null,
            "height": null,
            "min_height": null,
            "padding": null,
            "grid_auto_rows": null,
            "grid_gap": null,
            "max_width": null,
            "order": null,
            "_view_module_version": "1.2.0",
            "grid_template_areas": null,
            "object_position": null,
            "object_fit": null,
            "grid_auto_columns": null,
            "margin": null,
            "display": null,
            "left": null
          }
        },
        "beefc1a6554a4d38a991303622ee13f8": {
          "model_module": "@jupyter-widgets/controls",
          "model_name": "HTMLModel",
          "model_module_version": "1.5.0",
          "state": {
            "_view_name": "HTMLView",
            "style": "IPY_MODEL_0798abd81eec41c9ab5096cf835c6edb",
            "_dom_classes": [],
            "description": "",
            "_model_name": "HTMLModel",
            "placeholder": "​",
            "_view_module": "@jupyter-widgets/controls",
            "_model_module_version": "1.5.0",
            "value": "",
            "_view_count": null,
            "_view_module_version": "1.5.0",
            "description_tooltip": null,
            "_model_module": "@jupyter-widgets/controls",
            "layout": "IPY_MODEL_92e1807604dc470b9678cbad1e490802"
          }
        },
        "d632953bba644ee1b9079e5818aacf3a": {
          "model_module": "@jupyter-widgets/controls",
          "model_name": "FloatProgressModel",
          "model_module_version": "1.5.0",
          "state": {
            "_view_name": "ProgressView",
            "style": "IPY_MODEL_e579fc6451d940d89f2469c5a2f550a4",
            "_dom_classes": [],
            "description": "",
            "_model_name": "FloatProgressModel",
            "bar_style": "success",
            "max": 9912422,
            "_view_module": "@jupyter-widgets/controls",
            "_model_module_version": "1.5.0",
            "value": 9912422,
            "_view_count": null,
            "_view_module_version": "1.5.0",
            "orientation": "horizontal",
            "min": 0,
            "description_tooltip": null,
            "_model_module": "@jupyter-widgets/controls",
            "layout": "IPY_MODEL_65d83d4fa86c4c788bfa844f8327390e"
          }
        },
        "8fa2f71f80e24abeb7e18500c4b4d36d": {
          "model_module": "@jupyter-widgets/controls",
          "model_name": "HTMLModel",
          "model_module_version": "1.5.0",
          "state": {
            "_view_name": "HTMLView",
            "style": "IPY_MODEL_bf04837f4b2b424f9b45e6425f16bab2",
            "_dom_classes": [],
            "description": "",
            "_model_name": "HTMLModel",
            "placeholder": "​",
            "_view_module": "@jupyter-widgets/controls",
            "_model_module_version": "1.5.0",
            "value": " 9913344/? [00:00&lt;00:00, 19393931.15it/s]",
            "_view_count": null,
            "_view_module_version": "1.5.0",
            "description_tooltip": null,
            "_model_module": "@jupyter-widgets/controls",
            "layout": "IPY_MODEL_b65b89142727420ca54ac97f56b06369"
          }
        },
        "0798abd81eec41c9ab5096cf835c6edb": {
          "model_module": "@jupyter-widgets/controls",
          "model_name": "DescriptionStyleModel",
          "model_module_version": "1.5.0",
          "state": {
            "_view_name": "StyleView",
            "_model_name": "DescriptionStyleModel",
            "description_width": "",
            "_view_module": "@jupyter-widgets/base",
            "_model_module_version": "1.5.0",
            "_view_count": null,
            "_view_module_version": "1.2.0",
            "_model_module": "@jupyter-widgets/controls"
          }
        },
        "92e1807604dc470b9678cbad1e490802": {
          "model_module": "@jupyter-widgets/base",
          "model_name": "LayoutModel",
          "model_module_version": "1.2.0",
          "state": {
            "_view_name": "LayoutView",
            "grid_template_rows": null,
            "right": null,
            "justify_content": null,
            "_view_module": "@jupyter-widgets/base",
            "overflow": null,
            "_model_module_version": "1.2.0",
            "_view_count": null,
            "flex_flow": null,
            "width": null,
            "min_width": null,
            "border": null,
            "align_items": null,
            "bottom": null,
            "_model_module": "@jupyter-widgets/base",
            "top": null,
            "grid_column": null,
            "overflow_y": null,
            "overflow_x": null,
            "grid_auto_flow": null,
            "grid_area": null,
            "grid_template_columns": null,
            "flex": null,
            "_model_name": "LayoutModel",
            "justify_items": null,
            "grid_row": null,
            "max_height": null,
            "align_content": null,
            "visibility": null,
            "align_self": null,
            "height": null,
            "min_height": null,
            "padding": null,
            "grid_auto_rows": null,
            "grid_gap": null,
            "max_width": null,
            "order": null,
            "_view_module_version": "1.2.0",
            "grid_template_areas": null,
            "object_position": null,
            "object_fit": null,
            "grid_auto_columns": null,
            "margin": null,
            "display": null,
            "left": null
          }
        },
        "e579fc6451d940d89f2469c5a2f550a4": {
          "model_module": "@jupyter-widgets/controls",
          "model_name": "ProgressStyleModel",
          "model_module_version": "1.5.0",
          "state": {
            "_view_name": "StyleView",
            "_model_name": "ProgressStyleModel",
            "description_width": "",
            "_view_module": "@jupyter-widgets/base",
            "_model_module_version": "1.5.0",
            "_view_count": null,
            "_view_module_version": "1.2.0",
            "bar_color": null,
            "_model_module": "@jupyter-widgets/controls"
          }
        },
        "65d83d4fa86c4c788bfa844f8327390e": {
          "model_module": "@jupyter-widgets/base",
          "model_name": "LayoutModel",
          "model_module_version": "1.2.0",
          "state": {
            "_view_name": "LayoutView",
            "grid_template_rows": null,
            "right": null,
            "justify_content": null,
            "_view_module": "@jupyter-widgets/base",
            "overflow": null,
            "_model_module_version": "1.2.0",
            "_view_count": null,
            "flex_flow": null,
            "width": null,
            "min_width": null,
            "border": null,
            "align_items": null,
            "bottom": null,
            "_model_module": "@jupyter-widgets/base",
            "top": null,
            "grid_column": null,
            "overflow_y": null,
            "overflow_x": null,
            "grid_auto_flow": null,
            "grid_area": null,
            "grid_template_columns": null,
            "flex": null,
            "_model_name": "LayoutModel",
            "justify_items": null,
            "grid_row": null,
            "max_height": null,
            "align_content": null,
            "visibility": null,
            "align_self": null,
            "height": null,
            "min_height": null,
            "padding": null,
            "grid_auto_rows": null,
            "grid_gap": null,
            "max_width": null,
            "order": null,
            "_view_module_version": "1.2.0",
            "grid_template_areas": null,
            "object_position": null,
            "object_fit": null,
            "grid_auto_columns": null,
            "margin": null,
            "display": null,
            "left": null
          }
        },
        "bf04837f4b2b424f9b45e6425f16bab2": {
          "model_module": "@jupyter-widgets/controls",
          "model_name": "DescriptionStyleModel",
          "model_module_version": "1.5.0",
          "state": {
            "_view_name": "StyleView",
            "_model_name": "DescriptionStyleModel",
            "description_width": "",
            "_view_module": "@jupyter-widgets/base",
            "_model_module_version": "1.5.0",
            "_view_count": null,
            "_view_module_version": "1.2.0",
            "_model_module": "@jupyter-widgets/controls"
          }
        },
        "b65b89142727420ca54ac97f56b06369": {
          "model_module": "@jupyter-widgets/base",
          "model_name": "LayoutModel",
          "model_module_version": "1.2.0",
          "state": {
            "_view_name": "LayoutView",
            "grid_template_rows": null,
            "right": null,
            "justify_content": null,
            "_view_module": "@jupyter-widgets/base",
            "overflow": null,
            "_model_module_version": "1.2.0",
            "_view_count": null,
            "flex_flow": null,
            "width": null,
            "min_width": null,
            "border": null,
            "align_items": null,
            "bottom": null,
            "_model_module": "@jupyter-widgets/base",
            "top": null,
            "grid_column": null,
            "overflow_y": null,
            "overflow_x": null,
            "grid_auto_flow": null,
            "grid_area": null,
            "grid_template_columns": null,
            "flex": null,
            "_model_name": "LayoutModel",
            "justify_items": null,
            "grid_row": null,
            "max_height": null,
            "align_content": null,
            "visibility": null,
            "align_self": null,
            "height": null,
            "min_height": null,
            "padding": null,
            "grid_auto_rows": null,
            "grid_gap": null,
            "max_width": null,
            "order": null,
            "_view_module_version": "1.2.0",
            "grid_template_areas": null,
            "object_position": null,
            "object_fit": null,
            "grid_auto_columns": null,
            "margin": null,
            "display": null,
            "left": null
          }
        },
        "6a39c668c6854c44a6e8eab6c81fc6f8": {
          "model_module": "@jupyter-widgets/controls",
          "model_name": "HBoxModel",
          "model_module_version": "1.5.0",
          "state": {
            "_view_name": "HBoxView",
            "_dom_classes": [],
            "_model_name": "HBoxModel",
            "_view_module": "@jupyter-widgets/controls",
            "_model_module_version": "1.5.0",
            "_view_count": null,
            "_view_module_version": "1.5.0",
            "box_style": "",
            "layout": "IPY_MODEL_03c7978b18a84f7bb4254491bf7cb856",
            "_model_module": "@jupyter-widgets/controls",
            "children": [
              "IPY_MODEL_c86d8d1af29245a5b9cbf8ee2acd3b4f",
              "IPY_MODEL_b089d28c4b4d422f9ceb2014d7ca10c5",
              "IPY_MODEL_a7f87a8baf7b4749ad3da7be3d78b57b"
            ]
          }
        },
        "03c7978b18a84f7bb4254491bf7cb856": {
          "model_module": "@jupyter-widgets/base",
          "model_name": "LayoutModel",
          "model_module_version": "1.2.0",
          "state": {
            "_view_name": "LayoutView",
            "grid_template_rows": null,
            "right": null,
            "justify_content": null,
            "_view_module": "@jupyter-widgets/base",
            "overflow": null,
            "_model_module_version": "1.2.0",
            "_view_count": null,
            "flex_flow": null,
            "width": null,
            "min_width": null,
            "border": null,
            "align_items": null,
            "bottom": null,
            "_model_module": "@jupyter-widgets/base",
            "top": null,
            "grid_column": null,
            "overflow_y": null,
            "overflow_x": null,
            "grid_auto_flow": null,
            "grid_area": null,
            "grid_template_columns": null,
            "flex": null,
            "_model_name": "LayoutModel",
            "justify_items": null,
            "grid_row": null,
            "max_height": null,
            "align_content": null,
            "visibility": null,
            "align_self": null,
            "height": null,
            "min_height": null,
            "padding": null,
            "grid_auto_rows": null,
            "grid_gap": null,
            "max_width": null,
            "order": null,
            "_view_module_version": "1.2.0",
            "grid_template_areas": null,
            "object_position": null,
            "object_fit": null,
            "grid_auto_columns": null,
            "margin": null,
            "display": null,
            "left": null
          }
        },
        "c86d8d1af29245a5b9cbf8ee2acd3b4f": {
          "model_module": "@jupyter-widgets/controls",
          "model_name": "HTMLModel",
          "model_module_version": "1.5.0",
          "state": {
            "_view_name": "HTMLView",
            "style": "IPY_MODEL_3c2c2cc3d086439caa9e63f818bf70be",
            "_dom_classes": [],
            "description": "",
            "_model_name": "HTMLModel",
            "placeholder": "​",
            "_view_module": "@jupyter-widgets/controls",
            "_model_module_version": "1.5.0",
            "value": "",
            "_view_count": null,
            "_view_module_version": "1.5.0",
            "description_tooltip": null,
            "_model_module": "@jupyter-widgets/controls",
            "layout": "IPY_MODEL_2d61ba231e984ad1a9a23178f9cef6c9"
          }
        },
        "b089d28c4b4d422f9ceb2014d7ca10c5": {
          "model_module": "@jupyter-widgets/controls",
          "model_name": "FloatProgressModel",
          "model_module_version": "1.5.0",
          "state": {
            "_view_name": "ProgressView",
            "style": "IPY_MODEL_195bc63565ee4a8fb499cab000e7ef8d",
            "_dom_classes": [],
            "description": "",
            "_model_name": "FloatProgressModel",
            "bar_style": "success",
            "max": 28881,
            "_view_module": "@jupyter-widgets/controls",
            "_model_module_version": "1.5.0",
            "value": 28881,
            "_view_count": null,
            "_view_module_version": "1.5.0",
            "orientation": "horizontal",
            "min": 0,
            "description_tooltip": null,
            "_model_module": "@jupyter-widgets/controls",
            "layout": "IPY_MODEL_0f02e6ff30b94a26ac578155bafc1220"
          }
        },
        "a7f87a8baf7b4749ad3da7be3d78b57b": {
          "model_module": "@jupyter-widgets/controls",
          "model_name": "HTMLModel",
          "model_module_version": "1.5.0",
          "state": {
            "_view_name": "HTMLView",
            "style": "IPY_MODEL_14f112d745fa41c28d9929b18eaca935",
            "_dom_classes": [],
            "description": "",
            "_model_name": "HTMLModel",
            "placeholder": "​",
            "_view_module": "@jupyter-widgets/controls",
            "_model_module_version": "1.5.0",
            "value": " 29696/? [00:00&lt;00:00, 1013978.29it/s]",
            "_view_count": null,
            "_view_module_version": "1.5.0",
            "description_tooltip": null,
            "_model_module": "@jupyter-widgets/controls",
            "layout": "IPY_MODEL_498267b8ac764dda98a607657b9eb0fb"
          }
        },
        "3c2c2cc3d086439caa9e63f818bf70be": {
          "model_module": "@jupyter-widgets/controls",
          "model_name": "DescriptionStyleModel",
          "model_module_version": "1.5.0",
          "state": {
            "_view_name": "StyleView",
            "_model_name": "DescriptionStyleModel",
            "description_width": "",
            "_view_module": "@jupyter-widgets/base",
            "_model_module_version": "1.5.0",
            "_view_count": null,
            "_view_module_version": "1.2.0",
            "_model_module": "@jupyter-widgets/controls"
          }
        },
        "2d61ba231e984ad1a9a23178f9cef6c9": {
          "model_module": "@jupyter-widgets/base",
          "model_name": "LayoutModel",
          "model_module_version": "1.2.0",
          "state": {
            "_view_name": "LayoutView",
            "grid_template_rows": null,
            "right": null,
            "justify_content": null,
            "_view_module": "@jupyter-widgets/base",
            "overflow": null,
            "_model_module_version": "1.2.0",
            "_view_count": null,
            "flex_flow": null,
            "width": null,
            "min_width": null,
            "border": null,
            "align_items": null,
            "bottom": null,
            "_model_module": "@jupyter-widgets/base",
            "top": null,
            "grid_column": null,
            "overflow_y": null,
            "overflow_x": null,
            "grid_auto_flow": null,
            "grid_area": null,
            "grid_template_columns": null,
            "flex": null,
            "_model_name": "LayoutModel",
            "justify_items": null,
            "grid_row": null,
            "max_height": null,
            "align_content": null,
            "visibility": null,
            "align_self": null,
            "height": null,
            "min_height": null,
            "padding": null,
            "grid_auto_rows": null,
            "grid_gap": null,
            "max_width": null,
            "order": null,
            "_view_module_version": "1.2.0",
            "grid_template_areas": null,
            "object_position": null,
            "object_fit": null,
            "grid_auto_columns": null,
            "margin": null,
            "display": null,
            "left": null
          }
        },
        "195bc63565ee4a8fb499cab000e7ef8d": {
          "model_module": "@jupyter-widgets/controls",
          "model_name": "ProgressStyleModel",
          "model_module_version": "1.5.0",
          "state": {
            "_view_name": "StyleView",
            "_model_name": "ProgressStyleModel",
            "description_width": "",
            "_view_module": "@jupyter-widgets/base",
            "_model_module_version": "1.5.0",
            "_view_count": null,
            "_view_module_version": "1.2.0",
            "bar_color": null,
            "_model_module": "@jupyter-widgets/controls"
          }
        },
        "0f02e6ff30b94a26ac578155bafc1220": {
          "model_module": "@jupyter-widgets/base",
          "model_name": "LayoutModel",
          "model_module_version": "1.2.0",
          "state": {
            "_view_name": "LayoutView",
            "grid_template_rows": null,
            "right": null,
            "justify_content": null,
            "_view_module": "@jupyter-widgets/base",
            "overflow": null,
            "_model_module_version": "1.2.0",
            "_view_count": null,
            "flex_flow": null,
            "width": null,
            "min_width": null,
            "border": null,
            "align_items": null,
            "bottom": null,
            "_model_module": "@jupyter-widgets/base",
            "top": null,
            "grid_column": null,
            "overflow_y": null,
            "overflow_x": null,
            "grid_auto_flow": null,
            "grid_area": null,
            "grid_template_columns": null,
            "flex": null,
            "_model_name": "LayoutModel",
            "justify_items": null,
            "grid_row": null,
            "max_height": null,
            "align_content": null,
            "visibility": null,
            "align_self": null,
            "height": null,
            "min_height": null,
            "padding": null,
            "grid_auto_rows": null,
            "grid_gap": null,
            "max_width": null,
            "order": null,
            "_view_module_version": "1.2.0",
            "grid_template_areas": null,
            "object_position": null,
            "object_fit": null,
            "grid_auto_columns": null,
            "margin": null,
            "display": null,
            "left": null
          }
        },
        "14f112d745fa41c28d9929b18eaca935": {
          "model_module": "@jupyter-widgets/controls",
          "model_name": "DescriptionStyleModel",
          "model_module_version": "1.5.0",
          "state": {
            "_view_name": "StyleView",
            "_model_name": "DescriptionStyleModel",
            "description_width": "",
            "_view_module": "@jupyter-widgets/base",
            "_model_module_version": "1.5.0",
            "_view_count": null,
            "_view_module_version": "1.2.0",
            "_model_module": "@jupyter-widgets/controls"
          }
        },
        "498267b8ac764dda98a607657b9eb0fb": {
          "model_module": "@jupyter-widgets/base",
          "model_name": "LayoutModel",
          "model_module_version": "1.2.0",
          "state": {
            "_view_name": "LayoutView",
            "grid_template_rows": null,
            "right": null,
            "justify_content": null,
            "_view_module": "@jupyter-widgets/base",
            "overflow": null,
            "_model_module_version": "1.2.0",
            "_view_count": null,
            "flex_flow": null,
            "width": null,
            "min_width": null,
            "border": null,
            "align_items": null,
            "bottom": null,
            "_model_module": "@jupyter-widgets/base",
            "top": null,
            "grid_column": null,
            "overflow_y": null,
            "overflow_x": null,
            "grid_auto_flow": null,
            "grid_area": null,
            "grid_template_columns": null,
            "flex": null,
            "_model_name": "LayoutModel",
            "justify_items": null,
            "grid_row": null,
            "max_height": null,
            "align_content": null,
            "visibility": null,
            "align_self": null,
            "height": null,
            "min_height": null,
            "padding": null,
            "grid_auto_rows": null,
            "grid_gap": null,
            "max_width": null,
            "order": null,
            "_view_module_version": "1.2.0",
            "grid_template_areas": null,
            "object_position": null,
            "object_fit": null,
            "grid_auto_columns": null,
            "margin": null,
            "display": null,
            "left": null
          }
        },
        "3873a552bc254e72bb376bf4e17c191f": {
          "model_module": "@jupyter-widgets/controls",
          "model_name": "HBoxModel",
          "model_module_version": "1.5.0",
          "state": {
            "_view_name": "HBoxView",
            "_dom_classes": [],
            "_model_name": "HBoxModel",
            "_view_module": "@jupyter-widgets/controls",
            "_model_module_version": "1.5.0",
            "_view_count": null,
            "_view_module_version": "1.5.0",
            "box_style": "",
            "layout": "IPY_MODEL_4f2a16c6789841caac2be77b26de237b",
            "_model_module": "@jupyter-widgets/controls",
            "children": [
              "IPY_MODEL_c2a2f7b7e2ee45febd139d093b7557b9",
              "IPY_MODEL_2aac0f4dd4cd479c88060f668535689e",
              "IPY_MODEL_df9ab994c77b4be08326692c2a00b749"
            ]
          }
        },
        "4f2a16c6789841caac2be77b26de237b": {
          "model_module": "@jupyter-widgets/base",
          "model_name": "LayoutModel",
          "model_module_version": "1.2.0",
          "state": {
            "_view_name": "LayoutView",
            "grid_template_rows": null,
            "right": null,
            "justify_content": null,
            "_view_module": "@jupyter-widgets/base",
            "overflow": null,
            "_model_module_version": "1.2.0",
            "_view_count": null,
            "flex_flow": null,
            "width": null,
            "min_width": null,
            "border": null,
            "align_items": null,
            "bottom": null,
            "_model_module": "@jupyter-widgets/base",
            "top": null,
            "grid_column": null,
            "overflow_y": null,
            "overflow_x": null,
            "grid_auto_flow": null,
            "grid_area": null,
            "grid_template_columns": null,
            "flex": null,
            "_model_name": "LayoutModel",
            "justify_items": null,
            "grid_row": null,
            "max_height": null,
            "align_content": null,
            "visibility": null,
            "align_self": null,
            "height": null,
            "min_height": null,
            "padding": null,
            "grid_auto_rows": null,
            "grid_gap": null,
            "max_width": null,
            "order": null,
            "_view_module_version": "1.2.0",
            "grid_template_areas": null,
            "object_position": null,
            "object_fit": null,
            "grid_auto_columns": null,
            "margin": null,
            "display": null,
            "left": null
          }
        },
        "c2a2f7b7e2ee45febd139d093b7557b9": {
          "model_module": "@jupyter-widgets/controls",
          "model_name": "HTMLModel",
          "model_module_version": "1.5.0",
          "state": {
            "_view_name": "HTMLView",
            "style": "IPY_MODEL_de904493f4c449e79b340e06580c25c0",
            "_dom_classes": [],
            "description": "",
            "_model_name": "HTMLModel",
            "placeholder": "​",
            "_view_module": "@jupyter-widgets/controls",
            "_model_module_version": "1.5.0",
            "value": "",
            "_view_count": null,
            "_view_module_version": "1.5.0",
            "description_tooltip": null,
            "_model_module": "@jupyter-widgets/controls",
            "layout": "IPY_MODEL_bdbe0c1586304854a677cd637e3ea528"
          }
        },
        "2aac0f4dd4cd479c88060f668535689e": {
          "model_module": "@jupyter-widgets/controls",
          "model_name": "FloatProgressModel",
          "model_module_version": "1.5.0",
          "state": {
            "_view_name": "ProgressView",
            "style": "IPY_MODEL_f1ff7fd6fde44fde82c28853440bd167",
            "_dom_classes": [],
            "description": "",
            "_model_name": "FloatProgressModel",
            "bar_style": "success",
            "max": 1648877,
            "_view_module": "@jupyter-widgets/controls",
            "_model_module_version": "1.5.0",
            "value": 1648877,
            "_view_count": null,
            "_view_module_version": "1.5.0",
            "orientation": "horizontal",
            "min": 0,
            "description_tooltip": null,
            "_model_module": "@jupyter-widgets/controls",
            "layout": "IPY_MODEL_c6c4928a91a4455aac9d3fc675228779"
          }
        },
        "df9ab994c77b4be08326692c2a00b749": {
          "model_module": "@jupyter-widgets/controls",
          "model_name": "HTMLModel",
          "model_module_version": "1.5.0",
          "state": {
            "_view_name": "HTMLView",
            "style": "IPY_MODEL_a7a6aeb918434bc788a912002d25e8e4",
            "_dom_classes": [],
            "description": "",
            "_model_name": "HTMLModel",
            "placeholder": "​",
            "_view_module": "@jupyter-widgets/controls",
            "_model_module_version": "1.5.0",
            "value": " 1649664/? [00:00&lt;00:00, 16665604.42it/s]",
            "_view_count": null,
            "_view_module_version": "1.5.0",
            "description_tooltip": null,
            "_model_module": "@jupyter-widgets/controls",
            "layout": "IPY_MODEL_fb29693481fd47329d40a28c6a876cce"
          }
        },
        "de904493f4c449e79b340e06580c25c0": {
          "model_module": "@jupyter-widgets/controls",
          "model_name": "DescriptionStyleModel",
          "model_module_version": "1.5.0",
          "state": {
            "_view_name": "StyleView",
            "_model_name": "DescriptionStyleModel",
            "description_width": "",
            "_view_module": "@jupyter-widgets/base",
            "_model_module_version": "1.5.0",
            "_view_count": null,
            "_view_module_version": "1.2.0",
            "_model_module": "@jupyter-widgets/controls"
          }
        },
        "bdbe0c1586304854a677cd637e3ea528": {
          "model_module": "@jupyter-widgets/base",
          "model_name": "LayoutModel",
          "model_module_version": "1.2.0",
          "state": {
            "_view_name": "LayoutView",
            "grid_template_rows": null,
            "right": null,
            "justify_content": null,
            "_view_module": "@jupyter-widgets/base",
            "overflow": null,
            "_model_module_version": "1.2.0",
            "_view_count": null,
            "flex_flow": null,
            "width": null,
            "min_width": null,
            "border": null,
            "align_items": null,
            "bottom": null,
            "_model_module": "@jupyter-widgets/base",
            "top": null,
            "grid_column": null,
            "overflow_y": null,
            "overflow_x": null,
            "grid_auto_flow": null,
            "grid_area": null,
            "grid_template_columns": null,
            "flex": null,
            "_model_name": "LayoutModel",
            "justify_items": null,
            "grid_row": null,
            "max_height": null,
            "align_content": null,
            "visibility": null,
            "align_self": null,
            "height": null,
            "min_height": null,
            "padding": null,
            "grid_auto_rows": null,
            "grid_gap": null,
            "max_width": null,
            "order": null,
            "_view_module_version": "1.2.0",
            "grid_template_areas": null,
            "object_position": null,
            "object_fit": null,
            "grid_auto_columns": null,
            "margin": null,
            "display": null,
            "left": null
          }
        },
        "f1ff7fd6fde44fde82c28853440bd167": {
          "model_module": "@jupyter-widgets/controls",
          "model_name": "ProgressStyleModel",
          "model_module_version": "1.5.0",
          "state": {
            "_view_name": "StyleView",
            "_model_name": "ProgressStyleModel",
            "description_width": "",
            "_view_module": "@jupyter-widgets/base",
            "_model_module_version": "1.5.0",
            "_view_count": null,
            "_view_module_version": "1.2.0",
            "bar_color": null,
            "_model_module": "@jupyter-widgets/controls"
          }
        },
        "c6c4928a91a4455aac9d3fc675228779": {
          "model_module": "@jupyter-widgets/base",
          "model_name": "LayoutModel",
          "model_module_version": "1.2.0",
          "state": {
            "_view_name": "LayoutView",
            "grid_template_rows": null,
            "right": null,
            "justify_content": null,
            "_view_module": "@jupyter-widgets/base",
            "overflow": null,
            "_model_module_version": "1.2.0",
            "_view_count": null,
            "flex_flow": null,
            "width": null,
            "min_width": null,
            "border": null,
            "align_items": null,
            "bottom": null,
            "_model_module": "@jupyter-widgets/base",
            "top": null,
            "grid_column": null,
            "overflow_y": null,
            "overflow_x": null,
            "grid_auto_flow": null,
            "grid_area": null,
            "grid_template_columns": null,
            "flex": null,
            "_model_name": "LayoutModel",
            "justify_items": null,
            "grid_row": null,
            "max_height": null,
            "align_content": null,
            "visibility": null,
            "align_self": null,
            "height": null,
            "min_height": null,
            "padding": null,
            "grid_auto_rows": null,
            "grid_gap": null,
            "max_width": null,
            "order": null,
            "_view_module_version": "1.2.0",
            "grid_template_areas": null,
            "object_position": null,
            "object_fit": null,
            "grid_auto_columns": null,
            "margin": null,
            "display": null,
            "left": null
          }
        },
        "a7a6aeb918434bc788a912002d25e8e4": {
          "model_module": "@jupyter-widgets/controls",
          "model_name": "DescriptionStyleModel",
          "model_module_version": "1.5.0",
          "state": {
            "_view_name": "StyleView",
            "_model_name": "DescriptionStyleModel",
            "description_width": "",
            "_view_module": "@jupyter-widgets/base",
            "_model_module_version": "1.5.0",
            "_view_count": null,
            "_view_module_version": "1.2.0",
            "_model_module": "@jupyter-widgets/controls"
          }
        },
        "fb29693481fd47329d40a28c6a876cce": {
          "model_module": "@jupyter-widgets/base",
          "model_name": "LayoutModel",
          "model_module_version": "1.2.0",
          "state": {
            "_view_name": "LayoutView",
            "grid_template_rows": null,
            "right": null,
            "justify_content": null,
            "_view_module": "@jupyter-widgets/base",
            "overflow": null,
            "_model_module_version": "1.2.0",
            "_view_count": null,
            "flex_flow": null,
            "width": null,
            "min_width": null,
            "border": null,
            "align_items": null,
            "bottom": null,
            "_model_module": "@jupyter-widgets/base",
            "top": null,
            "grid_column": null,
            "overflow_y": null,
            "overflow_x": null,
            "grid_auto_flow": null,
            "grid_area": null,
            "grid_template_columns": null,
            "flex": null,
            "_model_name": "LayoutModel",
            "justify_items": null,
            "grid_row": null,
            "max_height": null,
            "align_content": null,
            "visibility": null,
            "align_self": null,
            "height": null,
            "min_height": null,
            "padding": null,
            "grid_auto_rows": null,
            "grid_gap": null,
            "max_width": null,
            "order": null,
            "_view_module_version": "1.2.0",
            "grid_template_areas": null,
            "object_position": null,
            "object_fit": null,
            "grid_auto_columns": null,
            "margin": null,
            "display": null,
            "left": null
          }
        },
        "ff2820ed6a3d4aa487de119e3200e29e": {
          "model_module": "@jupyter-widgets/controls",
          "model_name": "HBoxModel",
          "model_module_version": "1.5.0",
          "state": {
            "_view_name": "HBoxView",
            "_dom_classes": [],
            "_model_name": "HBoxModel",
            "_view_module": "@jupyter-widgets/controls",
            "_model_module_version": "1.5.0",
            "_view_count": null,
            "_view_module_version": "1.5.0",
            "box_style": "",
            "layout": "IPY_MODEL_d08b23ad8ebe44c7b343182de4dc0894",
            "_model_module": "@jupyter-widgets/controls",
            "children": [
              "IPY_MODEL_dba4a0693d5e41ec9724d9e9a0f184d0",
              "IPY_MODEL_0fec911fc4774e2eaeec5fb3a3da210e",
              "IPY_MODEL_30a40bc0aa7646e987c7a0ee376805b0"
            ]
          }
        },
        "d08b23ad8ebe44c7b343182de4dc0894": {
          "model_module": "@jupyter-widgets/base",
          "model_name": "LayoutModel",
          "model_module_version": "1.2.0",
          "state": {
            "_view_name": "LayoutView",
            "grid_template_rows": null,
            "right": null,
            "justify_content": null,
            "_view_module": "@jupyter-widgets/base",
            "overflow": null,
            "_model_module_version": "1.2.0",
            "_view_count": null,
            "flex_flow": null,
            "width": null,
            "min_width": null,
            "border": null,
            "align_items": null,
            "bottom": null,
            "_model_module": "@jupyter-widgets/base",
            "top": null,
            "grid_column": null,
            "overflow_y": null,
            "overflow_x": null,
            "grid_auto_flow": null,
            "grid_area": null,
            "grid_template_columns": null,
            "flex": null,
            "_model_name": "LayoutModel",
            "justify_items": null,
            "grid_row": null,
            "max_height": null,
            "align_content": null,
            "visibility": null,
            "align_self": null,
            "height": null,
            "min_height": null,
            "padding": null,
            "grid_auto_rows": null,
            "grid_gap": null,
            "max_width": null,
            "order": null,
            "_view_module_version": "1.2.0",
            "grid_template_areas": null,
            "object_position": null,
            "object_fit": null,
            "grid_auto_columns": null,
            "margin": null,
            "display": null,
            "left": null
          }
        },
        "dba4a0693d5e41ec9724d9e9a0f184d0": {
          "model_module": "@jupyter-widgets/controls",
          "model_name": "HTMLModel",
          "model_module_version": "1.5.0",
          "state": {
            "_view_name": "HTMLView",
            "style": "IPY_MODEL_c8f39cb93f784e86bb60c8442bc84cd4",
            "_dom_classes": [],
            "description": "",
            "_model_name": "HTMLModel",
            "placeholder": "​",
            "_view_module": "@jupyter-widgets/controls",
            "_model_module_version": "1.5.0",
            "value": "",
            "_view_count": null,
            "_view_module_version": "1.5.0",
            "description_tooltip": null,
            "_model_module": "@jupyter-widgets/controls",
            "layout": "IPY_MODEL_d155e5dbecda4c689669ca5d2509c1fc"
          }
        },
        "0fec911fc4774e2eaeec5fb3a3da210e": {
          "model_module": "@jupyter-widgets/controls",
          "model_name": "FloatProgressModel",
          "model_module_version": "1.5.0",
          "state": {
            "_view_name": "ProgressView",
            "style": "IPY_MODEL_8da6365d3f6844da9e2783eae59c64ce",
            "_dom_classes": [],
            "description": "",
            "_model_name": "FloatProgressModel",
            "bar_style": "success",
            "max": 4542,
            "_view_module": "@jupyter-widgets/controls",
            "_model_module_version": "1.5.0",
            "value": 4542,
            "_view_count": null,
            "_view_module_version": "1.5.0",
            "orientation": "horizontal",
            "min": 0,
            "description_tooltip": null,
            "_model_module": "@jupyter-widgets/controls",
            "layout": "IPY_MODEL_12c2df4168464c7cb927e6e476a4e878"
          }
        },
        "30a40bc0aa7646e987c7a0ee376805b0": {
          "model_module": "@jupyter-widgets/controls",
          "model_name": "HTMLModel",
          "model_module_version": "1.5.0",
          "state": {
            "_view_name": "HTMLView",
            "style": "IPY_MODEL_dd765326f9f74a098dbfc7b0ba0182cd",
            "_dom_classes": [],
            "description": "",
            "_model_name": "HTMLModel",
            "placeholder": "​",
            "_view_module": "@jupyter-widgets/controls",
            "_model_module_version": "1.5.0",
            "value": " 5120/? [00:00&lt;00:00, 178056.30it/s]",
            "_view_count": null,
            "_view_module_version": "1.5.0",
            "description_tooltip": null,
            "_model_module": "@jupyter-widgets/controls",
            "layout": "IPY_MODEL_fb22bc54d0514cda9d29b1cd713b0463"
          }
        },
        "c8f39cb93f784e86bb60c8442bc84cd4": {
          "model_module": "@jupyter-widgets/controls",
          "model_name": "DescriptionStyleModel",
          "model_module_version": "1.5.0",
          "state": {
            "_view_name": "StyleView",
            "_model_name": "DescriptionStyleModel",
            "description_width": "",
            "_view_module": "@jupyter-widgets/base",
            "_model_module_version": "1.5.0",
            "_view_count": null,
            "_view_module_version": "1.2.0",
            "_model_module": "@jupyter-widgets/controls"
          }
        },
        "d155e5dbecda4c689669ca5d2509c1fc": {
          "model_module": "@jupyter-widgets/base",
          "model_name": "LayoutModel",
          "model_module_version": "1.2.0",
          "state": {
            "_view_name": "LayoutView",
            "grid_template_rows": null,
            "right": null,
            "justify_content": null,
            "_view_module": "@jupyter-widgets/base",
            "overflow": null,
            "_model_module_version": "1.2.0",
            "_view_count": null,
            "flex_flow": null,
            "width": null,
            "min_width": null,
            "border": null,
            "align_items": null,
            "bottom": null,
            "_model_module": "@jupyter-widgets/base",
            "top": null,
            "grid_column": null,
            "overflow_y": null,
            "overflow_x": null,
            "grid_auto_flow": null,
            "grid_area": null,
            "grid_template_columns": null,
            "flex": null,
            "_model_name": "LayoutModel",
            "justify_items": null,
            "grid_row": null,
            "max_height": null,
            "align_content": null,
            "visibility": null,
            "align_self": null,
            "height": null,
            "min_height": null,
            "padding": null,
            "grid_auto_rows": null,
            "grid_gap": null,
            "max_width": null,
            "order": null,
            "_view_module_version": "1.2.0",
            "grid_template_areas": null,
            "object_position": null,
            "object_fit": null,
            "grid_auto_columns": null,
            "margin": null,
            "display": null,
            "left": null
          }
        },
        "8da6365d3f6844da9e2783eae59c64ce": {
          "model_module": "@jupyter-widgets/controls",
          "model_name": "ProgressStyleModel",
          "model_module_version": "1.5.0",
          "state": {
            "_view_name": "StyleView",
            "_model_name": "ProgressStyleModel",
            "description_width": "",
            "_view_module": "@jupyter-widgets/base",
            "_model_module_version": "1.5.0",
            "_view_count": null,
            "_view_module_version": "1.2.0",
            "bar_color": null,
            "_model_module": "@jupyter-widgets/controls"
          }
        },
        "12c2df4168464c7cb927e6e476a4e878": {
          "model_module": "@jupyter-widgets/base",
          "model_name": "LayoutModel",
          "model_module_version": "1.2.0",
          "state": {
            "_view_name": "LayoutView",
            "grid_template_rows": null,
            "right": null,
            "justify_content": null,
            "_view_module": "@jupyter-widgets/base",
            "overflow": null,
            "_model_module_version": "1.2.0",
            "_view_count": null,
            "flex_flow": null,
            "width": null,
            "min_width": null,
            "border": null,
            "align_items": null,
            "bottom": null,
            "_model_module": "@jupyter-widgets/base",
            "top": null,
            "grid_column": null,
            "overflow_y": null,
            "overflow_x": null,
            "grid_auto_flow": null,
            "grid_area": null,
            "grid_template_columns": null,
            "flex": null,
            "_model_name": "LayoutModel",
            "justify_items": null,
            "grid_row": null,
            "max_height": null,
            "align_content": null,
            "visibility": null,
            "align_self": null,
            "height": null,
            "min_height": null,
            "padding": null,
            "grid_auto_rows": null,
            "grid_gap": null,
            "max_width": null,
            "order": null,
            "_view_module_version": "1.2.0",
            "grid_template_areas": null,
            "object_position": null,
            "object_fit": null,
            "grid_auto_columns": null,
            "margin": null,
            "display": null,
            "left": null
          }
        },
        "dd765326f9f74a098dbfc7b0ba0182cd": {
          "model_module": "@jupyter-widgets/controls",
          "model_name": "DescriptionStyleModel",
          "model_module_version": "1.5.0",
          "state": {
            "_view_name": "StyleView",
            "_model_name": "DescriptionStyleModel",
            "description_width": "",
            "_view_module": "@jupyter-widgets/base",
            "_model_module_version": "1.5.0",
            "_view_count": null,
            "_view_module_version": "1.2.0",
            "_model_module": "@jupyter-widgets/controls"
          }
        },
        "fb22bc54d0514cda9d29b1cd713b0463": {
          "model_module": "@jupyter-widgets/base",
          "model_name": "LayoutModel",
          "model_module_version": "1.2.0",
          "state": {
            "_view_name": "LayoutView",
            "grid_template_rows": null,
            "right": null,
            "justify_content": null,
            "_view_module": "@jupyter-widgets/base",
            "overflow": null,
            "_model_module_version": "1.2.0",
            "_view_count": null,
            "flex_flow": null,
            "width": null,
            "min_width": null,
            "border": null,
            "align_items": null,
            "bottom": null,
            "_model_module": "@jupyter-widgets/base",
            "top": null,
            "grid_column": null,
            "overflow_y": null,
            "overflow_x": null,
            "grid_auto_flow": null,
            "grid_area": null,
            "grid_template_columns": null,
            "flex": null,
            "_model_name": "LayoutModel",
            "justify_items": null,
            "grid_row": null,
            "max_height": null,
            "align_content": null,
            "visibility": null,
            "align_self": null,
            "height": null,
            "min_height": null,
            "padding": null,
            "grid_auto_rows": null,
            "grid_gap": null,
            "max_width": null,
            "order": null,
            "_view_module_version": "1.2.0",
            "grid_template_areas": null,
            "object_position": null,
            "object_fit": null,
            "grid_auto_columns": null,
            "margin": null,
            "display": null,
            "left": null
          }
        }
      }
    }
  },
  "cells": [
    {
      "cell_type": "markdown",
      "metadata": {
        "id": "view-in-github",
        "colab_type": "text"
      },
      "source": [
        "<a href=\"https://colab.research.google.com/github/RockhoRockho/Deep_Learning_Tensorflow/blob/main/_9_%ED%8C%8C%EC%9D%B4%ED%86%A0%EC%B9%98(PyTorch)_%EA%B8%B0%EC%B4%88.ipynb\" target=\"_parent\"><img src=\"https://colab.research.google.com/assets/colab-badge.svg\" alt=\"Open In Colab\"/></a>"
      ]
    },
    {
      "cell_type": "markdown",
      "metadata": {
        "id": "f9Xx-jP92OgP"
      },
      "source": [
        "# 파이토치(PyTorch)\n",
        "\n",
        "<img src=\"https://img1.daumcdn.net/thumb/R800x0/?scode=mtistory2&fname=https%3A%2F%2Fblog.kakaocdn.net%2Fdn%2FbuUgoV%2FbtqwWZvcHHX%2Fd6XzIFBEfiuFb0UvyV4A50%2Fimg.jpg\" width=\"300\">\n",
        "\n",
        "- 코드 출처: https://pytorch.org/tutorials/"
      ]
    },
    {
      "cell_type": "markdown",
      "metadata": {
        "id": "3cxreguz2sL0"
      },
      "source": [
        "## 파이토치의 구성요소\n",
        "\n",
        "- `torch`: 텐서를 생성하는 라이브러리\n",
        "\n",
        "- `torch.autograd`: 자동미분 기능을 제공하는 라이브러리\n",
        "\n",
        "- `torch.nn`: 신경망을 생성하는 라이브러리\n",
        "\n",
        "- `torch.multiprocessing`: 병럴처리 기능을 제공하는 라이브러리\n",
        "\n",
        "- `torch.utils`: 데이터 조작 등 유틸리티 기능 제공\n",
        "\n",
        "- `torch.legacy`(./nn/.optim): Torch로부터 포팅해온 코드\n",
        "\n",
        "- `torch.onnx`: ONNX(Open Neural Network Exchange)\n",
        "\n",
        "  - 서로 다른 프레임워크 간의 모델을 공유할 때 사용"
      ]
    },
    {
      "cell_type": "markdown",
      "metadata": {
        "id": "gb5O_aSvtHvb"
      },
      "source": [
        "## 텐서(Tensors)\n",
        "- 넘파이(NumPy)의 ndarray와 유사\n",
        "\n",
        "- GPU를 사용한 연산 가속도 가능"
      ]
    },
    {
      "cell_type": "code",
      "metadata": {
        "id": "CmKIvnx0s8G6"
      },
      "source": [
        "import torch"
      ],
      "execution_count": 1,
      "outputs": []
    },
    {
      "cell_type": "code",
      "metadata": {
        "id": "49IHV-qJE5FI",
        "colab": {
          "base_uri": "https://localhost:8080/",
          "height": 35
        },
        "outputId": "3429ee9b-ef04-4641-d0f6-93b10111bcc4"
      },
      "source": [
        "torch.__version__"
      ],
      "execution_count": 2,
      "outputs": [
        {
          "output_type": "execute_result",
          "data": {
            "application/vnd.google.colaboratory.intrinsic+json": {
              "type": "string"
            },
            "text/plain": [
              "'1.10.0+cu111'"
            ]
          },
          "metadata": {},
          "execution_count": 2
        }
      ]
    },
    {
      "cell_type": "markdown",
      "metadata": {
        "id": "isUHVy-gtZeT"
      },
      "source": [
        "### 초기화 되지 않은 행렬 "
      ]
    },
    {
      "cell_type": "code",
      "metadata": {
        "id": "3PqY3cZatU0D",
        "colab": {
          "base_uri": "https://localhost:8080/"
        },
        "outputId": "6f2c201c-46ea-4bbe-b92c-31992d1e73ea"
      },
      "source": [
        "x = torch.empty(4, 2)\n",
        "print(x)"
      ],
      "execution_count": 3,
      "outputs": [
        {
          "output_type": "stream",
          "name": "stdout",
          "text": [
            "tensor([[-4.0424e+07,  3.0798e-41],\n",
            "        [ 3.3631e-44,  0.0000e+00],\n",
            "        [        nan,  3.0798e-41],\n",
            "        [ 1.1578e+27,  1.1362e+30]])\n"
          ]
        }
      ]
    },
    {
      "cell_type": "markdown",
      "metadata": {
        "id": "zPCIJ2pNteZv"
      },
      "source": [
        "### 무작위로 초기화된 행렬"
      ]
    },
    {
      "cell_type": "code",
      "metadata": {
        "id": "h6oPj2Q9tdYx",
        "colab": {
          "base_uri": "https://localhost:8080/"
        },
        "outputId": "bab3aa6c-980e-4f28-807d-600c35ad123c"
      },
      "source": [
        "x = torch.rand(4, 2)\n",
        "print(x)"
      ],
      "execution_count": 4,
      "outputs": [
        {
          "output_type": "stream",
          "name": "stdout",
          "text": [
            "tensor([[0.9606, 0.3775],\n",
            "        [0.2595, 0.8344],\n",
            "        [0.2941, 0.6275],\n",
            "        [0.5213, 0.3062]])\n"
          ]
        }
      ]
    },
    {
      "cell_type": "markdown",
      "metadata": {
        "id": "A5aHphIHtiJk"
      },
      "source": [
        "### dtype이 long, 0으로 채워진 텐서"
      ]
    },
    {
      "cell_type": "code",
      "metadata": {
        "id": "4zykN8aMthXk",
        "colab": {
          "base_uri": "https://localhost:8080/"
        },
        "outputId": "22aa9c0d-7963-49e3-91db-7e2fadafa842"
      },
      "source": [
        "x = torch.zeros(4, 2, dtype=torch.long)\n",
        "print(x)"
      ],
      "execution_count": 5,
      "outputs": [
        {
          "output_type": "stream",
          "name": "stdout",
          "text": [
            "tensor([[0, 0],\n",
            "        [0, 0],\n",
            "        [0, 0],\n",
            "        [0, 0]])\n"
          ]
        }
      ]
    },
    {
      "cell_type": "code",
      "metadata": {
        "id": "W4VL8C_ctu8b",
        "colab": {
          "base_uri": "https://localhost:8080/"
        },
        "outputId": "d0984cdd-edcb-48f3-aec1-1d55c9a50ce3"
      },
      "source": [
        "x = torch.tensor([3, 2.3])\n",
        "print(x)"
      ],
      "execution_count": 6,
      "outputs": [
        {
          "output_type": "stream",
          "name": "stdout",
          "text": [
            "tensor([3.0000, 2.3000])\n"
          ]
        }
      ]
    },
    {
      "cell_type": "code",
      "metadata": {
        "id": "4RmVBVtIt46M",
        "colab": {
          "base_uri": "https://localhost:8080/"
        },
        "outputId": "f834e7c4-857a-42c6-b411-1a50dbf0c88d"
      },
      "source": [
        "x = x.new_ones(2, 4, dtype=torch.double)\n",
        "print(x)"
      ],
      "execution_count": 7,
      "outputs": [
        {
          "output_type": "stream",
          "name": "stdout",
          "text": [
            "tensor([[1., 1., 1., 1.],\n",
            "        [1., 1., 1., 1.]], dtype=torch.float64)\n"
          ]
        }
      ]
    },
    {
      "cell_type": "code",
      "metadata": {
        "id": "xxskTUfGuPUe",
        "colab": {
          "base_uri": "https://localhost:8080/"
        },
        "outputId": "2d6edd3f-455c-4416-ca91-36897a27c170"
      },
      "source": [
        "x = torch.randn_like(x, dtype=torch.float)\n",
        "print(x)"
      ],
      "execution_count": 8,
      "outputs": [
        {
          "output_type": "stream",
          "name": "stdout",
          "text": [
            "tensor([[-0.9259,  0.8007,  1.2171,  0.5977],\n",
            "        [ 0.5256,  0.6785,  0.5022,  1.2011]])\n"
          ]
        }
      ]
    },
    {
      "cell_type": "markdown",
      "metadata": {
        "id": "7j5sGxGvucpH"
      },
      "source": [
        "### 텐서의 크기"
      ]
    },
    {
      "cell_type": "code",
      "metadata": {
        "id": "yy-JbqKEuYIR",
        "colab": {
          "base_uri": "https://localhost:8080/"
        },
        "outputId": "ad263ba3-2f87-4025-846a-d673936d63f1"
      },
      "source": [
        "print(x.size())"
      ],
      "execution_count": 9,
      "outputs": [
        {
          "output_type": "stream",
          "name": "stdout",
          "text": [
            "torch.Size([2, 4])\n"
          ]
        }
      ]
    },
    {
      "cell_type": "markdown",
      "metadata": {
        "id": "ehOg0eDwufru"
      },
      "source": [
        "## 텐서의 연산(operations)"
      ]
    },
    {
      "cell_type": "markdown",
      "metadata": {
        "id": "j8Doc_37uh3G"
      },
      "source": [
        "### 덧셈 1"
      ]
    },
    {
      "cell_type": "code",
      "metadata": {
        "id": "Rw4JCYkYuef9",
        "colab": {
          "base_uri": "https://localhost:8080/"
        },
        "outputId": "c4cc4dcd-431d-4a79-b428-2ef2c4f83373"
      },
      "source": [
        "print(x)"
      ],
      "execution_count": 10,
      "outputs": [
        {
          "output_type": "stream",
          "name": "stdout",
          "text": [
            "tensor([[-0.9259,  0.8007,  1.2171,  0.5977],\n",
            "        [ 0.5256,  0.6785,  0.5022,  1.2011]])\n"
          ]
        }
      ]
    },
    {
      "cell_type": "code",
      "metadata": {
        "id": "Wa44ur1Nuj5U",
        "colab": {
          "base_uri": "https://localhost:8080/"
        },
        "outputId": "cd6c9f17-b9a2-4b8c-999f-41449e5cc7cc"
      },
      "source": [
        "y = torch.rand(2, 4)\n",
        "print(y)\n",
        "print(x + y)"
      ],
      "execution_count": 11,
      "outputs": [
        {
          "output_type": "stream",
          "name": "stdout",
          "text": [
            "tensor([[0.4843, 0.9847, 0.6711, 0.5747],\n",
            "        [0.7260, 0.4067, 0.3838, 0.9330]])\n",
            "tensor([[-0.4417,  1.7854,  1.8882,  1.1725],\n",
            "        [ 1.2516,  1.0852,  0.8861,  2.1341]])\n"
          ]
        }
      ]
    },
    {
      "cell_type": "markdown",
      "metadata": {
        "id": "E5gcOo-Ouo9B"
      },
      "source": [
        "### 덧셈2"
      ]
    },
    {
      "cell_type": "code",
      "metadata": {
        "id": "Qx-NzJhhumZx",
        "colab": {
          "base_uri": "https://localhost:8080/"
        },
        "outputId": "b2517030-aabe-43e8-de81-d929d7db608d"
      },
      "source": [
        "print(torch.add(x, y))"
      ],
      "execution_count": 12,
      "outputs": [
        {
          "output_type": "stream",
          "name": "stdout",
          "text": [
            "tensor([[-0.4417,  1.7854,  1.8882,  1.1725],\n",
            "        [ 1.2516,  1.0852,  0.8861,  2.1341]])\n"
          ]
        }
      ]
    },
    {
      "cell_type": "markdown",
      "metadata": {
        "id": "RlvrQhLuuuIr"
      },
      "source": [
        "### 덧셈3\n",
        "- 결과 텐서를 인자로 제공"
      ]
    },
    {
      "cell_type": "code",
      "metadata": {
        "id": "lUsLAOTcur1-",
        "colab": {
          "base_uri": "https://localhost:8080/"
        },
        "outputId": "e8541a0a-ee16-4c5c-dc34-77633c980367"
      },
      "source": [
        "result = torch.empty(2, 4)\n",
        "torch.add(x, y, out=result)\n",
        "print(result)"
      ],
      "execution_count": 13,
      "outputs": [
        {
          "output_type": "stream",
          "name": "stdout",
          "text": [
            "tensor([[-0.4417,  1.7854,  1.8882,  1.1725],\n",
            "        [ 1.2516,  1.0852,  0.8861,  2.1341]])\n"
          ]
        }
      ]
    },
    {
      "cell_type": "markdown",
      "metadata": {
        "id": "V6BdyZFSu2Ei"
      },
      "source": [
        "### 덧셈4\n",
        "- `in-place` 방식\n",
        "\n",
        "- (참고) in-place 방식\n",
        "  - in-place방식으로 텐서의 값을 변경하는 연산 뒤에는 _''가 붙음\n",
        "  - `x.copy_(y), x.t_()`"
      ]
    },
    {
      "cell_type": "code",
      "metadata": {
        "id": "lu8rR4WVu0wQ",
        "colab": {
          "base_uri": "https://localhost:8080/"
        },
        "outputId": "5a12c50b-cd9c-4be8-f02f-018a500afc30"
      },
      "source": [
        "print(x)\n",
        "print(y)\n",
        "y.add_(x)\n",
        "print(y)"
      ],
      "execution_count": 14,
      "outputs": [
        {
          "output_type": "stream",
          "name": "stdout",
          "text": [
            "tensor([[-0.9259,  0.8007,  1.2171,  0.5977],\n",
            "        [ 0.5256,  0.6785,  0.5022,  1.2011]])\n",
            "tensor([[0.4843, 0.9847, 0.6711, 0.5747],\n",
            "        [0.7260, 0.4067, 0.3838, 0.9330]])\n",
            "tensor([[-0.4417,  1.7854,  1.8882,  1.1725],\n",
            "        [ 1.2516,  1.0852,  0.8861,  2.1341]])\n"
          ]
        }
      ]
    },
    {
      "cell_type": "markdown",
      "metadata": {
        "id": "Uo8nsrGjOw6W"
      },
      "source": [
        "### 그 외의 연산\n",
        "- `torch.sub` : 뺄셈\n",
        "\n",
        "- `torch.mul` : 곱셉\n",
        "\n",
        "- `torch.div` : 나눗셈\n",
        "\n",
        "- `torch.mm` : 내적(dot product)"
      ]
    },
    {
      "cell_type": "code",
      "metadata": {
        "id": "S51kxzPTO1ER",
        "colab": {
          "base_uri": "https://localhost:8080/"
        },
        "outputId": "aab5a1eb-226b-4e7a-dbef-6d2360cf2177"
      },
      "source": [
        "x = torch.Tensor([[1, 3],\n",
        "                  [5, 7]])\n",
        "y = torch.Tensor([[2, 4],\n",
        "                  [6, 8]])\n",
        "print(x - y)\n",
        "print(torch.sub(x, y))\n",
        "print(x.sub(y))"
      ],
      "execution_count": 15,
      "outputs": [
        {
          "output_type": "stream",
          "name": "stdout",
          "text": [
            "tensor([[-1., -1.],\n",
            "        [-1., -1.]])\n",
            "tensor([[-1., -1.],\n",
            "        [-1., -1.]])\n",
            "tensor([[-1., -1.],\n",
            "        [-1., -1.]])\n"
          ]
        }
      ]
    },
    {
      "cell_type": "code",
      "metadata": {
        "id": "ou0dY8mkPR24",
        "colab": {
          "base_uri": "https://localhost:8080/"
        },
        "outputId": "37931a7e-c05e-4c91-a519-4f4b9ac351df"
      },
      "source": [
        "x = torch.Tensor([[1, 3],\n",
        "                  [5, 7]])\n",
        "y = torch.Tensor([[2, 4],\n",
        "                  [6, 8]])\n",
        "print(x * y)\n",
        "print(torch.mul(x, y))\n",
        "print(x.mul(y))"
      ],
      "execution_count": 16,
      "outputs": [
        {
          "output_type": "stream",
          "name": "stdout",
          "text": [
            "tensor([[ 2., 12.],\n",
            "        [30., 56.]])\n",
            "tensor([[ 2., 12.],\n",
            "        [30., 56.]])\n",
            "tensor([[ 2., 12.],\n",
            "        [30., 56.]])\n"
          ]
        }
      ]
    },
    {
      "cell_type": "code",
      "metadata": {
        "id": "6RlZZBp3PbE4",
        "colab": {
          "base_uri": "https://localhost:8080/"
        },
        "outputId": "96098586-0ac3-4517-b75a-50c1c0180796"
      },
      "source": [
        "x = torch.Tensor([[1, 3],\n",
        "                  [5, 7]])\n",
        "y = torch.Tensor([[2, 4],\n",
        "                  [6, 8]])\n",
        "print(x / y)\n",
        "print(torch.div(x, y))\n",
        "print(x.div(y))"
      ],
      "execution_count": 17,
      "outputs": [
        {
          "output_type": "stream",
          "name": "stdout",
          "text": [
            "tensor([[0.5000, 0.7500],\n",
            "        [0.8333, 0.8750]])\n",
            "tensor([[0.5000, 0.7500],\n",
            "        [0.8333, 0.8750]])\n",
            "tensor([[0.5000, 0.7500],\n",
            "        [0.8333, 0.8750]])\n"
          ]
        }
      ]
    },
    {
      "cell_type": "code",
      "metadata": {
        "id": "7MR-ofE5P7VC",
        "colab": {
          "base_uri": "https://localhost:8080/"
        },
        "outputId": "43915836-7f39-453c-8690-42543b5b9e3c"
      },
      "source": [
        "x = torch.Tensor([[1, 3],\n",
        "                  [5, 7]])\n",
        "y = torch.Tensor([[2, 4],\n",
        "                  [6, 8]])\n",
        "print(torch.mm(x, y))"
      ],
      "execution_count": 18,
      "outputs": [
        {
          "output_type": "stream",
          "name": "stdout",
          "text": [
            "tensor([[20., 28.],\n",
            "        [52., 76.]])\n"
          ]
        }
      ]
    },
    {
      "cell_type": "markdown",
      "metadata": {
        "id": "8URGwHE_NjDi"
      },
      "source": [
        "## 텐서의 조작(manipulations)"
      ]
    },
    {
      "cell_type": "markdown",
      "metadata": {
        "id": "uCsdZIPTvG53"
      },
      "source": [
        "### 인덱싱\n",
        "- 넘파이처럼 인덱싱 사용가능"
      ]
    },
    {
      "cell_type": "code",
      "metadata": {
        "id": "jF2DE8kzvOs3",
        "colab": {
          "base_uri": "https://localhost:8080/"
        },
        "outputId": "5522763b-3969-44f7-ecdd-3a561069e863"
      },
      "source": [
        "print(x)"
      ],
      "execution_count": 19,
      "outputs": [
        {
          "output_type": "stream",
          "name": "stdout",
          "text": [
            "tensor([[1., 3.],\n",
            "        [5., 7.]])\n"
          ]
        }
      ]
    },
    {
      "cell_type": "code",
      "metadata": {
        "id": "GQtBH3r3u7c3",
        "colab": {
          "base_uri": "https://localhost:8080/"
        },
        "outputId": "59845212-b1e8-4c19-f491-f73b4f088880"
      },
      "source": [
        "print(x[:, 1])"
      ],
      "execution_count": 20,
      "outputs": [
        {
          "output_type": "stream",
          "name": "stdout",
          "text": [
            "tensor([3., 7.])\n"
          ]
        }
      ]
    },
    {
      "cell_type": "markdown",
      "metadata": {
        "id": "jEscXddKvQ5l"
      },
      "source": [
        "### view\n",
        "- 텐서의 크기(size)나 모양(shape)을 변경"
      ]
    },
    {
      "cell_type": "code",
      "metadata": {
        "id": "xwhWeqhLvKKj",
        "colab": {
          "base_uri": "https://localhost:8080/"
        },
        "outputId": "bc194029-925d-4ee5-a1e0-fcdb2d01016e"
      },
      "source": [
        "x = torch.randn(4, 5)\n",
        "y = x.view(20)\n",
        "z = x.view(5, -1)\n",
        "\n",
        "print(x)\n",
        "print(y)\n",
        "print(z)"
      ],
      "execution_count": 21,
      "outputs": [
        {
          "output_type": "stream",
          "name": "stdout",
          "text": [
            "tensor([[ 1.2306,  0.5335, -0.6952,  0.5823,  0.8840],\n",
            "        [ 1.2880, -0.0342, -1.4523, -1.7935, -1.0103],\n",
            "        [ 0.3202,  0.6559, -1.5089,  0.0394, -1.1658],\n",
            "        [ 0.1771,  1.4861, -0.2969,  2.4074,  0.6467]])\n",
            "tensor([ 1.2306,  0.5335, -0.6952,  0.5823,  0.8840,  1.2880, -0.0342, -1.4523,\n",
            "        -1.7935, -1.0103,  0.3202,  0.6559, -1.5089,  0.0394, -1.1658,  0.1771,\n",
            "         1.4861, -0.2969,  2.4074,  0.6467])\n",
            "tensor([[ 1.2306,  0.5335, -0.6952,  0.5823],\n",
            "        [ 0.8840,  1.2880, -0.0342, -1.4523],\n",
            "        [-1.7935, -1.0103,  0.3202,  0.6559],\n",
            "        [-1.5089,  0.0394, -1.1658,  0.1771],\n",
            "        [ 1.4861, -0.2969,  2.4074,  0.6467]])\n"
          ]
        }
      ]
    },
    {
      "cell_type": "markdown",
      "metadata": {
        "id": "iBY_wuIRvf5j"
      },
      "source": [
        "### item\n",
        "- 텐서에 값이 단 하나라도 존재하면 숫자값을 얻을 수 있음\n"
      ]
    },
    {
      "cell_type": "code",
      "metadata": {
        "id": "E0W24QqpvcmV",
        "colab": {
          "base_uri": "https://localhost:8080/"
        },
        "outputId": "72ccda7d-c959-4a38-d538-2c4aced36a73"
      },
      "source": [
        "x = torch.randn(1)\n",
        "print(x)\n",
        "print(x.item())\n",
        "print(x.dtype)"
      ],
      "execution_count": 22,
      "outputs": [
        {
          "output_type": "stream",
          "name": "stdout",
          "text": [
            "tensor([0.2952])\n",
            "0.2952146530151367\n",
            "torch.float32\n"
          ]
        }
      ]
    },
    {
      "cell_type": "markdown",
      "metadata": {
        "id": "V1sCUVwC3Nua"
      },
      "source": [
        "- 스칼라값 하나만 존재해야함"
      ]
    },
    {
      "cell_type": "code",
      "metadata": {
        "id": "jl4_FAgd3Lt9",
        "colab": {
          "base_uri": "https://localhost:8080/",
          "height": 235
        },
        "outputId": "486626ec-ab59-4517-facb-276d0f54c916"
      },
      "source": [
        "x = torch.randn(2)\n",
        "print(x)\n",
        "print(x.item())\n",
        "print(x.dtype)"
      ],
      "execution_count": 23,
      "outputs": [
        {
          "output_type": "stream",
          "name": "stdout",
          "text": [
            "tensor([0.8309, 1.6877])\n"
          ]
        },
        {
          "output_type": "error",
          "ename": "ValueError",
          "evalue": "ignored",
          "traceback": [
            "\u001b[0;31m---------------------------------------------------------------------------\u001b[0m",
            "\u001b[0;31mValueError\u001b[0m                                Traceback (most recent call last)",
            "\u001b[0;32m<ipython-input-23-7c023f92a1c8>\u001b[0m in \u001b[0;36m<module>\u001b[0;34m()\u001b[0m\n\u001b[1;32m      1\u001b[0m \u001b[0mx\u001b[0m \u001b[0;34m=\u001b[0m \u001b[0mtorch\u001b[0m\u001b[0;34m.\u001b[0m\u001b[0mrandn\u001b[0m\u001b[0;34m(\u001b[0m\u001b[0;36m2\u001b[0m\u001b[0;34m)\u001b[0m\u001b[0;34m\u001b[0m\u001b[0;34m\u001b[0m\u001b[0m\n\u001b[1;32m      2\u001b[0m \u001b[0mprint\u001b[0m\u001b[0;34m(\u001b[0m\u001b[0mx\u001b[0m\u001b[0;34m)\u001b[0m\u001b[0;34m\u001b[0m\u001b[0;34m\u001b[0m\u001b[0m\n\u001b[0;32m----> 3\u001b[0;31m \u001b[0mprint\u001b[0m\u001b[0;34m(\u001b[0m\u001b[0mx\u001b[0m\u001b[0;34m.\u001b[0m\u001b[0mitem\u001b[0m\u001b[0;34m(\u001b[0m\u001b[0;34m)\u001b[0m\u001b[0;34m)\u001b[0m\u001b[0;34m\u001b[0m\u001b[0;34m\u001b[0m\u001b[0m\n\u001b[0m\u001b[1;32m      4\u001b[0m \u001b[0mprint\u001b[0m\u001b[0;34m(\u001b[0m\u001b[0mx\u001b[0m\u001b[0;34m.\u001b[0m\u001b[0mdtype\u001b[0m\u001b[0;34m)\u001b[0m\u001b[0;34m\u001b[0m\u001b[0;34m\u001b[0m\u001b[0m\n",
            "\u001b[0;31mValueError\u001b[0m: only one element tensors can be converted to Python scalars"
          ]
        }
      ]
    },
    {
      "cell_type": "markdown",
      "metadata": {
        "id": "uThndsy5M6wM"
      },
      "source": [
        "### squeeze \n",
        "- 차원을 축소(제거)"
      ]
    },
    {
      "cell_type": "code",
      "metadata": {
        "id": "OF3rOavnRxgM",
        "colab": {
          "base_uri": "https://localhost:8080/"
        },
        "outputId": "727e0dff-78e1-41a5-8eff-4a5702fe55b3"
      },
      "source": [
        "tensor = torch.rand(1, 3, 3)\n",
        "print(tensor)\n",
        "tensor.shape"
      ],
      "execution_count": 24,
      "outputs": [
        {
          "output_type": "stream",
          "name": "stdout",
          "text": [
            "tensor([[[0.8635, 0.8283, 0.1884],\n",
            "         [0.3841, 0.7787, 0.3616],\n",
            "         [0.9257, 0.1845, 0.9691]]])\n"
          ]
        },
        {
          "output_type": "execute_result",
          "data": {
            "text/plain": [
              "torch.Size([1, 3, 3])"
            ]
          },
          "metadata": {},
          "execution_count": 24
        }
      ]
    },
    {
      "cell_type": "code",
      "metadata": {
        "id": "Y2jq0jHJR5Jw",
        "colab": {
          "base_uri": "https://localhost:8080/"
        },
        "outputId": "db0e497f-719c-4440-d552-7d6b966bb828"
      },
      "source": [
        "t = tensor.squeeze()\n",
        "\n",
        "print(t)\n",
        "print(t.shape)"
      ],
      "execution_count": 25,
      "outputs": [
        {
          "output_type": "stream",
          "name": "stdout",
          "text": [
            "tensor([[0.8635, 0.8283, 0.1884],\n",
            "        [0.3841, 0.7787, 0.3616],\n",
            "        [0.9257, 0.1845, 0.9691]])\n",
            "torch.Size([3, 3])\n"
          ]
        }
      ]
    },
    {
      "cell_type": "markdown",
      "metadata": {
        "id": "COv-dnTYNJ8Z"
      },
      "source": [
        "### unsqueeze\n",
        "- 차원을 증가(생성)"
      ]
    },
    {
      "cell_type": "code",
      "metadata": {
        "id": "PFxaHGY1NOBo",
        "colab": {
          "base_uri": "https://localhost:8080/"
        },
        "outputId": "ccad4e8a-35bc-4f17-8c5b-aa33d8b275d6"
      },
      "source": [
        "tensor = torch.rand(1, 3, 3)\n",
        "print(tensor)\n",
        "print(tensor.shape)"
      ],
      "execution_count": 26,
      "outputs": [
        {
          "output_type": "stream",
          "name": "stdout",
          "text": [
            "tensor([[[0.4766, 0.5360, 0.4502],\n",
            "         [0.6506, 0.8998, 0.2009],\n",
            "         [0.6690, 0.4427, 0.8979]]])\n",
            "torch.Size([1, 3, 3])\n"
          ]
        }
      ]
    },
    {
      "cell_type": "code",
      "metadata": {
        "id": "b6sa4tJ7SA8G",
        "colab": {
          "base_uri": "https://localhost:8080/"
        },
        "outputId": "62b7ba02-05fb-4a0e-aa51-5957dfaaf082"
      },
      "source": [
        "t = tensor.unsqueeze(dim=0)\n",
        "\n",
        "print(t)\n",
        "print(t.shape)"
      ],
      "execution_count": 27,
      "outputs": [
        {
          "output_type": "stream",
          "name": "stdout",
          "text": [
            "tensor([[[[0.4766, 0.5360, 0.4502],\n",
            "          [0.6506, 0.8998, 0.2009],\n",
            "          [0.6690, 0.4427, 0.8979]]]])\n",
            "torch.Size([1, 1, 3, 3])\n"
          ]
        }
      ]
    },
    {
      "cell_type": "markdown",
      "metadata": {
        "id": "_C_oa9JANOa6"
      },
      "source": [
        "### stack\n",
        "- 텐서간 결합"
      ]
    },
    {
      "cell_type": "code",
      "metadata": {
        "id": "f3x_XaUYNOuc",
        "colab": {
          "base_uri": "https://localhost:8080/"
        },
        "outputId": "1bc92b06-ff68-4b81-8b5c-7cc39edf6a9e"
      },
      "source": [
        "x = torch.FloatTensor([1, 4])\n",
        "y = torch.FloatTensor([2, 5])\n",
        "z = torch.FloatTensor([3, 6])\n",
        "\n",
        "print(torch.stack([x, y, z]))"
      ],
      "execution_count": 28,
      "outputs": [
        {
          "output_type": "stream",
          "name": "stdout",
          "text": [
            "tensor([[1., 4.],\n",
            "        [2., 5.],\n",
            "        [3., 6.]])\n"
          ]
        }
      ]
    },
    {
      "cell_type": "markdown",
      "metadata": {
        "id": "XmJscbfg35-c"
      },
      "source": [
        "### cat\n",
        "- 텐서를 결합하는 메소드(concatenate)\n",
        "\n",
        "- 넘파이의 `stack`과 유사하지만, 쌓을 dim이 존재해야함\n",
        "  - 예를 들어, 해당 차원을 늘려준 후 결합\n"
      ]
    },
    {
      "cell_type": "code",
      "metadata": {
        "id": "Mv3zlaNm37P1",
        "colab": {
          "base_uri": "https://localhost:8080/"
        },
        "outputId": "e7b8a5f9-4158-4c33-ed37-479bd43c2498"
      },
      "source": [
        "a = torch.randn(1, 1, 3, 3)\n",
        "b = torch.randn(1, 1, 3, 3)\n",
        "c = torch.cat((a, b), dim=0)\n",
        "\n",
        "print(c)\n",
        "print(c.size())"
      ],
      "execution_count": 29,
      "outputs": [
        {
          "output_type": "stream",
          "name": "stdout",
          "text": [
            "tensor([[[[ 0.6103, -2.0261,  1.5006],\n",
            "          [ 0.4250, -0.5721, -1.4219],\n",
            "          [ 1.3360, -2.1778, -0.6460]]],\n",
            "\n",
            "\n",
            "        [[[ 0.6886,  0.0872,  0.2061],\n",
            "          [-0.8076, -2.0561,  1.5522],\n",
            "          [-1.3523,  1.1950,  0.7330]]]])\n",
            "torch.Size([2, 1, 3, 3])\n"
          ]
        }
      ]
    },
    {
      "cell_type": "code",
      "metadata": {
        "id": "69M5jY60S7Mi",
        "colab": {
          "base_uri": "https://localhost:8080/"
        },
        "outputId": "1edc0786-61a1-4acc-ee99-b6921f553beb"
      },
      "source": [
        "a = torch.randn(1, 3, 3)\n",
        "b = torch.randn(1, 3, 3)\n",
        "c = torch.cat((a, b), dim=0)\n",
        "\n",
        "print(c)\n",
        "print(c.size())"
      ],
      "execution_count": 30,
      "outputs": [
        {
          "output_type": "stream",
          "name": "stdout",
          "text": [
            "tensor([[[-2.7463e-01,  1.4852e+00, -3.7318e-01],\n",
            "         [ 5.3573e-01, -1.6146e-01, -3.3579e-02],\n",
            "         [-3.0861e-01,  2.9206e-01, -1.7504e+00]],\n",
            "\n",
            "        [[-8.6528e-01,  8.2397e-01, -2.6046e-04],\n",
            "         [ 3.9694e-01, -1.5474e+00, -1.7688e+00],\n",
            "         [-5.2614e-01, -4.5178e-01,  4.0727e-01]]])\n",
            "torch.Size([2, 3, 3])\n"
          ]
        }
      ]
    },
    {
      "cell_type": "markdown",
      "metadata": {
        "id": "7gGXnOAqQTmG"
      },
      "source": [
        "### chuck\n",
        "- 텐서를 여러 개로 나눌 때 사용\n",
        "\n",
        "- 몇 개의 텐서로 나눌 것이냐"
      ]
    },
    {
      "cell_type": "code",
      "metadata": {
        "id": "pNV80VzPQZgG",
        "colab": {
          "base_uri": "https://localhost:8080/"
        },
        "outputId": "23726ce2-e88d-410a-c98e-e9ed3636ace3"
      },
      "source": [
        "tensor = torch.rand(3, 6)\n",
        "t1, t2, t3 = torch.chunk(tensor, 3, dim=1)\n",
        "\n",
        "print(tensor)\n",
        "print(t1)\n",
        "print(t2)\n",
        "print(t3)"
      ],
      "execution_count": 31,
      "outputs": [
        {
          "output_type": "stream",
          "name": "stdout",
          "text": [
            "tensor([[0.4342, 0.5791, 0.8511, 0.4148, 0.2760, 0.6251],\n",
            "        [0.9595, 0.4049, 0.6682, 0.8165, 0.2884, 0.8229],\n",
            "        [0.7282, 0.0819, 0.1790, 0.3786, 0.6968, 0.1244]])\n",
            "tensor([[0.4342, 0.5791],\n",
            "        [0.9595, 0.4049],\n",
            "        [0.7282, 0.0819]])\n",
            "tensor([[0.8511, 0.4148],\n",
            "        [0.6682, 0.8165],\n",
            "        [0.1790, 0.3786]])\n",
            "tensor([[0.2760, 0.6251],\n",
            "        [0.2884, 0.8229],\n",
            "        [0.6968, 0.1244]])\n"
          ]
        }
      ]
    },
    {
      "cell_type": "markdown",
      "metadata": {
        "id": "7U0Qb0jWQgm-"
      },
      "source": [
        "### split\n",
        "- `chunck`와 동일한 기능이지만 조금 다름\n",
        "\n",
        "- 하나의 텐서당 크기가 얼마이냐"
      ]
    },
    {
      "cell_type": "code",
      "metadata": {
        "id": "1V6DDnLVQqxz",
        "colab": {
          "base_uri": "https://localhost:8080/"
        },
        "outputId": "84bde0d8-e373-4d0b-9580-3975eebe7356"
      },
      "source": [
        "tensor = torch.rand(3, 6)\n",
        "t1, t2 = torch.split(tensor, 3, dim=1)\n",
        "print(tensor)\n",
        "print(t1)\n",
        "print(t2)"
      ],
      "execution_count": 32,
      "outputs": [
        {
          "output_type": "stream",
          "name": "stdout",
          "text": [
            "tensor([[0.0485, 0.2311, 0.5094, 0.9764, 0.6594, 0.6713],\n",
            "        [0.0805, 0.3183, 0.7622, 0.8350, 0.2845, 0.8054],\n",
            "        [0.2909, 0.1273, 0.3101, 0.8737, 0.8000, 0.4695]])\n",
            "tensor([[0.0485, 0.2311, 0.5094],\n",
            "        [0.0805, 0.3183, 0.7622],\n",
            "        [0.2909, 0.1273, 0.3101]])\n",
            "tensor([[0.9764, 0.6594, 0.6713],\n",
            "        [0.8350, 0.2845, 0.8054],\n",
            "        [0.8737, 0.8000, 0.4695]])\n"
          ]
        }
      ]
    },
    {
      "cell_type": "markdown",
      "metadata": {
        "id": "estSwhCgvta6"
      },
      "source": [
        "### torch ↔ numpy\n",
        "- Torch Tensor(텐서)를 Numpy array(배열)로 변환 가능\n",
        "\n",
        "  - `numpy()`\n",
        "  - `from_numpy()`\n",
        "\n",
        "- (참고)\n",
        "  - Tensor가 CPU상에 있다면 Numpy 배열은 메모리 공간을 공유하므로 하나가 변하면, 다른 하나도 변함"
      ]
    },
    {
      "cell_type": "code",
      "metadata": {
        "id": "VxHI7c_yvmAT",
        "colab": {
          "base_uri": "https://localhost:8080/"
        },
        "outputId": "f27c3b5e-6b3a-4dfd-e0ce-1a17fb77c135"
      },
      "source": [
        "a = torch.ones(7)\n",
        "print(a)"
      ],
      "execution_count": 33,
      "outputs": [
        {
          "output_type": "stream",
          "name": "stdout",
          "text": [
            "tensor([1., 1., 1., 1., 1., 1., 1.])\n"
          ]
        }
      ]
    },
    {
      "cell_type": "code",
      "metadata": {
        "id": "whbrhokHwJ3A",
        "colab": {
          "base_uri": "https://localhost:8080/"
        },
        "outputId": "2537ba01-d773-4fbb-d8c3-64d8289edd76"
      },
      "source": [
        "b = a.numpy()\n",
        "print(b)"
      ],
      "execution_count": 34,
      "outputs": [
        {
          "output_type": "stream",
          "name": "stdout",
          "text": [
            "[1. 1. 1. 1. 1. 1. 1.]\n"
          ]
        }
      ]
    },
    {
      "cell_type": "code",
      "metadata": {
        "id": "5StIhUWDwQjA",
        "colab": {
          "base_uri": "https://localhost:8080/"
        },
        "outputId": "21f456d1-e66f-4b82-db07-ddfaf17eeabe"
      },
      "source": [
        "a.add_(1)\n",
        "print(a)\n",
        "print(b)"
      ],
      "execution_count": 35,
      "outputs": [
        {
          "output_type": "stream",
          "name": "stdout",
          "text": [
            "tensor([2., 2., 2., 2., 2., 2., 2.])\n",
            "[2. 2. 2. 2. 2. 2. 2.]\n"
          ]
        }
      ]
    },
    {
      "cell_type": "code",
      "metadata": {
        "id": "3RNS5-cRwTt8",
        "colab": {
          "base_uri": "https://localhost:8080/"
        },
        "outputId": "cd6a2d59-9025-46bd-eecb-38a793650403"
      },
      "source": [
        "import numpy as np\n",
        "\n",
        "a = np.ones(7)\n",
        "b = torch.from_numpy(a)\n",
        "np.add(a, 1, out=a)\n",
        "print(a)\n",
        "print(b)"
      ],
      "execution_count": 36,
      "outputs": [
        {
          "output_type": "stream",
          "name": "stdout",
          "text": [
            "[2. 2. 2. 2. 2. 2. 2.]\n",
            "tensor([2., 2., 2., 2., 2., 2., 2.], dtype=torch.float64)\n"
          ]
        }
      ]
    },
    {
      "cell_type": "markdown",
      "metadata": {
        "id": "v-ZaxSvLxEej"
      },
      "source": [
        "## CUDA Tensors\n",
        "- `.to` 메소드를 사용하여 텐서를 어떠한 장치로도 옮길 수 있음\n",
        "  - 예) cpu, gpu"
      ]
    },
    {
      "cell_type": "code",
      "metadata": {
        "id": "xkaQznCRxpUj"
      },
      "source": [
        "import torch"
      ],
      "execution_count": 37,
      "outputs": []
    },
    {
      "cell_type": "code",
      "metadata": {
        "id": "SCnC0x2Rxpbk",
        "colab": {
          "base_uri": "https://localhost:8080/"
        },
        "outputId": "ddad0b3f-9f25-4521-cf23-c991d1507f8e"
      },
      "source": [
        "x = torch.randn(1)\n",
        "print(x)\n",
        "print(x.item())\n",
        "print(x.dtype)"
      ],
      "execution_count": 38,
      "outputs": [
        {
          "output_type": "stream",
          "name": "stdout",
          "text": [
            "tensor([-0.4888])\n",
            "-0.48878148198127747\n",
            "torch.float32\n"
          ]
        }
      ]
    },
    {
      "cell_type": "code",
      "metadata": {
        "id": "GcSsFLkDw-nI",
        "colab": {
          "base_uri": "https://localhost:8080/"
        },
        "outputId": "7a58c272-2c8d-4c48-cdf6-d6a5421f0d11"
      },
      "source": [
        "device = torch.device(\"cuda\" if torch.cuda.is_available() else \"cpu\")\n",
        "\n",
        "y = torch.ones_like(x, device=device)\n",
        "x = x.to(device)\n",
        "z = x + y\n",
        "print(device)\n",
        "print(z)\n",
        "print(z.to(\"cpu\", torch.double))"
      ],
      "execution_count": 39,
      "outputs": [
        {
          "output_type": "stream",
          "name": "stdout",
          "text": [
            "cuda\n",
            "tensor([0.5112], device='cuda:0')\n",
            "tensor([0.5112], dtype=torch.float64)\n"
          ]
        }
      ]
    },
    {
      "cell_type": "markdown",
      "metadata": {
        "id": "NKqiGvLWx2nk"
      },
      "source": [
        "## AUTOGRAD (자동미분)\n",
        "- autograd 패키지는 Tensor의 모든 연산에 대해 **자동 미분** 제공\n",
        "\n",
        "- 이는 코드를 어떻게 작성하여 실행하느냐에 따라 역전파가 정의된다는 뜻\n",
        "\n",
        "- backprop를 위한 미분값을 자동으로 계산"
      ]
    },
    {
      "cell_type": "markdown",
      "metadata": {
        "id": "0zH41l-MyMHi"
      },
      "source": [
        "### Tensor\n",
        "\n",
        "- data: tensor형태의 데이터\n",
        "\n",
        "- grad: data가 겨쳐온 layer에 대한 미분값 저장\n",
        "\n",
        "- grad_fn: 미분값을 계산한 함수에 대한 정보 저장 (어떤 함수에 대해서 backprop 했는지)\n",
        "\n",
        "- `requires_grad` 속성을 `True`로 설정하면, 해당 텐서에서 이루어지는 모든 연산들을 추적하기 시작\n",
        "\n",
        "- 계산이 완료된 후, `.backward()`를 호출하면 자동으로 `gradient`를 계산할 수 있으며, `.grad` 속성에 누적됨\n",
        "\n",
        "- 기록을 추적하는 것을 중단하게 하려면, `.detach()`를 호출하여 연산기록으로부터 분리\n",
        "\n",
        "- 기록을 추적하는 것을 방지하기 위해 코드 블럭을 `with torch.no_grad():`로 감싸면 `gradient`는 필요없지만, `requires_grad=True`로 설정되어 학습 가능한 매개변수를 갖는 모델을 평가(evaluate)할 때 유용\n",
        "\n",
        "- Autograd 구현에서 매우 중요한 클래스 : `Function` 클래스"
      ]
    },
    {
      "cell_type": "code",
      "metadata": {
        "id": "ipdk_1jfx47I"
      },
      "source": [
        "import torch"
      ],
      "execution_count": 40,
      "outputs": []
    },
    {
      "cell_type": "code",
      "metadata": {
        "id": "ljNU-r9p0Rpo",
        "colab": {
          "base_uri": "https://localhost:8080/"
        },
        "outputId": "75714fd2-0be6-441b-81fb-a3c9c6c1ef68"
      },
      "source": [
        "x = torch.ones(3, 3, requires_grad=True)\n",
        "print(x)"
      ],
      "execution_count": 41,
      "outputs": [
        {
          "output_type": "stream",
          "name": "stdout",
          "text": [
            "tensor([[1., 1., 1.],\n",
            "        [1., 1., 1.],\n",
            "        [1., 1., 1.]], requires_grad=True)\n"
          ]
        }
      ]
    },
    {
      "cell_type": "code",
      "metadata": {
        "id": "or6sQ4EB0UYz",
        "colab": {
          "base_uri": "https://localhost:8080/"
        },
        "outputId": "4bbaa746-a525-4e92-aa32-4cc9bac87067"
      },
      "source": [
        "y = x + 5\n",
        "print(y)"
      ],
      "execution_count": 42,
      "outputs": [
        {
          "output_type": "stream",
          "name": "stdout",
          "text": [
            "tensor([[6., 6., 6.],\n",
            "        [6., 6., 6.],\n",
            "        [6., 6., 6.]], grad_fn=<AddBackward0>)\n"
          ]
        }
      ]
    },
    {
      "cell_type": "code",
      "metadata": {
        "id": "PuQ7xDmu0Wpj",
        "colab": {
          "base_uri": "https://localhost:8080/"
        },
        "outputId": "3b2cb227-2560-411a-ca13-32b573b2bdd9"
      },
      "source": [
        "print(y.grad_fn)"
      ],
      "execution_count": 43,
      "outputs": [
        {
          "output_type": "stream",
          "name": "stdout",
          "text": [
            "<AddBackward0 object at 0x7fb6e9679c10>\n"
          ]
        }
      ]
    },
    {
      "cell_type": "code",
      "metadata": {
        "id": "6_2iM-Zq0ZdG",
        "colab": {
          "base_uri": "https://localhost:8080/"
        },
        "outputId": "f6c08b68-ec81-4658-b5f2-f089c94a554b"
      },
      "source": [
        "z = y * y * 2\n",
        "out = z.mean()\n",
        "\n",
        "print(z, out)"
      ],
      "execution_count": 44,
      "outputs": [
        {
          "output_type": "stream",
          "name": "stdout",
          "text": [
            "tensor([[72., 72., 72.],\n",
            "        [72., 72., 72.],\n",
            "        [72., 72., 72.]], grad_fn=<MulBackward0>) tensor(72., grad_fn=<MeanBackward0>)\n"
          ]
        }
      ]
    },
    {
      "cell_type": "markdown",
      "metadata": {
        "id": "2aZ8SWn_0nqt"
      },
      "source": [
        "- `requires_grad_(...)`는 기존 텐서의 `requires_grad`값을 바꿔치기(`in-place`)하여 변경"
      ]
    },
    {
      "cell_type": "code",
      "metadata": {
        "id": "mHGROgrM0ebO",
        "colab": {
          "base_uri": "https://localhost:8080/"
        },
        "outputId": "385d7382-1aee-443b-e640-bf9c0f988150"
      },
      "source": [
        "a = torch.randn(3, 3)\n",
        "a = ((a * 3) / (a - 1))\n",
        "print(a.requires_grad)\n",
        "\n",
        "a.requires_grad_(True)\n",
        "print(a.requires_grad)\n",
        "\n",
        "b = (a * a).sum()\n",
        "print(b.grad_fn)"
      ],
      "execution_count": 46,
      "outputs": [
        {
          "output_type": "stream",
          "name": "stdout",
          "text": [
            "False\n",
            "True\n",
            "<SumBackward0 object at 0x7fb5a6f61b90>\n"
          ]
        }
      ]
    },
    {
      "cell_type": "markdown",
      "metadata": {
        "id": "KiEn_stZ1VgU"
      },
      "source": [
        "### 기울기(Gradient)\n",
        "- 역전파: `.backward()`를 통해 역전파 계산 가능"
      ]
    },
    {
      "cell_type": "code",
      "metadata": {
        "id": "1tdoN9p-1kn4"
      },
      "source": [
        "out.backward()"
      ],
      "execution_count": 47,
      "outputs": []
    },
    {
      "cell_type": "code",
      "metadata": {
        "id": "CixGTXbV1B9p",
        "colab": {
          "base_uri": "https://localhost:8080/"
        },
        "outputId": "3ca5d275-2818-433c-c858-b21d753555cf"
      },
      "source": [
        "print(x.grad)"
      ],
      "execution_count": 48,
      "outputs": [
        {
          "output_type": "stream",
          "name": "stdout",
          "text": [
            "tensor([[2.6667, 2.6667, 2.6667],\n",
            "        [2.6667, 2.6667, 2.6667],\n",
            "        [2.6667, 2.6667, 2.6667]])\n"
          ]
        }
      ]
    },
    {
      "cell_type": "code",
      "metadata": {
        "id": "SY63Mcc-1iNI",
        "colab": {
          "base_uri": "https://localhost:8080/"
        },
        "outputId": "fe9dce77-f4ba-4fd8-f06c-81d4e95ef094"
      },
      "source": [
        "x = torch.randn(3, requires_grad=True)\n",
        "\n",
        "y = x * 2\n",
        "while y.data.norm() < 1000:\n",
        "  y = y * 2\n",
        "\n",
        "print(y)"
      ],
      "execution_count": 49,
      "outputs": [
        {
          "output_type": "stream",
          "name": "stdout",
          "text": [
            "tensor([1056.3308,  166.5717, -227.8553], grad_fn=<MulBackward0>)\n"
          ]
        }
      ]
    },
    {
      "cell_type": "code",
      "metadata": {
        "id": "YPaVAbIT3gx_",
        "colab": {
          "base_uri": "https://localhost:8080/"
        },
        "outputId": "accdca1d-febf-421f-b794-22311a5e912f"
      },
      "source": [
        "v = torch.tensor([0.1, 1.0, 0.0001], dtype=torch.float)\n",
        "y.backward(v)\n",
        "\n",
        "print(x.grad)"
      ],
      "execution_count": 50,
      "outputs": [
        {
          "output_type": "stream",
          "name": "stdout",
          "text": [
            "tensor([1.0240e+02, 1.0240e+03, 1.0240e-01])\n"
          ]
        }
      ]
    },
    {
      "cell_type": "markdown",
      "metadata": {
        "id": "0b9amArPXtcX"
      },
      "source": [
        "- `with torch.no_grad()`를 사용하여 gradient의 업데이트를 하지 않음"
      ]
    },
    {
      "cell_type": "code",
      "metadata": {
        "id": "weeIe5_Z3jVe",
        "colab": {
          "base_uri": "https://localhost:8080/"
        },
        "outputId": "30b5fd11-f516-493c-9203-77f8974234b8"
      },
      "source": [
        "print(x.requires_grad)\n",
        "print((x **2).requires_grad)\n",
        "\n",
        "with torch.no_grad():\n",
        "  print((x ** 2).requires_grad)"
      ],
      "execution_count": 51,
      "outputs": [
        {
          "output_type": "stream",
          "name": "stdout",
          "text": [
            "True\n",
            "True\n",
            "False\n"
          ]
        }
      ]
    },
    {
      "cell_type": "markdown",
      "metadata": {
        "id": "bLcTLVRSmCdH"
      },
      "source": [
        "- `detach()`: 내용물(content)은 같지만 require_grad가 다른 새로운 Tensor를 가져올 때"
      ]
    },
    {
      "cell_type": "code",
      "metadata": {
        "id": "ALcth7Ew3l7H",
        "colab": {
          "base_uri": "https://localhost:8080/"
        },
        "outputId": "5b85b1e9-d814-4a4f-dea5-792c04b996f2"
      },
      "source": [
        "print(x.requires_grad)\n",
        "y = x.detach()\n",
        "print(y.requires_grad)\n",
        "print(x.eq(y).all())"
      ],
      "execution_count": 52,
      "outputs": [
        {
          "output_type": "stream",
          "name": "stdout",
          "text": [
            "True\n",
            "False\n",
            "tensor(True)\n"
          ]
        }
      ]
    },
    {
      "cell_type": "markdown",
      "metadata": {
        "id": "NSarysrqBh9D"
      },
      "source": [
        "### 자동 미분 흐름 다시 보기(1)\n",
        "- 계산 흐름  \n",
        "  $a \\rightarrow b  \\rightarrow c  \\rightarrow out $\n",
        "\n",
        "<br>\n",
        "\n",
        "## $\\quad \\frac{\\partial out}{\\partial a} = ?$\n",
        "- `backward()`를 통해  \n",
        "  $a \\leftarrow b  \\leftarrow c  \\leftarrow out $을 계산하면  \n",
        "    $\\frac{\\partial out}{\\partial a}$값이 `a.grad`에 채워짐\n"
      ]
    },
    {
      "cell_type": "code",
      "metadata": {
        "id": "NUAc1etP3oBc"
      },
      "source": [
        "import torch"
      ],
      "execution_count": 53,
      "outputs": []
    },
    {
      "cell_type": "code",
      "metadata": {
        "id": "tCW7dq9uB89T",
        "colab": {
          "base_uri": "https://localhost:8080/"
        },
        "outputId": "d8a45f50-9bcd-452b-9ce6-485efda170ce"
      },
      "source": [
        "a = torch.ones(2, 2)\n",
        "print(a)"
      ],
      "execution_count": 54,
      "outputs": [
        {
          "output_type": "stream",
          "name": "stdout",
          "text": [
            "tensor([[1., 1.],\n",
            "        [1., 1.]])\n"
          ]
        }
      ]
    },
    {
      "cell_type": "code",
      "metadata": {
        "id": "-AyyGy49FLz9",
        "colab": {
          "base_uri": "https://localhost:8080/"
        },
        "outputId": "0b2e1e64-4400-4ffc-b9a3-b6080cb33a0e"
      },
      "source": [
        "a = torch.ones(2, 2, requires_grad=True)\n",
        "print(a)"
      ],
      "execution_count": 55,
      "outputs": [
        {
          "output_type": "stream",
          "name": "stdout",
          "text": [
            "tensor([[1., 1.],\n",
            "        [1., 1.]], requires_grad=True)\n"
          ]
        }
      ]
    },
    {
      "cell_type": "code",
      "metadata": {
        "id": "SmmJa-hvFPGH",
        "colab": {
          "base_uri": "https://localhost:8080/"
        },
        "outputId": "5a8b50fd-eb8d-4646-a3e5-b42d7c929485"
      },
      "source": [
        "print(\"a.data:\", a.data)\n",
        "print(\"a.grad:\", a.grad)\n",
        "print(\"a.gard_fn:\", a.grad_fn)"
      ],
      "execution_count": 63,
      "outputs": [
        {
          "output_type": "stream",
          "name": "stdout",
          "text": [
            "a.data: tensor([[1., 1.],\n",
            "        [1., 1.]])\n",
            "a.grad: tensor([[6., 6.],\n",
            "        [6., 6.]])\n",
            "a.gard_fn: None\n"
          ]
        }
      ]
    },
    {
      "cell_type": "markdown",
      "metadata": {
        "id": "BCwhTsiHGCmG"
      },
      "source": [
        "- $b = a + 2$"
      ]
    },
    {
      "cell_type": "code",
      "metadata": {
        "id": "iUPt042iF9V1",
        "colab": {
          "base_uri": "https://localhost:8080/"
        },
        "outputId": "bb40de36-22e1-424b-e1bd-2f115507bfd3"
      },
      "source": [
        "b = a + 2\n",
        "print(b)"
      ],
      "execution_count": 57,
      "outputs": [
        {
          "output_type": "stream",
          "name": "stdout",
          "text": [
            "tensor([[3., 3.],\n",
            "        [3., 3.]], grad_fn=<AddBackward0>)\n"
          ]
        }
      ]
    },
    {
      "cell_type": "markdown",
      "metadata": {
        "id": "6cw2zoq9GHLF"
      },
      "source": [
        "- $c = b^2$ "
      ]
    },
    {
      "cell_type": "code",
      "metadata": {
        "id": "FRDS6gP0GFZG",
        "colab": {
          "base_uri": "https://localhost:8080/"
        },
        "outputId": "ed462c8e-8f48-494a-d47a-59597d6d6c6b"
      },
      "source": [
        "c = b ** 2\n",
        "print(c)"
      ],
      "execution_count": 59,
      "outputs": [
        {
          "output_type": "stream",
          "name": "stdout",
          "text": [
            "tensor([[9., 9.],\n",
            "        [9., 9.]], grad_fn=<PowBackward0>)\n"
          ]
        }
      ]
    },
    {
      "cell_type": "code",
      "metadata": {
        "id": "VynoiUywGSwh",
        "colab": {
          "base_uri": "https://localhost:8080/"
        },
        "outputId": "895bdae6-4429-4929-ca31-cbade8cf5168"
      },
      "source": [
        "out = c.sum()\n",
        "print(out)"
      ],
      "execution_count": 60,
      "outputs": [
        {
          "output_type": "stream",
          "name": "stdout",
          "text": [
            "tensor(36., grad_fn=<SumBackward0>)\n"
          ]
        }
      ]
    },
    {
      "cell_type": "code",
      "metadata": {
        "id": "v3ryJon9GeMn",
        "colab": {
          "base_uri": "https://localhost:8080/"
        },
        "outputId": "1b1b090b-0fa0-47a8-db47-c88bf7fb85d5"
      },
      "source": [
        "print(out)\n",
        "out.backward()"
      ],
      "execution_count": 61,
      "outputs": [
        {
          "output_type": "stream",
          "name": "stdout",
          "text": [
            "tensor(36., grad_fn=<SumBackward0>)\n"
          ]
        }
      ]
    },
    {
      "cell_type": "markdown",
      "metadata": {
        "id": "f0aoNsPDHsoG"
      },
      "source": [
        "- a의 `grad_fn`이 None인 이유  \n",
        "  직접적으로 계산한 부분이 없었기 때문"
      ]
    },
    {
      "cell_type": "code",
      "metadata": {
        "id": "bccI4vIWGgqj",
        "colab": {
          "base_uri": "https://localhost:8080/"
        },
        "outputId": "3375ec86-a7e6-4e43-fbd9-a029e96d56b9"
      },
      "source": [
        "print(\"a.data:\", a.data)\n",
        "print(\"a.grad:\", a.grad)\n",
        "print(\"a.gard_fn:\", a.grad_fn)"
      ],
      "execution_count": 64,
      "outputs": [
        {
          "output_type": "stream",
          "name": "stdout",
          "text": [
            "a.data: tensor([[1., 1.],\n",
            "        [1., 1.]])\n",
            "a.grad: tensor([[6., 6.],\n",
            "        [6., 6.]])\n",
            "a.gard_fn: None\n"
          ]
        }
      ]
    },
    {
      "cell_type": "code",
      "metadata": {
        "id": "oka1mkadHq-N",
        "colab": {
          "base_uri": "https://localhost:8080/"
        },
        "outputId": "bcd6f730-3825-4d4a-defc-4b0c2e20d3d7"
      },
      "source": [
        "print(\"b.data:\", b.data)\n",
        "print(\"b.grad:\", b.grad)\n",
        "print(\"b.gard_fn:\", b.grad_fn)"
      ],
      "execution_count": 65,
      "outputs": [
        {
          "output_type": "stream",
          "name": "stdout",
          "text": [
            "b.data: tensor([[3., 3.],\n",
            "        [3., 3.]])\n",
            "b.grad: None\n",
            "b.gard_fn: <AddBackward0 object at 0x7fb5a6685ed0>\n"
          ]
        },
        {
          "output_type": "stream",
          "name": "stderr",
          "text": [
            "/usr/local/lib/python3.7/dist-packages/torch/_tensor.py:1013: UserWarning: The .grad attribute of a Tensor that is not a leaf Tensor is being accessed. Its .grad attribute won't be populated during autograd.backward(). If you indeed want the .grad field to be populated for a non-leaf Tensor, use .retain_grad() on the non-leaf Tensor. If you access the non-leaf Tensor by mistake, make sure you access the leaf Tensor instead. See github.com/pytorch/pytorch/pull/30531 for more informations. (Triggered internally at  aten/src/ATen/core/TensorBody.h:417.)\n",
            "  return self._grad\n"
          ]
        }
      ]
    },
    {
      "cell_type": "code",
      "metadata": {
        "id": "ZiYNajdLccUF",
        "colab": {
          "base_uri": "https://localhost:8080/"
        },
        "outputId": "8c2cc41c-91e8-4453-9cbf-5b0aef01d79a"
      },
      "source": [
        "print(\"c.data:\", c)\n",
        "print(\"c.grad:\", c.grad)\n",
        "print(\"c.gard_fn:\", c.grad_fn)"
      ],
      "execution_count": 66,
      "outputs": [
        {
          "output_type": "stream",
          "name": "stdout",
          "text": [
            "c.data: tensor([[9., 9.],\n",
            "        [9., 9.]], grad_fn=<PowBackward0>)\n",
            "c.grad: None\n",
            "c.gard_fn: <PowBackward0 object at 0x7fb5a66a38d0>\n"
          ]
        },
        {
          "output_type": "stream",
          "name": "stderr",
          "text": [
            "/usr/local/lib/python3.7/dist-packages/torch/_tensor.py:1013: UserWarning: The .grad attribute of a Tensor that is not a leaf Tensor is being accessed. Its .grad attribute won't be populated during autograd.backward(). If you indeed want the .grad field to be populated for a non-leaf Tensor, use .retain_grad() on the non-leaf Tensor. If you access the non-leaf Tensor by mistake, make sure you access the leaf Tensor instead. See github.com/pytorch/pytorch/pull/30531 for more informations. (Triggered internally at  aten/src/ATen/core/TensorBody.h:417.)\n",
            "  return self._grad\n"
          ]
        }
      ]
    },
    {
      "cell_type": "code",
      "metadata": {
        "id": "BcLoMYite0vU",
        "colab": {
          "base_uri": "https://localhost:8080/"
        },
        "outputId": "90eeb3d5-78c9-489e-e1ff-506e1f981862"
      },
      "source": [
        "print(\"out.data:\", out)\n",
        "print(\"out.grad:\", out.grad)\n",
        "print(\"out.gard_fn:\", out.grad_fn)"
      ],
      "execution_count": 67,
      "outputs": [
        {
          "output_type": "stream",
          "name": "stdout",
          "text": [
            "out.data: tensor(36., grad_fn=<SumBackward0>)\n",
            "out.grad: None\n",
            "out.gard_fn: <SumBackward0 object at 0x7fb5a6f42dd0>\n"
          ]
        },
        {
          "output_type": "stream",
          "name": "stderr",
          "text": [
            "/usr/local/lib/python3.7/dist-packages/torch/_tensor.py:1013: UserWarning: The .grad attribute of a Tensor that is not a leaf Tensor is being accessed. Its .grad attribute won't be populated during autograd.backward(). If you indeed want the .grad field to be populated for a non-leaf Tensor, use .retain_grad() on the non-leaf Tensor. If you access the non-leaf Tensor by mistake, make sure you access the leaf Tensor instead. See github.com/pytorch/pytorch/pull/30531 for more informations. (Triggered internally at  aten/src/ATen/core/TensorBody.h:417.)\n",
            "  return self._grad\n"
          ]
        }
      ]
    },
    {
      "cell_type": "markdown",
      "metadata": {
        "id": "qZXgwviHfovj"
      },
      "source": [
        "### 자동 미분 흐름 다시 보기(2)\n",
        "- `grad`값을 넣어서 `backward`\n",
        "\n",
        "- 아래의 코드에서 `.grad`값이 None은 gradient값이 필요하지 않기 때문"
      ]
    },
    {
      "cell_type": "code",
      "metadata": {
        "id": "bB6DCYXRfcI_",
        "colab": {
          "base_uri": "https://localhost:8080/"
        },
        "outputId": "e878e8bd-5978-4dde-c2dd-c9dd83109982"
      },
      "source": [
        "x = torch.ones(3, requires_grad=True)\n",
        "y = (x ** 2)\n",
        "z = y ** 2 + x\n",
        "out = z.sum()\n",
        "print(out)"
      ],
      "execution_count": 68,
      "outputs": [
        {
          "output_type": "stream",
          "name": "stdout",
          "text": [
            "tensor(6., grad_fn=<SumBackward0>)\n"
          ]
        }
      ]
    },
    {
      "cell_type": "code",
      "metadata": {
        "id": "AVo-glm8fvFv"
      },
      "source": [
        "grad = torch.Tensor([0.1, 1, 100])\n",
        "z.backward(grad)"
      ],
      "execution_count": 69,
      "outputs": []
    },
    {
      "cell_type": "code",
      "metadata": {
        "id": "tdBklrepf2qq",
        "colab": {
          "base_uri": "https://localhost:8080/"
        },
        "outputId": "dea22f08-a450-4996-9cb8-aa88664b5d80"
      },
      "source": [
        "print(\"x.data:\", x)\n",
        "print(\"x.grad:\", x.grad)\n",
        "print(\"x.gard_fn:\", x.grad_fn)"
      ],
      "execution_count": 70,
      "outputs": [
        {
          "output_type": "stream",
          "name": "stdout",
          "text": [
            "x.data: tensor([1., 1., 1.], requires_grad=True)\n",
            "x.grad: tensor([  0.5000,   5.0000, 500.0000])\n",
            "x.gard_fn: None\n"
          ]
        }
      ]
    },
    {
      "cell_type": "code",
      "metadata": {
        "id": "HQvUGlfRf7jU",
        "colab": {
          "base_uri": "https://localhost:8080/"
        },
        "outputId": "98b10a69-c453-4c0b-b4d1-ae9211c5f3c2"
      },
      "source": [
        "print(\"y.data:\", y)\n",
        "print(\"y.grad:\", y.grad)\n",
        "print(\"y.gard_fn:\", y.grad_fn)"
      ],
      "execution_count": 71,
      "outputs": [
        {
          "output_type": "stream",
          "name": "stdout",
          "text": [
            "y.data: tensor([1., 1., 1.], grad_fn=<PowBackward0>)\n",
            "y.grad: None\n",
            "y.gard_fn: <PowBackward0 object at 0x7fb5a6645cd0>\n"
          ]
        },
        {
          "output_type": "stream",
          "name": "stderr",
          "text": [
            "/usr/local/lib/python3.7/dist-packages/torch/_tensor.py:1013: UserWarning: The .grad attribute of a Tensor that is not a leaf Tensor is being accessed. Its .grad attribute won't be populated during autograd.backward(). If you indeed want the .grad field to be populated for a non-leaf Tensor, use .retain_grad() on the non-leaf Tensor. If you access the non-leaf Tensor by mistake, make sure you access the leaf Tensor instead. See github.com/pytorch/pytorch/pull/30531 for more informations. (Triggered internally at  aten/src/ATen/core/TensorBody.h:417.)\n",
            "  return self._grad\n"
          ]
        }
      ]
    },
    {
      "cell_type": "code",
      "metadata": {
        "id": "h7TFHdMfgxvW",
        "colab": {
          "base_uri": "https://localhost:8080/"
        },
        "outputId": "f3e044b9-58e1-400a-b0c6-8752e520c426"
      },
      "source": [
        "print(\"z.data:\", z)\n",
        "print(\"z.grad:\", z.grad)\n",
        "print(\"z.gard_fn:\", z.grad_fn)"
      ],
      "execution_count": 72,
      "outputs": [
        {
          "output_type": "stream",
          "name": "stdout",
          "text": [
            "z.data: tensor([2., 2., 2.], grad_fn=<AddBackward0>)\n",
            "z.grad: None\n",
            "z.gard_fn: <AddBackward0 object at 0x7fb5a668a990>\n"
          ]
        },
        {
          "output_type": "stream",
          "name": "stderr",
          "text": [
            "/usr/local/lib/python3.7/dist-packages/torch/_tensor.py:1013: UserWarning: The .grad attribute of a Tensor that is not a leaf Tensor is being accessed. Its .grad attribute won't be populated during autograd.backward(). If you indeed want the .grad field to be populated for a non-leaf Tensor, use .retain_grad() on the non-leaf Tensor. If you access the non-leaf Tensor by mistake, make sure you access the leaf Tensor instead. See github.com/pytorch/pytorch/pull/30531 for more informations. (Triggered internally at  aten/src/ATen/core/TensorBody.h:417.)\n",
            "  return self._grad\n"
          ]
        }
      ]
    },
    {
      "cell_type": "markdown",
      "metadata": {
        "id": "DKv-osmNmWiA"
      },
      "source": [
        "## nn & nn.functional\n",
        "\n",
        "- 두 패키지가 같은 기능이지만 방식이 조금 다름\n",
        "\n",
        "- 위의 `autograd` 관련 작업들을 두 패키지를 통해 진행할 수 있음\n",
        "\n",
        "- 텐서를 직접 다룰 때 `requires_grad`와 같은 방식으로 진행할 수 있음\n",
        "\n",
        "- 결론적으로, `torch.nn`은 attribute를 활용해 state를 저장하고 활용하고,  \n",
        "  `torch.nn.functional`로 구현한 함수의 경우에는 인스턴스화 시킬 필요 없이 사용이 가능\n",
        " \n"
      ]
    },
    {
      "cell_type": "markdown",
      "metadata": {
        "id": "jk8fkKq3nWP1"
      },
      "source": [
        "### nn 패키지\n",
        "\n",
        "- 주로 가중치(weights), 편향(bias)값들이 내부에서 자동으로 생성되는 레이어들을 사용할 때  \n",
        "  - 따라서, `weight`값들을 직접 선언 안함\n",
        "\n",
        "- 예시\n",
        "  - Containers\n",
        "\n",
        "  - Convolution Layers\n",
        "\n",
        "  - Pooling layers\n",
        "\n",
        "  - Padding Layers\n",
        "\n",
        "  - Non-linear Activations (weighted sum, nonlinearity)\n",
        "\n",
        "  - Non-linear Activations (other)\n",
        "\n",
        "  - Normalization Layers\n",
        "\n",
        "  - Recurrent Layers\n",
        "\n",
        "  - Transformer Layers\n",
        "\n",
        "  - Linear Layers\n",
        "\n",
        "  - Dropout Layers\n",
        "\n",
        "  - Sparse Layers\n",
        "\n",
        "  - Distance Functions\n",
        "\n",
        "  - Loss Functions\n",
        "\n",
        "  - ..\n",
        "- https://pytorch.org/docs/stable/nn.html\n",
        "\n"
      ]
    },
    {
      "cell_type": "code",
      "metadata": {
        "id": "8tEtWHAsmZMy"
      },
      "source": [
        "import torch\n",
        "import torch.nn as nn"
      ],
      "execution_count": 73,
      "outputs": []
    },
    {
      "cell_type": "markdown",
      "metadata": {
        "id": "NcjCbeEQqPSI"
      },
      "source": [
        "- Convolution Layer 예시 (1)\n"
      ]
    },
    {
      "cell_type": "code",
      "metadata": {
        "id": "NQ7Y0tCOpkhM",
        "colab": {
          "base_uri": "https://localhost:8080/"
        },
        "outputId": "047431a2-8273-444f-eec6-1b2ab10fbb72"
      },
      "source": [
        "m = nn.Conv2d(16, 33, 3, stride=2)\n",
        "\n",
        "m = nn.Conv2d(16, 33, (3, 5), stride=(2, 1), padding=(4, 2))\n",
        "\n",
        "m = nn.Conv2d(16, 33, (3, 5), stride=(2, 1), padding=(4, 2), dilation=(3, 1))\n",
        "\n",
        "input = torch.randn(20, 16, 50, 100)\n",
        "print(input)\n",
        "output = m(input)\n",
        "print(output)"
      ],
      "execution_count": 77,
      "outputs": [
        {
          "output_type": "stream",
          "name": "stdout",
          "text": [
            "tensor([[[[-8.5680e-01,  1.7706e+00, -6.9865e-01,  ...,  1.5457e+00,\n",
            "           -1.3359e-01,  1.7955e+00],\n",
            "          [-2.3293e-01, -6.8486e-01,  3.1325e-01,  ...,  9.9521e-01,\n",
            "           -3.3620e+00, -3.1084e-01],\n",
            "          [-2.5412e-01, -1.2334e+00, -8.4441e-01,  ..., -6.2470e-01,\n",
            "            1.5554e+00, -1.2316e+00],\n",
            "          ...,\n",
            "          [-1.2589e+00,  6.0235e-01, -3.6356e-01,  ...,  2.3235e-01,\n",
            "            4.0471e-01, -8.4675e-01],\n",
            "          [ 7.8689e-01,  3.8595e-01,  1.5411e+00,  ...,  1.2288e+00,\n",
            "            1.1018e+00,  8.8212e-01],\n",
            "          [-7.1281e-01, -4.7512e-01,  5.5818e-01,  ..., -2.7616e-01,\n",
            "            1.2165e+00,  1.2817e-02]],\n",
            "\n",
            "         [[ 7.5527e-01,  6.2388e-01,  1.6895e+00,  ..., -1.1930e+00,\n",
            "            4.8300e-01,  6.5270e-01],\n",
            "          [ 9.9806e-01, -6.6444e-01,  9.5064e-01,  ..., -2.4423e-01,\n",
            "           -1.6155e+00, -1.1842e-01],\n",
            "          [-9.1102e-01,  1.1897e+00, -2.0019e-01,  ..., -8.8706e-01,\n",
            "            6.1974e-01, -1.1101e+00],\n",
            "          ...,\n",
            "          [ 2.0671e-01,  5.2588e-01, -1.0682e-01,  ..., -3.8344e-01,\n",
            "            7.7443e-01, -1.5458e+00],\n",
            "          [ 1.4019e-01,  4.5023e-01,  5.8259e-01,  ...,  1.3213e+00,\n",
            "            9.6703e-01, -7.3667e-01],\n",
            "          [ 7.0535e-01, -7.3446e-01, -1.0931e+00,  ..., -1.7600e+00,\n",
            "           -1.9415e+00,  1.3231e+00]],\n",
            "\n",
            "         [[-3.6129e-01, -1.7597e+00, -2.8466e-01,  ..., -2.9041e+00,\n",
            "            6.3263e-01,  5.5770e-01],\n",
            "          [-1.1778e+00,  1.1515e+00, -5.7827e-01,  ..., -8.0640e-01,\n",
            "            2.8277e-02,  1.1999e+00],\n",
            "          [-4.5521e-01, -1.0422e+00,  1.0332e+00,  ...,  4.0526e-02,\n",
            "           -2.6445e+00, -7.3140e-01],\n",
            "          ...,\n",
            "          [ 6.1701e-01,  6.6563e-01,  1.0203e-01,  ..., -2.1691e-01,\n",
            "           -1.0508e-01,  1.2856e+00],\n",
            "          [-7.4767e-01,  8.2035e-01,  2.5748e-01,  ...,  6.0777e-02,\n",
            "            1.3400e+00,  1.2038e+00],\n",
            "          [-5.1545e-01, -1.9274e+00,  3.3899e-01,  ..., -1.1469e-01,\n",
            "            8.4409e-01, -8.0034e-01]],\n",
            "\n",
            "         ...,\n",
            "\n",
            "         [[ 1.5512e+00, -5.3765e-01,  5.5365e-01,  ..., -1.6274e+00,\n",
            "           -9.7994e-01, -9.8600e-01],\n",
            "          [-2.4981e-01, -1.9211e+00,  7.7974e-01,  ..., -6.5208e-01,\n",
            "           -1.8047e-01, -2.0755e-01],\n",
            "          [-4.1172e-01,  1.3299e+00,  1.1783e+00,  ...,  5.6653e-01,\n",
            "            1.6481e+00,  1.5549e+00],\n",
            "          ...,\n",
            "          [ 7.6687e-01,  7.1749e-01, -9.5174e-01,  ..., -1.2014e-01,\n",
            "           -9.6576e-01,  3.2356e-01],\n",
            "          [-1.6123e+00, -5.9659e-01, -4.0127e-01,  ...,  5.4432e-01,\n",
            "            4.2253e-01,  8.0189e-01],\n",
            "          [ 7.8424e-01,  1.9010e-01, -1.2600e+00,  ...,  1.4704e-01,\n",
            "            3.0365e-01,  2.1789e+00]],\n",
            "\n",
            "         [[-1.2124e+00,  9.7699e-02, -9.2667e-01,  ..., -7.0210e-02,\n",
            "            1.4461e+00, -1.4149e+00],\n",
            "          [-7.4451e-01, -1.1427e+00, -2.6383e-01,  ..., -4.3982e-01,\n",
            "            7.0724e-01, -1.0327e+00],\n",
            "          [ 1.7804e+00, -2.8196e-01, -5.6910e-02,  ...,  2.1804e+00,\n",
            "           -4.0071e-02,  1.4095e-01],\n",
            "          ...,\n",
            "          [ 1.1953e+00,  3.1954e-02, -1.0528e+00,  ..., -6.4640e-01,\n",
            "            1.8749e+00, -5.5027e-01],\n",
            "          [-8.6366e-02, -2.5751e+00, -2.3270e-02,  ...,  1.8626e+00,\n",
            "           -1.6003e+00, -4.6263e-01],\n",
            "          [ 5.3926e-02,  1.4962e+00,  1.0686e+00,  ..., -3.3586e-02,\n",
            "           -1.1512e-01,  6.7133e-01]],\n",
            "\n",
            "         [[ 9.5647e-01,  1.6621e-01,  1.0817e+00,  ..., -8.5179e-01,\n",
            "           -1.6757e+00, -2.4121e-01],\n",
            "          [-3.4247e-01,  1.6322e-01,  7.1108e-01,  ...,  5.5125e-01,\n",
            "            1.3059e+00, -4.5043e-01],\n",
            "          [-1.6625e+00, -1.5141e+00, -1.2324e+00,  ...,  3.1794e-01,\n",
            "           -5.2833e-01,  5.1710e-01],\n",
            "          ...,\n",
            "          [-6.3913e-01, -1.2846e+00, -4.7584e-01,  ...,  3.3741e-01,\n",
            "            1.5596e+00,  8.1597e-01],\n",
            "          [-1.0808e+00, -6.3327e-01,  7.1311e-01,  ..., -9.4049e-01,\n",
            "           -1.1609e+00, -9.3192e-01],\n",
            "          [-5.1117e-02,  2.4958e-01, -1.5412e-01,  ..., -5.9407e-01,\n",
            "            7.3072e-01, -4.4275e-01]]],\n",
            "\n",
            "\n",
            "        [[[-2.0305e-01,  2.3089e-01, -1.0043e+00,  ..., -6.7396e-01,\n",
            "           -3.2259e-01,  4.1654e-01],\n",
            "          [ 2.6641e-02,  1.6948e+00, -4.0407e-01,  ..., -6.6648e-01,\n",
            "           -1.8607e-01, -1.7092e+00],\n",
            "          [-1.1534e+00,  1.1788e+00, -9.7673e-01,  ..., -7.6071e-01,\n",
            "            2.2031e-01, -6.0008e-02],\n",
            "          ...,\n",
            "          [-5.1616e-01,  1.9910e+00, -2.7206e-01,  ...,  9.0465e-01,\n",
            "            7.7770e-01,  4.6145e-01],\n",
            "          [-2.3558e-01,  7.0076e-01, -1.9748e-01,  ...,  6.6211e-01,\n",
            "            2.8122e-01, -1.6187e+00],\n",
            "          [ 9.8065e-02, -2.4398e-01,  5.9471e-01,  ..., -3.5113e-02,\n",
            "           -1.8972e-01,  3.3233e-01]],\n",
            "\n",
            "         [[-4.7618e-01, -3.3604e-01,  9.5101e-01,  ..., -6.7137e-01,\n",
            "            3.9789e-01,  3.9120e-01],\n",
            "          [ 7.8087e-01,  1.5620e+00, -1.5541e+00,  ..., -6.2045e-01,\n",
            "            1.3985e+00, -7.3161e-01],\n",
            "          [ 1.5224e+00, -5.2377e-02, -7.1624e-01,  ..., -6.1890e-01,\n",
            "           -2.0284e-01, -3.1376e-01],\n",
            "          ...,\n",
            "          [ 1.0909e+00,  1.3027e+00, -1.8781e+00,  ..., -4.7101e-01,\n",
            "            1.6888e+00,  5.6592e-01],\n",
            "          [ 1.3169e-01,  1.2703e+00, -1.4628e+00,  ...,  3.7434e-01,\n",
            "           -1.2285e-01, -5.1070e-01],\n",
            "          [ 2.8863e-01,  2.9494e-01,  3.2068e-01,  ...,  9.9542e-01,\n",
            "           -1.7608e+00,  8.6926e-01]],\n",
            "\n",
            "         [[-3.3143e-01, -2.2190e-01, -2.0963e-01,  ..., -4.3177e-01,\n",
            "           -5.4901e-01, -1.1866e+00],\n",
            "          [ 1.9311e+00,  4.4767e-01,  2.4711e+00,  ..., -1.6646e+00,\n",
            "            3.1989e-01, -8.7370e-01],\n",
            "          [-4.1180e-01,  5.5066e-01, -1.5388e-01,  ...,  1.4201e+00,\n",
            "           -8.9390e-01,  6.5199e-01],\n",
            "          ...,\n",
            "          [-3.0156e-01, -2.6364e-01, -8.1195e-01,  ..., -9.7415e-01,\n",
            "           -3.3117e-01, -2.1071e+00],\n",
            "          [ 2.4292e-01,  8.2532e-01, -9.4429e-01,  ..., -7.0763e-01,\n",
            "            1.5445e+00,  5.1567e-01],\n",
            "          [ 2.2542e+00,  9.3002e-01, -3.8392e-01,  ...,  5.2686e-01,\n",
            "           -1.0363e+00, -1.9888e+00]],\n",
            "\n",
            "         ...,\n",
            "\n",
            "         [[-5.9800e-01, -1.7358e-01, -7.4584e-01,  ...,  1.0711e+00,\n",
            "            8.3631e-01, -1.3034e-01],\n",
            "          [-1.4197e+00, -1.7955e-01, -1.7869e+00,  ...,  7.8640e-01,\n",
            "            1.5004e+00, -1.7207e+00],\n",
            "          [ 2.6941e-01, -1.8256e+00,  1.8065e-01,  ..., -7.7534e-01,\n",
            "           -1.0270e+00,  9.0569e-01],\n",
            "          ...,\n",
            "          [ 7.7934e-01, -1.1588e-01, -3.4734e-01,  ...,  1.1315e+00,\n",
            "            6.2089e-01,  5.8923e-01],\n",
            "          [-2.2435e-02, -3.1670e-01, -2.4228e-01,  ..., -2.7693e-01,\n",
            "           -1.1296e+00, -1.9316e-02],\n",
            "          [-9.0488e-01, -2.3554e+00, -8.1371e-01,  ..., -1.6642e+00,\n",
            "           -1.3592e+00,  2.1759e-01]],\n",
            "\n",
            "         [[ 4.7578e-01,  1.5332e+00,  1.4030e+00,  ..., -7.2773e-01,\n",
            "            3.7769e-01,  1.2519e+00],\n",
            "          [ 5.6418e-02,  1.2004e+00, -7.6803e-01,  ...,  3.4294e-01,\n",
            "            7.7553e-01, -1.4199e+00],\n",
            "          [-1.1987e+00, -1.2955e+00, -2.5690e-01,  ...,  1.9500e+00,\n",
            "           -2.0367e-01,  7.8283e-01],\n",
            "          ...,\n",
            "          [-1.8649e+00,  1.3050e+00, -2.4710e-01,  ...,  4.1874e-01,\n",
            "            1.8102e+00, -6.9081e-01],\n",
            "          [-6.6775e-01, -8.2892e-01, -1.9299e-01,  ...,  4.1832e-01,\n",
            "            2.6051e-01,  2.3693e-01],\n",
            "          [ 1.0386e-01, -6.1235e-01,  6.6107e-02,  ...,  1.2431e+00,\n",
            "           -1.1658e+00,  1.7822e+00]],\n",
            "\n",
            "         [[ 9.5553e-01, -1.6218e+00,  9.2743e-04,  ...,  6.8902e-01,\n",
            "            9.7326e-01,  1.2112e+00],\n",
            "          [ 9.1934e-02, -5.2809e-01,  1.1979e+00,  ..., -1.3389e+00,\n",
            "           -2.0523e-01,  4.1990e-01],\n",
            "          [ 1.1631e+00, -4.0864e-02, -1.8200e+00,  ...,  1.3344e+00,\n",
            "           -9.4680e-01, -9.6773e-01],\n",
            "          ...,\n",
            "          [-5.0969e-01,  5.3102e-01, -5.0745e-01,  ..., -1.9109e-01,\n",
            "           -2.3381e-01,  8.4993e-01],\n",
            "          [-1.0491e+00,  3.3936e-01,  8.3959e-01,  ..., -2.1375e-01,\n",
            "            3.8714e-01, -3.9531e-01],\n",
            "          [ 1.8940e+00, -5.5587e-01,  1.0519e+00,  ...,  3.4329e-01,\n",
            "            9.0565e-01, -1.0454e+00]]],\n",
            "\n",
            "\n",
            "        [[[ 1.1414e+00,  7.6628e-01,  2.9708e-02,  ..., -1.4174e-01,\n",
            "           -1.6510e+00,  1.7252e+00],\n",
            "          [-8.5268e-01,  2.7321e-01,  3.0186e-01,  ...,  1.3966e-01,\n",
            "           -3.4536e-01, -3.4075e-01],\n",
            "          [ 1.6047e+00,  2.4887e-01,  2.5273e-01,  ...,  6.2766e-01,\n",
            "            9.6612e-01, -4.2264e-01],\n",
            "          ...,\n",
            "          [ 2.3323e-01, -1.1969e+00, -9.6075e-01,  ...,  1.2225e+00,\n",
            "            1.7306e-01,  1.9290e+00],\n",
            "          [-6.3857e-01,  7.9882e-02,  8.2529e-02,  ..., -8.2712e-01,\n",
            "            4.0972e-01, -1.4281e+00],\n",
            "          [ 1.1088e+00,  6.1048e-01, -2.1340e+00,  ...,  1.4001e+00,\n",
            "           -3.5828e-01, -1.5599e+00]],\n",
            "\n",
            "         [[-4.5170e-01,  1.8617e-02,  3.9660e-01,  ...,  9.9765e-01,\n",
            "            4.5470e-01, -1.1564e+00],\n",
            "          [ 2.1111e+00, -3.4427e-01,  8.8082e-01,  ..., -4.6115e-01,\n",
            "           -8.3606e-01, -7.8331e-01],\n",
            "          [-4.6599e-01,  1.1161e+00,  7.8900e-01,  ...,  4.1805e-01,\n",
            "            1.0449e+00,  1.6817e+00],\n",
            "          ...,\n",
            "          [-1.8614e+00,  4.3284e-01,  5.0339e-01,  ...,  4.6538e-01,\n",
            "           -1.2183e+00,  5.6507e-01],\n",
            "          [-1.3622e+00, -1.4147e+00,  4.5586e-01,  ...,  1.4783e+00,\n",
            "           -2.7285e-01, -9.8466e-01],\n",
            "          [-2.2712e-01, -1.4198e+00, -6.6924e-01,  ..., -8.5674e-01,\n",
            "            1.4877e-01, -2.1078e-01]],\n",
            "\n",
            "         [[ 2.7854e+00,  9.3421e-01,  1.0114e+00,  ...,  7.8732e-01,\n",
            "            9.1442e-01, -1.2842e+00],\n",
            "          [ 1.8659e+00,  6.3601e-02, -6.5484e-01,  ...,  1.0904e+00,\n",
            "            7.3817e-01, -5.0727e-01],\n",
            "          [-1.6163e-01,  1.0112e+00,  4.2060e-01,  ...,  7.8232e-01,\n",
            "           -4.5980e-01,  3.9006e-01],\n",
            "          ...,\n",
            "          [-1.8038e+00,  4.4494e-02, -1.8971e+00,  ..., -1.2862e+00,\n",
            "            2.8715e+00, -8.1893e-01],\n",
            "          [ 9.4109e-01, -2.1630e-01, -9.2262e-01,  ..., -7.9990e-01,\n",
            "            2.2130e+00,  6.5327e-01],\n",
            "          [ 1.1437e-01,  4.0485e-01, -4.0408e-01,  ...,  1.3822e+00,\n",
            "           -1.4061e+00,  1.1989e+00]],\n",
            "\n",
            "         ...,\n",
            "\n",
            "         [[-8.4085e-01, -2.7844e-02, -1.4423e-01,  ...,  2.5192e+00,\n",
            "            1.3679e+00, -5.0766e-01],\n",
            "          [-6.0316e-01, -8.3286e-01, -3.9317e-01,  ..., -4.0180e-01,\n",
            "            6.0055e-01,  2.5104e-01],\n",
            "          [ 7.8756e-01,  7.0827e-01, -1.8523e+00,  ..., -2.1735e+00,\n",
            "           -1.5142e+00,  4.0109e-01],\n",
            "          ...,\n",
            "          [ 4.6960e-01,  2.6181e+00, -1.7752e+00,  ...,  9.4633e-01,\n",
            "            1.2678e+00, -2.3584e-01],\n",
            "          [ 1.3971e+00, -2.6354e-01, -1.1186e+00,  ...,  9.3409e-01,\n",
            "            6.5243e-01,  6.2250e-01],\n",
            "          [ 1.7659e+00,  1.3062e+00,  8.3668e-01,  ..., -3.8764e-01,\n",
            "           -9.6331e-01, -1.1712e+00]],\n",
            "\n",
            "         [[-1.3894e+00,  7.4432e-01, -2.3116e-01,  ...,  6.1352e-01,\n",
            "           -2.0349e-01, -1.8126e-01],\n",
            "          [ 4.7259e-01, -1.1039e+00,  9.0154e-01,  ...,  3.1064e-01,\n",
            "           -9.2856e-01, -5.8315e-01],\n",
            "          [-9.7706e-01,  3.4008e-01,  2.2233e-01,  ..., -1.5214e+00,\n",
            "            8.4067e-02, -4.4260e-01],\n",
            "          ...,\n",
            "          [ 7.6958e-01, -2.0854e-01,  5.9275e-01,  ..., -4.6697e-02,\n",
            "            5.8931e-03,  7.5370e-01],\n",
            "          [-2.6767e-01,  1.6339e+00, -5.4881e-01,  ..., -1.1674e+00,\n",
            "            5.4880e-02, -9.9432e-01],\n",
            "          [ 3.3981e-02, -3.1212e-01,  1.7985e+00,  ..., -1.5467e+00,\n",
            "           -3.6881e-01, -8.0879e-01]],\n",
            "\n",
            "         [[-1.5436e+00,  1.3346e+00, -1.5712e+00,  ...,  1.6211e+00,\n",
            "            9.1401e-02, -1.0316e-01],\n",
            "          [ 7.3713e-01, -8.3792e-01, -2.4636e+00,  ...,  8.4144e-01,\n",
            "           -1.7106e+00,  5.3277e-01],\n",
            "          [-1.4676e+00,  1.7902e+00, -5.7982e-01,  ...,  5.8531e-01,\n",
            "           -1.0306e-01, -5.4654e-01],\n",
            "          ...,\n",
            "          [ 1.0968e+00, -6.8551e-01, -1.2321e+00,  ...,  1.1491e+00,\n",
            "            4.7374e-01,  5.2135e-01],\n",
            "          [ 1.3014e+00, -4.8072e-01,  9.8684e-01,  ...,  3.5671e-01,\n",
            "            1.4178e+00,  3.8087e-01],\n",
            "          [-3.4560e-02,  4.9594e-02,  6.6202e-02,  ...,  5.3163e-01,\n",
            "           -1.0983e-01, -3.9207e-01]]],\n",
            "\n",
            "\n",
            "        ...,\n",
            "\n",
            "\n",
            "        [[[-7.5051e-01, -1.4270e+00, -1.4089e+00,  ...,  6.3125e-01,\n",
            "           -4.7300e-02,  1.2831e+00],\n",
            "          [ 1.2368e+00,  7.8916e-01, -1.7520e+00,  ..., -7.8724e-01,\n",
            "            8.6264e-02, -8.5828e-01],\n",
            "          [ 2.2898e+00, -6.4029e-01,  2.4613e-01,  ..., -8.0435e-01,\n",
            "            9.7940e-01,  1.8805e+00],\n",
            "          ...,\n",
            "          [-6.0387e-01,  4.4214e-01,  1.9560e-01,  ...,  1.3507e+00,\n",
            "           -1.0493e-01, -6.1363e-02],\n",
            "          [-6.6022e-01, -2.2265e-01, -1.0944e+00,  ..., -1.4143e-01,\n",
            "            8.5150e-01,  1.5062e+00],\n",
            "          [ 1.4125e+00, -3.3299e-01,  4.6834e-01,  ...,  4.3117e-01,\n",
            "           -1.1217e-01,  7.9004e-01]],\n",
            "\n",
            "         [[-5.2743e-01,  5.7129e-01, -5.2110e-01,  ..., -7.7671e-01,\n",
            "           -7.4574e-01,  5.0737e-01],\n",
            "          [-1.1365e+00, -9.3343e-01, -3.9336e-01,  ..., -1.8636e+00,\n",
            "            1.0754e+00, -9.8700e-01],\n",
            "          [-5.5413e-01, -2.1829e-01,  8.5539e-01,  ...,  1.0010e-01,\n",
            "           -9.5987e-01,  7.5135e-01],\n",
            "          ...,\n",
            "          [ 1.5039e+00, -5.7756e-01, -6.9672e-02,  ..., -4.2687e-01,\n",
            "           -1.7707e-02,  6.6802e-01],\n",
            "          [ 9.5778e-01, -9.3985e-01, -1.9355e-01,  ...,  9.1720e-02,\n",
            "           -1.6860e+00,  2.8071e-01],\n",
            "          [-3.2118e-01, -2.5418e-01, -7.4498e-02,  ..., -5.5298e-01,\n",
            "            1.0743e-02,  1.5081e+00]],\n",
            "\n",
            "         [[-1.4481e+00, -2.1163e+00,  2.1063e+00,  ..., -1.8831e+00,\n",
            "           -1.5559e+00,  1.2669e+00],\n",
            "          [-1.1098e+00,  1.5254e+00,  1.1889e+00,  ..., -6.7633e-01,\n",
            "            4.2659e-01,  8.8717e-01],\n",
            "          [ 2.6311e-01, -1.3340e+00,  4.6110e-01,  ..., -8.5102e-01,\n",
            "           -1.3868e+00, -7.5794e-01],\n",
            "          ...,\n",
            "          [-1.4234e+00,  1.9577e+00,  1.3621e+00,  ..., -9.4166e-01,\n",
            "           -9.7062e-01, -1.5157e+00],\n",
            "          [-2.2039e+00, -9.0346e-01,  1.2349e+00,  ..., -1.4084e-01,\n",
            "           -1.6984e+00, -3.8446e-01],\n",
            "          [ 1.8743e-03,  6.0368e-01,  1.8200e+00,  ..., -1.1847e+00,\n",
            "           -2.5476e-01, -1.5323e+00]],\n",
            "\n",
            "         ...,\n",
            "\n",
            "         [[-1.4811e+00, -1.9773e-01,  1.4527e+00,  ...,  9.4311e-01,\n",
            "            1.0661e-01,  8.6773e-01],\n",
            "          [-1.8540e-01,  1.2097e-01, -7.9891e-01,  ..., -1.7435e+00,\n",
            "           -3.0898e-01,  1.3604e+00],\n",
            "          [-4.3482e-01, -1.0759e+00,  9.3361e-02,  ..., -1.8038e+00,\n",
            "           -6.6696e-01,  1.1594e+00],\n",
            "          ...,\n",
            "          [-2.7979e-01, -1.4927e+00,  1.0818e-01,  ...,  6.3668e-03,\n",
            "           -1.4660e+00,  1.5165e+00],\n",
            "          [-6.8545e-01, -5.4182e-01,  7.0484e-02,  ..., -1.2752e+00,\n",
            "           -2.1219e-01, -1.2496e+00],\n",
            "          [-6.4223e-02, -1.2609e-01,  5.2253e-01,  ..., -2.0703e-01,\n",
            "           -1.2483e+00, -1.8761e+00]],\n",
            "\n",
            "         [[ 8.3017e-02,  7.6959e-01,  3.9731e-01,  ...,  9.5825e-01,\n",
            "           -8.1718e-01, -1.2966e+00],\n",
            "          [ 1.4422e+00,  1.4807e-01,  8.1698e-01,  ...,  7.6521e-01,\n",
            "           -1.9215e+00, -8.2619e-02],\n",
            "          [-5.2522e-01,  1.3451e+00,  5.8956e-01,  ...,  3.9442e-01,\n",
            "           -1.5907e-02, -7.3199e-01],\n",
            "          ...,\n",
            "          [ 4.7537e-01,  1.0195e-01, -1.4943e+00,  ..., -1.2021e-01,\n",
            "            1.0693e+00,  4.9869e-01],\n",
            "          [-6.1275e-01,  1.3577e+00, -1.2342e+00,  ..., -5.1157e-01,\n",
            "           -7.2022e-01,  4.4515e-01],\n",
            "          [ 4.6249e-01,  5.4997e-01,  7.1687e-01,  ...,  1.4947e-01,\n",
            "            6.3247e-01, -6.7343e-01]],\n",
            "\n",
            "         [[-1.0362e+00, -5.2739e-01, -6.6774e-01,  ..., -1.0180e-01,\n",
            "            1.0323e+00,  2.7969e-01],\n",
            "          [ 1.2910e+00, -1.2680e-01, -6.7845e-01,  ...,  1.1997e-01,\n",
            "            4.2768e-02,  9.7798e-01],\n",
            "          [-1.0971e+00, -1.3678e+00, -3.6826e-01,  ..., -4.4634e-01,\n",
            "           -2.0218e+00, -1.0346e-04],\n",
            "          ...,\n",
            "          [ 3.2337e-01, -2.1427e-01, -9.1669e-01,  ..., -6.5237e-02,\n",
            "           -1.7350e+00,  5.4843e-01],\n",
            "          [-3.6049e-01,  9.5539e-01,  7.7072e-02,  ..., -4.1978e-02,\n",
            "            4.5122e-01,  4.6454e-01],\n",
            "          [-2.0209e-01, -4.5524e-01, -2.8152e-01,  ...,  9.7590e-01,\n",
            "           -1.6477e-01,  2.4271e-03]]],\n",
            "\n",
            "\n",
            "        [[[ 9.5768e-01, -5.5799e-01, -3.3091e-01,  ..., -3.3374e-01,\n",
            "           -6.1359e-01, -8.1847e-01],\n",
            "          [ 3.2673e-02,  1.1451e+00, -1.0274e+00,  ..., -6.4081e-01,\n",
            "           -9.6631e-01,  1.3236e+00],\n",
            "          [-8.2376e-03, -3.3588e-01, -1.0114e+00,  ...,  5.9184e-01,\n",
            "           -6.9917e-01,  6.6566e-01],\n",
            "          ...,\n",
            "          [-2.3047e-01, -1.7646e-01, -2.9306e+00,  ...,  6.9247e-01,\n",
            "            1.2708e+00, -4.0307e-01],\n",
            "          [ 1.3191e+00,  1.0404e+00, -5.2784e-01,  ...,  9.7120e-02,\n",
            "           -7.2739e-01, -1.7888e+00],\n",
            "          [-1.3438e-01,  6.4363e-01, -1.8772e-02,  ...,  2.6149e-01,\n",
            "           -5.8666e-01, -7.6546e-01]],\n",
            "\n",
            "         [[ 8.5248e-01, -1.7396e+00, -5.7557e-01,  ...,  9.5694e-02,\n",
            "           -4.1866e-01, -3.4621e-01],\n",
            "          [-4.3602e-01, -1.6039e-01,  2.4022e-01,  ...,  1.2617e+00,\n",
            "           -1.9446e+00, -7.1619e-01],\n",
            "          [-7.2343e-01, -6.6220e-01, -7.3342e-01,  ..., -1.9741e+00,\n",
            "           -2.1239e+00, -1.7112e-01],\n",
            "          ...,\n",
            "          [ 8.1891e-01, -1.2139e+00,  1.0248e+00,  ...,  9.2282e-02,\n",
            "            9.4762e-01,  9.2206e-01],\n",
            "          [-1.3302e+00,  1.1462e-01, -3.0464e-02,  ...,  3.6136e-01,\n",
            "            5.7798e-02,  2.8301e+00],\n",
            "          [ 2.6260e-01, -5.1213e-01, -2.6664e-01,  ..., -6.0866e-02,\n",
            "            2.1799e-01,  1.4605e+00]],\n",
            "\n",
            "         [[-1.9747e+00,  9.8876e-03, -1.5624e+00,  ...,  9.4018e-01,\n",
            "            3.4854e-01, -4.6568e-01],\n",
            "          [-2.4842e-02, -7.6187e-02, -9.5452e-01,  ..., -7.8138e-01,\n",
            "            3.1157e-01,  4.1878e-01],\n",
            "          [-1.6198e-01,  2.1581e+00, -1.6507e+00,  ..., -2.1314e+00,\n",
            "           -5.2275e-01, -6.9420e-01],\n",
            "          ...,\n",
            "          [ 9.2638e-01,  1.0472e+00,  4.1086e-01,  ...,  1.1055e+00,\n",
            "            1.2543e+00, -3.4681e-01],\n",
            "          [ 6.9927e-01, -3.1674e-02, -1.9440e-01,  ...,  5.6676e-02,\n",
            "           -1.4729e+00,  5.4586e-01],\n",
            "          [ 4.1222e-01, -1.1402e+00, -7.3595e-01,  ..., -1.9945e+00,\n",
            "            6.9265e-01,  9.5689e-02]],\n",
            "\n",
            "         ...,\n",
            "\n",
            "         [[ 1.0669e+00,  5.0981e-01,  1.0826e+00,  ...,  6.1686e-02,\n",
            "           -4.7241e-01, -8.8290e-01],\n",
            "          [ 6.2053e-01, -1.5717e+00,  5.3860e-01,  ...,  1.4088e+00,\n",
            "           -5.0656e-01,  1.5384e+00],\n",
            "          [ 2.9899e-01, -2.6346e-01, -1.5955e+00,  ..., -7.1095e-02,\n",
            "            1.1854e-01, -1.0494e+00],\n",
            "          ...,\n",
            "          [-1.2298e-01,  6.1419e-01, -4.2130e-01,  ...,  5.3464e-01,\n",
            "           -7.7570e-01, -1.2520e+00],\n",
            "          [-1.5166e+00, -9.9768e-01,  5.4900e-01,  ..., -8.0509e-01,\n",
            "           -4.3980e-01,  5.2849e-01],\n",
            "          [-6.8984e-01,  6.7001e-01, -1.2446e-01,  ..., -9.6541e-01,\n",
            "           -3.7047e-01,  8.9600e-02]],\n",
            "\n",
            "         [[ 6.9809e-01, -4.0762e-01,  3.9667e-01,  ..., -3.7593e-01,\n",
            "           -1.9856e+00,  3.4042e-01],\n",
            "          [-1.0701e-01,  1.3079e-01, -3.0181e-01,  ..., -1.0367e+00,\n",
            "            4.3016e-01, -7.4611e-01],\n",
            "          [ 1.0315e+00,  4.3873e-01,  1.3268e+00,  ..., -3.5456e-01,\n",
            "           -2.4771e-01,  7.0937e-01],\n",
            "          ...,\n",
            "          [-6.4482e-02,  3.6869e-01,  4.6370e-01,  ..., -1.0186e+00,\n",
            "           -3.8294e-01, -2.1851e-01],\n",
            "          [-9.6464e-01, -6.7778e-01, -1.0317e-01,  ..., -8.4907e-01,\n",
            "           -1.1341e+00,  1.0854e+00],\n",
            "          [-2.4545e-01, -2.0474e-01, -1.6749e+00,  ...,  6.4895e-01,\n",
            "           -2.0820e+00, -4.2877e-01]],\n",
            "\n",
            "         [[ 7.9145e-01, -1.6296e+00,  4.4713e-01,  ...,  1.2272e+00,\n",
            "            4.1895e-01, -8.1386e-01],\n",
            "          [ 1.4304e+00,  4.6486e-02, -5.8303e-01,  ...,  8.7901e-01,\n",
            "            7.0673e-03,  1.4039e+00],\n",
            "          [ 7.8891e-01,  3.1642e-01,  1.1694e+00,  ...,  4.1616e-01,\n",
            "            3.9540e-01,  1.3179e+00],\n",
            "          ...,\n",
            "          [-2.7500e-01,  6.8778e-01, -9.1359e-01,  ...,  1.6252e+00,\n",
            "           -6.5293e-01,  5.6183e-01],\n",
            "          [-1.4879e+00,  9.8140e-01, -1.9562e+00,  ...,  1.0016e+00,\n",
            "           -7.1404e-01, -4.2567e-01],\n",
            "          [-4.9049e-01, -3.3604e-01, -1.0388e+00,  ...,  1.5318e+00,\n",
            "            1.2806e+00, -8.7777e-01]]],\n",
            "\n",
            "\n",
            "        [[[-1.1330e+00,  2.8819e+00, -6.8125e-01,  ...,  1.8779e+00,\n",
            "            1.7074e-02,  1.8169e+00],\n",
            "          [ 1.9523e+00, -5.9564e-01,  7.2895e-01,  ...,  1.7393e-02,\n",
            "            7.1653e-01,  8.1797e-01],\n",
            "          [-6.7725e-01, -1.2970e-01,  2.1109e+00,  ...,  8.6546e-01,\n",
            "           -2.2498e+00, -1.4296e+00],\n",
            "          ...,\n",
            "          [ 1.5903e-01, -2.4422e-01,  2.9951e-01,  ..., -1.0345e+00,\n",
            "            1.6033e+00, -2.5227e-01],\n",
            "          [ 2.2632e-01,  9.7991e-02,  2.7681e-01,  ..., -1.3442e+00,\n",
            "           -3.5176e-01,  6.5141e-01],\n",
            "          [ 1.7421e+00,  7.7819e-02, -9.0084e-02,  ...,  2.2012e-01,\n",
            "           -4.9864e-01,  4.2980e-01]],\n",
            "\n",
            "         [[ 2.4267e+00, -2.1835e+00, -2.8586e-01,  ...,  4.5167e-01,\n",
            "           -8.4458e-01,  3.0380e-02],\n",
            "          [ 1.2948e+00,  6.5705e-01,  5.3491e-01,  ...,  2.3536e+00,\n",
            "           -1.0200e+00,  1.9642e+00],\n",
            "          [ 8.4333e-01, -1.3830e+00, -1.3826e+00,  ..., -1.0593e+00,\n",
            "           -7.9794e-01, -9.3951e-01],\n",
            "          ...,\n",
            "          [-1.9796e+00,  9.5934e-01, -2.5054e-01,  ..., -8.7386e-01,\n",
            "            5.8154e-01,  4.6215e-01],\n",
            "          [-2.0487e-01, -4.4766e-01, -3.6728e-01,  ...,  1.2971e+00,\n",
            "            2.4353e+00,  5.5264e-01],\n",
            "          [ 1.1428e+00,  1.9354e-01, -6.9432e-01,  ..., -2.0107e+00,\n",
            "            7.2284e-01,  3.3197e-01]],\n",
            "\n",
            "         [[ 1.6631e+00,  1.8904e+00, -6.7675e-01,  ...,  1.0192e+00,\n",
            "            6.4475e-01, -6.4893e-01],\n",
            "          [-2.0857e-01, -3.1246e-02,  6.3701e-01,  ...,  4.2921e-01,\n",
            "            9.2161e-01, -6.3625e-01],\n",
            "          [-1.0496e+00,  4.4335e-01, -4.8165e-01,  ...,  8.2912e-01,\n",
            "           -7.1304e-01,  2.2463e-01],\n",
            "          ...,\n",
            "          [-4.1213e-01, -6.2348e-01, -7.4963e-02,  ...,  1.4881e-01,\n",
            "            7.9493e-02,  8.4502e-01],\n",
            "          [-1.0186e+00,  7.4328e-01,  4.2381e-01,  ...,  1.4876e+00,\n",
            "            3.3079e-01,  1.4210e+00],\n",
            "          [ 1.4826e-01, -2.4377e+00,  1.0187e+00,  ..., -1.4746e+00,\n",
            "            8.9306e-01, -1.4887e+00]],\n",
            "\n",
            "         ...,\n",
            "\n",
            "         [[ 5.3067e-01, -2.4349e-01,  1.6257e+00,  ..., -1.5867e-01,\n",
            "           -2.3783e-01,  1.3975e+00],\n",
            "          [ 1.4492e+00,  1.0852e-01, -3.0508e-02,  ..., -1.0645e+00,\n",
            "           -1.9543e+00, -4.6540e-01],\n",
            "          [-8.2765e-01,  1.3544e-01, -7.3724e-04,  ..., -3.1061e-01,\n",
            "            9.9443e-02, -3.0076e-01],\n",
            "          ...,\n",
            "          [-9.8058e-01, -6.1194e-01, -9.4503e-01,  ...,  5.7226e-01,\n",
            "            2.8604e-01,  1.0913e+00],\n",
            "          [ 8.2349e-01, -1.8195e+00, -1.1738e-01,  ..., -2.3754e+00,\n",
            "            1.4236e+00, -1.1337e+00],\n",
            "          [ 2.9764e-01, -1.1602e-01, -4.9736e-01,  ...,  1.3219e+00,\n",
            "           -1.2740e+00, -1.6710e+00]],\n",
            "\n",
            "         [[-1.9681e+00, -1.0588e+00, -8.5763e-01,  ...,  2.0828e-01,\n",
            "            5.5906e-01, -1.9671e-01],\n",
            "          [ 4.2226e-01,  8.7052e-01,  1.3165e+00,  ..., -3.0380e-01,\n",
            "            1.0036e+00, -7.8773e-02],\n",
            "          [ 3.5413e-01, -6.9455e-01,  7.7553e-01,  ..., -2.2211e+00,\n",
            "           -1.0875e+00, -3.8304e-01],\n",
            "          ...,\n",
            "          [ 1.1194e+00, -1.2745e-01, -1.1298e+00,  ...,  2.1782e-01,\n",
            "            3.5978e-01, -1.0972e-01],\n",
            "          [-4.0181e-01,  1.3754e+00,  6.4877e-01,  ..., -1.2822e+00,\n",
            "            1.0217e+00, -5.5295e-01],\n",
            "          [-5.6614e-01,  1.9434e-01,  8.8811e-01,  ..., -6.1977e-01,\n",
            "            7.1722e-01, -2.2848e+00]],\n",
            "\n",
            "         [[-5.9354e-01,  9.6201e-01, -2.8239e-01,  ...,  1.0518e+00,\n",
            "            6.7339e-01, -1.4133e+00],\n",
            "          [ 1.3635e-01, -5.9370e-01,  4.6831e-02,  ..., -8.7482e-01,\n",
            "           -2.4761e-01,  4.4048e-01],\n",
            "          [ 1.1492e+00,  1.0375e+00,  1.5088e+00,  ...,  1.1431e+00,\n",
            "           -5.1200e-01,  5.2705e-01],\n",
            "          ...,\n",
            "          [-1.1084e+00, -1.0644e+00, -3.9050e-01,  ..., -7.1262e-02,\n",
            "            8.6526e-01, -3.6099e-01],\n",
            "          [-4.4677e-01,  7.1800e-01,  3.8734e-01,  ...,  1.5515e+00,\n",
            "           -9.7887e-01,  3.1969e+00],\n",
            "          [-2.7744e-01, -9.8033e-01,  1.0862e+00,  ...,  1.5710e+00,\n",
            "            4.8168e-01,  4.2976e-01]]]])\n",
            "tensor([[[[ 2.4743e-01,  5.7139e-02,  1.4757e-01,  ...,  3.3667e-01,\n",
            "            1.8158e-01, -1.0770e-01],\n",
            "          [ 5.6391e-01,  2.6905e-01, -3.2029e-01,  ..., -8.9000e-01,\n",
            "            4.4958e-01,  1.4086e-01],\n",
            "          [-3.7791e-01, -5.2631e-01, -3.2264e-01,  ...,  6.1338e-01,\n",
            "           -6.6314e-01,  9.1316e-01],\n",
            "          ...,\n",
            "          [ 9.1539e-02,  8.9004e-01, -8.4620e-02,  ..., -2.6233e-01,\n",
            "            1.1693e+00,  3.3535e-01],\n",
            "          [ 2.5101e-01, -4.9371e-01,  2.5265e-01,  ...,  1.8532e-01,\n",
            "           -2.3142e-01,  1.9367e-01],\n",
            "          [-1.3115e-01,  1.5531e-01,  6.5041e-01,  ..., -1.4411e-01,\n",
            "           -6.0692e-01,  5.6406e-01]],\n",
            "\n",
            "         [[ 2.7131e-01, -7.3777e-02,  3.0782e-01,  ..., -4.3330e-01,\n",
            "            1.6272e-01, -6.3727e-01],\n",
            "          [ 1.6560e-03,  5.5031e-01, -2.2644e-02,  ..., -2.5642e-01,\n",
            "            9.4518e-01, -2.8408e-01],\n",
            "          [-2.0327e-01,  9.2327e-02, -1.0035e+00,  ...,  1.2676e+00,\n",
            "           -6.1154e-01, -3.7606e-01],\n",
            "          ...,\n",
            "          [-5.4611e-03, -9.9717e-02, -9.2221e-01,  ..., -2.8336e-01,\n",
            "           -2.9093e-01, -5.0372e-01],\n",
            "          [-1.6283e-01, -1.3552e+00,  2.1355e-01,  ...,  1.6262e-01,\n",
            "            3.2963e-01, -1.3880e-01],\n",
            "          [ 8.2682e-01, -1.0091e-01, -2.5291e-01,  ..., -3.1112e-01,\n",
            "           -2.0075e-02,  1.0664e-01]],\n",
            "\n",
            "         [[-4.6630e-01,  1.6903e-02,  1.7199e-01,  ..., -5.6872e-01,\n",
            "            1.2123e-01,  3.9352e-02],\n",
            "          [-2.2810e-01, -4.0949e-01,  6.2280e-01,  ...,  1.4112e+00,\n",
            "           -4.7264e-01, -3.2248e-01],\n",
            "          [-6.6610e-01,  6.0919e-01, -4.8859e-02,  ..., -9.4650e-01,\n",
            "            5.1148e-01,  1.7647e-01],\n",
            "          ...,\n",
            "          [-4.4921e-01,  8.5555e-02, -6.3775e-03,  ..., -7.2618e-02,\n",
            "           -3.6724e-01, -2.3593e-01],\n",
            "          [ 3.1453e-01,  4.1018e-01, -5.2976e-02,  ..., -3.6004e-01,\n",
            "           -2.9311e-01,  9.0414e-02],\n",
            "          [-3.3531e-01,  8.8066e-02,  4.1954e-01,  ...,  3.1727e-01,\n",
            "            5.0436e-01,  1.5532e-01]],\n",
            "\n",
            "         ...,\n",
            "\n",
            "         [[-3.7058e-01,  2.0071e-02,  6.8613e-02,  ...,  6.2242e-01,\n",
            "            5.5500e-01,  3.2702e-02],\n",
            "          [-3.8092e-01, -4.6798e-01, -1.9962e-01,  ..., -5.9321e-01,\n",
            "           -4.4991e-01, -2.4364e-01],\n",
            "          [ 2.2134e-01,  2.4977e-01, -4.4418e-01,  ..., -3.1968e-01,\n",
            "            3.7117e-01, -3.0904e-01],\n",
            "          ...,\n",
            "          [ 9.2994e-02,  2.1323e-02,  5.4732e-01,  ..., -1.2640e+00,\n",
            "           -2.1531e-01, -2.4515e-01],\n",
            "          [-8.1141e-01, -1.6407e-01,  8.9206e-02,  ...,  2.6657e-01,\n",
            "           -4.6822e-01,  4.1439e-02],\n",
            "          [ 7.5533e-01, -7.6413e-02,  1.4747e-01,  ...,  2.9750e-01,\n",
            "            2.9565e-01,  1.1697e-01]],\n",
            "\n",
            "         [[ 2.4939e-01, -1.6280e-01, -1.0261e-01,  ..., -5.7653e-01,\n",
            "           -3.4938e-01,  3.0791e-01],\n",
            "          [-1.5988e-01,  4.6776e-01, -4.4132e-01,  ...,  3.0563e-02,\n",
            "            2.6170e-01, -8.7468e-02],\n",
            "          [ 6.0457e-01, -5.7760e-01,  1.8060e-01,  ...,  4.2656e-02,\n",
            "            1.2953e-01, -5.2780e-01],\n",
            "          ...,\n",
            "          [-8.2233e-02, -5.6453e-01, -4.7177e-01,  ...,  8.3665e-01,\n",
            "           -3.2996e-01, -1.2458e-01],\n",
            "          [-2.3817e-01, -1.3537e-02, -1.7302e-01,  ...,  6.2358e-01,\n",
            "           -4.7860e-01, -3.8180e-01],\n",
            "          [ 9.7226e-01, -1.2131e-01, -4.1771e-01,  ..., -2.6632e-01,\n",
            "            3.7330e-01, -7.3570e-01]],\n",
            "\n",
            "         [[ 4.5430e-01,  2.4889e-01,  4.1104e-01,  ..., -1.0435e-01,\n",
            "            6.7628e-02, -1.0418e-01],\n",
            "          [ 3.0930e-01,  1.8845e-01,  1.7776e-01,  ..., -6.8247e-02,\n",
            "            3.0802e-01,  3.5718e-01],\n",
            "          [ 5.5854e-01, -5.7276e-01,  2.0134e-01,  ...,  8.3704e-01,\n",
            "            2.7283e-01, -5.0985e-01],\n",
            "          ...,\n",
            "          [ 5.9658e-01,  1.2177e-01,  2.5935e-01,  ...,  1.1399e+00,\n",
            "            4.3192e-01,  7.2975e-01],\n",
            "          [ 5.8495e-01,  5.6819e-01, -2.1702e-02,  ...,  4.4073e-01,\n",
            "           -1.3884e-01,  5.1730e-01],\n",
            "          [ 3.2046e-01, -9.7303e-02, -1.9140e-01,  ..., -7.9510e-01,\n",
            "           -3.3461e-02, -3.0105e-01]]],\n",
            "\n",
            "\n",
            "        [[[ 8.7219e-02,  6.4821e-02,  4.7098e-01,  ...,  9.9011e-02,\n",
            "            4.6710e-02, -1.3008e-02],\n",
            "          [-2.5552e-01,  3.1758e-01,  5.4802e-01,  ..., -2.1399e-01,\n",
            "           -6.1620e-01, -3.7038e-01],\n",
            "          [-4.4148e-01,  8.8837e-01, -2.2422e-01,  ..., -2.6989e-02,\n",
            "            1.8672e-01, -1.3947e-01],\n",
            "          ...,\n",
            "          [-5.1228e-01,  8.5005e-01, -5.0708e-01,  ..., -1.4177e-01,\n",
            "            1.3121e-01, -3.9134e-01],\n",
            "          [-5.2646e-01,  3.7272e-01,  3.2216e-01,  ..., -2.2824e-01,\n",
            "            1.0196e+00, -2.3768e-02],\n",
            "          [ 1.3813e+00,  6.4339e-01,  5.3119e-02,  ...,  3.9991e-01,\n",
            "            6.6740e-01,  5.6596e-02]],\n",
            "\n",
            "         [[ 4.6545e-01, -3.9916e-02,  5.0420e-01,  ..., -1.9633e-02,\n",
            "           -2.1550e-01,  8.6844e-02],\n",
            "          [ 7.7099e-01, -7.9501e-02,  2.2533e-01,  ..., -3.4146e-02,\n",
            "            6.3682e-01,  7.0910e-01],\n",
            "          [ 5.7202e-01,  1.5389e-01, -3.1423e-01,  ...,  1.2380e-01,\n",
            "            7.1423e-01,  4.9634e-01],\n",
            "          ...,\n",
            "          [-6.5557e-01,  2.1301e-01, -9.5835e-02,  ..., -1.9458e-02,\n",
            "           -3.9348e-01, -4.0772e-01],\n",
            "          [ 1.1335e-01,  1.1153e-01,  4.5593e-01,  ...,  4.3604e-01,\n",
            "            5.7364e-01,  5.4925e-01],\n",
            "          [-5.0230e-01, -1.3169e+00, -2.7323e-01,  ..., -2.6291e-01,\n",
            "           -4.1626e-01,  4.0439e-01]],\n",
            "\n",
            "         [[ 1.0236e-01, -1.0926e-01,  1.9875e-01,  ...,  2.5606e-01,\n",
            "           -7.3870e-02,  4.2055e-02],\n",
            "          [ 4.7159e-02,  4.7697e-01, -8.8732e-01,  ...,  4.1127e-02,\n",
            "            6.0745e-02, -1.3534e-01],\n",
            "          [-3.6204e-01,  3.1595e-01, -4.1618e-01,  ...,  2.6306e-01,\n",
            "           -3.3275e-01, -3.0239e-01],\n",
            "          ...,\n",
            "          [-1.0561e-01,  7.7710e-01,  2.0675e-01,  ..., -6.3818e-01,\n",
            "            3.5627e-01, -2.0952e-01],\n",
            "          [-2.2754e-02,  5.0556e-01,  7.8162e-02,  ...,  2.7045e-01,\n",
            "            3.9392e-01,  4.0986e-01],\n",
            "          [-2.7075e-01,  2.0143e-01,  2.1264e-01,  ...,  2.5122e-01,\n",
            "            4.6759e-01,  1.0862e-01]],\n",
            "\n",
            "         ...,\n",
            "\n",
            "         [[-3.6480e-01,  1.2125e-01,  1.7489e-02,  ...,  4.8650e-01,\n",
            "            1.0456e-01, -2.1311e-01],\n",
            "          [-2.7179e-02,  1.8946e-01, -1.3773e-01,  ..., -1.5488e-01,\n",
            "           -1.1675e-01,  1.1539e-01],\n",
            "          [ 3.5763e-01,  3.6689e-01,  3.7853e-01,  ..., -1.2861e-01,\n",
            "            3.2874e-02, -3.6663e-01],\n",
            "          ...,\n",
            "          [-4.6773e-01, -1.7889e-01, -6.0106e-01,  ...,  3.9880e-01,\n",
            "           -3.5524e-01, -4.5413e-01],\n",
            "          [ 4.4091e-01,  3.9033e-01,  1.0918e-01,  ...,  4.3167e-01,\n",
            "           -1.4171e-01,  2.5700e-02],\n",
            "          [-1.0278e-01, -5.9051e-01, -1.0456e+00,  ..., -6.2450e-01,\n",
            "           -5.3963e-01, -5.7699e-01]],\n",
            "\n",
            "         [[ 3.6023e-01,  4.4109e-02,  1.3462e-01,  ..., -1.6593e-01,\n",
            "           -1.8129e-01,  6.5426e-02],\n",
            "          [ 4.7923e-01,  7.1236e-02, -8.3124e-01,  ..., -9.3152e-02,\n",
            "           -4.4100e-01, -2.5149e-02],\n",
            "          [ 4.0421e-01, -4.3516e-01,  4.5785e-01,  ..., -4.8099e-01,\n",
            "            7.5664e-02,  6.3859e-01],\n",
            "          ...,\n",
            "          [-4.8779e-02,  2.9046e-01,  1.9625e-01,  ...,  9.8220e-01,\n",
            "            1.6769e-01,  3.7658e-01],\n",
            "          [ 6.1949e-01,  8.9387e-02,  7.9110e-01,  ..., -4.9162e-02,\n",
            "            8.8417e-01, -3.2064e-01],\n",
            "          [-6.4741e-01,  2.0574e-01,  5.1100e-02,  ...,  2.3751e-01,\n",
            "           -1.5024e-01,  5.6780e-01]],\n",
            "\n",
            "         [[ 3.1817e-01,  1.2908e-01, -2.8719e-02,  ...,  1.5698e-01,\n",
            "            5.7271e-02,  6.2859e-02],\n",
            "          [ 3.2245e-01,  1.4958e-01,  6.4917e-01,  ..., -2.1608e-01,\n",
            "            3.9059e-01, -1.6512e-01],\n",
            "          [ 9.7160e-01,  4.3821e-01,  2.3831e-01,  ...,  3.1055e-01,\n",
            "            1.3117e-01,  3.4786e-02],\n",
            "          ...,\n",
            "          [ 6.8068e-02,  4.4335e-01,  4.6474e-01,  ..., -3.2644e-01,\n",
            "            3.4100e-01,  4.0412e-01],\n",
            "          [-4.3497e-02, -6.1350e-01, -6.2561e-01,  ..., -7.5930e-01,\n",
            "           -2.8024e-01, -1.3764e+00],\n",
            "          [ 1.6921e-01,  5.2687e-01,  2.6926e-01,  ..., -9.4150e-01,\n",
            "            3.4016e-01, -2.9023e-01]]],\n",
            "\n",
            "\n",
            "        [[[ 3.1111e-01, -1.4618e-02,  2.7203e-01,  ...,  1.6350e-01,\n",
            "            1.7198e-01,  4.1757e-01],\n",
            "          [ 1.7780e-01,  3.7634e-02, -9.5772e-01,  ...,  6.5970e-01,\n",
            "            3.2585e-01,  7.4507e-01],\n",
            "          [ 6.8554e-01,  2.6763e-01,  1.1320e+00,  ...,  2.2855e-01,\n",
            "            8.2825e-01, -2.1921e-01],\n",
            "          ...,\n",
            "          [-4.4599e-02,  3.4986e-02,  7.9288e-02,  ..., -5.1367e-01,\n",
            "           -3.1302e-02,  1.7816e-01],\n",
            "          [ 2.5294e-01,  7.2114e-02,  9.1449e-01,  ..., -3.0384e-02,\n",
            "            1.1649e+00,  1.9513e-02],\n",
            "          [-7.5789e-01, -5.3427e-02, -6.4204e-01,  ...,  1.6653e-02,\n",
            "            1.3340e-01,  1.4105e-01]],\n",
            "\n",
            "         [[ 3.1130e-01, -8.3703e-01,  1.0187e+00,  ...,  7.4840e-01,\n",
            "           -6.3907e-02,  2.4482e-01],\n",
            "          [-1.8181e-01, -7.2316e-02,  5.6769e-01,  ..., -4.8614e-02,\n",
            "            1.5132e-02,  1.1660e-02],\n",
            "          [-5.8080e-01, -3.2066e-01,  1.1940e-02,  ...,  3.5548e-01,\n",
            "           -2.7647e-01,  5.3407e-01],\n",
            "          ...,\n",
            "          [ 2.0902e-01,  9.8900e-01,  3.9979e-02,  ...,  3.2134e-01,\n",
            "           -1.8008e-01,  2.5834e-01],\n",
            "          [ 7.5462e-01,  9.7333e-01,  8.2668e-01,  ...,  7.7068e-01,\n",
            "            3.6854e-02, -4.0443e-02],\n",
            "          [ 6.9441e-01,  4.0018e-01, -6.7156e-02,  ...,  4.1707e-01,\n",
            "           -2.2906e-01, -4.4537e-01]],\n",
            "\n",
            "         [[ 2.0380e-01,  1.5581e-01, -1.1568e-01,  ...,  9.4777e-02,\n",
            "            4.5729e-01,  2.6177e-01],\n",
            "          [-2.9029e-02, -4.3693e-01, -4.3063e-02,  ..., -6.5341e-01,\n",
            "            1.7076e-01,  2.8933e-01],\n",
            "          [ 9.3364e-01, -9.6381e-01, -9.8203e-01,  ...,  1.3606e+00,\n",
            "           -2.1383e-01,  3.3252e-01],\n",
            "          ...,\n",
            "          [ 5.1356e-01, -7.0911e-01,  1.6966e+00,  ..., -1.2145e-01,\n",
            "           -2.7560e-01,  4.3223e-01],\n",
            "          [-7.9490e-02,  3.3456e-01,  8.2118e-02,  ...,  4.0059e-01,\n",
            "           -2.8633e-01, -5.1841e-02],\n",
            "          [-6.5931e-01, -3.1342e-01, -3.6244e-01,  ..., -4.4593e-01,\n",
            "            9.5553e-02, -1.8838e-01]],\n",
            "\n",
            "         ...,\n",
            "\n",
            "         [[ 1.8698e-02, -2.9706e-01, -4.2313e-01,  ..., -4.9682e-02,\n",
            "           -2.7308e-01, -4.5469e-01],\n",
            "          [-6.4484e-02, -4.3995e-02, -2.4881e-01,  ..., -3.3537e-01,\n",
            "            4.9663e-02, -8.2930e-01],\n",
            "          [-6.0017e-01, -1.3339e-03, -5.9371e-01,  ..., -4.9693e-02,\n",
            "           -1.4252e-01, -4.3872e-01],\n",
            "          ...,\n",
            "          [-1.1312e-01,  4.1867e-01,  5.7824e-01,  ..., -1.6574e-04,\n",
            "            3.5697e-01, -8.3731e-01],\n",
            "          [ 2.8158e-01,  4.6338e-01,  4.8864e-01,  ...,  1.0107e-01,\n",
            "           -2.3898e-01, -4.0219e-01],\n",
            "          [ 2.6642e-01, -1.4739e-01, -3.4045e-01,  ..., -4.4638e-01,\n",
            "           -6.1337e-01, -4.8872e-01]],\n",
            "\n",
            "         [[ 3.8040e-01,  1.9719e-01,  6.4247e-02,  ..., -2.9768e-01,\n",
            "            4.2012e-01,  4.9171e-01],\n",
            "          [-9.6958e-02,  2.0551e-01, -8.6344e-01,  ..., -4.8837e-01,\n",
            "           -3.4818e-01,  4.0512e-01],\n",
            "          [-5.9521e-01, -2.0549e-01,  1.0225e+00,  ...,  1.8631e-01,\n",
            "           -1.9997e-01, -2.6948e-01],\n",
            "          ...,\n",
            "          [-3.7314e-01,  1.7763e-01, -1.7215e+00,  ...,  3.3814e-01,\n",
            "           -5.5938e-01,  4.6069e-01],\n",
            "          [ 3.7520e-01,  7.3769e-01, -5.3834e-02,  ...,  7.3414e-01,\n",
            "           -1.4760e-01,  3.3350e-01],\n",
            "          [ 1.6167e-01, -6.1743e-02,  6.8490e-01,  ...,  7.5390e-01,\n",
            "            2.7553e-01, -1.2202e-01]],\n",
            "\n",
            "         [[-4.1911e-01, -3.1696e-03,  4.4734e-01,  ...,  2.8794e-01,\n",
            "           -9.3126e-02, -2.3627e-01],\n",
            "          [ 2.3779e-02,  3.7875e-01,  1.0231e-01,  ...,  7.2525e-01,\n",
            "            3.0858e-01, -3.7917e-02],\n",
            "          [ 2.1171e-01,  2.5085e-01, -1.2638e-02,  ...,  4.7767e-01,\n",
            "           -5.6667e-01,  9.2515e-02],\n",
            "          ...,\n",
            "          [ 4.0016e-01,  3.6012e-01,  3.6995e-01,  ...,  2.4791e-01,\n",
            "            3.4978e-01,  5.3247e-01],\n",
            "          [-2.8533e-01, -2.2243e-01, -1.5986e-02,  ...,  6.1086e-01,\n",
            "           -7.3094e-01, -3.1728e-01],\n",
            "          [ 7.7348e-01,  1.5983e-01, -6.6054e-01,  ...,  4.3069e-01,\n",
            "            2.6706e-01,  4.0520e-01]]],\n",
            "\n",
            "\n",
            "        ...,\n",
            "\n",
            "\n",
            "        [[[ 2.8079e-01,  3.7775e-01, -2.0202e-01,  ...,  4.5485e-01,\n",
            "            2.6796e-01,  1.9600e-01],\n",
            "          [ 8.0890e-01, -2.7258e-01, -2.8667e-01,  ...,  2.7634e-01,\n",
            "           -3.4834e-01,  7.4989e-01],\n",
            "          [ 2.0951e-01, -1.8422e-01, -6.3839e-01,  ..., -4.3684e-01,\n",
            "           -4.4515e-01,  2.5929e-01],\n",
            "          ...,\n",
            "          [ 4.6075e-01,  5.2118e-02,  5.5542e-02,  ...,  7.8468e-02,\n",
            "           -1.0467e-01,  2.4270e-01],\n",
            "          [ 1.9249e-01,  3.9605e-01, -3.9199e-01,  ...,  1.3273e-01,\n",
            "            3.2660e-01,  1.5188e-01],\n",
            "          [-3.6736e-01, -7.9221e-02,  5.8644e-01,  ..., -1.7596e-01,\n",
            "            7.5139e-01,  1.1175e-01]],\n",
            "\n",
            "         [[-2.7422e-01, -1.4629e-01,  6.5183e-02,  ..., -1.1916e-01,\n",
            "            3.7773e-01, -1.6143e-01],\n",
            "          [-1.6619e-01, -5.4933e-02,  2.5266e-01,  ...,  4.0086e-01,\n",
            "            6.4611e-02, -2.3301e-01],\n",
            "          [ 8.3307e-02,  4.4362e-01, -2.2023e-01,  ..., -1.5016e-01,\n",
            "           -2.8968e-01, -5.8530e-01],\n",
            "          ...,\n",
            "          [ 2.6201e-01, -4.3744e-01,  6.9807e-02,  ...,  1.5558e-01,\n",
            "            1.4191e-02,  5.5754e-03],\n",
            "          [ 6.9130e-01,  3.9946e-02, -3.0051e-01,  ...,  6.6454e-01,\n",
            "            8.0573e-02, -6.2436e-01],\n",
            "          [ 6.3676e-02,  4.1950e-01,  5.0993e-01,  ..., -6.1051e-01,\n",
            "            3.6622e-01,  7.9796e-02]],\n",
            "\n",
            "         [[-1.9757e-01,  7.5555e-02,  6.6697e-01,  ..., -1.8111e-01,\n",
            "           -7.7794e-04, -1.3092e-01],\n",
            "          [-2.0418e-01, -2.6702e-01, -6.9365e-01,  ..., -7.4651e-02,\n",
            "            2.5447e-01, -1.9234e-01],\n",
            "          [ 6.9060e-02, -9.1395e-02,  3.5303e-01,  ...,  2.6255e-01,\n",
            "           -5.8085e-02, -3.2800e-01],\n",
            "          ...,\n",
            "          [ 7.5693e-01,  3.9096e-01, -2.0064e-01,  ..., -5.3347e-01,\n",
            "           -2.7276e-01,  3.6168e-02],\n",
            "          [ 9.3457e-01,  3.7273e-01,  2.3949e-01,  ...,  4.5679e-01,\n",
            "            7.3599e-01,  5.7496e-01],\n",
            "          [-4.2591e-02, -8.5324e-02, -7.8380e-01,  ...,  2.5851e-01,\n",
            "            3.1909e-01,  2.0336e-01]],\n",
            "\n",
            "         ...,\n",
            "\n",
            "         [[ 2.9833e-01, -7.1165e-02, -1.3353e-01,  ...,  2.2070e-01,\n",
            "            2.0124e-01,  3.1351e-01],\n",
            "          [ 2.4132e-01,  5.5175e-01, -6.6292e-01,  ..., -4.7134e-01,\n",
            "           -7.2276e-02, -6.6640e-02],\n",
            "          [-5.8318e-01, -1.5311e-01,  6.8459e-01,  ...,  2.9924e-01,\n",
            "            3.3984e-01, -7.2650e-02],\n",
            "          ...,\n",
            "          [ 9.1841e-02, -1.8214e-01,  3.3351e-01,  ...,  5.8901e-01,\n",
            "            1.2663e+00,  1.0371e-01],\n",
            "          [ 2.5533e-01,  6.4307e-01, -1.0814e-01,  ...,  3.9647e-01,\n",
            "            2.9180e-02, -3.0989e-02],\n",
            "          [-2.6475e-01, -1.7860e-01, -9.3192e-02,  ...,  2.5489e-01,\n",
            "            1.7388e-01, -1.7023e-01]],\n",
            "\n",
            "         [[ 3.2469e-02,  2.4241e-02, -1.2052e-01,  ..., -5.2099e-02,\n",
            "           -1.4839e-01,  2.8322e-01],\n",
            "          [-3.3597e-01, -9.8851e-01,  3.9286e-01,  ...,  1.8328e-01,\n",
            "            2.3032e-01, -4.4391e-02],\n",
            "          [ 5.6387e-01,  4.9723e-01,  1.6427e-01,  ..., -8.7741e-01,\n",
            "           -2.3036e-01,  2.8975e-01],\n",
            "          ...,\n",
            "          [-5.5835e-01,  1.6370e-03, -1.9973e-01,  ...,  3.3742e-01,\n",
            "           -1.4184e-01, -6.6572e-01],\n",
            "          [ 8.4397e-01,  1.3140e-01,  1.0533e+00,  ...,  4.2780e-01,\n",
            "           -2.5912e-01, -3.7458e-01],\n",
            "          [ 1.4180e-01, -1.8553e-01,  2.8745e-02,  ...,  1.6900e-01,\n",
            "            2.9218e-01,  7.8759e-01]],\n",
            "\n",
            "         [[-3.7256e-02, -3.2119e-01, -1.0474e-01,  ...,  1.2555e-01,\n",
            "           -3.5135e-01, -3.2018e-01],\n",
            "          [-2.5042e-01, -1.4010e-01, -7.6414e-01,  ..., -6.9926e-02,\n",
            "           -1.5351e-01,  3.7251e-01],\n",
            "          [ 1.5810e-01,  3.5088e-01, -5.1605e-01,  ...,  8.6997e-01,\n",
            "           -8.9234e-01,  7.0162e-01],\n",
            "          ...,\n",
            "          [ 5.6479e-01, -2.0240e-02, -2.8922e-01,  ..., -7.7214e-02,\n",
            "            2.5889e-01,  4.4527e-01],\n",
            "          [ 2.9735e-01,  1.1490e-02, -7.7737e-01,  ..., -1.0638e-01,\n",
            "           -6.6444e-01, -3.7023e-02],\n",
            "          [ 8.9544e-01,  3.4077e-01,  1.1182e+00,  ..., -6.3454e-01,\n",
            "            2.1644e-01, -9.9747e-01]]],\n",
            "\n",
            "\n",
            "        [[[ 2.1231e-02,  3.8846e-03, -4.5746e-01,  ...,  2.9193e-01,\n",
            "            2.8252e-01,  1.8880e-01],\n",
            "          [ 7.2061e-01,  8.0865e-01,  1.7669e-01,  ...,  2.3538e-01,\n",
            "            4.4253e-01,  1.8797e-01],\n",
            "          [ 6.6728e-01, -1.5242e-01,  3.5456e-01,  ..., -5.1144e-01,\n",
            "           -5.5741e-01, -5.8637e-01],\n",
            "          ...,\n",
            "          [ 3.4559e-01,  9.5833e-01, -1.5154e-01,  ..., -5.6200e-01,\n",
            "            4.0422e-01,  8.8124e-01],\n",
            "          [-6.1077e-02, -8.2992e-02,  5.7833e-02,  ..., -6.4801e-01,\n",
            "           -1.9176e-01,  2.9738e-01],\n",
            "          [ 4.0135e-02,  5.9657e-01,  2.7191e-02,  ...,  6.6796e-01,\n",
            "            2.0202e-01,  3.0573e-01]],\n",
            "\n",
            "         [[-5.8878e-02, -1.6014e-01,  2.5137e-01,  ..., -6.5486e-01,\n",
            "           -5.4885e-01, -8.0332e-02],\n",
            "          [ 3.4947e-01, -6.1496e-01, -1.1039e-01,  ..., -1.5196e-01,\n",
            "            4.9434e-01, -7.0892e-01],\n",
            "          [ 4.6532e-01, -1.2379e+00,  6.7587e-01,  ..., -6.9329e-01,\n",
            "           -1.5892e-02,  7.2749e-01],\n",
            "          ...,\n",
            "          [ 1.4855e-01, -1.7165e-01, -4.6624e-01,  ...,  4.6930e-01,\n",
            "           -3.0184e-01,  4.4157e-01],\n",
            "          [ 2.7769e-01, -8.0235e-01, -8.2735e-02,  ..., -2.0402e-01,\n",
            "           -6.5158e-01,  1.9581e-01],\n",
            "          [-7.0409e-02, -6.8146e-01, -4.1428e-01,  ...,  5.8497e-01,\n",
            "           -2.8104e-02, -4.1338e-01]],\n",
            "\n",
            "         [[ 9.7420e-02, -1.4612e-01, -7.6325e-02,  ...,  2.0616e-01,\n",
            "            1.8682e-01, -1.9053e-01],\n",
            "          [-3.2681e-01, -8.1294e-01,  6.0794e-02,  ...,  8.0887e-01,\n",
            "           -7.7532e-01,  7.1115e-02],\n",
            "          [-5.9124e-01,  1.1332e+00,  2.3228e-01,  ...,  4.9797e-01,\n",
            "            1.6767e-01,  3.0148e-01],\n",
            "          ...,\n",
            "          [-3.8205e-01, -2.2275e-01, -2.5934e-01,  ..., -8.8390e-01,\n",
            "            1.1821e+00, -1.1178e-01],\n",
            "          [ 3.3295e-02,  5.8342e-01, -4.8076e-01,  ..., -2.1422e-02,\n",
            "           -5.2604e-02,  2.0209e-01],\n",
            "          [ 7.0276e-01,  3.0145e-01,  8.1607e-02,  ..., -6.0034e-01,\n",
            "            4.4623e-01,  3.8774e-01]],\n",
            "\n",
            "         ...,\n",
            "\n",
            "         [[-1.0953e-01, -2.6848e-01, -1.2880e-01,  ...,  5.4813e-01,\n",
            "            3.1159e-02,  1.2036e-01],\n",
            "          [-9.2388e-01,  3.5329e-01, -3.1692e-01,  ...,  2.4292e-02,\n",
            "            2.0605e-01,  2.2875e-02],\n",
            "          [-5.0152e-01, -1.5503e-01,  6.4741e-01,  ...,  1.0951e+00,\n",
            "           -4.5336e-01, -5.2052e-01],\n",
            "          ...,\n",
            "          [ 1.4194e-01, -3.0480e-01, -2.5062e-01,  ..., -4.3665e-01,\n",
            "           -4.3184e-01, -4.0610e-01],\n",
            "          [-1.0673e-02,  1.7443e-01, -1.8193e-02,  ..., -2.5121e-01,\n",
            "           -1.4847e-01, -3.1365e-01],\n",
            "          [-7.4782e-02, -7.5610e-01, -2.3320e-01,  ..., -8.0121e-01,\n",
            "           -2.2112e-01, -1.7352e-01]],\n",
            "\n",
            "         [[ 2.5654e-01, -2.0524e-01, -2.6377e-01,  ..., -2.5156e-01,\n",
            "            4.2913e-01, -3.6183e-01],\n",
            "          [ 2.4132e-01, -3.7989e-01,  4.1621e-01,  ...,  5.3684e-01,\n",
            "            3.5972e-01, -2.9861e-01],\n",
            "          [-3.0767e-01, -5.0546e-01, -3.6252e-01,  ...,  5.8141e-01,\n",
            "            1.1838e-02, -3.9108e-01],\n",
            "          ...,\n",
            "          [ 3.4053e-01, -1.3264e+00,  7.3857e-01,  ..., -1.5072e-01,\n",
            "            6.2938e-01,  6.3552e-01],\n",
            "          [-1.0010e-01, -3.5208e-03, -8.9150e-02,  ...,  5.5284e-01,\n",
            "           -2.7614e-01,  1.1990e-01],\n",
            "          [ 4.0440e-01, -4.5666e-01,  5.4603e-01,  ..., -2.2941e-01,\n",
            "           -1.8237e-01,  1.4746e-01]],\n",
            "\n",
            "         [[-4.8245e-01,  3.3498e-02,  1.3503e-01,  ...,  3.2919e-02,\n",
            "            6.8803e-01,  4.2400e-01],\n",
            "          [ 4.7895e-02, -5.0431e-01, -1.0402e+00,  ...,  8.9988e-01,\n",
            "            1.4104e-01, -1.0946e-02],\n",
            "          [-7.2577e-01, -5.2323e-01,  6.6272e-01,  ...,  6.8330e-02,\n",
            "            4.8176e-01, -3.7793e-01],\n",
            "          ...,\n",
            "          [ 7.0875e-01, -2.9281e-01,  2.9609e-01,  ...,  1.0290e+00,\n",
            "           -5.0849e-01,  2.8842e-01],\n",
            "          [ 6.6961e-01,  5.7956e-01,  5.6792e-01,  ...,  4.1225e-01,\n",
            "            3.7713e-01, -2.6544e-01],\n",
            "          [ 3.9312e-01,  2.8653e-01,  2.7698e-01,  ..., -6.1364e-01,\n",
            "            2.7979e-01,  3.2431e-01]]],\n",
            "\n",
            "\n",
            "        [[[-3.0455e-02,  5.6750e-02,  1.6420e-01,  ..., -9.2830e-01,\n",
            "            3.2033e-01,  1.0214e-01],\n",
            "          [ 1.8156e-01,  3.3278e-01, -2.3873e-01,  ...,  1.7701e-01,\n",
            "            2.7087e-01, -3.3987e-01],\n",
            "          [ 5.3835e-01,  2.0582e-03,  5.0263e-01,  ...,  3.9692e-01,\n",
            "            2.7858e-01,  5.2992e-01],\n",
            "          ...,\n",
            "          [ 2.0887e-01,  6.3083e-01,  1.9669e-01,  ..., -2.8628e-01,\n",
            "           -4.4810e-01, -7.5457e-02],\n",
            "          [ 1.2420e-01,  3.8748e-01, -1.4357e-01,  ..., -2.8013e-01,\n",
            "           -3.8934e-01,  3.4701e-01],\n",
            "          [ 6.1809e-01, -7.7875e-02, -9.7649e-01,  ...,  2.0047e-01,\n",
            "            2.5249e-01,  1.4269e-01]],\n",
            "\n",
            "         [[ 3.2469e-02,  3.7355e-01, -2.0484e-01,  ...,  2.7120e-01,\n",
            "            4.3375e-01,  3.0287e-02],\n",
            "          [ 1.6118e-01,  3.2921e-01,  1.8340e-01,  ...,  1.6313e-01,\n",
            "           -4.3965e-01,  7.0335e-01],\n",
            "          [-7.1223e-01,  1.3130e-01,  4.6759e-01,  ..., -1.5377e-02,\n",
            "           -5.6413e-01,  3.2599e-01],\n",
            "          ...,\n",
            "          [ 5.1516e-01,  1.0378e-01, -7.1631e-02,  ...,  4.2120e-02,\n",
            "            8.3402e-01, -1.0181e-01],\n",
            "          [-3.3438e-01,  9.1726e-02, -6.6139e-01,  ...,  4.7742e-01,\n",
            "            5.8910e-01, -1.4137e-01],\n",
            "          [ 3.9799e-01,  9.3065e-02,  6.7041e-01,  ...,  3.5523e-01,\n",
            "            4.7699e-01,  4.1260e-01]],\n",
            "\n",
            "         [[ 7.9882e-02, -3.0915e-01, -4.8259e-01,  ...,  3.9053e-01,\n",
            "            1.4255e-01,  2.8569e-01],\n",
            "          [ 6.3672e-01, -1.1626e-01, -2.0452e-01,  ...,  4.5643e-01,\n",
            "           -5.9065e-01,  6.3059e-03],\n",
            "          [-6.1621e-01,  1.6321e+00,  9.6920e-01,  ..., -6.7887e-01,\n",
            "            6.6360e-01,  6.7320e-01],\n",
            "          ...,\n",
            "          [ 9.2259e-02,  2.1119e-01, -4.7334e-01,  ..., -4.3841e-02,\n",
            "            2.4707e-01,  8.6884e-01],\n",
            "          [-2.2909e-01,  3.8993e-01,  6.9374e-01,  ..., -6.3808e-01,\n",
            "            4.5708e-01, -1.8745e-01],\n",
            "          [ 1.8270e-01,  4.9542e-01,  3.0600e-01,  ..., -2.0390e-01,\n",
            "           -5.7694e-02,  3.1536e-01]],\n",
            "\n",
            "         ...,\n",
            "\n",
            "         [[ 4.4627e-01, -3.3008e-03, -3.9360e-02,  ..., -7.2381e-03,\n",
            "           -3.5106e-01, -1.4814e-01],\n",
            "          [-7.7082e-01,  1.8185e-01,  3.1412e-02,  ...,  7.8997e-01,\n",
            "           -4.9396e-01,  2.1569e-01],\n",
            "          [-1.5323e-02, -6.1013e-01, -1.4659e+00,  ..., -1.9748e-01,\n",
            "           -4.1725e-01, -1.5978e-01],\n",
            "          ...,\n",
            "          [-4.0970e-01,  2.4907e-01,  3.2222e-01,  ..., -3.5909e-01,\n",
            "           -4.2951e-01, -1.7649e-01],\n",
            "          [ 1.3020e-01, -4.0121e-01, -7.5459e-01,  ...,  2.7994e-01,\n",
            "            9.0543e-02, -1.7731e-01],\n",
            "          [-7.2250e-01, -4.8428e-01,  5.2708e-01,  ...,  5.4686e-01,\n",
            "           -2.3139e-01, -1.2808e-01]],\n",
            "\n",
            "         [[-1.1972e-01,  6.0963e-02, -1.1958e-02,  ...,  9.8144e-02,\n",
            "           -5.5780e-02, -1.1214e-01],\n",
            "          [ 1.0991e-01,  3.3970e-01, -3.4808e-01,  ..., -3.0272e-01,\n",
            "            8.2815e-01, -5.4005e-02],\n",
            "          [-4.1468e-01, -8.4499e-01, -2.5959e-01,  ..., -2.6306e-01,\n",
            "           -4.7479e-02,  2.2705e-01],\n",
            "          ...,\n",
            "          [-2.0305e-01,  2.9385e-02, -9.9514e-02,  ..., -9.9228e-01,\n",
            "            7.5684e-01, -9.7803e-02],\n",
            "          [ 6.8066e-01,  1.7354e-01, -2.4686e-01,  ..., -4.0539e-01,\n",
            "           -3.1888e-02,  5.5052e-01],\n",
            "          [-6.0254e-02,  2.2015e-01, -1.5062e-01,  ..., -1.8855e-01,\n",
            "           -1.1073e-01,  5.5670e-01]],\n",
            "\n",
            "         [[-1.5967e-02, -2.0949e-01,  6.0439e-02,  ...,  1.9677e-01,\n",
            "            4.8336e-01, -3.5916e-01],\n",
            "          [-1.0979e-01, -6.6106e-01, -2.7489e-01,  ..., -3.2598e-01,\n",
            "           -8.4269e-01,  7.3590e-02],\n",
            "          [-3.1470e-01,  7.2607e-01,  1.2099e-01,  ...,  1.7867e-01,\n",
            "           -2.4731e-01,  2.5979e-01],\n",
            "          ...,\n",
            "          [ 4.4256e-01, -4.5365e-01, -2.2210e-01,  ...,  9.5021e-01,\n",
            "           -8.2884e-01,  4.7716e-01],\n",
            "          [-2.5076e-01,  1.8562e-01, -1.4957e-01,  ...,  1.1531e-01,\n",
            "           -2.5699e-01,  1.6365e-02],\n",
            "          [-5.1518e-01,  1.2261e-02,  2.4884e-01,  ..., -3.1673e-01,\n",
            "            8.4412e-02, -1.3376e-01]]]], grad_fn=<MkldnnConvolutionBackward0>)\n"
          ]
        }
      ]
    },
    {
      "cell_type": "code",
      "metadata": {
        "id": "RLqGbclbp3_N",
        "colab": {
          "base_uri": "https://localhost:8080/"
        },
        "outputId": "cd53732f-0522-4f64-bced-c8c760b73150"
      },
      "source": [
        "output.shape"
      ],
      "execution_count": 76,
      "outputs": [
        {
          "output_type": "execute_result",
          "data": {
            "text/plain": [
              "torch.Size([20, 33, 26, 100])"
            ]
          },
          "metadata": {},
          "execution_count": 76
        }
      ]
    },
    {
      "cell_type": "markdown",
      "metadata": {
        "id": "CYeGAJEuneqW"
      },
      "source": [
        "### nn.functional 패키지\n",
        "\n",
        "- 가중치를 직접 선언하여 인자로 넣어줘야함\n",
        "\n",
        "- 예시)\n",
        "  - Convolution functions\n",
        "\n",
        "  - Pooling functions\n",
        "  \n",
        "  - Non-linear activation functions\n",
        "\n",
        "  - Normalization functions\n",
        "\n",
        "  - Linear functions\n",
        "\n",
        "  - Dropout functions\n",
        "  \n",
        "  - Sparse functions\n",
        "  \n",
        "  - Distance functions\n",
        "\n",
        "  - Loss functions\n",
        "  - ..\n",
        "\n",
        "- https://pytorch.org/docs/stable/nn.functional.html"
      ]
    },
    {
      "cell_type": "code",
      "metadata": {
        "id": "NpwbO9Dhpflm"
      },
      "source": [
        "import torch\n",
        "import torch.nn.functional as F"
      ],
      "execution_count": 78,
      "outputs": []
    },
    {
      "cell_type": "markdown",
      "metadata": {
        "id": "fUYaJ5aLqKed"
      },
      "source": [
        "- Convolution Layer 예시 (2)"
      ]
    },
    {
      "cell_type": "code",
      "metadata": {
        "id": "GAWLQE2GouHP"
      },
      "source": [
        "filters = torch.randn(8, 4, 3, 3)"
      ],
      "execution_count": 79,
      "outputs": []
    },
    {
      "cell_type": "code",
      "metadata": {
        "id": "lWmSlFBrpms1",
        "colab": {
          "base_uri": "https://localhost:8080/"
        },
        "outputId": "90677d71-8741-4f1f-93b1-00fbae2c582c"
      },
      "source": [
        "inputs = torch.randn(1, 4, 5, 5)\n",
        "conv = F.conv2d(inputs, filters, padding=1)\n",
        "conv.shape"
      ],
      "execution_count": 81,
      "outputs": [
        {
          "output_type": "execute_result",
          "data": {
            "text/plain": [
              "torch.Size([1, 8, 5, 5])"
            ]
          },
          "metadata": {},
          "execution_count": 81
        }
      ]
    },
    {
      "cell_type": "markdown",
      "metadata": {
        "id": "Wah4RsmgrRDP"
      },
      "source": [
        "## Torchvision\n",
        "\n",
        "- `transforms`: 전처리할 때 사용하는 메소드\n",
        "\n",
        "- `transforms`에서 제공하는 클래스 이외에  \n",
        "  일반적으로 클래스를 따로 만들어 전처리 단계를 진행\n",
        "  \n",
        "  - 아래의 코드에서 다양한 전처리 기술 확인  \n",
        "    https://pytorch.org/docs/stable/torchvision/transforms.html\n"
      ]
    },
    {
      "cell_type": "code",
      "metadata": {
        "id": "akvq4QWmqSil"
      },
      "source": [
        "import torch\n",
        "import torchvision\n",
        "import torchvision.transforms as transforms"
      ],
      "execution_count": 82,
      "outputs": []
    },
    {
      "cell_type": "markdown",
      "metadata": {
        "id": "PKu5mzyTs-Qj"
      },
      "source": [
        "- 예시)\n",
        "  - `DataLoader`의 인자로 들어갈 `transform`을 미리 정의할 수 있음\n",
        "\n",
        "  - `Compose`를 통해 리스트 안에 순서대로 전처리 진행\n",
        "\n",
        "  - 대표적인 예로, `ToTensor`()를 하는 이유는  \n",
        "   <u>torchvision이 PIL Image형태로만 입력을 받기 때문에</u> 데이터 처리를 위해서 Tensor형으로 변환해야함"
      ]
    },
    {
      "cell_type": "code",
      "metadata": {
        "id": "y6K7FH-Rs9my"
      },
      "source": [
        "transform = transforms.Compose([transforms.ToTensor(),\n",
        "                                transforms.Normalize(mean=(0.5,), std=(0.5,))])"
      ],
      "execution_count": 84,
      "outputs": []
    },
    {
      "cell_type": "markdown",
      "metadata": {
        "id": "I4l1GvIlslKa"
      },
      "source": [
        "## utils.data\n",
        "\n",
        "- `Dataset`에는 다양한 데이터셋이 존재  \n",
        "  - MNIST, CIFAR10, ...\n",
        "\n",
        "- `DataLoader`, `Dataset`을 통해  \n",
        "  `batch_size`, `train`여부, `transform`등을 인자로 넣어 데이터를 어떻게 load할 것인지 정해줄 수 있음"
      ]
    },
    {
      "cell_type": "code",
      "metadata": {
        "id": "1wsZKY7-s2Vv"
      },
      "source": [
        "import torch\n",
        "from torch.utils.data import Dataset, DataLoader\n",
        "\n",
        "import torchvision\n",
        "import torchvision.transforms as transforms"
      ],
      "execution_count": 86,
      "outputs": []
    },
    {
      "cell_type": "code",
      "metadata": {
        "id": "lldpI2lquBu3",
        "colab": {
          "base_uri": "https://localhost:8080/",
          "height": 443,
          "referenced_widgets": [
            "a63514eb82f647ddb6f9af5d633764a8",
            "717898f728cf49b29c867ad0496ff557",
            "beefc1a6554a4d38a991303622ee13f8",
            "d632953bba644ee1b9079e5818aacf3a",
            "8fa2f71f80e24abeb7e18500c4b4d36d",
            "0798abd81eec41c9ab5096cf835c6edb",
            "92e1807604dc470b9678cbad1e490802",
            "e579fc6451d940d89f2469c5a2f550a4",
            "65d83d4fa86c4c788bfa844f8327390e",
            "bf04837f4b2b424f9b45e6425f16bab2",
            "b65b89142727420ca54ac97f56b06369",
            "6a39c668c6854c44a6e8eab6c81fc6f8",
            "03c7978b18a84f7bb4254491bf7cb856",
            "c86d8d1af29245a5b9cbf8ee2acd3b4f",
            "b089d28c4b4d422f9ceb2014d7ca10c5",
            "a7f87a8baf7b4749ad3da7be3d78b57b",
            "3c2c2cc3d086439caa9e63f818bf70be",
            "2d61ba231e984ad1a9a23178f9cef6c9",
            "195bc63565ee4a8fb499cab000e7ef8d",
            "0f02e6ff30b94a26ac578155bafc1220",
            "14f112d745fa41c28d9929b18eaca935",
            "498267b8ac764dda98a607657b9eb0fb",
            "3873a552bc254e72bb376bf4e17c191f",
            "4f2a16c6789841caac2be77b26de237b",
            "c2a2f7b7e2ee45febd139d093b7557b9",
            "2aac0f4dd4cd479c88060f668535689e",
            "df9ab994c77b4be08326692c2a00b749",
            "de904493f4c449e79b340e06580c25c0",
            "bdbe0c1586304854a677cd637e3ea528",
            "f1ff7fd6fde44fde82c28853440bd167",
            "c6c4928a91a4455aac9d3fc675228779",
            "a7a6aeb918434bc788a912002d25e8e4",
            "fb29693481fd47329d40a28c6a876cce",
            "ff2820ed6a3d4aa487de119e3200e29e",
            "d08b23ad8ebe44c7b343182de4dc0894",
            "dba4a0693d5e41ec9724d9e9a0f184d0",
            "0fec911fc4774e2eaeec5fb3a3da210e",
            "30a40bc0aa7646e987c7a0ee376805b0",
            "c8f39cb93f784e86bb60c8442bc84cd4",
            "d155e5dbecda4c689669ca5d2509c1fc",
            "8da6365d3f6844da9e2783eae59c64ce",
            "12c2df4168464c7cb927e6e476a4e878",
            "dd765326f9f74a098dbfc7b0ba0182cd",
            "fb22bc54d0514cda9d29b1cd713b0463"
          ]
        },
        "outputId": "64d34685-2a17-45b9-b754-b6e0c3263e5e"
      },
      "source": [
        "trainset = torchvision.datasets.MNIST(root='/content/',\n",
        "                                      train=True,\n",
        "                                      download=True,\n",
        "                                      transform=transform)\n",
        "\n",
        "testset = torchvision.datasets.MNIST(root='/content/',\n",
        "                                      train=False,\n",
        "                                      download=True,\n",
        "                                      transform=transform)"
      ],
      "execution_count": 87,
      "outputs": [
        {
          "output_type": "stream",
          "name": "stdout",
          "text": [
            "Downloading http://yann.lecun.com/exdb/mnist/train-images-idx3-ubyte.gz\n",
            "Downloading http://yann.lecun.com/exdb/mnist/train-images-idx3-ubyte.gz to /content/MNIST/raw/train-images-idx3-ubyte.gz\n"
          ]
        },
        {
          "output_type": "display_data",
          "data": {
            "application/vnd.jupyter.widget-view+json": {
              "model_id": "a63514eb82f647ddb6f9af5d633764a8",
              "version_minor": 0,
              "version_major": 2
            },
            "text/plain": [
              "  0%|          | 0/9912422 [00:00<?, ?it/s]"
            ]
          },
          "metadata": {}
        },
        {
          "output_type": "stream",
          "name": "stdout",
          "text": [
            "Extracting /content/MNIST/raw/train-images-idx3-ubyte.gz to /content/MNIST/raw\n",
            "\n",
            "Downloading http://yann.lecun.com/exdb/mnist/train-labels-idx1-ubyte.gz\n",
            "Downloading http://yann.lecun.com/exdb/mnist/train-labels-idx1-ubyte.gz to /content/MNIST/raw/train-labels-idx1-ubyte.gz\n"
          ]
        },
        {
          "output_type": "display_data",
          "data": {
            "application/vnd.jupyter.widget-view+json": {
              "model_id": "6a39c668c6854c44a6e8eab6c81fc6f8",
              "version_minor": 0,
              "version_major": 2
            },
            "text/plain": [
              "  0%|          | 0/28881 [00:00<?, ?it/s]"
            ]
          },
          "metadata": {}
        },
        {
          "output_type": "stream",
          "name": "stdout",
          "text": [
            "Extracting /content/MNIST/raw/train-labels-idx1-ubyte.gz to /content/MNIST/raw\n",
            "\n",
            "Downloading http://yann.lecun.com/exdb/mnist/t10k-images-idx3-ubyte.gz\n",
            "Downloading http://yann.lecun.com/exdb/mnist/t10k-images-idx3-ubyte.gz to /content/MNIST/raw/t10k-images-idx3-ubyte.gz\n"
          ]
        },
        {
          "output_type": "display_data",
          "data": {
            "application/vnd.jupyter.widget-view+json": {
              "model_id": "3873a552bc254e72bb376bf4e17c191f",
              "version_minor": 0,
              "version_major": 2
            },
            "text/plain": [
              "  0%|          | 0/1648877 [00:00<?, ?it/s]"
            ]
          },
          "metadata": {}
        },
        {
          "output_type": "stream",
          "name": "stdout",
          "text": [
            "Extracting /content/MNIST/raw/t10k-images-idx3-ubyte.gz to /content/MNIST/raw\n",
            "\n",
            "Downloading http://yann.lecun.com/exdb/mnist/t10k-labels-idx1-ubyte.gz\n",
            "Downloading http://yann.lecun.com/exdb/mnist/t10k-labels-idx1-ubyte.gz to /content/MNIST/raw/t10k-labels-idx1-ubyte.gz\n"
          ]
        },
        {
          "output_type": "display_data",
          "data": {
            "application/vnd.jupyter.widget-view+json": {
              "model_id": "ff2820ed6a3d4aa487de119e3200e29e",
              "version_minor": 0,
              "version_major": 2
            },
            "text/plain": [
              "  0%|          | 0/4542 [00:00<?, ?it/s]"
            ]
          },
          "metadata": {}
        },
        {
          "output_type": "stream",
          "name": "stdout",
          "text": [
            "Extracting /content/MNIST/raw/t10k-labels-idx1-ubyte.gz to /content/MNIST/raw\n",
            "\n"
          ]
        }
      ]
    },
    {
      "cell_type": "code",
      "metadata": {
        "id": "fKddZnT1uQmT"
      },
      "source": [
        "train_loader = DataLoader(trainset, batch_size=8, shuffle=True, num_workers=2)\n",
        "test_loader = DataLoader(testset, batch_size=8, shuffle=False, num_workers=2)"
      ],
      "execution_count": 88,
      "outputs": []
    },
    {
      "cell_type": "markdown",
      "metadata": {
        "id": "zrxymquLxeo8"
      },
      "source": [
        "- `batch_size`만큼 데이터를 하나씩 가져옴"
      ]
    },
    {
      "cell_type": "code",
      "metadata": {
        "id": "hvgMIyF6uUuU",
        "colab": {
          "base_uri": "https://localhost:8080/"
        },
        "outputId": "696ada86-2aac-447a-f27c-b13e666ba88e"
      },
      "source": [
        "dataiter = iter(train_loader)\n",
        "images, labels = dataiter.next()\n",
        "images.shape, labels.shape"
      ],
      "execution_count": 90,
      "outputs": [
        {
          "output_type": "execute_result",
          "data": {
            "text/plain": [
              "(torch.Size([8, 1, 28, 28]), torch.Size([8]))"
            ]
          },
          "metadata": {},
          "execution_count": 90
        }
      ]
    },
    {
      "cell_type": "markdown",
      "metadata": {
        "id": "YPUC0a0aw6OM"
      },
      "source": [
        "<u>**(중요) torch에서는 channel(채널)이 앞에 옴**</u>\n",
        "\n",
        "- `channel first`\n",
        "\n",
        "- tensorflow, keras 등에서는 channel이 뒤에 옴(`channel last`)"
      ]
    },
    {
      "cell_type": "markdown",
      "metadata": {
        "id": "wuhylD3iyFYr"
      },
      "source": [
        "### 데이터 확인"
      ]
    },
    {
      "cell_type": "code",
      "metadata": {
        "id": "C9hAQmQlul8P"
      },
      "source": [
        "import matplotlib.pyplot as plt\n",
        "plt.style.use('seaborn-white')"
      ],
      "execution_count": 92,
      "outputs": []
    },
    {
      "cell_type": "code",
      "metadata": {
        "id": "zDcUY6o4xUQp",
        "colab": {
          "base_uri": "https://localhost:8080/"
        },
        "outputId": "6882c21c-f05f-45c2-a537-4f8fafc7a9e7"
      },
      "source": [
        "torch_image = torch.squeeze(images[0])\n",
        "torch_image.shape"
      ],
      "execution_count": 93,
      "outputs": [
        {
          "output_type": "execute_result",
          "data": {
            "text/plain": [
              "torch.Size([28, 28])"
            ]
          },
          "metadata": {},
          "execution_count": 93
        }
      ]
    },
    {
      "cell_type": "code",
      "metadata": {
        "id": "MZmPWiGbxoiW",
        "colab": {
          "base_uri": "https://localhost:8080/"
        },
        "outputId": "710aa567-ea0d-49bd-ef11-34e7e39cf95b"
      },
      "source": [
        "image = torch_image.numpy()\n",
        "image.shape"
      ],
      "execution_count": 94,
      "outputs": [
        {
          "output_type": "execute_result",
          "data": {
            "text/plain": [
              "(28, 28)"
            ]
          },
          "metadata": {},
          "execution_count": 94
        }
      ]
    },
    {
      "cell_type": "code",
      "metadata": {
        "id": "AUOdd4UaxaXO",
        "colab": {
          "base_uri": "https://localhost:8080/"
        },
        "outputId": "3d180e94-590f-4a95-89c3-8561ab34bb36"
      },
      "source": [
        "label = labels[0].numpy()\n",
        "label.shape"
      ],
      "execution_count": 95,
      "outputs": [
        {
          "output_type": "execute_result",
          "data": {
            "text/plain": [
              "()"
            ]
          },
          "metadata": {},
          "execution_count": 95
        }
      ]
    },
    {
      "cell_type": "code",
      "metadata": {
        "id": "PDQfjw4wxr1z",
        "colab": {
          "base_uri": "https://localhost:8080/"
        },
        "outputId": "ce48687e-cb94-4802-ddd0-c3ab67daeba9"
      },
      "source": [
        "label"
      ],
      "execution_count": 96,
      "outputs": [
        {
          "output_type": "execute_result",
          "data": {
            "text/plain": [
              "array(2)"
            ]
          },
          "metadata": {},
          "execution_count": 96
        }
      ]
    },
    {
      "cell_type": "code",
      "metadata": {
        "id": "JDCVw59ax3-A",
        "colab": {
          "base_uri": "https://localhost:8080/",
          "height": 277
        },
        "outputId": "d4ede5d6-82dc-49d6-da06-98a750fa2c84"
      },
      "source": [
        "plt.title(label)\n",
        "plt.imshow(image, 'gray')\n",
        "plt.show()"
      ],
      "execution_count": 97,
      "outputs": [
        {
          "output_type": "display_data",
          "data": {
            "image/png": "[encoded data removed]",
            "text/plain": [
              "<Figure size 432x288 with 1 Axes>"
            ]
          },
          "metadata": {}
        }
      ]
    },
    {
      "cell_type": "markdown",
      "metadata": {
        "id": "JVcWQlxzihtS"
      },
      "source": [
        "## 각 Layer 설명"
      ]
    },
    {
      "cell_type": "code",
      "metadata": {
        "id": "IGXn1_weif5H"
      },
      "source": [
        "import torch\n",
        "import torch.nn as nn\n",
        "import torch.nn.functional as F\n",
        "import torch.optim as optim"
      ],
      "execution_count": 98,
      "outputs": []
    },
    {
      "cell_type": "markdown",
      "metadata": {
        "id": "73kJ3heBi26y"
      },
      "source": [
        "### nn.Conv2d\n",
        "\n",
        "- `in_channels`: channel의 갯수\n",
        "\n",
        "- `out_channels`: 출력 채널의 갯수\n",
        "\n",
        "- `kernel_size`: 커널(필터) 사이즈\n",
        "\n",
        "- 텐서플로우, 케라스와 다르게 레이어의 `input`인자에도 값을 집어 넣어줘야함"
      ]
    },
    {
      "cell_type": "code",
      "metadata": {
        "id": "RcHJguyFipTl",
        "colab": {
          "base_uri": "https://localhost:8080/"
        },
        "outputId": "2fa5edd6-98f4-4469-a7ef-b05c4e0fc85b"
      },
      "source": [
        "nn.Conv2d(in_channels=1, out_channels=20, kernel_size=5, stride=1)"
      ],
      "execution_count": 99,
      "outputs": [
        {
          "output_type": "execute_result",
          "data": {
            "text/plain": [
              "Conv2d(1, 20, kernel_size=(5, 5), stride=(1, 1))"
            ]
          },
          "metadata": {},
          "execution_count": 99
        }
      ]
    },
    {
      "cell_type": "code",
      "metadata": {
        "id": "iWiJbViHjFG0",
        "colab": {
          "base_uri": "https://localhost:8080/"
        },
        "outputId": "bf399bae-9886-4b8f-d031-a74e52969f36"
      },
      "source": [
        "layer = nn.Conv2d(1, 20, 5, 1).to(torch.device('cpu'))\n",
        "layer"
      ],
      "execution_count": 100,
      "outputs": [
        {
          "output_type": "execute_result",
          "data": {
            "text/plain": [
              "Conv2d(1, 20, kernel_size=(5, 5), stride=(1, 1))"
            ]
          },
          "metadata": {},
          "execution_count": 100
        }
      ]
    },
    {
      "cell_type": "markdown",
      "metadata": {
        "id": "GxWYFm2xjUeN"
      },
      "source": [
        "- `weight`확인"
      ]
    },
    {
      "cell_type": "code",
      "metadata": {
        "id": "za0enRbyjPzV",
        "colab": {
          "base_uri": "https://localhost:8080/"
        },
        "outputId": "61252292-9385-4b7d-d9e3-133a2d7a735f"
      },
      "source": [
        "weight = layer.weight\n",
        "weight.shape"
      ],
      "execution_count": 101,
      "outputs": [
        {
          "output_type": "execute_result",
          "data": {
            "text/plain": [
              "torch.Size([20, 1, 5, 5])"
            ]
          },
          "metadata": {},
          "execution_count": 101
        }
      ]
    },
    {
      "cell_type": "markdown",
      "metadata": {
        "id": "MAZcTU2gjiCX"
      },
      "source": [
        "- `weight`는 `detach()`를 통해 꺼내줘야 `numpy()`변환이 가능"
      ]
    },
    {
      "cell_type": "code",
      "metadata": {
        "id": "9eN_oUBkjT85"
      },
      "source": [
        "weight = weight.detach()"
      ],
      "execution_count": 102,
      "outputs": []
    },
    {
      "cell_type": "code",
      "metadata": {
        "id": "kwso9tsijmz8",
        "colab": {
          "base_uri": "https://localhost:8080/"
        },
        "outputId": "4eb5a034-af15-44ed-bdc5-799723ca7be1"
      },
      "source": [
        "weight = weight.numpy()\n",
        "weight.shape"
      ],
      "execution_count": 103,
      "outputs": [
        {
          "output_type": "execute_result",
          "data": {
            "text/plain": [
              "(20, 1, 5, 5)"
            ]
          },
          "metadata": {},
          "execution_count": 103
        }
      ]
    },
    {
      "cell_type": "code",
      "metadata": {
        "id": "mUegf6HPjdPl",
        "colab": {
          "base_uri": "https://localhost:8080/",
          "height": 262
        },
        "outputId": "e464da27-a873-47a1-dca2-48687afa8b1e"
      },
      "source": [
        "plt.imshow(weight[0, 0, :, :], 'jet')\n",
        "plt.colorbar()\n",
        "plt.show()"
      ],
      "execution_count": 104,
      "outputs": [
        {
          "output_type": "display_data",
          "data": {
            "image/png": "[encoded data removed]",
            "text/plain": [
              "<Figure size 432x288 with 2 Axes>"
            ]
          },
          "metadata": {}
        }
      ]
    },
    {
      "cell_type": "code",
      "metadata": {
        "id": "DMeTOqVmcdWa",
        "colab": {
          "base_uri": "https://localhost:8080/"
        },
        "outputId": "f8a149f4-53ae-4630-857b-75dceef3a3b7"
      },
      "source": [
        "print(images.shape)"
      ],
      "execution_count": 105,
      "outputs": [
        {
          "output_type": "stream",
          "name": "stdout",
          "text": [
            "torch.Size([8, 1, 28, 28])\n"
          ]
        }
      ]
    },
    {
      "cell_type": "code",
      "metadata": {
        "id": "cvolnNsscdHs"
      },
      "source": [
        "input_image = torch.unsqueeze(images[0], dim=0)"
      ],
      "execution_count": 106,
      "outputs": []
    },
    {
      "cell_type": "code",
      "metadata": {
        "id": "NLOAfD5mjup1"
      },
      "source": [
        "output_data = layer(input_image)"
      ],
      "execution_count": 107,
      "outputs": []
    },
    {
      "cell_type": "code",
      "metadata": {
        "id": "r50wFkl6j1sY"
      },
      "source": [
        "output = output_data.data"
      ],
      "execution_count": 108,
      "outputs": []
    },
    {
      "cell_type": "code",
      "metadata": {
        "id": "ZiIp-frJj2Hl",
        "colab": {
          "base_uri": "https://localhost:8080/"
        },
        "outputId": "5365d12e-925f-405e-f546-27d81dff3605"
      },
      "source": [
        "output_arr = output.numpy()\n",
        "output_arr.shape"
      ],
      "execution_count": 110,
      "outputs": [
        {
          "output_type": "execute_result",
          "data": {
            "text/plain": [
              "(1, 20, 24, 24)"
            ]
          },
          "metadata": {},
          "execution_count": 110
        }
      ]
    },
    {
      "cell_type": "code",
      "metadata": {
        "id": "uOHMu-UQkW3a",
        "colab": {
          "base_uri": "https://localhost:8080/",
          "height": 231
        },
        "outputId": "6f55ac62-404a-4ccd-9ecd-4ad9f2884e5d"
      },
      "source": [
        "plt.figure(figsize=(15, 30))\n",
        "\n",
        "plt.subplot(131)\n",
        "plt.title(\"Input\")\n",
        "plt.imshow(image, 'gray')\n",
        "plt.subplot(132)\n",
        "plt.title(\"Weight\")\n",
        "plt.imshow(weight[0, 0, :, :], 'jet')\n",
        "plt.subplot(133)\n",
        "plt.title(\"Output\")\n",
        "plt.imshow(output_arr[0, 0, :, :], 'gray')\n",
        "plt.show()"
      ],
      "execution_count": 111,
      "outputs": [
        {
          "output_type": "display_data",
          "data": {
            "image/png": "[encoded data removed]",
            "text/plain": [
              "<Figure size 1080x2160 with 3 Axes>"
            ]
          },
          "metadata": {}
        }
      ]
    },
    {
      "cell_type": "markdown",
      "metadata": {
        "id": "6sCqGmH_kwHm"
      },
      "source": [
        "### Pooling\n",
        "- `F.max_pool2d` \n",
        "  - `stride`\n",
        "\n",
        "  - `kernel_size`\n",
        "\n",
        "- `torch.nn.MaxPool2d` 도 많이 사용"
      ]
    },
    {
      "cell_type": "code",
      "metadata": {
        "id": "AYqPrLH1kxQl",
        "colab": {
          "base_uri": "https://localhost:8080/"
        },
        "outputId": "171e8cd1-0b57-4a43-d641-00fa4c61e9bf"
      },
      "source": [
        "image.shape"
      ],
      "execution_count": 112,
      "outputs": [
        {
          "output_type": "execute_result",
          "data": {
            "text/plain": [
              "(28, 28)"
            ]
          },
          "metadata": {},
          "execution_count": 112
        }
      ]
    },
    {
      "cell_type": "code",
      "metadata": {
        "id": "tvI8W_8Yk81S",
        "colab": {
          "base_uri": "https://localhost:8080/"
        },
        "outputId": "ef2a035f-f27e-4740-96cb-59ec884e7aa9"
      },
      "source": [
        "pool_arr = F.max_pool2d(output, 2, 2)\n",
        "pool_arr.shape"
      ],
      "execution_count": 115,
      "outputs": [
        {
          "output_type": "execute_result",
          "data": {
            "text/plain": [
              "torch.Size([1, 20, 12, 12])"
            ]
          },
          "metadata": {},
          "execution_count": 115
        }
      ]
    },
    {
      "cell_type": "markdown",
      "metadata": {
        "id": "aV3HK4FulCaJ"
      },
      "source": [
        "- MaxPool Layer는 weight가 없기 때문에 바로 `numpy()`변환 가능"
      ]
    },
    {
      "cell_type": "code",
      "metadata": {
        "id": "fseB_qlflBta",
        "colab": {
          "base_uri": "https://localhost:8080/",
          "height": 313
        },
        "outputId": "bc17e7e9-4a25-4d24-9a95-827254137b24"
      },
      "source": [
        "plt.figure(figsize=(10, 15))\n",
        "plt.subplot(121)\n",
        "plt.title(\"Input\")\n",
        "plt.imshow(image, 'gray')\n",
        "plt.subplot(122)\n",
        "plt.title(\"Output\")\n",
        "plt.imshow(pool_arr[0, 0, :, :], 'gray')\n",
        "plt.show()"
      ],
      "execution_count": 116,
      "outputs": [
        {
          "output_type": "display_data",
          "data": {
            "image/png": "[encoded data removed]",
            "text/plain": [
              "<Figure size 720x1080 with 2 Axes>"
            ]
          },
          "metadata": {}
        }
      ]
    },
    {
      "cell_type": "markdown",
      "metadata": {
        "id": "q7RVioKwlbH1"
      },
      "source": [
        "### Linear\n",
        "- 1d만 가능 `.view()`를 통해 1D로 펼쳐줘야함"
      ]
    },
    {
      "cell_type": "code",
      "metadata": {
        "id": "Kwcedadrlcbl",
        "colab": {
          "base_uri": "https://localhost:8080/"
        },
        "outputId": "000fa5e6-89ed-43ea-ace2-089a5c323a1e"
      },
      "source": [
        "image = torch.from_numpy(image)\n",
        "image.shape"
      ],
      "execution_count": 117,
      "outputs": [
        {
          "output_type": "execute_result",
          "data": {
            "text/plain": [
              "torch.Size([28, 28])"
            ]
          },
          "metadata": {},
          "execution_count": 117
        }
      ]
    },
    {
      "cell_type": "code",
      "metadata": {
        "id": "_mYQy4I3lmAm",
        "colab": {
          "base_uri": "https://localhost:8080/"
        },
        "outputId": "276491c6-4fe2-44f3-e6f0-cea836c25790"
      },
      "source": [
        "flatten = image.view(1, 28 * 28)\n",
        "flatten.shape"
      ],
      "execution_count": 118,
      "outputs": [
        {
          "output_type": "execute_result",
          "data": {
            "text/plain": [
              "torch.Size([1, 784])"
            ]
          },
          "metadata": {},
          "execution_count": 118
        }
      ]
    },
    {
      "cell_type": "code",
      "metadata": {
        "id": "6wgSmY0Zlofk",
        "colab": {
          "base_uri": "https://localhost:8080/"
        },
        "outputId": "045e8238-a645-4b04-9f84-45c7b01ae4cc"
      },
      "source": [
        "lin = nn.Linear(784, 10)(flatten)\n",
        "lin.shape"
      ],
      "execution_count": 119,
      "outputs": [
        {
          "output_type": "execute_result",
          "data": {
            "text/plain": [
              "torch.Size([1, 10])"
            ]
          },
          "metadata": {},
          "execution_count": 119
        }
      ]
    },
    {
      "cell_type": "code",
      "metadata": {
        "id": "LcJFqf0alsxr",
        "colab": {
          "base_uri": "https://localhost:8080/"
        },
        "outputId": "0912b829-f1b5-4c2b-a6d9-c829b4664b91"
      },
      "source": [
        "lin"
      ],
      "execution_count": 120,
      "outputs": [
        {
          "output_type": "execute_result",
          "data": {
            "text/plain": [
              "tensor([[-0.2519, -1.5713, -0.1467, -0.7379, -0.3111,  0.7812,  0.0447, -1.0106,\n",
              "         -0.6955,  0.0932]], grad_fn=<AddmmBackward0>)"
            ]
          },
          "metadata": {},
          "execution_count": 120
        }
      ]
    },
    {
      "cell_type": "code",
      "metadata": {
        "id": "ewEpebSVluHz",
        "colab": {
          "base_uri": "https://localhost:8080/",
          "height": 248
        },
        "outputId": "f9c06b1a-3334-47f1-83db-e2155ab8d4a8"
      },
      "source": [
        "plt.imshow(lin.detach().numpy(), 'jet')\n",
        "plt.colorbar()\n",
        "plt.show()"
      ],
      "execution_count": 121,
      "outputs": [
        {
          "output_type": "display_data",
          "data": {
            "image/png": "[encoded data removed]",
            "text/plain": [
              "<Figure size 432x288 with 2 Axes>"
            ]
          },
          "metadata": {}
        }
      ]
    },
    {
      "cell_type": "markdown",
      "metadata": {
        "id": "0IjPKDKRl3CV"
      },
      "source": [
        "### Softmax"
      ]
    },
    {
      "cell_type": "code",
      "metadata": {
        "id": "obhBb3O-lzbs"
      },
      "source": [
        "with torch.no_grad():\n",
        "  flatten = image.view(1, 28*28)\n",
        "  lin = nn.Linear(784, 10)(flatten)\n",
        "  softmax = F.softmax(lin, dim=1)"
      ],
      "execution_count": 124,
      "outputs": []
    },
    {
      "cell_type": "code",
      "metadata": {
        "id": "ljgOEyNMmBEE",
        "colab": {
          "base_uri": "https://localhost:8080/"
        },
        "outputId": "dd28c6de-791f-4ee8-c068-47a7794e8951"
      },
      "source": [
        "softmax"
      ],
      "execution_count": 125,
      "outputs": [
        {
          "output_type": "execute_result",
          "data": {
            "text/plain": [
              "tensor([[0.2653, 0.0930, 0.0729, 0.0743, 0.1398, 0.0602, 0.0309, 0.0958, 0.0890,\n",
              "         0.0788]])"
            ]
          },
          "metadata": {},
          "execution_count": 125
        }
      ]
    },
    {
      "cell_type": "code",
      "metadata": {
        "id": "18ymFSRAmBo7",
        "colab": {
          "base_uri": "https://localhost:8080/"
        },
        "outputId": "4a85ea8d-6a71-4935-976c-639bf5e70f4b"
      },
      "source": [
        "np.sum(softmax.numpy())"
      ],
      "execution_count": 126,
      "outputs": [
        {
          "output_type": "execute_result",
          "data": {
            "text/plain": [
              "1.0"
            ]
          },
          "metadata": {},
          "execution_count": 126
        }
      ]
    },
    {
      "cell_type": "markdown",
      "metadata": {
        "id": "bYh13Bnj5wEN"
      },
      "source": [
        "### F.relu\n",
        "\n",
        "- ReLU 함수를 적용하는 레이어\n",
        "\n",
        "- `nn.ReLU`로도 사용 가능"
      ]
    },
    {
      "cell_type": "code",
      "metadata": {
        "id": "D4VFePpR9_Ak",
        "colab": {
          "base_uri": "https://localhost:8080/"
        },
        "outputId": "0dcb133a-6cfe-4723-e007-41a5dd07cfc3"
      },
      "source": [
        "inputs = torch.randn(4, 3, 28, 28).to(device)\n",
        "inputs.shape"
      ],
      "execution_count": 127,
      "outputs": [
        {
          "output_type": "execute_result",
          "data": {
            "text/plain": [
              "torch.Size([4, 3, 28, 28])"
            ]
          },
          "metadata": {},
          "execution_count": 127
        }
      ]
    },
    {
      "cell_type": "code",
      "metadata": {
        "id": "1lKlSiaY5wZW",
        "colab": {
          "base_uri": "https://localhost:8080/"
        },
        "outputId": "49162e24-24d6-42bc-b29d-f8e8afa8f730"
      },
      "source": [
        "layer = nn.Conv2d(3, 20, 5, 1).to(device)\n",
        "output = F.relu(layer(inputs))\n",
        "output.shape"
      ],
      "execution_count": 129,
      "outputs": [
        {
          "output_type": "execute_result",
          "data": {
            "text/plain": [
              "torch.Size([4, 20, 24, 24])"
            ]
          },
          "metadata": {},
          "execution_count": 129
        }
      ]
    },
    {
      "cell_type": "markdown",
      "metadata": {
        "id": "0yuABl4h-yye"
      },
      "source": [
        "## Optimizer\n",
        "\n",
        "- `import torch.optim as optim`\n",
        "\n",
        "- `model`의 파라미터를 업데이트\n",
        "\n",
        "- 예시)\n",
        "  ```python\n",
        "  optimizer = torch.optim.Adam(model.parameters(), lr=1e-4, weight_decay=1e-5)\n",
        "  optimizer = optim.SGD(model.parameters(), lr=0.001)\n",
        "  ```\n",
        "\n",
        "- `.zero_grad()`로 초기화\n",
        "- `.step()`으로 업데이트\n",
        "\n"
      ]
    }
  ]
}