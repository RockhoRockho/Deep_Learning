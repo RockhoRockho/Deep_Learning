{
  "nbformat": 4,
  "nbformat_minor": 0,
  "metadata": {
    "colab": {
      "name": "_1 텐서플로우(TensorFlow) 기초.ipynb",
      "provenance": [],
      "collapsed_sections": [],
      "include_colab_link": true
    },
    "kernelspec": {
      "name": "python3",
      "display_name": "Python 3"
    },
    "accelerator": "GPU"
  },
  "cells": [
    {
      "cell_type": "markdown",
      "metadata": {
        "id": "view-in-github",
        "colab_type": "text"
      },
      "source": [
        "<a href=\"https://colab.research.google.com/github/RockhoRockho/Deep_Learning_Tensorflow/blob/main/_1_%ED%85%90%EC%84%9C%ED%94%8C%EB%A1%9C%EC%9A%B0(TensorFlow)_%EA%B8%B0%EC%B4%88.ipynb\" target=\"_parent\"><img src=\"https://colab.research.google.com/assets/colab-badge.svg\" alt=\"Open In Colab\"/></a>"
      ]
    },
    {
      "cell_type": "markdown",
      "metadata": {
        "id": "mpf4TRENWJMZ"
      },
      "source": [
        "# 텐서플로우 (Tensorflow)\n",
        "\n",
        "<img src=\"https://upload.wikimedia.org/wikipedia/commons/thumb/1/11/TensorFlowLogo.svg/1200px-TensorFlowLogo.svg.png\" width=\"300\">\n",
        "\n",
        "- 가장 널리 쓰이는 딥러닝 프레임워크 중 하나\n",
        "\n",
        "- 구글이 주도적으로 개발하는 플랫폼\n",
        "\n",
        "- 파이썬, C++ API를 기본적으로 제공하고,  \n",
        "  자바스크립트(JavaScript), 자바(Java), 고(Go), 스위프트(Swift) 등 다양한 프로그래밍 언어를 지원\n",
        "\n",
        "- tf.keras를 중심으로 고수준 API 통합 (2.x 버전)\n",
        "\n",
        "- TPU(Tensor Processing Unit) 지원\n",
        "  - TPU는 GPU보다 전력을 적게 소모, 경제적\n",
        "  \n",
        "  - 일반적으로 32비트(float32)로 수행되는 곱셈 연산을 16비트(float16)로 낮춤"
      ]
    },
    {
      "cell_type": "markdown",
      "metadata": {
        "id": "a9-NEf2BWd4M"
      },
      "source": [
        "## 텐서플로우 아키텍쳐\n",
        "\n",
        "<img src=\"https://developers.google.com/machine-learning/crash-course/images/TFHierarchy.svg\">\n",
        "\n",
        "<sub>출처: https://developers.google.com/machine-learning/crash-course/first-steps-with-tensorflow/toolkit</sub>"
      ]
    },
    {
      "cell_type": "markdown",
      "metadata": {
        "id": "c_ktVhFhYUiE"
      },
      "source": [
        "## 텐서플로우 시작하기"
      ]
    },
    {
      "cell_type": "code",
      "metadata": {
        "id": "SP9HL3ZvV0zR"
      },
      "source": [
        "import numpy as np\n",
        "import tensorflow as tf"
      ],
      "execution_count": 1,
      "outputs": []
    },
    {
      "cell_type": "code",
      "metadata": {
        "id": "KvPQ0N4_YhDt",
        "colab": {
          "base_uri": "https://localhost:8080/"
        },
        "outputId": "7f9058ae-37d5-4241-e34f-cc95c28a08a7"
      },
      "source": [
        "print(tf.__version__)"
      ],
      "execution_count": 2,
      "outputs": [
        {
          "output_type": "stream",
          "name": "stdout",
          "text": [
            "2.7.0\n"
          ]
        }
      ]
    },
    {
      "cell_type": "markdown",
      "metadata": {
        "id": "d-9usyAXY7Gw"
      },
      "source": [
        "### 텐서(Tensor)의 객체\n",
        "- 타입(Type): `string`, `float32`, `float16`, `int32`, `int8` 등\n",
        "\n",
        "- 형상(Shape): 0, 1, 2차원 등의 데이터 차원 \n",
        "\n",
        "- 축(Rank): 차원의 개수"
      ]
    },
    {
      "cell_type": "markdown",
      "metadata": {
        "id": "dZeigiNEZODl"
      },
      "source": [
        "### 텐서의 차원과 연산"
      ]
    },
    {
      "cell_type": "code",
      "metadata": {
        "id": "GMVq68gUYksh",
        "colab": {
          "base_uri": "https://localhost:8080/"
        },
        "outputId": "bc69a9d1-5757-40e9-d4c4-bc882c58c34e"
      },
      "source": [
        "a = tf.constant(2)\n",
        "print(tf.rank(a))\n",
        "print(a)"
      ],
      "execution_count": 4,
      "outputs": [
        {
          "output_type": "stream",
          "name": "stdout",
          "text": [
            "tf.Tensor(0, shape=(), dtype=int32)\n",
            "tf.Tensor(2, shape=(), dtype=int32)\n"
          ]
        }
      ]
    },
    {
      "cell_type": "code",
      "metadata": {
        "id": "MgOKILDqZZKP",
        "colab": {
          "base_uri": "https://localhost:8080/"
        },
        "outputId": "494bbf25-37b5-443c-9ae8-e242601afb70"
      },
      "source": [
        "b = tf.constant([2, 3])\n",
        "print(tf.rank(b))\n",
        "print(b)"
      ],
      "execution_count": 5,
      "outputs": [
        {
          "output_type": "stream",
          "name": "stdout",
          "text": [
            "tf.Tensor(1, shape=(), dtype=int32)\n",
            "tf.Tensor([2 3], shape=(2,), dtype=int32)\n"
          ]
        }
      ]
    },
    {
      "cell_type": "code",
      "metadata": {
        "id": "k74H8ImTZbWi",
        "colab": {
          "base_uri": "https://localhost:8080/"
        },
        "outputId": "e9d77072-cfd4-4483-cac5-a0922bc091c6"
      },
      "source": [
        "c = tf.constant([[2, 3], [6, 7]])\n",
        "print(tf.rank(c))\n",
        "print(c)"
      ],
      "execution_count": 8,
      "outputs": [
        {
          "output_type": "stream",
          "name": "stdout",
          "text": [
            "tf.Tensor(2, shape=(), dtype=int32)\n",
            "tf.Tensor(\n",
            "[[2 3]\n",
            " [6 7]], shape=(2, 2), dtype=int32)\n"
          ]
        }
      ]
    },
    {
      "cell_type": "code",
      "metadata": {
        "id": "WmCCc587wkTy",
        "colab": {
          "base_uri": "https://localhost:8080/"
        },
        "outputId": "fc4e4001-cd31-49a5-8a82-39b3a9db4a9e"
      },
      "source": [
        "d = tf.constant(['Hello'])\n",
        "print(tf.rank(d))\n",
        "print(d)"
      ],
      "execution_count": 9,
      "outputs": [
        {
          "output_type": "stream",
          "name": "stdout",
          "text": [
            "tf.Tensor(1, shape=(), dtype=int32)\n",
            "tf.Tensor([b'Hello'], shape=(1,), dtype=string)\n"
          ]
        }
      ]
    },
    {
      "cell_type": "markdown",
      "metadata": {
        "id": "z3mgwo7FZ_0S"
      },
      "source": [
        "### 난수 생성"
      ]
    },
    {
      "cell_type": "code",
      "metadata": {
        "id": "eaT2dUJlZ2Cd",
        "colab": {
          "base_uri": "https://localhost:8080/"
        },
        "outputId": "a96cf7b9-2d02-4227-861d-129b844531f2"
      },
      "source": [
        "rand = tf.random.uniform([1], 0, 1)\n",
        "print(rand.shape)\n",
        "print(rand)"
      ],
      "execution_count": 10,
      "outputs": [
        {
          "output_type": "stream",
          "name": "stdout",
          "text": [
            "(1,)\n",
            "tf.Tensor([0.8478391], shape=(1,), dtype=float32)\n"
          ]
        }
      ]
    },
    {
      "cell_type": "code",
      "metadata": {
        "id": "KfgimJg9aFgB",
        "colab": {
          "base_uri": "https://localhost:8080/"
        },
        "outputId": "c084a99a-2346-4808-f3a9-88603ef1c47f"
      },
      "source": [
        "rand2 = tf.random.normal([1, 2], 0, 1)\n",
        "print(rand2.shape)\n",
        "print(rand2)"
      ],
      "execution_count": 11,
      "outputs": [
        {
          "output_type": "stream",
          "name": "stdout",
          "text": [
            "(1, 2)\n",
            "tf.Tensor([[-1.1965154  -0.61043674]], shape=(1, 2), dtype=float32)\n"
          ]
        }
      ]
    },
    {
      "cell_type": "code",
      "metadata": {
        "id": "R_xdzhG5aPxB",
        "colab": {
          "base_uri": "https://localhost:8080/"
        },
        "outputId": "2c73ba89-e3b7-4db8-f57c-863637cc8a16"
      },
      "source": [
        "rand3 = tf.random.normal(shape=(3, 2), mean=0, stddev=1)\n",
        "print(rand3.shape)\n",
        "print(rand3)"
      ],
      "execution_count": 12,
      "outputs": [
        {
          "output_type": "stream",
          "name": "stdout",
          "text": [
            "(3, 2)\n",
            "tf.Tensor(\n",
            "[[ 1.2972597   0.09873726]\n",
            " [-0.86268723  0.9085501 ]\n",
            " [-1.1314275  -0.01411745]], shape=(3, 2), dtype=float32)\n"
          ]
        }
      ]
    },
    {
      "cell_type": "markdown",
      "metadata": {
        "id": "Za7HlqVba5wD"
      },
      "source": [
        "### 즉시 실행 모드 (Eager Mode) 지원\n",
        "- 즉시 실행모드를 통해 텐서플로우를 파이썬처럼 사용할 수 있음\n",
        "\n",
        "- 1.x 버전에서는 '그래프'를 생성하고, 초기화 한 뒤에 세션을 통해 **값을 흐르게 하는 작업**을 진행해야함\n"
      ]
    },
    {
      "cell_type": "code",
      "metadata": {
        "id": "fVBqOSFrbQ1e"
      },
      "source": [
        "a = tf.constant(3)\n",
        "b = tf.constant(2)"
      ],
      "execution_count": 13,
      "outputs": []
    },
    {
      "cell_type": "code",
      "metadata": {
        "id": "1btItwSEbdEO",
        "colab": {
          "base_uri": "https://localhost:8080/"
        },
        "outputId": "6e3b897e-7bcc-40c4-c184-5b0af89efb28"
      },
      "source": [
        "print(tf.add(a, b))\n",
        "print(a + b)"
      ],
      "execution_count": 14,
      "outputs": [
        {
          "output_type": "stream",
          "name": "stdout",
          "text": [
            "tf.Tensor(5, shape=(), dtype=int32)\n",
            "tf.Tensor(5, shape=(), dtype=int32)\n"
          ]
        }
      ]
    },
    {
      "cell_type": "code",
      "metadata": {
        "id": "SaOXtxLpbfDC",
        "colab": {
          "base_uri": "https://localhost:8080/"
        },
        "outputId": "71a41c0f-797c-423f-ef45-6b8d62d776a9"
      },
      "source": [
        "print(tf.subtract(a, b))\n",
        "print(a - b)"
      ],
      "execution_count": 15,
      "outputs": [
        {
          "output_type": "stream",
          "name": "stdout",
          "text": [
            "tf.Tensor(1, shape=(), dtype=int32)\n",
            "tf.Tensor(1, shape=(), dtype=int32)\n"
          ]
        }
      ]
    },
    {
      "cell_type": "code",
      "metadata": {
        "id": "UCApXIDNbtLF",
        "colab": {
          "base_uri": "https://localhost:8080/"
        },
        "outputId": "f411c9ef-2065-45cd-c482-b6a27e61adbe"
      },
      "source": [
        "print(tf.multiply(a, b))\n",
        "print(a * b)"
      ],
      "execution_count": 16,
      "outputs": [
        {
          "output_type": "stream",
          "name": "stdout",
          "text": [
            "tf.Tensor(6, shape=(), dtype=int32)\n",
            "tf.Tensor(6, shape=(), dtype=int32)\n"
          ]
        }
      ]
    },
    {
      "cell_type": "markdown",
      "metadata": {
        "id": "XyLkPW4Db67W"
      },
      "source": [
        "### 텐서 플로우 ↔ 넘파이\n",
        "- `numpy()`\n",
        "- `tf.convet_to_tensor()`"
      ]
    },
    {
      "cell_type": "code",
      "metadata": {
        "id": "c9AWzdJRb4Ez",
        "colab": {
          "base_uri": "https://localhost:8080/"
        },
        "outputId": "574c30b5-85a5-4f69-989d-572291f084cf"
      },
      "source": [
        "c = tf.add(a, b).numpy()\n",
        "print(type(c))"
      ],
      "execution_count": 17,
      "outputs": [
        {
          "output_type": "stream",
          "name": "stdout",
          "text": [
            "<class 'numpy.int32'>\n"
          ]
        }
      ]
    },
    {
      "cell_type": "code",
      "metadata": {
        "id": "ql4O755kcfnk",
        "colab": {
          "base_uri": "https://localhost:8080/"
        },
        "outputId": "188367e7-0137-48d6-cde9-43bb23bfbeed"
      },
      "source": [
        "c_square = np.square(c, dtype=np.float32)\n",
        "c_tensor = tf.convert_to_tensor(c_square)\n",
        "\n",
        "print(c_tensor)\n",
        "print(type(c_tensor))"
      ],
      "execution_count": 18,
      "outputs": [
        {
          "output_type": "stream",
          "name": "stdout",
          "text": [
            "tf.Tensor(25.0, shape=(), dtype=float32)\n",
            "<class 'tensorflow.python.framework.ops.EagerTensor'>\n"
          ]
        }
      ]
    },
    {
      "cell_type": "markdown",
      "metadata": {
        "id": "LmWKhcWVk00O"
      },
      "source": [
        "### 넘파이처럼 사용하기\n"
      ]
    },
    {
      "cell_type": "code",
      "metadata": {
        "id": "0on9RGRllNnX",
        "colab": {
          "base_uri": "https://localhost:8080/"
        },
        "outputId": "f32a6f1e-c566-4256-bcf2-57c4ecc549aa"
      },
      "source": [
        "t = tf.constant([[1., 2., 3.], [4., 5., 6.]])\n",
        "\n",
        "print(t.shape)\n",
        "print(t.dtype)"
      ],
      "execution_count": 19,
      "outputs": [
        {
          "output_type": "stream",
          "name": "stdout",
          "text": [
            "(2, 3)\n",
            "<dtype: 'float32'>\n"
          ]
        }
      ]
    },
    {
      "cell_type": "code",
      "metadata": {
        "id": "lhlyV7oklUIh",
        "colab": {
          "base_uri": "https://localhost:8080/"
        },
        "outputId": "2975aa36-80c2-4dd0-8980-0918541c8de5"
      },
      "source": [
        "print(t[:, 1:])"
      ],
      "execution_count": 20,
      "outputs": [
        {
          "output_type": "stream",
          "name": "stdout",
          "text": [
            "tf.Tensor(\n",
            "[[2. 3.]\n",
            " [5. 6.]], shape=(2, 2), dtype=float32)\n"
          ]
        }
      ]
    },
    {
      "cell_type": "code",
      "metadata": {
        "id": "glWL8MITlo7H",
        "colab": {
          "base_uri": "https://localhost:8080/"
        },
        "outputId": "c9457e3a-4cd4-45d0-9c4e-5e6ad0d956c8"
      },
      "source": [
        "t[..., 1, tf.newaxis]"
      ],
      "execution_count": 21,
      "outputs": [
        {
          "output_type": "execute_result",
          "data": {
            "text/plain": [
              "<tf.Tensor: shape=(2, 1), dtype=float32, numpy=\n",
              "array([[2.],\n",
              "       [5.]], dtype=float32)>"
            ]
          },
          "metadata": {},
          "execution_count": 21
        }
      ]
    },
    {
      "cell_type": "code",
      "metadata": {
        "id": "RtzQuhwnmRdu",
        "colab": {
          "base_uri": "https://localhost:8080/"
        },
        "outputId": "30c2352f-3b0f-4156-aef6-c87362b5fe46"
      },
      "source": [
        "t + 10"
      ],
      "execution_count": 22,
      "outputs": [
        {
          "output_type": "execute_result",
          "data": {
            "text/plain": [
              "<tf.Tensor: shape=(2, 3), dtype=float32, numpy=\n",
              "array([[11., 12., 13.],\n",
              "       [14., 15., 16.]], dtype=float32)>"
            ]
          },
          "metadata": {},
          "execution_count": 22
        }
      ]
    },
    {
      "cell_type": "code",
      "metadata": {
        "id": "Z5wQhZ0xmRi6",
        "colab": {
          "base_uri": "https://localhost:8080/"
        },
        "outputId": "90487e36-612b-41ec-8911-4d5d625b79f0"
      },
      "source": [
        "tf.square(t)"
      ],
      "execution_count": 23,
      "outputs": [
        {
          "output_type": "execute_result",
          "data": {
            "text/plain": [
              "<tf.Tensor: shape=(2, 3), dtype=float32, numpy=\n",
              "array([[ 1.,  4.,  9.],\n",
              "       [16., 25., 36.]], dtype=float32)>"
            ]
          },
          "metadata": {},
          "execution_count": 23
        }
      ]
    },
    {
      "cell_type": "code",
      "metadata": {
        "id": "Fj9RmYc6mRVh",
        "colab": {
          "base_uri": "https://localhost:8080/"
        },
        "outputId": "58dad504-49f5-4a15-9a5f-8ab6da3226dd"
      },
      "source": [
        "t @ tf.transpose(t)"
      ],
      "execution_count": 24,
      "outputs": [
        {
          "output_type": "execute_result",
          "data": {
            "text/plain": [
              "<tf.Tensor: shape=(2, 2), dtype=float32, numpy=\n",
              "array([[14., 32.],\n",
              "       [32., 77.]], dtype=float32)>"
            ]
          },
          "metadata": {},
          "execution_count": 24
        }
      ]
    },
    {
      "cell_type": "markdown",
      "metadata": {
        "id": "8y5wUIfpuhzL"
      },
      "source": [
        "### 타입 변환\n",
        "- 텐서의 기본 dtype\n",
        "  - float형 텐서: `float32`\n",
        "  - int형 텐서: `int32`\n",
        "\n",
        "- 연산시 텐서의 타입을 맞춰줘야 함\n",
        "  - `float32` ~ `float32`\n",
        "  - `int32` ~ `int32`\n",
        "  - `flot32` ~ `int32` (x)\n",
        "\n",
        "- 타입변환에는 `tf.cast()` 사용"
      ]
    },
    {
      "cell_type": "code",
      "metadata": {
        "id": "RMwFpHCAvEFG",
        "colab": {
          "base_uri": "https://localhost:8080/"
        },
        "outputId": "5360a78a-63ae-4f66-c557-9fabb389aa31"
      },
      "source": [
        "a = tf.constant(2)\n",
        "print(a)\n",
        "\n",
        "b = tf.constant(2.)\n",
        "print(b)"
      ],
      "execution_count": 25,
      "outputs": [
        {
          "output_type": "stream",
          "name": "stdout",
          "text": [
            "tf.Tensor(2, shape=(), dtype=int32)\n",
            "tf.Tensor(2.0, shape=(), dtype=float32)\n"
          ]
        }
      ]
    },
    {
      "cell_type": "code",
      "metadata": {
        "id": "rVb9KZSKui_c"
      },
      "source": [
        "# tf.constant(2.) + tf.constant(40)"
      ],
      "execution_count": 27,
      "outputs": []
    },
    {
      "cell_type": "code",
      "metadata": {
        "id": "-Lz79b8Fumsy"
      },
      "source": [
        "# tf.constant(2.) + tf.constant(30., dtype=tf.float64)"
      ],
      "execution_count": 29,
      "outputs": []
    },
    {
      "cell_type": "code",
      "metadata": {
        "id": "qH2HEmwIvbUx",
        "colab": {
          "base_uri": "https://localhost:8080/"
        },
        "outputId": "97d1f02a-df6d-49af-cd7e-eaaa7e05c2bb"
      },
      "source": [
        "t = tf.constant(30., dtype=tf.float64)\n",
        "t2 = tf.constant(4.)\n",
        "\n",
        "print(t2 + tf.cast(t, tf.float32))"
      ],
      "execution_count": 31,
      "outputs": [
        {
          "output_type": "stream",
          "name": "stdout",
          "text": [
            "tf.Tensor(34.0, shape=(), dtype=float32)\n"
          ]
        }
      ]
    },
    {
      "cell_type": "markdown",
      "metadata": {
        "id": "E3IX5JwVZePH"
      },
      "source": [
        "### AutoGraph (오토그래프)\n",
        "\n",
        "- Tensorflow가 작업을 좀 더 빠르게 동작하게 하기 위한 방법으로 Graph로 만들어 연산을 진행\n",
        "\n",
        "- `tf.Graph`\n",
        "\n",
        "- 유연성이 있음\n",
        "\n",
        "  - 모바일 애플리케이션, 임베디드 기기, 백엔드 서버와 같이 Python 인터프리터가 없는 환경에서 Tensorflow 사용 가능 "
      ]
    },
    {
      "cell_type": "code",
      "metadata": {
        "id": "78VD-XWRaea5"
      },
      "source": [
        "import timeit"
      ],
      "execution_count": 32,
      "outputs": []
    },
    {
      "cell_type": "markdown",
      "metadata": {
        "id": "YxNt6nejc8Ei"
      },
      "source": [
        "### @tf.function\n",
        "- 자동으로 그래프를 생성(Auto Graph)\n",
        "\n",
        "- 그래프로 변환하여 사용 -> GPU 연산 가능\n",
        "\n",
        "- 파이썬으로 구성된 함수를 텐서플로우의 그래프 형태로 다루고 싶을 때 사용가능\n",
        "\n",
        "\n",
        "- 원본 함수가 필요하다면 `(tf.function).python_function()`"
      ]
    },
    {
      "cell_type": "code",
      "metadata": {
        "id": "gq5NFuLjcukw",
        "colab": {
          "base_uri": "https://localhost:8080/"
        },
        "outputId": "795f7b02-f531-4f06-e119-b841ad7da553"
      },
      "source": [
        "@tf.function\n",
        "def my_function(x):\n",
        "  return x**2 - 10*x + 3\n",
        "\n",
        "print(my_function(2))\n",
        "print(my_function(tf.constant(2)))"
      ],
      "execution_count": 34,
      "outputs": [
        {
          "output_type": "stream",
          "name": "stdout",
          "text": [
            "tf.Tensor(-13, shape=(), dtype=int32)\n",
            "tf.Tensor(-13, shape=(), dtype=int32)\n"
          ]
        }
      ]
    },
    {
      "cell_type": "code",
      "metadata": {
        "id": "hR3RAAIQd8J7",
        "colab": {
          "base_uri": "https://localhost:8080/"
        },
        "outputId": "68804377-320e-447f-b8d7-d88a77365963"
      },
      "source": [
        "def my_function_(x):\n",
        "  return x**2 - 10*x + 3\n",
        "\n",
        "print(my_function_(2))\n",
        "print(my_function_(tf.constant(2)))"
      ],
      "execution_count": 35,
      "outputs": [
        {
          "output_type": "stream",
          "name": "stdout",
          "text": [
            "-13\n",
            "tf.Tensor(-13, shape=(), dtype=int32)\n"
          ]
        }
      ]
    },
    {
      "cell_type": "code",
      "metadata": {
        "id": "bsy3eabmy8X8",
        "colab": {
          "base_uri": "https://localhost:8080/"
        },
        "outputId": "c4ab68d3-9b1d-4271-f16c-a0f7b8dcf35a"
      },
      "source": [
        "tf_my_func = tf.function(my_function_)\n",
        "\n",
        "print(tf_my_func)\n",
        "print(tf_my_func(2))"
      ],
      "execution_count": 38,
      "outputs": [
        {
          "output_type": "stream",
          "name": "stdout",
          "text": [
            "<tensorflow.python.eager.def_function.Function object at 0x7fc5ffe9ea50>\n",
            "tf.Tensor(-13, shape=(), dtype=int32)\n"
          ]
        }
      ]
    },
    {
      "cell_type": "code",
      "metadata": {
        "id": "TgwwgQvjzKqn",
        "colab": {
          "base_uri": "https://localhost:8080/"
        },
        "outputId": "c3434c46-afd0-473b-a328-fc76defae9c5"
      },
      "source": [
        "tf_my_func.python_function(2)"
      ],
      "execution_count": 39,
      "outputs": [
        {
          "output_type": "execute_result",
          "data": {
            "text/plain": [
              "-13"
            ]
          },
          "metadata": {},
          "execution_count": 39
        }
      ]
    },
    {
      "cell_type": "code",
      "metadata": {
        "id": "1pkBOpWhaehO",
        "colab": {
          "base_uri": "https://localhost:8080/"
        },
        "outputId": "fee65d83-959c-4050-e913-27fe65546b19"
      },
      "source": [
        "def function_to_get_faster(x, y, b):\n",
        "  x = tf.matmul(x, y)\n",
        "  x = x + b\n",
        "  return x\n",
        "\n",
        "a_function_that_uses_a_graph = tf.function(function_to_get_faster)\n",
        "\n",
        "x1 = tf.constant([[1.0, 2.0]])\n",
        "y1 = tf.constant([[2.0], [3.0]])\n",
        "b1 = tf.constant(4.0)\n",
        "\n",
        "a_function_that_uses_a_graph(x1, y1, b1).numpy()"
      ],
      "execution_count": 40,
      "outputs": [
        {
          "output_type": "execute_result",
          "data": {
            "text/plain": [
              "array([[12.]], dtype=float32)"
            ]
          },
          "metadata": {},
          "execution_count": 40
        }
      ]
    },
    {
      "cell_type": "code",
      "metadata": {
        "id": "rcLAgLKfaepn",
        "colab": {
          "base_uri": "https://localhost:8080/"
        },
        "outputId": "c9f8ac18-1cb6-4fe8-e8f8-4e95c9c05f9b"
      },
      "source": [
        "def inner_function(x, y, b):\n",
        "  x = tf.matmul(x, y)\n",
        "  x = x + b\n",
        "  return x\n",
        "\n",
        "@tf.function\n",
        "def outer_function(x):\n",
        "  y = tf.constant([[2.0], [3.0]])\n",
        "  b = tf.constant(4.0)\n",
        "  return inner_function(x, y, b)\n",
        "\n",
        "outer_function(tf.constant([[1.0, 2.0]])).numpy()"
      ],
      "execution_count": 42,
      "outputs": [
        {
          "output_type": "execute_result",
          "data": {
            "text/plain": [
              "array([[12.]], dtype=float32)"
            ]
          },
          "metadata": {},
          "execution_count": 42
        }
      ]
    },
    {
      "cell_type": "markdown",
      "metadata": {
        "id": "mXLYEP4fbSYe"
      },
      "source": [
        "텐서플로우가 `tf.function`으로 변환한 코드"
      ]
    },
    {
      "cell_type": "code",
      "metadata": {
        "id": "i6cqueZuWN1g",
        "colab": {
          "base_uri": "https://localhost:8080/"
        },
        "outputId": "cdd5c108-24e0-4d4c-d9a1-9872335175c1"
      },
      "source": [
        "print(tf.autograph.to_code(my_function.python_function))\n",
        "print(tf.autograph.to_code(tf_my_func.python_function))\n",
        "print(tf.autograph.to_code(outer_function.python_function))"
      ],
      "execution_count": 44,
      "outputs": [
        {
          "output_type": "stream",
          "name": "stdout",
          "text": [
            "def tf__my_function(x):\n",
            "    with ag__.FunctionScope('my_function', 'fscope', ag__.ConversionOptions(recursive=True, user_requested=True, optional_features=(), internal_convert_user_code=True)) as fscope:\n",
            "        do_return = False\n",
            "        retval_ = ag__.UndefinedReturnValue()\n",
            "        try:\n",
            "            do_return = True\n",
            "            retval_ = (((ag__.ld(x) ** 2) - (10 * ag__.ld(x))) + 3)\n",
            "        except:\n",
            "            do_return = False\n",
            "            raise\n",
            "        return fscope.ret(retval_, do_return)\n",
            "\n",
            "def tf__my_function_(x):\n",
            "    with ag__.FunctionScope('my_function_', 'fscope', ag__.ConversionOptions(recursive=True, user_requested=True, optional_features=(), internal_convert_user_code=True)) as fscope:\n",
            "        do_return = False\n",
            "        retval_ = ag__.UndefinedReturnValue()\n",
            "        try:\n",
            "            do_return = True\n",
            "            retval_ = (((ag__.ld(x) ** 2) - (10 * ag__.ld(x))) + 3)\n",
            "        except:\n",
            "            do_return = False\n",
            "            raise\n",
            "        return fscope.ret(retval_, do_return)\n",
            "\n",
            "def tf__outer_function(x):\n",
            "    with ag__.FunctionScope('outer_function', 'fscope', ag__.ConversionOptions(recursive=True, user_requested=True, optional_features=(), internal_convert_user_code=True)) as fscope:\n",
            "        do_return = False\n",
            "        retval_ = ag__.UndefinedReturnValue()\n",
            "        y = ag__.converted_call(ag__.ld(tf).constant, ([[2.0], [3.0]],), None, fscope)\n",
            "        b = ag__.converted_call(ag__.ld(tf).constant, (4.0,), None, fscope)\n",
            "        try:\n",
            "            do_return = True\n",
            "            retval_ = ag__.converted_call(ag__.ld(inner_function), (ag__.ld(x), ag__.ld(y), ag__.ld(b)), None, fscope)\n",
            "        except:\n",
            "            do_return = False\n",
            "            raise\n",
            "        return fscope.ret(retval_, do_return)\n",
            "\n"
          ]
        }
      ]
    },
    {
      "cell_type": "markdown",
      "metadata": {
        "id": "hf2KCJu1bdg_"
      },
      "source": [
        "\n",
        " 속도 향상\n"
      ]
    },
    {
      "cell_type": "code",
      "metadata": {
        "id": "6GC4f2HvbfNT",
        "colab": {
          "base_uri": "https://localhost:8080/"
        },
        "outputId": "cd1f1d2f-c524-47bb-8a71-cdb85e67f6e7"
      },
      "source": [
        "class SequentialModel(tf.keras.Model):\n",
        "  def __init__(self, **kwargs):\n",
        "    super(SequentialModel, self).__init__(**kwargs)\n",
        "    self.flatten = tf.keras.layers.Flatten(input_shape=(28, 28))\n",
        "    self.dense_1 = tf.keras.layers.Dense(128, activation='relu')\n",
        "    self.dropout = tf.keras.layers.Dropout(0.2)\n",
        "    self.dense_2 = tf.keras.layers.Dense(10)\n",
        "\n",
        "  def call(self, x):\n",
        "    x = self.flatten(x)\n",
        "    x = self.dense_1(x)\n",
        "    x = self.dropout(x)\n",
        "    x = self.dense_2(x)\n",
        "    return x\n",
        "\n",
        "input_data = tf.random.uniform([60, 28, 28])\n",
        "\n",
        "eager_model = SequentialModel()\n",
        "graph_model = tf.function(eager_model)\n",
        "\n",
        "print('Eager time:', timeit.timeit(lambda: eager_model(input_data), number=10000))\n",
        "print('Graph time:', timeit.timeit(lambda: graph_model(input_data), number=10000))"
      ],
      "execution_count": 46,
      "outputs": [
        {
          "output_type": "stream",
          "name": "stdout",
          "text": [
            "Eager time: 15.625376187999791\n",
            "Graph time: 5.659144191999985\n"
          ]
        }
      ]
    },
    {
      "cell_type": "markdown",
      "metadata": {
        "id": "EizHAodregRR"
      },
      "source": [
        "### 변수 생성\n",
        "\n",
        "- `tf.Variable`\n",
        "- 딥러닝 모델 학습 시, 그래프 연산이 필요할 때 사용"
      ]
    },
    {
      "cell_type": "code",
      "metadata": {
        "id": "PybmfPcAeH-S",
        "colab": {
          "base_uri": "https://localhost:8080/"
        },
        "outputId": "d0cfaa19-2793-4e43-a028-eb136eac4d18"
      },
      "source": [
        "X = tf.Variable(20.0)\n",
        "\n",
        "print(X)"
      ],
      "execution_count": 48,
      "outputs": [
        {
          "output_type": "stream",
          "name": "stdout",
          "text": [
            "<tf.Variable 'Variable:0' shape=() dtype=float32, numpy=20.0>\n"
          ]
        }
      ]
    },
    {
      "cell_type": "markdown",
      "metadata": {
        "id": "qY_oUvVneiHH"
      },
      "source": [
        "### Autograd (자동 미분)\n",
        "\n",
        "- `tf.GradientTape` API를 사용\n",
        "- `tf.Variable` 같은 일부 입력에 대한 기울기 계산\n",
        "  - 기본적으로 한번만 사용됨\n",
        "- 변수가 포함된 연산만 기록"
      ]
    },
    {
      "cell_type": "code",
      "metadata": {
        "id": "4_lrTYZfeiHO"
      },
      "source": [
        "x = tf.Variable(3.0)\n",
        "\n",
        "with tf.GradientTape() as tape:\n",
        "  y = x**2"
      ],
      "execution_count": 49,
      "outputs": []
    },
    {
      "cell_type": "code",
      "metadata": {
        "id": "1Tq7MMJTeiHQ",
        "colab": {
          "base_uri": "https://localhost:8080/"
        },
        "outputId": "d83caeac-91b3-4267-9c00-f3f46e825bdc"
      },
      "source": [
        "dy_dx = tape.gradient(y, x)\n",
        "dy_dx.numpy()"
      ],
      "execution_count": 50,
      "outputs": [
        {
          "output_type": "execute_result",
          "data": {
            "text/plain": [
              "6.0"
            ]
          },
          "metadata": {},
          "execution_count": 50
        }
      ]
    },
    {
      "cell_type": "code",
      "metadata": {
        "id": "y0wty7V3eiHT"
      },
      "source": [
        "#x2 = tf.Variable(4)\n",
        "#dy_dx = tape.gradient(y, x2)\n",
        "#dy_dx.numpy()"
      ],
      "execution_count": 52,
      "outputs": []
    },
    {
      "cell_type": "code",
      "metadata": {
        "id": "itJftqGlfWmy",
        "colab": {
          "base_uri": "https://localhost:8080/"
        },
        "outputId": "e405a7f2-8d99-4cb3-e694-8af54fccc5bd"
      },
      "source": [
        "x = tf.Variable(2.0)\n",
        "y = tf.Variable(3.0)\n",
        "\n",
        "with tf.GradientTape() as tape:\n",
        "  y_sq = y**2\n",
        "  z = x**2 + tf.stop_gradient(y_sq)\n",
        "\n",
        "grad = tape.gradient(z, {'x':x, 'y':y})\n",
        "\n",
        "print('dz/dx:', grad['x'])\n",
        "\n",
        "print('dz/dy:', grad['y'])"
      ],
      "execution_count": 53,
      "outputs": [
        {
          "output_type": "stream",
          "name": "stdout",
          "text": [
            "dz/dx: tf.Tensor(4.0, shape=(), dtype=float32)\n",
            "dz/dy: None\n"
          ]
        }
      ]
    },
    {
      "cell_type": "code",
      "metadata": {
        "id": "Np-JoGSneiHW"
      },
      "source": [
        "weights = tf.Variable(tf.random.normal((3, 2)), name='weights')\n",
        "biases = tf.Variable(tf.zeros(2, dtype=tf.float32), name='biases')\n",
        "x = [[1., 2., 3.]]\n",
        "\n",
        "with tf.GradientTape(persistent=True) as tape:\n",
        "  y = x @ weights + biases\n",
        "  loss = tf.reduce_mean(y**2)"
      ],
      "execution_count": 54,
      "outputs": []
    },
    {
      "cell_type": "code",
      "metadata": {
        "id": "OMhB1rONeiHY"
      },
      "source": [
        "[dl_dw, dl_db] = tape.gradient(loss, [weights, biases])"
      ],
      "execution_count": 55,
      "outputs": []
    },
    {
      "cell_type": "code",
      "metadata": {
        "id": "7mS4UrqgeiHa",
        "colab": {
          "base_uri": "https://localhost:8080/"
        },
        "outputId": "6bee2d55-3f51-442a-9e91-204f7b35d179"
      },
      "source": [
        "print(weights.shape)\n",
        "print(dl_dw.shape)"
      ],
      "execution_count": 56,
      "outputs": [
        {
          "output_type": "stream",
          "name": "stdout",
          "text": [
            "(3, 2)\n",
            "(3, 2)\n"
          ]
        }
      ]
    },
    {
      "cell_type": "code",
      "metadata": {
        "id": "UIFUed4yeiHc",
        "colab": {
          "base_uri": "https://localhost:8080/"
        },
        "outputId": "b22778b1-9471-4edc-c9e0-724437b0abaa"
      },
      "source": [
        "weights2 = tf.Variable(tf.random.normal((3, 2)), name='weights')\n",
        "biases2 = tf.Variable(tf.zeros(2, dtype=tf.float32), name='biases')\n",
        "x2 = [[4., 5., 6.]]\n",
        "\n",
        "[dl_dw2, dl_db2] = tape.gradient(loss, [weights2, biases2])\n",
        "\n",
        "print(weights2.shape)\n",
        "print(dl_dw.shape)"
      ],
      "execution_count": 57,
      "outputs": [
        {
          "output_type": "stream",
          "name": "stdout",
          "text": [
            "(3, 2)\n",
            "(3, 2)\n"
          ]
        }
      ]
    },
    {
      "cell_type": "code",
      "metadata": {
        "id": "b1X3900EeiHd"
      },
      "source": [
        "del tape"
      ],
      "execution_count": 58,
      "outputs": []
    },
    {
      "cell_type": "markdown",
      "metadata": {
        "id": "FcG5ddWTgjMq"
      },
      "source": [
        "## 간단한 신경망 구조 "
      ]
    },
    {
      "cell_type": "markdown",
      "metadata": {
        "id": "fXE8tlU7gkrV"
      },
      "source": [
        "### 뉴런\n",
        "- 입력 → 연산 → 활성화함수 → 출력"
      ]
    },
    {
      "cell_type": "code",
      "metadata": {
        "id": "B-DUt6cZe7iD"
      },
      "source": [
        "def sigmoid(x):\n",
        "  return (1 / (1 + np.exp(-x)))\n",
        "\n",
        "def Neuron(x, W, bias=0):\n",
        "  z = x * W + bias\n",
        "  return sigmoid(z)"
      ],
      "execution_count": 63,
      "outputs": []
    },
    {
      "cell_type": "code",
      "metadata": {
        "id": "r8baxM6mg_XQ",
        "colab": {
          "base_uri": "https://localhost:8080/"
        },
        "outputId": "626344d1-5cb2-4881-fc32-671513017dcb"
      },
      "source": [
        "x = tf.random.normal((1, 2), 0, 1)\n",
        "W = tf.random.normal((1, 2), 0, 1)\n",
        "\n",
        "print('x.shape:', x.shape)\n",
        "print('W.shape:', W.shape)\n",
        "\n",
        "print(x)\n",
        "print(W)\n",
        "\n",
        "print(Neuron(x, W))"
      ],
      "execution_count": 64,
      "outputs": [
        {
          "output_type": "stream",
          "name": "stdout",
          "text": [
            "x.shape: (1, 2)\n",
            "W.shape: (1, 2)\n",
            "tf.Tensor([[-0.10683594  0.09949344]], shape=(1, 2), dtype=float32)\n",
            "tf.Tensor([[ 0.3865132 -1.6077361]], shape=(1, 2), dtype=float32)\n",
            "[[0.4896781 0.4600953]]\n"
          ]
        }
      ]
    },
    {
      "cell_type": "code",
      "metadata": {
        "id": "I7D57W93htFt",
        "colab": {
          "base_uri": "https://localhost:8080/"
        },
        "outputId": "14b096ff-708a-4541-b97a-2dec191a6d5e"
      },
      "source": [
        "x = tf.random.normal((2, 1), 0, 1)\n",
        "W = tf.random.normal((2, 1), 0, 1)\n",
        "\n",
        "print('x.shape:', x.shape)\n",
        "print('W.shape:', W.shape)\n",
        "\n",
        "print(x)\n",
        "print(W)\n",
        "\n",
        "print(Neuron(x, W))"
      ],
      "execution_count": 65,
      "outputs": [
        {
          "output_type": "stream",
          "name": "stdout",
          "text": [
            "x.shape: (2, 1)\n",
            "W.shape: (2, 1)\n",
            "tf.Tensor(\n",
            "[[ 1.7839314]\n",
            " [-0.8196737]], shape=(2, 1), dtype=float32)\n",
            "tf.Tensor(\n",
            "[[-0.6014025 ]\n",
            " [ 0.04715658]], shape=(2, 1), dtype=float32)\n",
            "[[0.25485942]\n",
            " [0.49033797]]\n"
          ]
        }
      ]
    },
    {
      "cell_type": "code",
      "metadata": {
        "id": "IKeoXsJBhzPk",
        "colab": {
          "base_uri": "https://localhost:8080/"
        },
        "outputId": "2bff47d0-2b92-4964-b86d-8f5d89a9f862"
      },
      "source": [
        "x = tf.random.normal((1,), 0, 1)\n",
        "W = tf.random.normal((2, 1), 0, 1)\n",
        "\n",
        "print('x.shape:', x.shape)\n",
        "print('W.shape:', W.shape)\n",
        "\n",
        "print(x)\n",
        "print(W)\n",
        "\n",
        "print(Neuron(x, W))"
      ],
      "execution_count": 66,
      "outputs": [
        {
          "output_type": "stream",
          "name": "stdout",
          "text": [
            "x.shape: (1,)\n",
            "W.shape: (2, 1)\n",
            "tf.Tensor([-3.1788204], shape=(1,), dtype=float32)\n",
            "tf.Tensor(\n",
            "[[-0.351695 ]\n",
            " [ 1.1058087]], shape=(2, 1), dtype=float32)\n",
            "[[0.75361294]\n",
            " [0.02888374]]\n"
          ]
        }
      ]
    },
    {
      "cell_type": "markdown",
      "metadata": {
        "id": "ATmvx1utmmMl"
      },
      "source": [
        "### 퍼셉트론 학습 알고리즘 (가중치 업데이트)\n",
        "\n",
        "## $\\qquad w^{(next step)} = w + \\eta \\ (y - \\tilde{y}) \\ x$\n",
        "\n",
        "- $w \\ $: 가중치\n",
        "\n",
        "- $\\eta \\ $ : 학습률\n",
        "\n",
        "- $y \\ $ : 정답 레이블\n",
        "\n",
        "- $\\tilde{y} \\ $: 예측 레이블\n"
      ]
    },
    {
      "cell_type": "code",
      "metadata": {
        "id": "7f-3qRCHXO9m",
        "colab": {
          "base_uri": "https://localhost:8080/"
        },
        "outputId": "d4a366e6-13ff-4e81-b263-5a44802d6406"
      },
      "source": [
        "x = 1\n",
        "y = 0\n",
        "W = tf.random.normal([1], 0, 1)\n",
        "print(Neuron(x, W))\n",
        "print('y:', y)"
      ],
      "execution_count": 67,
      "outputs": [
        {
          "output_type": "stream",
          "name": "stdout",
          "text": [
            "[0.3810042]\n",
            "y: 0\n"
          ]
        }
      ]
    },
    {
      "cell_type": "code",
      "metadata": {
        "id": "S8JG-rbdml_v",
        "colab": {
          "base_uri": "https://localhost:8080/"
        },
        "outputId": "2c818fbb-9350-4be4-ca92-590a7a2d8266"
      },
      "source": [
        "for i in range(1000):\n",
        "  output = Neuron(x, W)\n",
        "  error = y - output\n",
        "  W = W + x * 0.1 * error\n",
        "\n",
        "  if i % 100 == 99:\n",
        "    print(\"{}\\t{}\\t{}\".format(i+1, error, output))"
      ],
      "execution_count": 68,
      "outputs": [
        {
          "output_type": "stream",
          "name": "stdout",
          "text": [
            "100\t[-0.09260362]\t[0.09260362]\n",
            "200\t[-0.04960454]\t[0.04960454]\n",
            "300\t[-0.03358822]\t[0.03358822]\n",
            "400\t[-0.02531942]\t[0.02531942]\n",
            "500\t[-0.02029223]\t[0.02029223]\n",
            "600\t[-0.0169194]\t[0.0169194]\n",
            "700\t[-0.01450228]\t[0.01450228]\n",
            "800\t[-0.01268623]\t[0.01268623]\n",
            "900\t[-0.01127245]\t[0.01127245]\n",
            "1000\t[-0.01014095]\t[0.01014095]\n"
          ]
        }
      ]
    },
    {
      "cell_type": "code",
      "metadata": {
        "id": "vrJKCpf0VyOR"
      },
      "source": [
        "def Neuron2(x, W, bias=0):\n",
        "  z = tf.matmul(x, W, transpose_b=True) + bias\n",
        "  return sigmoid(z)"
      ],
      "execution_count": 71,
      "outputs": []
    },
    {
      "cell_type": "code",
      "metadata": {
        "id": "dkLHtKQ8htRg",
        "colab": {
          "base_uri": "https://localhost:8080/"
        },
        "outputId": "78a26869-fa7a-4fb2-affc-6180248c9511"
      },
      "source": [
        "x = tf.random.normal((1, 3), 0, 1)\n",
        "y = tf.ones(1)\n",
        "W = tf.random.normal((1, 3), 0, 1)\n",
        "\n",
        "print(Neuron2(x, W))\n",
        "print('y:', y)"
      ],
      "execution_count": 72,
      "outputs": [
        {
          "output_type": "stream",
          "name": "stdout",
          "text": [
            "[[0.55533767]]\n",
            "y: tf.Tensor([1.], shape=(1,), dtype=float32)\n"
          ]
        }
      ]
    },
    {
      "cell_type": "code",
      "metadata": {
        "id": "udZu2_rQo1SH",
        "colab": {
          "base_uri": "https://localhost:8080/"
        },
        "outputId": "702a3049-8b9e-43eb-89bb-dc030f49cdca"
      },
      "source": [
        "for i in range(1000):\n",
        "  output = Neuron2(x, W)\n",
        "  error = y - output\n",
        "  W = W + x * 0.1 * error\n",
        "\n",
        "  if i % 100 == 99:\n",
        "    print(\"{}\\t{}\\t{}\".format(i+1, error, output))"
      ],
      "execution_count": 73,
      "outputs": [
        {
          "output_type": "stream",
          "name": "stdout",
          "text": [
            "100\t[[0.09904492]]\t[[0.9009551]]\n",
            "200\t[[0.05184722]]\t[[0.9481528]]\n",
            "300\t[[0.03478545]]\t[[0.96521455]]\n",
            "400\t[[0.0260942]]\t[[0.9739058]]\n",
            "500\t[[0.02085012]]\t[[0.9791499]]\n",
            "600\t[[0.01734895]]\t[[0.98265105]]\n",
            "700\t[[0.01484841]]\t[[0.9851516]]\n",
            "800\t[[0.01297444]]\t[[0.98702556]]\n",
            "900\t[[0.01151836]]\t[[0.98848164]]\n",
            "1000\t[[0.01035488]]\t[[0.9896451]]\n"
          ]
        }
      ]
    },
    {
      "cell_type": "code",
      "metadata": {
        "id": "X7rw7DAxbCcu",
        "colab": {
          "base_uri": "https://localhost:8080/"
        },
        "outputId": "b5804adf-f12c-40cb-9ccd-b31c9b641d42"
      },
      "source": [
        "x = tf.random.normal((1, 3), 0, 1)\n",
        "weights = tf.random.normal((1, 3), 0, 1)\n",
        "bias = tf.zeros((1, 1))\n",
        "\n",
        "y = tf.ones((1, ))\n",
        "\n",
        "print(\"x\\t: {}\\nweights\\t: {}\\nbias\\t: {}\".format(x, weights, bias))"
      ],
      "execution_count": 76,
      "outputs": [
        {
          "output_type": "stream",
          "name": "stdout",
          "text": [
            "x\t: [[-0.35505387  0.37349024 -0.11423307]]\n",
            "weights\t: [[-1.368135  -1.6217437  0.8091304]]\n",
            "bias\t: [[0.]]\n"
          ]
        }
      ]
    },
    {
      "cell_type": "code",
      "metadata": {
        "id": "Of-hjiq1pKF2",
        "colab": {
          "base_uri": "https://localhost:8080/"
        },
        "outputId": "071392be-8492-4640-9c35-e1db4b524e08"
      },
      "source": [
        "for i in range(1000):\n",
        "  output = Neuron2(x, weights, bias=bias)\n",
        "  error = y - output\n",
        "  weights = weights + x * 0.1 * error\n",
        "  bias = bias + 1 * 0.1 * error\n",
        "\n",
        "  if i % 100 == 99:\n",
        "    print(\"{}\\t{}\\t{}\".format(i+1, error, output))"
      ],
      "execution_count": 77,
      "outputs": [
        {
          "output_type": "stream",
          "name": "stdout",
          "text": [
            "100\t[[0.08347267]]\t[[0.91652733]]\n",
            "200\t[[0.04154831]]\t[[0.9584517]]\n",
            "300\t[[0.02743381]]\t[[0.9725662]]\n",
            "400\t[[0.02042729]]\t[[0.9795727]]\n",
            "500\t[[0.01625431]]\t[[0.9837457]]\n",
            "600\t[[0.01348966]]\t[[0.98651034]]\n",
            "700\t[[0.01152503]]\t[[0.98847497]]\n",
            "800\t[[0.01005793]]\t[[0.9899421]]\n",
            "900\t[[0.00892085]]\t[[0.99107915]]\n",
            "1000\t[[0.00801396]]\t[[0.99198604]]\n"
          ]
        }
      ]
    },
    {
      "cell_type": "code",
      "metadata": {
        "id": "KHVs1hALZ_bA",
        "colab": {
          "base_uri": "https://localhost:8080/"
        },
        "outputId": "cb2bcb00-8664-4d74-94af-e870511634d6"
      },
      "source": [
        "print(\"x\\t: {}\\nweights\\t: {}\\nbias\\t: {}\".format(x, weights, bias))"
      ],
      "execution_count": 78,
      "outputs": [
        {
          "output_type": "stream",
          "name": "stdout",
          "text": [
            "x\t: [[-0.35505387  0.37349024 -0.11423307]]\n",
            "weights\t: [[-2.7654421  -0.15188366  0.3595691 ]]\n",
            "bias\t: [[3.935469]]\n"
          ]
        }
      ]
    },
    {
      "cell_type": "markdown",
      "metadata": {
        "id": "LQ-syOVwfjB9"
      },
      "source": [
        "### AND Gate"
      ]
    },
    {
      "cell_type": "code",
      "metadata": {
        "id": "HyRma3NorTRs",
        "colab": {
          "base_uri": "https://localhost:8080/"
        },
        "outputId": "1837da01-7563-48e8-d556-a88239905db2"
      },
      "source": [
        "X = np.array([[1, 1], [1, 0], [0, 1], [0, 0]])\n",
        "Y = np.array([[1], [0], [0], [0]])\n",
        "\n",
        "W = tf.random.normal([2], 0, 1)\n",
        "b = tf.random.normal([1], 0, 1)\n",
        "b_x = 1\n",
        "\n",
        "for i in range(2000):\n",
        "  error_sum = 0\n",
        "\n",
        "  for j in range(4):\n",
        "    output = sigmoid(np.sum(X[j] * W) + b_x + b)\n",
        "    error = Y[j][0] - output\n",
        "    W = W + X[j] * 0.1 * error\n",
        "    b = b + b_x * 0.1 * error\n",
        "    error_sum += error\n",
        "\n",
        "  if i % 200 == 0:\n",
        "    print(\"Epoch {:4d}\\tError Sum{}\".format(i, error_sum))\n",
        "\n",
        "print(\"\\n가중치\\t: {}\".format(W))\n",
        "print(\"편향\\t: {}\".format(b))"
      ],
      "execution_count": 80,
      "outputs": [
        {
          "output_type": "stream",
          "name": "stdout",
          "text": [
            "Epoch    0\tError Sum[-1.3447309]\n",
            "Epoch  200\tError Sum[-0.11551043]\n",
            "Epoch  400\tError Sum[-0.06749855]\n",
            "Epoch  600\tError Sum[-0.04758729]\n",
            "Epoch  800\tError Sum[-0.03663751]\n",
            "Epoch 1000\tError Sum[-0.02972741]\n",
            "Epoch 1200\tError Sum[-0.02498182]\n",
            "Epoch 1400\tError Sum[-0.02152457]\n",
            "Epoch 1600\tError Sum[-0.01889959]\n",
            "Epoch 1800\tError Sum[-0.01683684]\n",
            "\n",
            "가중치\t: [6.959131  6.9622912]\n",
            "편향\t: [-11.617846]\n"
          ]
        }
      ]
    },
    {
      "cell_type": "code",
      "metadata": {
        "id": "OylWtem2stH0",
        "colab": {
          "base_uri": "https://localhost:8080/"
        },
        "outputId": "d273c1bf-f084-449c-fdaa-f351286e1a4b"
      },
      "source": [
        "for i in range(4):\n",
        "  print(\"X: {} Y: {} Output: {}\".format(X[i], Y[i], sigmoid(np.sum(X[i] * W) + b)))"
      ],
      "execution_count": 81,
      "outputs": [
        {
          "output_type": "stream",
          "name": "stdout",
          "text": [
            "X: [1 1] Y: [1] Output: [0.9091728]\n",
            "X: [1 0] Y: [0] Output: [0.00938964]\n",
            "X: [0 1] Y: [0] Output: [0.00941908]\n",
            "X: [0 0] Y: [0] Output: [9.003884e-06]\n"
          ]
        }
      ]
    },
    {
      "cell_type": "markdown",
      "metadata": {
        "id": "pADtZrsagJ64"
      },
      "source": [
        "### OR Gate"
      ]
    },
    {
      "cell_type": "code",
      "metadata": {
        "id": "X1drqmeNuxIU",
        "colab": {
          "base_uri": "https://localhost:8080/"
        },
        "outputId": "809f3f97-b2f8-4f39-b255-4106a7702e03"
      },
      "source": [
        "X2 = np.array([[1, 1], [1, 0], [0, 1], [0, 0]])\n",
        "Y2 = np.array([[1], [1], [1], [0]])\n",
        "\n",
        "W2 = tf.random.normal([2], 0, 1)\n",
        "b2 = tf.random.normal([1], 0, 1)\n",
        "b_x = 1\n",
        "\n",
        "for i in range(2000):\n",
        "  error_sum = 0\n",
        "\n",
        "  for j in range(4):\n",
        "    output = sigmoid(np.sum(X2[j] * W2) + b_x + b2)\n",
        "    error = Y2[j][0] - output\n",
        "    W2 = W2 + X2[j] * 0.1 * error\n",
        "    b2 = b2 + b_x * 0.1 * error\n",
        "    error_sum += error\n",
        "\n",
        "  if i % 200 == 0:\n",
        "    print(\"Epoch {:4d}\\tError Sum{}\".format(i, error_sum))\n",
        "\n",
        "print(\"\\n가중치\\t: {}\".format(W2))\n",
        "print(\"편향\\t: {}\".format(b2))"
      ],
      "execution_count": 82,
      "outputs": [
        {
          "output_type": "stream",
          "name": "stdout",
          "text": [
            "Epoch    0\tError Sum[1.1059394]\n",
            "Epoch  200\tError Sum[-0.0506829]\n",
            "Epoch  400\tError Sum[-0.02620605]\n",
            "Epoch  600\tError Sum[-0.01754987]\n",
            "Epoch  800\tError Sum[-0.0131448]\n",
            "Epoch 1000\tError Sum[-0.01048766]\n",
            "Epoch 1200\tError Sum[-0.00871472]\n",
            "Epoch 1400\tError Sum[-0.00744982]\n",
            "Epoch 1600\tError Sum[-0.00650227]\n",
            "Epoch 1800\tError Sum[-0.00576779]\n",
            "\n",
            "가중치\t: [8.20329  8.200746]\n",
            "편향\t: [-4.6354346]\n"
          ]
        }
      ]
    },
    {
      "cell_type": "code",
      "metadata": {
        "id": "FGG4_ZXGgLNd",
        "colab": {
          "base_uri": "https://localhost:8080/"
        },
        "outputId": "9e0e87c8-cfae-4f0d-c9f1-33459ef720cc"
      },
      "source": [
        "for i in range(4):\n",
        "  print(\"X: {} Y: {} Output: {}\".format(X2[i], Y2[i], sigmoid(np.sum(X2[i] * W2) + b2)))"
      ],
      "execution_count": 83,
      "outputs": [
        {
          "output_type": "stream",
          "name": "stdout",
          "text": [
            "X: [1 1] Y: [1] Output: [0.99999225]\n",
            "X: [1 0] Y: [1] Output: [0.9725581]\n",
            "X: [0 1] Y: [1] Output: [0.97248995]\n",
            "X: [0 0] Y: [0] Output: [0.00960867]\n"
          ]
        }
      ]
    },
    {
      "cell_type": "markdown",
      "metadata": {
        "id": "IQyeNLdagPw1"
      },
      "source": [
        "### XOR Gate"
      ]
    },
    {
      "cell_type": "code",
      "metadata": {
        "id": "W-BYPnNBgNd9",
        "colab": {
          "base_uri": "https://localhost:8080/"
        },
        "outputId": "d5700678-4b57-497c-d1aa-7e5c0412d901"
      },
      "source": [
        "X3 = np.array([[1, 1], [1, 0], [0, 1], [0, 0]])\n",
        "Y3 = np.array([[0], [1], [1], [0]])\n",
        "\n",
        "W3 = tf.random.normal([2], 0, 1)\n",
        "b3 = tf.random.normal([1], 0, 1)\n",
        "b_x = 1\n",
        "\n",
        "for i in range(2000):\n",
        "  error_sum = 0\n",
        "\n",
        "  for j in range(4):\n",
        "    output = sigmoid(np.sum(X3[j] * W3) + b_x + b3)\n",
        "    error = Y3[j][0] - output\n",
        "    W3 = W3 + X3[j] * 0.1 * error\n",
        "    b3 = b3 + b_x * 0.1 * error\n",
        "    error_sum += error\n",
        "\n",
        "  if i % 200 == 0:\n",
        "    print(\"Epoch {:4d}\\tError Sum{}\".format(i, error_sum))\n",
        "\n",
        "print(\"\\n가중치\\t: {}\".format(W3))\n",
        "print(\"편향\\t: {}\".format(b3))"
      ],
      "execution_count": 84,
      "outputs": [
        {
          "output_type": "stream",
          "name": "stdout",
          "text": [
            "Epoch    0\tError Sum[-0.2935458]\n",
            "Epoch  200\tError Sum[-0.00734013]\n",
            "Epoch  400\tError Sum[-0.00029856]\n",
            "Epoch  600\tError Sum[-1.2099743e-05]\n",
            "Epoch  800\tError Sum[-3.5762787e-07]\n",
            "Epoch 1000\tError Sum[-1.013279e-06]\n",
            "Epoch 1200\tError Sum[-1.013279e-06]\n",
            "Epoch 1400\tError Sum[-1.013279e-06]\n",
            "Epoch 1600\tError Sum[-1.013279e-06]\n",
            "Epoch 1800\tError Sum[-1.013279e-06]\n",
            "\n",
            "가중치\t: [ 5.1279664e-02 -2.0787120e-06]\n",
            "편향\t: [-0.9999969]\n"
          ]
        }
      ]
    },
    {
      "cell_type": "code",
      "metadata": {
        "id": "z1EWz3N5gRfH",
        "colab": {
          "base_uri": "https://localhost:8080/"
        },
        "outputId": "750b16a9-12e3-4b05-9c3d-cbcebbe66420"
      },
      "source": [
        "for i in range(4):\n",
        "  print(\"X: {} Y: {} Output: {}\".format(X3[i], Y3[i], sigmoid(np.sum(X3[i] * W3) + b3)))"
      ],
      "execution_count": 85,
      "outputs": [
        {
          "output_type": "stream",
          "name": "stdout",
          "text": [
            "X: [1 1] Y: [0] Output: [0.27914244]\n",
            "X: [1 0] Y: [1] Output: [0.2791429]\n",
            "X: [0 1] Y: [1] Output: [0.2689416]\n",
            "X: [0 0] Y: [0] Output: [0.26894203]\n"
          ]
        }
      ]
    },
    {
      "cell_type": "code",
      "metadata": {
        "id": "duXh8GGkgUET",
        "colab": {
          "base_uri": "https://localhost:8080/"
        },
        "outputId": "cbdcad05-a56c-4e61-8512-3f42a4215914"
      },
      "source": [
        "from tensorflow.keras import Sequential\n",
        "from tensorflow.keras.layers import Dense\n",
        "\n",
        "np.random.seed(111)\n",
        "\n",
        "X4 = np.array([[1, 1], [1, 0], [0, 1], [0, 0]])\n",
        "Y4 = np.array([[0], [1], [1], [0]])\n",
        "\n",
        "model = Sequential([Dense(units=2, activation='sigmoid', input_shape=(2,)),\n",
        "                    Dense(units=1, activation='sigmoid')])\n",
        "\n",
        "model.compile(optimizer=tf.keras.optimizers.SGD(lr=0.1), loss='mse')\n",
        "\n",
        "model.summary()"
      ],
      "execution_count": 89,
      "outputs": [
        {
          "output_type": "stream",
          "name": "stdout",
          "text": [
            "Model: \"sequential_1\"\n",
            "_________________________________________________________________\n",
            " Layer (type)                Output Shape              Param #   \n",
            "=================================================================\n",
            " dense_6 (Dense)             (None, 2)                 6         \n",
            "                                                                 \n",
            " dense_7 (Dense)             (None, 1)                 3         \n",
            "                                                                 \n",
            "=================================================================\n",
            "Total params: 9\n",
            "Trainable params: 9\n",
            "Non-trainable params: 0\n",
            "_________________________________________________________________\n"
          ]
        },
        {
          "output_type": "stream",
          "name": "stderr",
          "text": [
            "/usr/local/lib/python3.7/dist-packages/keras/optimizer_v2/gradient_descent.py:102: UserWarning: The `lr` argument is deprecated, use `learning_rate` instead.\n",
            "  super(SGD, self).__init__(name, **kwargs)\n"
          ]
        }
      ]
    },
    {
      "cell_type": "code",
      "metadata": {
        "id": "HYf3E6w6gV3z"
      },
      "source": [
        "history = model.fit(X4, Y4, epochs=2000, batch_size=1, verbose=0)"
      ],
      "execution_count": 94,
      "outputs": []
    },
    {
      "cell_type": "code",
      "metadata": {
        "id": "0ZuQIfAZgXzD",
        "colab": {
          "base_uri": "https://localhost:8080/"
        },
        "outputId": "9d8d01fd-9ff9-415b-b262-4c8e200892a0"
      },
      "source": [
        "model.predict(X4)"
      ],
      "execution_count": 95,
      "outputs": [
        {
          "output_type": "execute_result",
          "data": {
            "text/plain": [
              "array([[0.12854287],\n",
              "       [0.82887655],\n",
              "       [0.8499637 ],\n",
              "       [0.14909892]], dtype=float32)"
            ]
          },
          "metadata": {},
          "execution_count": 95
        }
      ]
    },
    {
      "cell_type": "markdown",
      "metadata": {
        "id": "NgHTUlX68Fyk"
      },
      "source": [
        "## 시각화 사용"
      ]
    },
    {
      "cell_type": "code",
      "metadata": {
        "id": "a8azIYHQ8H16",
        "colab": {
          "base_uri": "https://localhost:8080/",
          "height": 262
        },
        "outputId": "622cc034-e5f4-4fc9-9c8d-166eb1ee87a7"
      },
      "source": [
        "import matplotlib.pyplot as plt\n",
        "plt.style.use('seaborn-white')\n",
        "\n",
        "x = range(50)\n",
        "y = tf.random.normal([50], 0, 1)\n",
        "plt.plot(x, y)\n",
        "plt.show()"
      ],
      "execution_count": 96,
      "outputs": [
        {
          "output_type": "display_data",
          "data": {
            "image/png": "[encoded data removed]",
            "text/plain": [
              "<Figure size 432x288 with 1 Axes>"
            ]
          },
          "metadata": {}
        }
      ]
    },
    {
      "cell_type": "code",
      "metadata": {
        "id": "hX-S0ZvF8Hq6",
        "colab": {
          "base_uri": "https://localhost:8080/",
          "height": 262
        },
        "outputId": "339654a6-06da-40a9-c596-a17d762ccf1d"
      },
      "source": [
        "x = range(50)\n",
        "y = tf.random.normal([50], 0, 1)\n",
        "plt.plot(x, y, 'ro')\n",
        "plt.show()"
      ],
      "execution_count": 97,
      "outputs": [
        {
          "output_type": "display_data",
          "data": {
            "image/png": "[encoded data removed]",
            "text/plain": [
              "<Figure size 432x288 with 1 Axes>"
            ]
          },
          "metadata": {}
        }
      ]
    },
    {
      "cell_type": "code",
      "metadata": {
        "id": "2teBa4878XEI",
        "colab": {
          "base_uri": "https://localhost:8080/",
          "height": 263
        },
        "outputId": "a0c044ac-929a-4616-e761-22525490bcb4"
      },
      "source": [
        "x = range(30)\n",
        "y = tf.random.normal([30], 0, 1)\n",
        "plt.plot(x, y, 'g-')\n",
        "plt.show()"
      ],
      "execution_count": 99,
      "outputs": [
        {
          "output_type": "display_data",
          "data": {
            "image/png": "[encoded data removed]",
            "text/plain": [
              "<Figure size 432x288 with 1 Axes>"
            ]
          },
          "metadata": {}
        }
      ]
    },
    {
      "cell_type": "code",
      "metadata": {
        "id": "43W0ygJj8XA1",
        "colab": {
          "base_uri": "https://localhost:8080/",
          "height": 262
        },
        "outputId": "3729443b-f194-4e7e-beae-0b1374f5c4c5"
      },
      "source": [
        "x = range(30)\n",
        "y = tf.random.normal([30], 0, 1)\n",
        "plt.plot(x, y, 'b--')\n",
        "plt.show()"
      ],
      "execution_count": 100,
      "outputs": [
        {
          "output_type": "display_data",
          "data": {
            "image/png": "[encoded data removed]",
            "text/plain": [
              "<Figure size 432x288 with 1 Axes>"
            ]
          },
          "metadata": {}
        }
      ]
    },
    {
      "cell_type": "code",
      "metadata": {
        "id": "HkF8DN5a8fWR",
        "colab": {
          "base_uri": "https://localhost:8080/",
          "height": 262
        },
        "outputId": "7b27f7b8-3b75-4192-d3fb-d771dbcab3ef"
      },
      "source": [
        "random_normal = tf.random.normal([10000], 0, 1)\n",
        "plt.hist(random_normal, bins=100)\n",
        "plt.show()"
      ],
      "execution_count": 102,
      "outputs": [
        {
          "output_type": "display_data",
          "data": {
            "image/png": "[encoded data removed]",
            "text/plain": [
              "<Figure size 432x288 with 1 Axes>"
            ]
          },
          "metadata": {}
        }
      ]
    },
    {
      "cell_type": "markdown",
      "metadata": {
        "id": "aL-QTl5Q8mdB"
      },
      "source": [
        "### XOR Gate의 'LOSS' 시각화\n"
      ]
    },
    {
      "cell_type": "code",
      "metadata": {
        "id": "vs8dlY1o8iby",
        "colab": {
          "base_uri": "https://localhost:8080/",
          "height": 262
        },
        "outputId": "9e61b6e0-eac4-4de1-eaf4-7c05dd45d839"
      },
      "source": [
        "plt.plot(history.history['loss']);"
      ],
      "execution_count": 104,
      "outputs": [
        {
          "output_type": "display_data",
          "data": {
            "image/png": "[encoded data removed]",
            "text/plain": [
              "<Figure size 432x288 with 1 Axes>"
            ]
          },
          "metadata": {}
        }
      ]
    }
  ]
}