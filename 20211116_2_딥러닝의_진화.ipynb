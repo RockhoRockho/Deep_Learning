{
  "nbformat": 4,
  "nbformat_minor": 0,
  "metadata": {
    "colab": {
      "name": "20211116_2_딥러닝의 진화.ipynb",
      "private_outputs": true,
      "provenance": [],
      "authorship_tag": "ABX9TyPV3aGsTLhgJSDMRrzIYeVe",
      "include_colab_link": true
    },
    "kernelspec": {
      "name": "python3",
      "display_name": "Python 3"
    },
    "language_info": {
      "name": "python"
    },
    "accelerator": "GPU"
  },
  "cells": [
    {
      "cell_type": "markdown",
      "metadata": {
        "id": "view-in-github",
        "colab_type": "text"
      },
      "source": [
        "<a href=\"https://colab.research.google.com/github/RockhoRockho/Deep_Learning_Tensorflow/blob/main/20211116_2_%EB%94%A5%EB%9F%AC%EB%8B%9D%EC%9D%98_%EC%A7%84%ED%99%94.ipynb\" target=\"_parent\"><img src=\"https://colab.research.google.com/assets/colab-badge.svg\" alt=\"Open In Colab\"/></a>"
      ]
    },
    {
      "cell_type": "markdown",
      "metadata": {
        "id": "1Sr--zPUg8mB"
      },
      "source": [
        "### **2012**\n",
        "* CNN중 Alex net이라는 네트워크 구조\n",
        "* Alex net 이 1등을 차지 -> CNN이 유명해지게 됨"
      ]
    },
    {
      "cell_type": "markdown",
      "metadata": {
        "id": "nGdmnppOhzfV"
      },
      "source": [
        "### **2013**\n",
        "* 아타리 게임\n",
        "- 학습이 많이 진행 -> 구석을 파서 공을 위로 올림\n",
        "- 딥마인드 -> 구글에 인수 -> 알파고"
      ]
    },
    {
      "cell_type": "markdown",
      "metadata": {
        "id": "_Qphy4_niqau"
      },
      "source": [
        "### **2014**\n",
        "* RNN이라는 네트워크를 사용하여 중국어 -> 영어로 번역\n",
        "* 성능의 한계가 생김\n",
        "* attention 모델의 출현으로 성능이 급격히 좋아짐"
      ]
    },
    {
      "cell_type": "markdown",
      "metadata": {
        "id": "6xxbaFgmjcqd"
      },
      "source": [
        "### **Adam optimizer**\n",
        "- Gradient Descent 개선모델\n",
        "- 대중적인 알고리즘\n",
        "- 잘 모를땐 adam을 사용하면 됨"
      ]
    },
    {
      "cell_type": "markdown",
      "metadata": {
        "id": "LhODZs7TkAFE"
      },
      "source": [
        "### **2015**\n",
        "* GANs\n",
        "* 오바마 합성사진"
      ]
    },
    {
      "cell_type": "markdown",
      "metadata": {
        "id": "diFARFA1kHBc"
      },
      "source": [
        "* Residual Networks(ResNet)\n",
        "* CNN의 종류 중 하나\n",
        "* 사람이 이미지를 찾는 테스트 -> 5%의 오차율\n",
        "* 3%의 오차율 벽을 깨뜨림\n",
        "* 152레이어 -> 진정한 딥러닝의 길"
      ]
    },
    {
      "cell_type": "markdown",
      "metadata": {
        "id": "-s1LP3YKk4GF"
      },
      "source": [
        "### **2016**\n",
        "* 알파고\n",
        "* 이세돌 9단이 컴퓨터를 이긴 마지막 인류"
      ]
    },
    {
      "cell_type": "markdown",
      "metadata": {
        "id": "p5mAoQyok9PO"
      },
      "source": [
        "### **2017**\n",
        "* Transformer - 번역모델\n",
        "* RNN의 단점을 극복 -> 병렬처리를 하지 못함\n",
        "* attention만으로 만든 모델\n",
        "* 자연어를 정복\n",
        "* 딥러닝에서 가장 중요한 모델 중 하나"
      ]
    },
    {
      "cell_type": "markdown",
      "metadata": {
        "id": "CU9lNZcdlinu"
      },
      "source": [
        "### **2018**\n",
        "* BERT\n",
        "* Transformer에서 인코더만 따온 모델\n",
        "* 자연어를 정답없이 사용(인터넷 문장들의 데이터를 삽입)\n",
        "* 일부 글자를 가리고 가린 부분을 맞출수 있도록 학습\n",
        "* 모델을 크게 만들고 엄청난 데이터를 사용\n",
        "* 적은 데이터(정답)를 가지고 다시 학습"
      ]
    },
    {
      "cell_type": "markdown",
      "metadata": {
        "id": "FLWMxQbOmrf1"
      },
      "source": [
        "### **2019/2020**\n",
        "- GPU 수천대를 사용하여 큰 모델을 만듦\n",
        "- 정답이 필요없이 실제 데이터만으로 셀프 수퍼바이즈 러닝"
      ]
    },
    {
      "cell_type": "code",
      "metadata": {
        "id": "XCmJrQqIm0Z-"
      },
      "source": [
        ""
      ],
      "execution_count": null,
      "outputs": []
    }
  ]
}