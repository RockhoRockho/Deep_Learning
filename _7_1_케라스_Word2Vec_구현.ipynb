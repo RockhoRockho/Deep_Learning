{
  "nbformat": 4,
  "nbformat_minor": 0,
  "metadata": {
    "colab": {
      "name": "_7.1 케라스 Word2Vec 구현.ipynb",
      "provenance": [],
      "collapsed_sections": [],
      "machine_shape": "hm",
      "include_colab_link": true
    },
    "kernelspec": {
      "name": "python3",
      "display_name": "Python 3"
    },
    "accelerator": "GPU"
  },
  "cells": [
    {
      "cell_type": "markdown",
      "metadata": {
        "id": "view-in-github",
        "colab_type": "text"
      },
      "source": [
        "<a href=\"https://colab.research.google.com/github/RockhoRockho/Deep_Learning/blob/main/_7_1_%EC%BC%80%EB%9D%BC%EC%8A%A4_Word2Vec_%EA%B5%AC%ED%98%84.ipynb\" target=\"_parent\"><img src=\"https://colab.research.google.com/assets/colab-badge.svg\" alt=\"Open In Colab\"/></a>"
      ]
    },
    {
      "cell_type": "markdown",
      "metadata": {
        "id": "Mk3q9W0DjH5G"
      },
      "source": [
        "# 케라스 Word2Vec 구현\n",
        "\n",
        "* 참고: https://wikidocs.net/69141"
      ]
    },
    {
      "cell_type": "markdown",
      "metadata": {
        "id": "RxZOa3m8qFw3"
      },
      "source": [
        "### 전처리"
      ]
    },
    {
      "cell_type": "code",
      "metadata": {
        "id": "ohSE_JnMSRDR",
        "colab": {
          "base_uri": "https://localhost:8080/",
          "height": 87
        },
        "outputId": "06501530-7bce-48cb-a712-54e7af327f1e"
      },
      "source": [
        "from sklearn.datasets import fetch_20newsgroups\n",
        "\n",
        "dataset = fetch_20newsgroups(shuffle=True, random_state=1,\n",
        "                             remove=('headers', 'footers', 'quotes'))\n",
        "documents = dataset.data\n",
        "\n",
        "print(len(documents))\n",
        "documents[1]"
      ],
      "execution_count": 5,
      "outputs": [
        {
          "output_type": "stream",
          "name": "stdout",
          "text": [
            "11314\n"
          ]
        },
        {
          "output_type": "execute_result",
          "data": {
            "application/vnd.google.colaboratory.intrinsic+json": {
              "type": "string"
            },
            "text/plain": [
              "\"\\n\\n\\n\\n\\n\\n\\nYeah, do you expect people to read the FAQ, etc. and actually accept hard\\natheism?  No, you need a little leap of faith, Jimmy.  Your logic runs out\\nof steam!\\n\\n\\n\\n\\n\\n\\n\\nJim,\\n\\nSorry I can't pity you, Jim.  And I'm sorry that you have these feelings of\\ndenial about the faith you need to get by.  Oh well, just pretend that it will\\nall end happily ever after anyway.  Maybe if you start a new newsgroup,\\nalt.atheist.hard, you won't be bummin' so much?\\n\\n\\n\\n\\n\\n\\nBye-Bye, Big Jim.  Don't forget your Flintstone's Chewables!  :) \\n--\\nBake Timmons, III\""
            ]
          },
          "metadata": {},
          "execution_count": 5
        }
      ]
    },
    {
      "cell_type": "code",
      "metadata": {
        "id": "E56d3KXroenQ",
        "colab": {
          "base_uri": "https://localhost:8080/"
        },
        "outputId": "f9f32e59-39a0-42b6-f915-4943b197fbc9"
      },
      "source": [
        "import re\n",
        "import nltk\n",
        "\n",
        "from nltk.corpus import stopwords\n",
        "from nltk.tokenize import word_tokenize\n",
        "\n",
        "nltk.download('stopwords')\n",
        "nltk.download('punkt')\n",
        "\n",
        "def clean_text(d):\n",
        "  pattern = r'[^a-zA-Z\\s]'\n",
        "  text = re.sub(pattern, '', d)\n",
        "  return text\n",
        "\n",
        "def clean_stopword(d):\n",
        "  stop_words = stopwords.words('english')\n",
        "  return ' '.join([w.lower() for w in d.split() if w not in stop_words and len(w) > 3])\n",
        "\n",
        "def tokenize(d):\n",
        "  return word_tokenize(d)"
      ],
      "execution_count": 6,
      "outputs": [
        {
          "output_type": "stream",
          "name": "stdout",
          "text": [
            "[nltk_data] Downloading package stopwords to /root/nltk_data...\n",
            "[nltk_data]   Package stopwords is already up-to-date!\n",
            "[nltk_data] Downloading package punkt to /root/nltk_data...\n",
            "[nltk_data]   Package punkt is already up-to-date!\n"
          ]
        }
      ]
    },
    {
      "cell_type": "code",
      "metadata": {
        "id": "QCo9S9RlrfQg",
        "colab": {
          "base_uri": "https://localhost:8080/"
        },
        "outputId": "630e5f63-da28-4762-c0ed-4504393a7533"
      },
      "source": [
        "import pandas as pd\n",
        "\n",
        "news_df = pd.DataFrame({'article':documents})\n",
        "len(news_df)"
      ],
      "execution_count": 7,
      "outputs": [
        {
          "output_type": "execute_result",
          "data": {
            "text/plain": [
              "11314"
            ]
          },
          "metadata": {},
          "execution_count": 7
        }
      ]
    },
    {
      "cell_type": "code",
      "metadata": {
        "id": "9xzZu6Iprj5B",
        "colab": {
          "base_uri": "https://localhost:8080/"
        },
        "outputId": "4b673fe7-de6c-45b5-a498-2f52c6976607"
      },
      "source": [
        "news_df.replace(\"\", float(\"NaN\"), inplace=True)\n",
        "news_df.dropna(inplace=True)\n",
        "len(news_df)"
      ],
      "execution_count": 8,
      "outputs": [
        {
          "output_type": "execute_result",
          "data": {
            "text/plain": [
              "11096"
            ]
          },
          "metadata": {},
          "execution_count": 8
        }
      ]
    },
    {
      "cell_type": "code",
      "metadata": {
        "id": "Oi3PJ7dMsF8K",
        "colab": {
          "base_uri": "https://localhost:8080/"
        },
        "outputId": "30f3a082-ffc3-4d7a-9cca-f089ea782013"
      },
      "source": [
        "news_df['article'] = news_df['article'].apply(clean_text)\n",
        "news_df['article']"
      ],
      "execution_count": 9,
      "outputs": [
        {
          "output_type": "execute_result",
          "data": {
            "text/plain": [
              "0        Well im not sure about the story nad it did se...\n",
              "1        \\n\\n\\n\\n\\n\\n\\nYeah do you expect people to rea...\n",
              "2        Although I realize that principle is not one o...\n",
              "3        Notwithstanding all the legitimate fuss about ...\n",
              "4        Well I will have to change the scoring on my p...\n",
              "                               ...                        \n",
              "11309    Danny Rubenstein an Israeli journalist will be...\n",
              "11310                                                   \\n\n",
              "11311    \\nI agree  Home runs off Clemens are always me...\n",
              "11312    I used HP DeskJet with Orange Micros Grappler ...\n",
              "11313                                          \\nNo arg...\n",
              "Name: article, Length: 11096, dtype: object"
            ]
          },
          "metadata": {},
          "execution_count": 9
        }
      ]
    },
    {
      "cell_type": "code",
      "metadata": {
        "id": "ViSra6MYuM9x",
        "colab": {
          "base_uri": "https://localhost:8080/"
        },
        "outputId": "e6fa2ada-aad8-4886-81d8-5bcfccfb1a9c"
      },
      "source": [
        "news_df['article'] = news_df['article'].apply(clean_stopword)\n",
        "news_df['article']"
      ],
      "execution_count": 10,
      "outputs": [
        {
          "output_type": "execute_result",
          "data": {
            "text/plain": [
              "0        well sure story seem biased what disagree stat...\n",
              "1        yeah expect people read actually accept hard a...\n",
              "2        although realize principle strongest points wo...\n",
              "3        notwithstanding legitimate fuss proposal much ...\n",
              "4        well change scoring playoff pool unfortunately...\n",
              "                               ...                        \n",
              "11309    danny rubenstein israeli journalist speaking t...\n",
              "11310                                                     \n",
              "11311    agree home runs clemens always memorable kinda...\n",
              "11312    used deskjet orange micros grappler system upd...\n",
              "11313    argument murphy scared hell came last year han...\n",
              "Name: article, Length: 11096, dtype: object"
            ]
          },
          "metadata": {},
          "execution_count": 10
        }
      ]
    },
    {
      "cell_type": "code",
      "metadata": {
        "id": "Z3JgTpVfSRD_"
      },
      "source": [
        "tokenized_news = news_df['article'].apply(tokenize)\n",
        "tokenized_news = tokenized_news.to_list()"
      ],
      "execution_count": 11,
      "outputs": []
    },
    {
      "cell_type": "code",
      "metadata": {
        "id": "uMCYgUIpSREH",
        "colab": {
          "base_uri": "https://localhost:8080/"
        },
        "outputId": "6faa05e8-f62c-4557-8330-b07433aac29f"
      },
      "source": [
        "import numpy as np\n",
        "\n",
        "drop_news = [index for index, sentence in enumerate(tokenized_news) if len(sentence) <= 1]\n",
        "news_texts = np.delete(tokenized_news, drop_news, axis=0)\n",
        "print(len(news_texts))"
      ],
      "execution_count": 12,
      "outputs": [
        {
          "output_type": "stream",
          "name": "stdout",
          "text": [
            "10945\n"
          ]
        },
        {
          "output_type": "stream",
          "name": "stderr",
          "text": [
            "/usr/local/lib/python3.7/dist-packages/numpy/core/_asarray.py:83: VisibleDeprecationWarning: Creating an ndarray from ragged nested sequences (which is a list-or-tuple of lists-or-tuples-or ndarrays with different lengths or shapes) is deprecated. If you meant to do this, you must specify 'dtype=object' when creating the ndarray\n",
            "  return array(a, dtype, copy=False, order=order)\n"
          ]
        }
      ]
    },
    {
      "cell_type": "code",
      "metadata": {
        "id": "YI45-8AoZxR_"
      },
      "source": [
        "from tensorflow.keras.preprocessing.text import Tokenizer\n",
        "\n",
        "news_2000 = news_texts[:2000]\n",
        "\n",
        "tokenizer = Tokenizer()\n",
        "tokenizer.fit_on_texts(news_2000)\n",
        "\n",
        "idx2word = {value:key for key, value in tokenizer.word_index.items()}\n",
        "sequences = tokenizer.texts_to_sequences(news_2000)"
      ],
      "execution_count": 13,
      "outputs": []
    },
    {
      "cell_type": "code",
      "metadata": {
        "id": "pSt1Tq7TZzmn",
        "colab": {
          "base_uri": "https://localhost:8080/"
        },
        "outputId": "cf3adb54-5ec8-4682-cdab-fa449d5470c3"
      },
      "source": [
        "vocab_size = len(tokenizer.word_index) + 1\n",
        "print(vocab_size)"
      ],
      "execution_count": 20,
      "outputs": [
        {
          "output_type": "stream",
          "name": "stdout",
          "text": [
            "29769\n"
          ]
        }
      ]
    },
    {
      "cell_type": "code",
      "metadata": {
        "id": "_x1kmaB-ZzRI",
        "colab": {
          "base_uri": "https://localhost:8080/"
        },
        "outputId": "347b890e-4110-49a4-83b6-d7b2d3b325b8"
      },
      "source": [
        "print(sequences[1])"
      ],
      "execution_count": 16,
      "outputs": [
        {
          "output_type": "stream",
          "name": "stdout",
          "text": [
            "[1263, 457, 2, 60, 119, 419, 61, 1374, 22, 69, 3498, 397, 6874, 412, 1173, 373, 2256, 458, 59, 12478, 458, 1900, 3850, 397, 22, 10, 4325, 8749, 177, 303, 136, 154, 664, 12479, 316, 12480, 15, 12481, 4, 790, 12482, 12483, 4917, 8750]\n"
          ]
        }
      ]
    },
    {
      "cell_type": "markdown",
      "metadata": {
        "id": "ydQWu3ZnqUc4"
      },
      "source": [
        "### Skipgram"
      ]
    },
    {
      "cell_type": "markdown",
      "metadata": {
        "id": "pOCiR_WrqMXk"
      },
      "source": [
        "#### Skipgram 전처리"
      ]
    },
    {
      "cell_type": "markdown",
      "metadata": {
        "id": "ua1h2LF_8DPH"
      },
      "source": [
        "* 네거티브 샘플링(Negative Sampling)\n",
        "\n",
        "  + Word2Vec은 출력층이 내놓는 값에 소프트맥스 함수를 적용해 확률값으로 변환한 후 이를 정답과 비교해 역전파(backpropagation)\n",
        "  + 소프트맥스를 적용하려면 분모에 해당하는 값, 즉 중심단어와 나머지 모든 단어의 내적을 한 뒤, 이를 다시 exp 계산을 하는데 전체 단어가 많을 경우 엄청난 계산량 발생\n",
        "  + 네거티브 샘플링은 소프트맥스 확률을 구할 때 전체 단어를 대상으로 구하지 않고, 일부 단어만 뽑아서 계산을 하는 방식\n",
        "  + 네거티브 샘플링 동작은 사용자가 지정한 윈도우 사이즈 내에 등장하지 않는 단어(negative sample)를 5~20개 정도 뽑고, 이를 정답단어와 합쳐 전체 단어처럼 소프트맥스 확률을 계산하여 파라미터 업데이트"
      ]
    },
    {
      "cell_type": "code",
      "metadata": {
        "id": "QVkAK1ZlXi9Q"
      },
      "source": [
        "from tensorflow.keras.preprocessing.sequence import skipgrams\n",
        "\n",
        "skip_grams = [skipgrams(sample, vocabulary_size=vocab_size, window_size=10) for sample in sequences[:10]]"
      ],
      "execution_count": 21,
      "outputs": []
    },
    {
      "cell_type": "code",
      "metadata": {
        "id": "2NBBbnyjXjUv",
        "colab": {
          "base_uri": "https://localhost:8080/"
        },
        "outputId": "9ba58976-08f0-4fbe-f51d-6d8a4175cdf3"
      },
      "source": [
        "pairs, labels = skip_grams[0][0], skip_grams[0][1]\n",
        "for i in range(5):\n",
        "  print(\"{:s}({:d}), {:s}({:d}) -> {:d}\".format(\n",
        "      idx2word[pairs[i][0]], pairs[i][0],\n",
        "      idx2word[pairs[i][1]], pairs[i][1],\n",
        "      labels[i]\n",
        "  ))"
      ],
      "execution_count": 22,
      "outputs": [
        {
          "output_type": "stream",
          "name": "stdout",
          "text": [
            "received(387), inning(6573) -> 0\n",
            "clearly(580), what(34) -> 1\n",
            "europe(1638), pubbsdportsxfree(18553) -> 0\n",
            "realize(966), stay(748) -> 0\n",
            "seem(173), letter(663) -> 1\n"
          ]
        }
      ]
    },
    {
      "cell_type": "code",
      "metadata": {
        "id": "I_SCb1sMXlIV",
        "colab": {
          "base_uri": "https://localhost:8080/"
        },
        "outputId": "913d5182-92ba-45c2-f980-75a32d2d71ec"
      },
      "source": [
        "print(len(skip_grams))\n",
        "print(len(pairs))\n",
        "print(len(labels))"
      ],
      "execution_count": 23,
      "outputs": [
        {
          "output_type": "stream",
          "name": "stdout",
          "text": [
            "10\n",
            "2420\n",
            "2420\n"
          ]
        }
      ]
    },
    {
      "cell_type": "code",
      "metadata": {
        "id": "IiA53pYuXlMe"
      },
      "source": [
        "skip_grams = [skipgrams(seq, vocabulary_size=vocab_size, window_size=10) for seq in sequences]"
      ],
      "execution_count": 25,
      "outputs": []
    },
    {
      "cell_type": "markdown",
      "metadata": {
        "id": "rsIyKuKuqQpp"
      },
      "source": [
        "#### Skipgram 모델 구성"
      ]
    },
    {
      "cell_type": "code",
      "metadata": {
        "id": "y222fSJx2CwH"
      },
      "source": [
        "from tensorflow.keras.models import Sequential, Model\n",
        "from tensorflow.keras.layers import Embedding, Reshape, Activation, Input, Dot\n",
        "from tensorflow.keras.utils import plot_model"
      ],
      "execution_count": 26,
      "outputs": []
    },
    {
      "cell_type": "code",
      "metadata": {
        "id": "FQAT9ZdwPktd"
      },
      "source": [
        "embed_size = 50"
      ],
      "execution_count": 27,
      "outputs": []
    },
    {
      "cell_type": "code",
      "metadata": {
        "id": "5A4aGPBYPl-v"
      },
      "source": [
        "def word2vec():\n",
        "  target_inputs = Input(shape=(1, ), dtype='int32')\n",
        "  target_embedding = Embedding(vocab_size, embed_size)(target_inputs)\n",
        "\n",
        "  context_inputs = Input(shape=(1, ), dtype='int32')\n",
        "  context_embedding = Embedding(vocab_size, embed_size)(context_inputs)\n",
        "\n",
        "  dot_product = Dot(axes=2)([target_embedding, context_embedding])\n",
        "  dot_product = Reshape((1, ), input_shape=(1, 1))(dot_product)\n",
        "  output = Activation('sigmoid')(dot_product)\n",
        "\n",
        "  model = Model(inputs=[target_inputs, context_inputs], outputs=output)\n",
        "  model.compile(loss='binary_crossentropy', optimizer='adam')\n",
        "\n",
        "  return model"
      ],
      "execution_count": 28,
      "outputs": []
    },
    {
      "cell_type": "code",
      "metadata": {
        "id": "uyyg1P7oPoM9",
        "colab": {
          "base_uri": "https://localhost:8080/",
          "height": 950
        },
        "outputId": "6a280451-b6b7-49de-cf97-ac44992df91c"
      },
      "source": [
        "model = word2vec()\n",
        "model.summary()\n",
        "plot_model(model, show_shapes=True, show_layer_names=True)"
      ],
      "execution_count": 29,
      "outputs": [
        {
          "output_type": "stream",
          "name": "stdout",
          "text": [
            "Model: \"model\"\n",
            "__________________________________________________________________________________________________\n",
            " Layer (type)                   Output Shape         Param #     Connected to                     \n",
            "==================================================================================================\n",
            " input_1 (InputLayer)           [(None, 1)]          0           []                               \n",
            "                                                                                                  \n",
            " input_2 (InputLayer)           [(None, 1)]          0           []                               \n",
            "                                                                                                  \n",
            " embedding (Embedding)          (None, 1, 50)        1488450     ['input_1[0][0]']                \n",
            "                                                                                                  \n",
            " embedding_1 (Embedding)        (None, 1, 50)        1488450     ['input_2[0][0]']                \n",
            "                                                                                                  \n",
            " dot (Dot)                      (None, 1, 1)         0           ['embedding[0][0]',              \n",
            "                                                                  'embedding_1[0][0]']            \n",
            "                                                                                                  \n",
            " reshape (Reshape)              (None, 1)            0           ['dot[0][0]']                    \n",
            "                                                                                                  \n",
            " activation (Activation)        (None, 1)            0           ['reshape[0][0]']                \n",
            "                                                                                                  \n",
            "==================================================================================================\n",
            "Total params: 2,976,900\n",
            "Trainable params: 2,976,900\n",
            "Non-trainable params: 0\n",
            "__________________________________________________________________________________________________\n"
          ]
        },
        {
          "output_type": "execute_result",
          "data": {
            "image/png": "[encoded data removed]",
            "text/plain": [
              "<IPython.core.display.Image object>"
            ]
          },
          "metadata": {},
          "execution_count": 29
        }
      ]
    },
    {
      "cell_type": "code",
      "metadata": {
        "id": "aKaWUC2DPpMG",
        "colab": {
          "base_uri": "https://localhost:8080/"
        },
        "outputId": "62a4b019-ec62-49e6-997e-5a776abd5cf6"
      },
      "source": [
        "for epoch in range(1, 11):\n",
        "  loss = 0\n",
        "  for _, elem in enumerate(skip_grams):\n",
        "    first_elem = np.array(list(zip(*elem[0]))[0], dtype='int32')\n",
        "    second_elem = np.array(list(zip(*elem[0]))[1], dtype='int32')\n",
        "    labels = np.array(elem[1], dtype='int32')\n",
        "    X = [first_elem, second_elem]\n",
        "    Y = labels\n",
        "    loss += model.train_on_batch(X, Y)\n",
        "\n",
        "  print('Epoch:', epoch, 'Loss:', loss)"
      ],
      "execution_count": 30,
      "outputs": [
        {
          "output_type": "stream",
          "name": "stdout",
          "text": [
            "Epoch: 1 Loss: 1227.5362813174725\n",
            "Epoch: 2 Loss: 925.1938700377941\n",
            "Epoch: 3 Loss: 827.7947991117835\n",
            "Epoch: 4 Loss: 782.4215388521552\n",
            "Epoch: 5 Loss: 756.0551255196333\n",
            "Epoch: 6 Loss: 736.0899636223912\n",
            "Epoch: 7 Loss: 716.2383469678462\n",
            "Epoch: 8 Loss: 693.0582107156515\n",
            "Epoch: 9 Loss: 665.0848555266857\n",
            "Epoch: 10 Loss: 631.931894890964\n"
          ]
        }
      ]
    },
    {
      "cell_type": "code",
      "metadata": {
        "id": "zPNLRZqwXSib"
      },
      "source": [
        "import gensim\n",
        "\n",
        "f = open('skipgram.txt', 'w')\n",
        "f.write('{} {}\\n'.format(vocab_size-1, embed_size))\n",
        "vectors = model.get_weights()[0]\n",
        "for word, i in tokenizer.word_index.items():\n",
        "  f.write('{} {}\\n'.format(word, ' '.join(map(str, list(vectors[i, :])))))\n",
        "f.close()\n",
        "\n",
        "skipgram = gensim.models.KeyedVectors.load_word2vec_format('skipgram.txt', binary=False)"
      ],
      "execution_count": 31,
      "outputs": []
    },
    {
      "cell_type": "code",
      "metadata": {
        "id": "VmzFckXv9nk2",
        "colab": {
          "base_uri": "https://localhost:8080/"
        },
        "outputId": "dae55faf-5147-4275-f13c-3641a7b6ab63"
      },
      "source": [
        "skipgram.most_similar(positive=['soldier'])"
      ],
      "execution_count": 37,
      "outputs": [
        {
          "output_type": "execute_result",
          "data": {
            "text/plain": [
              "[('traps', 0.838716447353363),\n",
              " ('indiscriminately', 0.8381505608558655),\n",
              " ('retalliates', 0.8132840991020203),\n",
              " ('israeli', 0.7230576276779175),\n",
              " ('pilots', 0.7207170128822327),\n",
              " ('booby', 0.7024158239364624),\n",
              " ('ammunitions', 0.689389169216156),\n",
              " ('bombing', 0.6836496591567993),\n",
              " ('killed', 0.6268077492713928),\n",
              " ('injured', 0.6171080470085144)]"
            ]
          },
          "metadata": {},
          "execution_count": 37
        }
      ]
    },
    {
      "cell_type": "code",
      "metadata": {
        "id": "omo9v74q9oKD",
        "colab": {
          "base_uri": "https://localhost:8080/"
        },
        "outputId": "648fbe76-5b4a-4c2d-9cd7-c464eb7797a7"
      },
      "source": [
        "skipgram.most_similar(positive=['world'])"
      ],
      "execution_count": 36,
      "outputs": [
        {
          "output_type": "execute_result",
          "data": {
            "text/plain": [
              "[('dtommy', 0.6639333963394165),\n",
              " ('pexlib', 0.6620185375213623),\n",
              " ('afoot', 0.6352800130844116),\n",
              " ('eliminate', 0.6329780220985413),\n",
              " ('aheadthats', 0.6199167966842651),\n",
              " ('nflhershel', 0.6183429956436157),\n",
              " ('mays', 0.5922776460647583),\n",
              " ('rest', 0.5880638957023621),\n",
              " ('fashion', 0.5822910070419312),\n",
              " ('griffey', 0.5815346837043762)]"
            ]
          },
          "metadata": {},
          "execution_count": 36
        }
      ]
    },
    {
      "cell_type": "markdown",
      "metadata": {
        "id": "vLfmfO1HqZxn"
      },
      "source": [
        "### CBOW\n"
      ]
    },
    {
      "cell_type": "markdown",
      "metadata": {
        "id": "BIrUD6Ph74ya"
      },
      "source": [
        "#### CBOW 전처리"
      ]
    },
    {
      "cell_type": "code",
      "metadata": {
        "id": "TNBmb-UK9tJ-"
      },
      "source": [
        "def skipgram2cbow(skipgrams):\n",
        "  cbows = []\n",
        "  flag = 0\n",
        "  for n in skipgrams:\n",
        "    temp1 = []\n",
        "    for t in n:\n",
        "      if flag == 1:\n",
        "        flag = 0\n",
        "        temp1.append(t)\n",
        "      else:\n",
        "        flag = 1\n",
        "        temp2 = []\n",
        "        for x in t:\n",
        "          temp2.append([x[1], x[0]])\n",
        "        temp1.append(temp2)\n",
        "    cbows.append(temp1)\n",
        "  \n",
        "  return cbows"
      ],
      "execution_count": 46,
      "outputs": []
    },
    {
      "cell_type": "code",
      "metadata": {
        "id": "BEIHgfWeALbL"
      },
      "source": [
        "cbows = skipgram2cbow(skip_grams)"
      ],
      "execution_count": 47,
      "outputs": []
    },
    {
      "cell_type": "code",
      "metadata": {
        "id": "bPnygNQO1vjJ",
        "colab": {
          "base_uri": "https://localhost:8080/"
        },
        "outputId": "4e375bc1-19e8-4edf-acf6-28af80343f10"
      },
      "source": [
        "pairs, labels = cbows[0][0], cbows[0][1]\n",
        "for i in range(5):\n",
        "  print(\"{:s}({:d}), {:s}({:d}) -> {:d}\".format(\n",
        "      idx2word[pairs[i][0]], pairs[i][0],\n",
        "      idx2word[pairs[i][1]], pairs[i][1],\n",
        "      labels[i]\n",
        "  ))"
      ],
      "execution_count": 48,
      "outputs": [
        {
          "output_type": "stream",
          "name": "stdout",
          "text": [
            "well(10), story(511) -> 1\n",
            "roads(6392), described(1262) -> 0\n",
            "seem(173), might(41) -> 1\n",
            "subsidizing(8746), israels(3496) -> 1\n",
            "plunder(17763), israels(3496) -> 0\n"
          ]
        }
      ]
    },
    {
      "cell_type": "code",
      "metadata": {
        "id": "n7dyMzMz1xXd",
        "colab": {
          "base_uri": "https://localhost:8080/"
        },
        "outputId": "6618c71d-a4f5-4bcc-9074-f412de59881a"
      },
      "source": [
        "print(len(cbows))\n",
        "print(len(pairs))\n",
        "print(len(labels))"
      ],
      "execution_count": 49,
      "outputs": [
        {
          "output_type": "stream",
          "name": "stdout",
          "text": [
            "2000\n",
            "2420\n",
            "2420\n"
          ]
        }
      ]
    },
    {
      "cell_type": "markdown",
      "metadata": {
        "id": "D4ulkMuv79SL"
      },
      "source": [
        "#### CBOW 모델 구성"
      ]
    },
    {
      "cell_type": "code",
      "metadata": {
        "id": "XMC5u4Pm8Glt",
        "colab": {
          "base_uri": "https://localhost:8080/",
          "height": 950
        },
        "outputId": "088f9252-aeaf-495d-f016-c30ddaf1c606"
      },
      "source": [
        "model = word2vec()\n",
        "model.summary()\n",
        "plot_model(model, show_shapes=True, show_layer_names=True)"
      ],
      "execution_count": 50,
      "outputs": [
        {
          "output_type": "stream",
          "name": "stdout",
          "text": [
            "Model: \"model_2\"\n",
            "__________________________________________________________________________________________________\n",
            " Layer (type)                   Output Shape         Param #     Connected to                     \n",
            "==================================================================================================\n",
            " input_5 (InputLayer)           [(None, 1)]          0           []                               \n",
            "                                                                                                  \n",
            " input_6 (InputLayer)           [(None, 1)]          0           []                               \n",
            "                                                                                                  \n",
            " embedding_4 (Embedding)        (None, 1, 50)        1488450     ['input_5[0][0]']                \n",
            "                                                                                                  \n",
            " embedding_5 (Embedding)        (None, 1, 50)        1488450     ['input_6[0][0]']                \n",
            "                                                                                                  \n",
            " dot_2 (Dot)                    (None, 1, 1)         0           ['embedding_4[0][0]',            \n",
            "                                                                  'embedding_5[0][0]']            \n",
            "                                                                                                  \n",
            " reshape_2 (Reshape)            (None, 1)            0           ['dot_2[0][0]']                  \n",
            "                                                                                                  \n",
            " activation_2 (Activation)      (None, 1)            0           ['reshape_2[0][0]']              \n",
            "                                                                                                  \n",
            "==================================================================================================\n",
            "Total params: 2,976,900\n",
            "Trainable params: 2,976,900\n",
            "Non-trainable params: 0\n",
            "__________________________________________________________________________________________________\n"
          ]
        },
        {
          "output_type": "execute_result",
          "data": {
            "image/png": "[encoded data removed]",
            "text/plain": [
              "<IPython.core.display.Image object>"
            ]
          },
          "metadata": {},
          "execution_count": 50
        }
      ]
    },
    {
      "cell_type": "code",
      "metadata": {
        "id": "6yVXxpfs8JJX",
        "colab": {
          "base_uri": "https://localhost:8080/"
        },
        "outputId": "66415e5d-c4b8-402f-9333-a9c982b21635"
      },
      "source": [
        "for epoch in range(1, 11):\n",
        "  loss = 0\n",
        "  for _, elem in enumerate(cbows):\n",
        "    first_elem = np.array(list(zip(*elem[0]))[0], dtype='int32')\n",
        "    second_elem = np.array(list(zip(*elem[0]))[1], dtype='int32')\n",
        "    labels = np.array(elem[1], dtype='int32')\n",
        "    X = [first_elem, second_elem]\n",
        "    Y = labels\n",
        "    loss += model.train_on_batch(X, Y)\n",
        "\n",
        "  print('Epoch:', epoch, 'Loss:', loss)"
      ],
      "execution_count": 52,
      "outputs": [
        {
          "output_type": "stream",
          "name": "stdout",
          "text": [
            "Epoch: 1 Loss: 987.0451219379902\n",
            "Epoch: 2 Loss: 854.5543500930071\n",
            "Epoch: 3 Loss: 798.3306889906526\n",
            "Epoch: 4 Loss: 768.1370473727584\n",
            "Epoch: 5 Loss: 748.0634139031172\n",
            "Epoch: 6 Loss: 730.0018188096583\n",
            "Epoch: 7 Loss: 709.8021955117583\n",
            "Epoch: 8 Loss: 684.9489965513349\n",
            "Epoch: 9 Loss: 654.7862133458257\n",
            "Epoch: 10 Loss: 619.4937854548916\n"
          ]
        }
      ]
    },
    {
      "cell_type": "code",
      "metadata": {
        "id": "POXBaE0d8LFe"
      },
      "source": [
        "import gensim\n",
        "\n",
        "f = open('cbow.txt', 'w')\n",
        "f.write('{} {}\\n'.format(vocab_size-1, embed_size))\n",
        "vectors = model.get_weights()[0]\n",
        "for word, i in tokenizer.word_index.items():\n",
        "  f.write('{} {}\\n'.format(word, ' '.join(map(str, list(vectors[i, :])))))\n",
        "f.close()\n",
        "\n",
        "cbow = gensim.models.KeyedVectors.load_word2vec_format('cbow.txt', binary=False)"
      ],
      "execution_count": 57,
      "outputs": []
    },
    {
      "cell_type": "code",
      "metadata": {
        "id": "LK4u6zG49gVn",
        "colab": {
          "base_uri": "https://localhost:8080/"
        },
        "outputId": "d0584f3f-db1f-43aa-ac9c-b225707d229f"
      },
      "source": [
        "cbow.most_similar(positive=['soldier'])"
      ],
      "execution_count": 58,
      "outputs": [
        {
          "output_type": "execute_result",
          "data": {
            "text/plain": [
              "[('traps', 0.9347949624061584),\n",
              " ('unconnectedunprivileged', 0.929385244846344),\n",
              " ('retalliates', 0.9287554025650024),\n",
              " ('pilots', 0.9266331791877747),\n",
              " ('sneak', 0.9258929491043091),\n",
              " ('booby', 0.9148087501525879),\n",
              " ('shitted', 0.9104068279266357),\n",
              " ('athravan', 0.9101314544677734),\n",
              " ('supernova', 0.9097453951835632),\n",
              " ('balding', 0.9080175161361694)]"
            ]
          },
          "metadata": {},
          "execution_count": 58
        }
      ]
    },
    {
      "cell_type": "code",
      "metadata": {
        "id": "h6fQuZSs9hqM",
        "colab": {
          "base_uri": "https://localhost:8080/"
        },
        "outputId": "802d1ddc-6da8-4a0e-89a4-d8af83966602"
      },
      "source": [
        "cbow.most_similar(positive=['world'])"
      ],
      "execution_count": 59,
      "outputs": [
        {
          "output_type": "execute_result",
          "data": {
            "text/plain": [
              "[('youre', 0.9512078166007996),\n",
              " ('years', 0.9503768682479858),\n",
              " ('want', 0.9476178884506226),\n",
              " ('hear', 0.9441068172454834),\n",
              " ('price', 0.942375659942627),\n",
              " ('good', 0.9415491223335266),\n",
              " ('idea', 0.9402512907981873),\n",
              " ('cards', 0.9386786818504333),\n",
              " ('doesnt', 0.9383195042610168),\n",
              " ('time', 0.9377083778381348)]"
            ]
          },
          "metadata": {},
          "execution_count": 59
        }
      ]
    }
  ]
}